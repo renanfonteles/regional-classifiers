{
 "cells": [
  {
   "cell_type": "markdown",
   "metadata": {},
   "source": [
    "<center><h1>Classification by local modeling</h1></center>"
   ]
  },
  {
   "cell_type": "markdown",
   "metadata": {},
   "source": [
    "### Summary:\n",
    "1. [Introduction](#introduction)\n",
    "\n",
    "2. [Local Ordinary Least Squares (L-OLS)](#lols)\n",
    "    \n",
    "    2.1. [Influence of the number of clusters on model accuracy](#lols-#-clusters)\n",
    "    \n",
    "3. [Local Least Squares Support Vector Machine (L-LSSVM)](#l_lssvm)"
   ]
  },
  {
   "cell_type": "markdown",
   "metadata": {},
   "source": [
    "### 1. Introduction <a class=\"anchor\" id=\"introduction\"></a>"
   ]
  },
  {
   "cell_type": "markdown",
   "metadata": {},
   "source": [
    "Classic classification by local modeling is a two-step approach for modeling:\n",
    "\n",
    "1. An unsupervised clustering algorithm is run to find regions in the dataset;\n",
    "2. For each region, a model is built with the respective data partition.\n",
    "\n",
    "For inference the procedure is similar:\n",
    "\n",
    "1. A similarity metric is used to determine the new data point region, e.g. euclidian distance from regions prototypes;\n",
    "2. The model from that specific region is used to predict the class of the new data point.\n",
    "\n",
    "There are a lot of clustering algorithms but, for the sake of simplicity, it will be used only K-means."
   ]
  },
  {
   "cell_type": "markdown",
   "metadata": {},
   "source": [
    "The class **LocalModel**, implemented below, create an easy way to implement and test local models for classification:"
   ]
  },
  {
   "cell_type": "code",
   "execution_count": 6,
   "metadata": {},
   "outputs": [],
   "source": [
    "import warnings\n",
    "warnings.filterwarnings('ignore')"
   ]
  },
  {
   "cell_type": "code",
   "execution_count": 7,
   "metadata": {},
   "outputs": [],
   "source": [
    "from sklearn.cluster import KMeans\n",
    "from sklearn.linear_model import LinearRegression\n",
    "from sklearn.model_selection import train_test_split\n",
    "from sklearn.metrics import confusion_matrix\n",
    "from sklearn.metrics import accuracy_score\n",
    "\n",
    "from load_dataset import get_datasets\n",
    "\n",
    "from devcode import run_simulation\n",
    "from devcode.models.lssvm import LSSVM"
   ]
  },
  {
   "cell_type": "markdown",
   "metadata": {},
   "source": [
    "### 2. Local Ordinary Least Squares (L-OLS) <a class=\"anchor\" id=\"lols\"></a>\n",
    "\n",
    "#### Description\n",
    "Example of using local learning method using Ordinary Least Square (OSL) as base classifier."
   ]
  },
  {
   "cell_type": "code",
   "execution_count": 8,
   "metadata": {},
   "outputs": [
    {
     "name": "stdout",
     "output_type": "stream",
     "text": [
      "Start of clusterization: 2022-08-15 12:04:37.972090\n",
      "Start of local models training: 2022-08-15 12:04:38.018017\n",
      "Train accuracy: 0.8830645161290323\n",
      "Test accuracy:  0.7903225806451613\n",
      "\n",
      "CPU times: total: 1.17 s\n",
      "Wall time: 254 ms\n"
     ]
    }
   ],
   "source": [
    "%%time\n",
    "\n",
    "datasets = get_datasets()\n",
    "\n",
    "# 1. Select the number of clusters (i.e., number of local regions)\n",
    "n_clusters = 5\n",
    "\n",
    "linear_clf = LinearRegression()\n",
    "kmeans     = KMeans(n_clusters=n_clusters, n_init=10, random_state=0)\n",
    "\n",
    "run_simulation(datasets, dataset_name=\"vc2c\", kmeans=kmeans, clf_model=linear_clf)"
   ]
  },
  {
   "cell_type": "code",
   "execution_count": 9,
   "metadata": {},
   "outputs": [
    {
     "name": "stdout",
     "output_type": "stream",
     "text": [
      "Start of clusterization: 2022-08-15 12:04:38.179019\n",
      "Start of local models training: 2022-08-15 12:04:38.208016\n",
      "Train accuracy: 0.8306451612903226\n",
      "Test accuracy:  0.8548387096774194\n",
      "\n",
      "CPU times: total: 797 ms\n",
      "Wall time: 109 ms\n"
     ]
    }
   ],
   "source": [
    "%%time\n",
    "\n",
    "# 1. Select the number of clusters (i.e., number of local regions)\n",
    "n_clusters = 5\n",
    "\n",
    "linear_clf = LSSVM(gamma=1, kernel='rbf', sigma=4)\n",
    "kmeans     = KMeans(n_clusters=n_clusters, n_init=10, random_state=0)\n",
    "\n",
    "run_simulation(datasets, dataset_name=\"vc2c\", kmeans=kmeans, clf_model=linear_clf)"
   ]
  },
  {
   "cell_type": "markdown",
   "metadata": {},
   "source": [
    "### 3.  Local Least Squares Support Vector Machine (L-LSSVM)  <a class=\"anchor\" id=\"l_lssvm\"></a>\n",
    "\n",
    "#### Description\n",
    "Example of using local learning method using Least Square Support Vector Machine (LSSVM) as base classifier."
   ]
  },
  {
   "cell_type": "code",
   "execution_count": 10,
   "metadata": {},
   "outputs": [
    {
     "name": "stdout",
     "output_type": "stream",
     "text": [
      "vc2c\n",
      "Nº of clusters: 2 | Kernel: linear\n",
      "Start of clusterization: 2022-08-15 12:04:38.364018\n",
      "Start of local models training: 2022-08-15 12:04:38.381017\n",
      "Train accuracy: 0.8064516129032258\n",
      "Test accuracy:  0.8387096774193549\n",
      "\n",
      "Nº of clusters: 2 | Kernel: poly\n",
      "Start of clusterization: 2022-08-15 12:04:38.452016\n",
      "Start of local models training: 2022-08-15 12:04:38.468016\n",
      "Train accuracy: 0.8346774193548387\n",
      "Test accuracy:  0.8870967741935484\n",
      "\n",
      "Nº of clusters: 2 | Kernel: rbf\n",
      "Start of clusterization: 2022-08-15 12:04:38.538016\n",
      "Start of local models training: 2022-08-15 12:04:38.557016\n",
      "Train accuracy: 0.842741935483871\n",
      "Test accuracy:  0.8064516129032258\n",
      "\n",
      "Nº of clusters: 6 | Kernel: linear\n",
      "Start of clusterization: 2022-08-15 12:04:38.632015\n",
      "Start of local models training: 2022-08-15 12:04:38.658016\n",
      "Train accuracy: 0.7741935483870968\n",
      "Test accuracy:  0.7741935483870968\n",
      "\n",
      "Nº of clusters: 6 | Kernel: poly\n",
      "Start of clusterization: 2022-08-15 12:04:38.724015\n",
      "Start of local models training: 2022-08-15 12:04:38.750016\n",
      "Train accuracy: 0.8548387096774194\n",
      "Test accuracy:  0.6935483870967742\n",
      "\n",
      "Nº of clusters: 6 | Kernel: rbf\n",
      "Start of clusterization: 2022-08-15 12:04:38.819016\n",
      "Start of local models training: 2022-08-15 12:04:38.849016\n",
      "Train accuracy: 0.8185483870967742\n",
      "Test accuracy:  0.7096774193548387\n",
      "\n",
      "Nº of clusters: 10 | Kernel: linear\n",
      "Start of clusterization: 2022-08-15 12:04:38.920016\n",
      "Start of local models training: 2022-08-15 12:04:38.953015\n",
      "Train accuracy: 0.7983870967741935\n",
      "Test accuracy:  0.7419354838709677\n",
      "\n",
      "Nº of clusters: 10 | Kernel: poly\n",
      "Start of clusterization: 2022-08-15 12:04:39.021017\n",
      "Start of local models training: 2022-08-15 12:04:39.056015\n",
      "Train accuracy: 0.8346774193548387\n",
      "Test accuracy:  0.8064516129032258\n",
      "\n",
      "Nº of clusters: 10 | Kernel: rbf\n",
      "Start of clusterization: 2022-08-15 12:04:39.123016\n",
      "Start of local models training: 2022-08-15 12:04:39.156016\n",
      "Train accuracy: 0.7943548387096774\n",
      "Test accuracy:  0.7419354838709677\n",
      "\n",
      "Nº of clusters: 14 | Kernel: linear\n",
      "Start of clusterization: 2022-08-15 12:04:39.227016\n",
      "Start of local models training: 2022-08-15 12:04:39.263016\n",
      "Train accuracy: 0.7983870967741935\n",
      "Test accuracy:  0.7419354838709677\n",
      "\n",
      "Nº of clusters: 14 | Kernel: poly\n",
      "Start of clusterization: 2022-08-15 12:04:39.330016\n",
      "Start of local models training: 2022-08-15 12:04:39.366015\n",
      "Train accuracy: 0.842741935483871\n",
      "Test accuracy:  0.7419354838709677\n",
      "\n",
      "Nº of clusters: 14 | Kernel: rbf\n",
      "Start of clusterization: 2022-08-15 12:04:39.435016\n",
      "Start of local models training: 2022-08-15 12:04:39.470016\n",
      "Train accuracy: 0.8346774193548387\n",
      "Test accuracy:  0.8709677419354839\n",
      "\n",
      "Nº of clusters: 18 | Kernel: linear\n",
      "Start of clusterization: 2022-08-15 12:04:39.538016\n",
      "Start of local models training: 2022-08-15 12:04:39.579017\n",
      "Train accuracy: 0.7903225806451613\n",
      "Test accuracy:  0.8548387096774194\n",
      "\n",
      "Nº of clusters: 18 | Kernel: poly\n",
      "Start of clusterization: 2022-08-15 12:04:39.648016\n",
      "Start of local models training: 2022-08-15 12:04:39.690016\n",
      "Train accuracy: 0.8225806451612904\n",
      "Test accuracy:  0.7258064516129032\n",
      "\n",
      "Nº of clusters: 18 | Kernel: rbf\n",
      "Start of clusterization: 2022-08-15 12:04:39.761017\n",
      "Start of local models training: 2022-08-15 12:04:39.802015\n",
      "Train accuracy: 0.782258064516129\n",
      "Test accuracy:  0.7258064516129032\n",
      "\n",
      "CPU times: total: 10.2 s\n",
      "Wall time: 1.51 s\n"
     ]
    }
   ],
   "source": [
    "%%time\n",
    "# %autoreload\n",
    "import numpy as np \n",
    "\n",
    "from sklearn.cluster import KMeans\n",
    "from devcode.models.lssvm import LSSVM\n",
    "from sklearn.model_selection import train_test_split\n",
    "from sklearn.metrics import confusion_matrix\n",
    "from sklearn.metrics import accuracy_score\n",
    "\n",
    "dataset_name = \"vc2c\"\n",
    "\n",
    "clf_dict = {\n",
    "    'linear': LSSVM(gamma=1, kernel='linear'),\n",
    "    'poly'  : LSSVM(gamma=1, kernel='poly', d=2),\n",
    "    'rbf'   : LSSVM(gamma=1, kernel='rbf', sigma=1)\n",
    "}\n",
    "\n",
    "print(dataset_name)\n",
    "n_train = datasets[dataset_name]['features'].values.shape[0]\n",
    "\n",
    "k_values = np.linspace(2, np.ceil(np.sqrt(n_train)), num=5, dtype='int').tolist() # 2 to sqrt(N)\n",
    "    \n",
    "for n_clusters in k_values:\n",
    "    kmeans = KMeans(n_clusters=n_clusters, n_init=10, random_state=0)\n",
    "\n",
    "    for kernel_type, clf in clf_dict.items():\n",
    "        print(f'Nº of clusters: {n_clusters} | Kernel: {kernel_type}')\n",
    "        run_simulation(datasets, dataset_name=dataset_name, kmeans=kmeans, clf_model=clf)"
   ]
  }
 ],
 "metadata": {
  "kernelspec": {
   "display_name": "Python 3 (ipykernel)",
   "language": "python",
   "name": "python3"
  },
  "language_info": {
   "codemirror_mode": {
    "name": "ipython",
    "version": 3
   },
   "file_extension": ".py",
   "mimetype": "text/x-python",
   "name": "python",
   "nbconvert_exporter": "python",
   "pygments_lexer": "ipython3",
   "version": "3.9.12"
  }
 },
 "nbformat": 4,
 "nbformat_minor": 4
}
