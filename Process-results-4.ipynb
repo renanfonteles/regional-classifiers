{
 "cells": [
  {
   "cell_type": "markdown",
   "metadata": {},
   "source": [
    "<center><h1>Paper results - (3º Notebook)</h1></center>\n",
    "\n",
    "##### Experiments:\n",
    "\n",
    "1. Comparing learning approaches: Global x Local x Regional\n",
    " 1.1 Comparing boxplots of evaluation metrics\n",
    " 1.2 Eigenvalues analysis\n",
    " \n",
    "##### Output:\n",
    " - **Paper (Table 5):** Performance in pk of G/L/R-LSSVM experiment.\n",
    " - **Paper (Table 6):** Performance in Vertebral Column of G/L/R-LSSVM experiment.\n",
    " - **Paper (Table 7):** Performance in Wall-following of G/L/R-LSSVM experiment.\n",
    " \n",
    " - **Paper (Figure 8):** Train and test accuracy distributions in G/L/R-LSSVM experiment."
   ]
  },
  {
   "cell_type": "markdown",
   "metadata": {},
   "source": [
    "### 1. Comparing learning approaches: Global x Local x Regional  <a class=\"anchor\" id=\"r-lssvm\"></a>\n",
    "\n",
    "Loading results:"
   ]
  },
  {
   "cell_type": "code",
   "execution_count": 1,
   "metadata": {},
   "outputs": [],
   "source": [
    "import warnings\n",
    "warnings.filterwarnings('ignore')"
   ]
  },
  {
   "cell_type": "code",
   "execution_count": 2,
   "metadata": {},
   "outputs": [],
   "source": [
    "import pandas as pd\n",
    "import numpy as np\n",
    "\n",
    "from devcode.utils import load_csv_as_pandas\n",
    "from devcode.utils.evaluation import cm2f1, cm2acc, cm2sen, cm2esp\n",
    "\n",
    "df = {\n",
    "    'global'    : load_csv_as_pandas(path=\"results/local-results/cbic/temp_glssvm_cbic\"),\n",
    "    'local'     : load_csv_as_pandas(path=\"results/local-results/cbic/temp_llssvm_cbic/results\"),\n",
    "    'regional'  : load_csv_as_pandas(path=\"results/regional-results/temp_rlssvm_somfix/results\")\n",
    "}\n",
    "\n",
    "datasets = np.unique(df['global']['dataset_name'].values).tolist()"
   ]
  },
  {
   "cell_type": "markdown",
   "metadata": {},
   "source": [
    "#### 1.1 Comparing boxplots of evaluation metrics <a class=\"anchor\" id=\"boxplot_tr_ts\"></a>"
   ]
  },
  {
   "cell_type": "code",
   "execution_count": 3,
   "metadata": {
    "scrolled": false
   },
   "outputs": [
    {
     "data": {
      "text/html": [
       "        <script type=\"text/javascript\">\n",
       "        window.PlotlyConfig = {MathJaxConfig: 'local'};\n",
       "        if (window.MathJax) {MathJax.Hub.Config({SVG: {font: \"STIX-Web\"}});}\n",
       "        if (typeof require !== 'undefined') {\n",
       "        require.undef(\"plotly\");\n",
       "        requirejs.config({\n",
       "            paths: {\n",
       "                'plotly': ['https://cdn.plot.ly/plotly-2.9.0.min']\n",
       "            }\n",
       "        });\n",
       "        require(['plotly'], function(Plotly) {\n",
       "            window._Plotly = Plotly;\n",
       "        });\n",
       "        }\n",
       "        </script>\n",
       "        "
      ]
     },
     "metadata": {},
     "output_type": "display_data"
    },
    {
     "data": {
      "text/html": [
       "<center><h1>pk</h1></center>"
      ],
      "text/plain": [
       "<IPython.core.display.HTML object>"
      ]
     },
     "metadata": {},
     "output_type": "display_data"
    },
    {
     "data": {
      "application/vnd.plotly.v1+json": {
       "config": {
        "plotlyServerURL": "https://plotly.com"
       },
       "data": [
        {
         "boxmean": "sd",
         "marker": {
          "color": "rgba(44, 160, 101, 0.5)"
         },
         "name": "G-LSSVM",
         "type": "box",
         "x": [
          "Treino G-LSSVM",
          "Treino G-LSSVM",
          "Treino G-LSSVM",
          "Treino G-LSSVM",
          "Treino G-LSSVM",
          "Treino G-LSSVM",
          "Treino G-LSSVM",
          "Treino G-LSSVM",
          "Treino G-LSSVM",
          "Treino G-LSSVM",
          "Treino G-LSSVM",
          "Treino G-LSSVM",
          "Treino G-LSSVM",
          "Treino G-LSSVM",
          "Treino G-LSSVM",
          "Treino G-LSSVM",
          "Treino G-LSSVM",
          "Treino G-LSSVM",
          "Treino G-LSSVM",
          "Treino G-LSSVM",
          "Treino G-LSSVM",
          "Treino G-LSSVM",
          "Treino G-LSSVM",
          "Treino G-LSSVM",
          "Treino G-LSSVM",
          "Treino G-LSSVM",
          "Treino G-LSSVM",
          "Treino G-LSSVM",
          "Treino G-LSSVM",
          "Treino G-LSSVM",
          "Treino G-LSSVM",
          "Treino G-LSSVM",
          "Treino G-LSSVM",
          "Treino G-LSSVM",
          "Treino G-LSSVM",
          "Treino G-LSSVM",
          "Treino G-LSSVM",
          "Treino G-LSSVM",
          "Treino G-LSSVM",
          "Treino G-LSSVM",
          "Treino G-LSSVM",
          "Treino G-LSSVM",
          "Treino G-LSSVM",
          "Treino G-LSSVM",
          "Treino G-LSSVM",
          "Treino G-LSSVM",
          "Treino G-LSSVM",
          "Treino G-LSSVM",
          "Treino G-LSSVM",
          "Treino G-LSSVM"
         ],
         "y": [
          100,
          92.78350515463917,
          87.62886597938144,
          96.90721649484536,
          97.9381443298969,
          97.9381443298969,
          96.90721649484536,
          100,
          95.87628865979381,
          100,
          100,
          100,
          96.90721649484536,
          85.56701030927834,
          94.84536082474226,
          94.84536082474226,
          95.87628865979381,
          100,
          100,
          100,
          95.87628865979381,
          100,
          100,
          100,
          100,
          100,
          100,
          100,
          100,
          86.5979381443299,
          96.90721649484536,
          100,
          100,
          100,
          100,
          100,
          90.72164948453609,
          100,
          100,
          100,
          86.5979381443299,
          87.62886597938144,
          100,
          100,
          100,
          95.87628865979381,
          93.81443298969072,
          98.96907216494846,
          100,
          100
         ]
        },
        {
         "boxmean": "sd",
         "marker": {
          "color": "rgba(93, 164, 214, 0.5)"
         },
         "name": "L-LSSVM",
         "type": "box",
         "x": [
          "Treino L-LSSVM",
          "Treino L-LSSVM",
          "Treino L-LSSVM",
          "Treino L-LSSVM",
          "Treino L-LSSVM",
          "Treino L-LSSVM",
          "Treino L-LSSVM",
          "Treino L-LSSVM",
          "Treino L-LSSVM",
          "Treino L-LSSVM",
          "Treino L-LSSVM",
          "Treino L-LSSVM",
          "Treino L-LSSVM",
          "Treino L-LSSVM",
          "Treino L-LSSVM",
          "Treino L-LSSVM",
          "Treino L-LSSVM",
          "Treino L-LSSVM",
          "Treino L-LSSVM",
          "Treino L-LSSVM",
          "Treino L-LSSVM",
          "Treino L-LSSVM",
          "Treino L-LSSVM",
          "Treino L-LSSVM",
          "Treino L-LSSVM",
          "Treino L-LSSVM",
          "Treino L-LSSVM",
          "Treino L-LSSVM",
          "Treino L-LSSVM",
          "Treino L-LSSVM",
          "Treino L-LSSVM",
          "Treino L-LSSVM",
          "Treino L-LSSVM",
          "Treino L-LSSVM",
          "Treino L-LSSVM",
          "Treino L-LSSVM",
          "Treino L-LSSVM",
          "Treino L-LSSVM",
          "Treino L-LSSVM",
          "Treino L-LSSVM",
          "Treino L-LSSVM",
          "Treino L-LSSVM",
          "Treino L-LSSVM",
          "Treino L-LSSVM",
          "Treino L-LSSVM",
          "Treino L-LSSVM",
          "Treino L-LSSVM",
          "Treino L-LSSVM",
          "Treino L-LSSVM",
          "Treino L-LSSVM"
         ],
         "y": [
          100,
          95.87628865979381,
          100,
          100,
          100,
          100,
          96.90721649484536,
          100,
          100,
          100,
          100,
          100,
          97.9381443298969,
          96.90721649484536,
          100,
          100,
          96.90721649484536,
          100,
          100,
          100,
          100,
          100,
          100,
          100,
          100,
          100,
          100,
          100,
          100,
          100,
          100,
          100,
          100,
          100,
          100,
          100,
          100,
          100,
          100,
          100,
          100,
          100,
          95.87628865979381,
          100,
          100,
          100,
          100,
          98.96907216494846,
          100,
          100
         ]
        },
        {
         "boxmean": "sd",
         "marker": {
          "color": "rgba(155, 89, 182,1.0)"
         },
         "name": "R-LSSVM",
         "type": "box",
         "x": [
          "Treino R-LSSVM",
          "Treino R-LSSVM",
          "Treino R-LSSVM",
          "Treino R-LSSVM",
          "Treino R-LSSVM",
          "Treino R-LSSVM",
          "Treino R-LSSVM",
          "Treino R-LSSVM",
          "Treino R-LSSVM",
          "Treino R-LSSVM",
          "Treino R-LSSVM",
          "Treino R-LSSVM",
          "Treino R-LSSVM",
          "Treino R-LSSVM",
          "Treino R-LSSVM",
          "Treino R-LSSVM",
          "Treino R-LSSVM",
          "Treino R-LSSVM",
          "Treino R-LSSVM",
          "Treino R-LSSVM",
          "Treino R-LSSVM",
          "Treino R-LSSVM",
          "Treino R-LSSVM",
          "Treino R-LSSVM",
          "Treino R-LSSVM",
          "Treino R-LSSVM",
          "Treino R-LSSVM",
          "Treino R-LSSVM",
          "Treino R-LSSVM",
          "Treino R-LSSVM",
          "Treino R-LSSVM",
          "Treino R-LSSVM",
          "Treino R-LSSVM",
          "Treino R-LSSVM",
          "Treino R-LSSVM",
          "Treino R-LSSVM",
          "Treino R-LSSVM",
          "Treino R-LSSVM",
          "Treino R-LSSVM",
          "Treino R-LSSVM",
          "Treino R-LSSVM",
          "Treino R-LSSVM",
          "Treino R-LSSVM",
          "Treino R-LSSVM",
          "Treino R-LSSVM",
          "Treino R-LSSVM",
          "Treino R-LSSVM",
          "Treino R-LSSVM",
          "Treino R-LSSVM",
          "Treino R-LSSVM"
         ],
         "y": [
          100,
          95.87628865979381,
          98.96907216494846,
          97.9381443298969,
          100,
          98.96907216494846,
          100,
          100,
          100,
          100,
          100,
          100,
          100,
          94.84536082474226,
          94.84536082474226,
          100,
          96.90721649484536,
          100,
          90.72164948453609,
          100,
          95.87628865979381,
          100,
          100,
          100,
          100,
          100,
          100,
          100,
          100,
          100,
          100,
          90.72164948453609,
          100,
          100,
          100,
          100,
          98.96907216494846,
          100,
          92.78350515463917,
          100,
          97.9381443298969,
          100,
          100,
          100,
          100,
          95.87628865979381,
          100,
          91.75257731958763,
          100,
          100
         ]
        },
        {
         "boxmean": "sd",
         "marker": {
          "color": "rgba(44, 160, 101, 0.5)"
         },
         "name": "G-LSSVM",
         "type": "box",
         "x": [
          "Teste G-LSSVM",
          "Teste G-LSSVM",
          "Teste G-LSSVM",
          "Teste G-LSSVM",
          "Teste G-LSSVM",
          "Teste G-LSSVM",
          "Teste G-LSSVM",
          "Teste G-LSSVM",
          "Teste G-LSSVM",
          "Teste G-LSSVM",
          "Teste G-LSSVM",
          "Teste G-LSSVM",
          "Teste G-LSSVM",
          "Teste G-LSSVM",
          "Teste G-LSSVM",
          "Teste G-LSSVM",
          "Teste G-LSSVM",
          "Teste G-LSSVM",
          "Teste G-LSSVM",
          "Teste G-LSSVM",
          "Teste G-LSSVM",
          "Teste G-LSSVM",
          "Teste G-LSSVM",
          "Teste G-LSSVM",
          "Teste G-LSSVM",
          "Teste G-LSSVM",
          "Teste G-LSSVM",
          "Teste G-LSSVM",
          "Teste G-LSSVM",
          "Teste G-LSSVM",
          "Teste G-LSSVM",
          "Teste G-LSSVM",
          "Teste G-LSSVM",
          "Teste G-LSSVM",
          "Teste G-LSSVM",
          "Teste G-LSSVM",
          "Teste G-LSSVM",
          "Teste G-LSSVM",
          "Teste G-LSSVM",
          "Teste G-LSSVM",
          "Teste G-LSSVM",
          "Teste G-LSSVM",
          "Teste G-LSSVM",
          "Teste G-LSSVM",
          "Teste G-LSSVM",
          "Teste G-LSSVM",
          "Teste G-LSSVM",
          "Teste G-LSSVM",
          "Teste G-LSSVM",
          "Teste G-LSSVM"
         ],
         "y": [
          93.87755102040816,
          83.6734693877551,
          89.79591836734694,
          86.73469387755102,
          78.57142857142857,
          84.6938775510204,
          88.77551020408163,
          84.6938775510204,
          86.73469387755102,
          91.83673469387756,
          88.77551020408163,
          89.79591836734694,
          82.6530612244898,
          87.75510204081633,
          88.77551020408163,
          84.6938775510204,
          90.81632653061224,
          85.71428571428571,
          85.71428571428571,
          87.75510204081633,
          88.77551020408163,
          88.77551020408163,
          88.77551020408163,
          91.83673469387756,
          81.63265306122449,
          83.6734693877551,
          88.77551020408163,
          81.63265306122449,
          80.61224489795919,
          86.73469387755102,
          90.81632653061224,
          81.63265306122449,
          86.73469387755102,
          90.81632653061224,
          84.6938775510204,
          90.81632653061224,
          84.6938775510204,
          86.73469387755102,
          81.63265306122449,
          90.81632653061224,
          84.6938775510204,
          87.75510204081633,
          89.79591836734694,
          92.85714285714286,
          88.77551020408163,
          90.81632653061224,
          77.55102040816327,
          89.79591836734694,
          91.83673469387756,
          84.6938775510204
         ]
        },
        {
         "boxmean": "sd",
         "marker": {
          "color": "rgba(93, 164, 214, 0.5)"
         },
         "name": "L-LSSVM",
         "type": "box",
         "x": [
          "Teste L-LSSVM",
          "Teste L-LSSVM",
          "Teste L-LSSVM",
          "Teste L-LSSVM",
          "Teste L-LSSVM",
          "Teste L-LSSVM",
          "Teste L-LSSVM",
          "Teste L-LSSVM",
          "Teste L-LSSVM",
          "Teste L-LSSVM",
          "Teste L-LSSVM",
          "Teste L-LSSVM",
          "Teste L-LSSVM",
          "Teste L-LSSVM",
          "Teste L-LSSVM",
          "Teste L-LSSVM",
          "Teste L-LSSVM",
          "Teste L-LSSVM",
          "Teste L-LSSVM",
          "Teste L-LSSVM",
          "Teste L-LSSVM",
          "Teste L-LSSVM",
          "Teste L-LSSVM",
          "Teste L-LSSVM",
          "Teste L-LSSVM",
          "Teste L-LSSVM",
          "Teste L-LSSVM",
          "Teste L-LSSVM",
          "Teste L-LSSVM",
          "Teste L-LSSVM",
          "Teste L-LSSVM",
          "Teste L-LSSVM",
          "Teste L-LSSVM",
          "Teste L-LSSVM",
          "Teste L-LSSVM",
          "Teste L-LSSVM",
          "Teste L-LSSVM",
          "Teste L-LSSVM",
          "Teste L-LSSVM",
          "Teste L-LSSVM",
          "Teste L-LSSVM",
          "Teste L-LSSVM",
          "Teste L-LSSVM",
          "Teste L-LSSVM",
          "Teste L-LSSVM",
          "Teste L-LSSVM",
          "Teste L-LSSVM",
          "Teste L-LSSVM",
          "Teste L-LSSVM",
          "Teste L-LSSVM"
         ],
         "y": [
          92.85714285714286,
          83.6734693877551,
          91.83673469387756,
          92.85714285714286,
          84.6938775510204,
          82.6530612244898,
          91.83673469387756,
          84.6938775510204,
          86.73469387755102,
          94.89795918367348,
          89.79591836734694,
          87.75510204081633,
          79.59183673469387,
          92.85714285714286,
          87.75510204081633,
          90.81632653061224,
          91.83673469387756,
          87.75510204081633,
          88.77551020408163,
          91.83673469387756,
          92.85714285714286,
          92.85714285714286,
          88.77551020408163,
          92.85714285714286,
          89.79591836734694,
          96.93877551020408,
          92.85714285714286,
          89.79591836734694,
          84.6938775510204,
          89.79591836734694,
          94.89795918367348,
          91.83673469387756,
          89.79591836734694,
          93.87755102040816,
          85.71428571428571,
          90.81632653061224,
          86.73469387755102,
          88.77551020408163,
          88.77551020408163,
          85.71428571428571,
          83.6734693877551,
          94.89795918367348,
          81.63265306122449,
          91.83673469387756,
          90.81632653061224,
          91.83673469387756,
          77.55102040816327,
          88.77551020408163,
          91.83673469387756,
          88.77551020408163
         ]
        },
        {
         "boxmean": "sd",
         "marker": {
          "color": "rgba(155, 89, 182,1.0)"
         },
         "name": "R-LSSVM",
         "type": "box",
         "x": [
          "Teste R-LSSVM",
          "Teste R-LSSVM",
          "Teste R-LSSVM",
          "Teste R-LSSVM",
          "Teste R-LSSVM",
          "Teste R-LSSVM",
          "Teste R-LSSVM",
          "Teste R-LSSVM",
          "Teste R-LSSVM",
          "Teste R-LSSVM",
          "Teste R-LSSVM",
          "Teste R-LSSVM",
          "Teste R-LSSVM",
          "Teste R-LSSVM",
          "Teste R-LSSVM",
          "Teste R-LSSVM",
          "Teste R-LSSVM",
          "Teste R-LSSVM",
          "Teste R-LSSVM",
          "Teste R-LSSVM",
          "Teste R-LSSVM",
          "Teste R-LSSVM",
          "Teste R-LSSVM",
          "Teste R-LSSVM",
          "Teste R-LSSVM",
          "Teste R-LSSVM",
          "Teste R-LSSVM",
          "Teste R-LSSVM",
          "Teste R-LSSVM",
          "Teste R-LSSVM",
          "Teste R-LSSVM",
          "Teste R-LSSVM",
          "Teste R-LSSVM",
          "Teste R-LSSVM",
          "Teste R-LSSVM",
          "Teste R-LSSVM",
          "Teste R-LSSVM",
          "Teste R-LSSVM",
          "Teste R-LSSVM",
          "Teste R-LSSVM",
          "Teste R-LSSVM",
          "Teste R-LSSVM",
          "Teste R-LSSVM",
          "Teste R-LSSVM",
          "Teste R-LSSVM",
          "Teste R-LSSVM",
          "Teste R-LSSVM",
          "Teste R-LSSVM",
          "Teste R-LSSVM",
          "Teste R-LSSVM"
         ],
         "y": [
          94.89795918367348,
          87.75510204081633,
          89.79591836734694,
          93.87755102040816,
          81.63265306122449,
          85.71428571428571,
          89.79591836734694,
          83.6734693877551,
          85.71428571428571,
          87.75510204081633,
          90.81632653061224,
          88.77551020408163,
          86.73469387755102,
          86.73469387755102,
          87.75510204081633,
          91.83673469387756,
          91.83673469387756,
          89.79591836734694,
          85.71428571428571,
          88.77551020408163,
          88.77551020408163,
          84.6938775510204,
          88.77551020408163,
          90.81632653061224,
          80.61224489795919,
          88.77551020408163,
          88.77551020408163,
          93.87755102040816,
          85.71428571428571,
          91.83673469387756,
          94.89795918367348,
          89.79591836734694,
          87.75510204081633,
          90.81632653061224,
          91.83673469387756,
          92.85714285714286,
          93.87755102040816,
          86.73469387755102,
          83.6734693877551,
          86.73469387755102,
          83.6734693877551,
          86.73469387755102,
          90.81632653061224,
          94.89795918367348,
          90.81632653061224,
          89.79591836734694,
          77.55102040816327,
          84.6938775510204,
          88.77551020408163,
          86.73469387755102
         ]
        },
        {
         "line": {
          "color": "RoyalBlue",
          "dash": "dashdot",
          "width": 2
         },
         "mode": "lines+markers",
         "showlegend": false,
         "type": "scatter",
         "x": [
          "Treino G-LSSVM",
          "Treino L-LSSVM",
          "Treino R-LSSVM",
          "Treino G-LSSVM"
         ],
         "y": [
          97.34020618556703,
          99.58762886597938,
          98.659793814433,
          97.34020618556703
         ]
        },
        {
         "line": {
          "color": "RoyalBlue",
          "dash": "dashdot",
          "width": 2
         },
         "mode": "lines+markers",
         "showlegend": false,
         "type": "scatter",
         "x": [
          "Teste G-LSSVM",
          "Teste L-LSSVM",
          "Teste R-LSSVM",
          "Teste G-LSSVM"
         ],
         "y": [
          87.02040816326532,
          89.30612244897961,
          88.51020408163265,
          87.02040816326532
         ]
        }
       ],
       "layout": {
        "legend": {
         "x": 0.875,
         "y": 1
        },
        "margin": {
         "b": 20,
         "l": 20,
         "r": 5,
         "t": 5
        },
        "showlegend": false,
        "template": {
         "data": {
          "bar": [
           {
            "error_x": {
             "color": "#2a3f5f"
            },
            "error_y": {
             "color": "#2a3f5f"
            },
            "marker": {
             "line": {
              "color": "#E5ECF6",
              "width": 0.5
             },
             "pattern": {
              "fillmode": "overlay",
              "size": 10,
              "solidity": 0.2
             }
            },
            "type": "bar"
           }
          ],
          "barpolar": [
           {
            "marker": {
             "line": {
              "color": "#E5ECF6",
              "width": 0.5
             },
             "pattern": {
              "fillmode": "overlay",
              "size": 10,
              "solidity": 0.2
             }
            },
            "type": "barpolar"
           }
          ],
          "carpet": [
           {
            "aaxis": {
             "endlinecolor": "#2a3f5f",
             "gridcolor": "white",
             "linecolor": "white",
             "minorgridcolor": "white",
             "startlinecolor": "#2a3f5f"
            },
            "baxis": {
             "endlinecolor": "#2a3f5f",
             "gridcolor": "white",
             "linecolor": "white",
             "minorgridcolor": "white",
             "startlinecolor": "#2a3f5f"
            },
            "type": "carpet"
           }
          ],
          "choropleth": [
           {
            "colorbar": {
             "outlinewidth": 0,
             "ticks": ""
            },
            "type": "choropleth"
           }
          ],
          "contour": [
           {
            "colorbar": {
             "outlinewidth": 0,
             "ticks": ""
            },
            "colorscale": [
             [
              0,
              "#0d0887"
             ],
             [
              0.1111111111111111,
              "#46039f"
             ],
             [
              0.2222222222222222,
              "#7201a8"
             ],
             [
              0.3333333333333333,
              "#9c179e"
             ],
             [
              0.4444444444444444,
              "#bd3786"
             ],
             [
              0.5555555555555556,
              "#d8576b"
             ],
             [
              0.6666666666666666,
              "#ed7953"
             ],
             [
              0.7777777777777778,
              "#fb9f3a"
             ],
             [
              0.8888888888888888,
              "#fdca26"
             ],
             [
              1,
              "#f0f921"
             ]
            ],
            "type": "contour"
           }
          ],
          "contourcarpet": [
           {
            "colorbar": {
             "outlinewidth": 0,
             "ticks": ""
            },
            "type": "contourcarpet"
           }
          ],
          "heatmap": [
           {
            "colorbar": {
             "outlinewidth": 0,
             "ticks": ""
            },
            "colorscale": [
             [
              0,
              "#0d0887"
             ],
             [
              0.1111111111111111,
              "#46039f"
             ],
             [
              0.2222222222222222,
              "#7201a8"
             ],
             [
              0.3333333333333333,
              "#9c179e"
             ],
             [
              0.4444444444444444,
              "#bd3786"
             ],
             [
              0.5555555555555556,
              "#d8576b"
             ],
             [
              0.6666666666666666,
              "#ed7953"
             ],
             [
              0.7777777777777778,
              "#fb9f3a"
             ],
             [
              0.8888888888888888,
              "#fdca26"
             ],
             [
              1,
              "#f0f921"
             ]
            ],
            "type": "heatmap"
           }
          ],
          "heatmapgl": [
           {
            "colorbar": {
             "outlinewidth": 0,
             "ticks": ""
            },
            "colorscale": [
             [
              0,
              "#0d0887"
             ],
             [
              0.1111111111111111,
              "#46039f"
             ],
             [
              0.2222222222222222,
              "#7201a8"
             ],
             [
              0.3333333333333333,
              "#9c179e"
             ],
             [
              0.4444444444444444,
              "#bd3786"
             ],
             [
              0.5555555555555556,
              "#d8576b"
             ],
             [
              0.6666666666666666,
              "#ed7953"
             ],
             [
              0.7777777777777778,
              "#fb9f3a"
             ],
             [
              0.8888888888888888,
              "#fdca26"
             ],
             [
              1,
              "#f0f921"
             ]
            ],
            "type": "heatmapgl"
           }
          ],
          "histogram": [
           {
            "marker": {
             "pattern": {
              "fillmode": "overlay",
              "size": 10,
              "solidity": 0.2
             }
            },
            "type": "histogram"
           }
          ],
          "histogram2d": [
           {
            "colorbar": {
             "outlinewidth": 0,
             "ticks": ""
            },
            "colorscale": [
             [
              0,
              "#0d0887"
             ],
             [
              0.1111111111111111,
              "#46039f"
             ],
             [
              0.2222222222222222,
              "#7201a8"
             ],
             [
              0.3333333333333333,
              "#9c179e"
             ],
             [
              0.4444444444444444,
              "#bd3786"
             ],
             [
              0.5555555555555556,
              "#d8576b"
             ],
             [
              0.6666666666666666,
              "#ed7953"
             ],
             [
              0.7777777777777778,
              "#fb9f3a"
             ],
             [
              0.8888888888888888,
              "#fdca26"
             ],
             [
              1,
              "#f0f921"
             ]
            ],
            "type": "histogram2d"
           }
          ],
          "histogram2dcontour": [
           {
            "colorbar": {
             "outlinewidth": 0,
             "ticks": ""
            },
            "colorscale": [
             [
              0,
              "#0d0887"
             ],
             [
              0.1111111111111111,
              "#46039f"
             ],
             [
              0.2222222222222222,
              "#7201a8"
             ],
             [
              0.3333333333333333,
              "#9c179e"
             ],
             [
              0.4444444444444444,
              "#bd3786"
             ],
             [
              0.5555555555555556,
              "#d8576b"
             ],
             [
              0.6666666666666666,
              "#ed7953"
             ],
             [
              0.7777777777777778,
              "#fb9f3a"
             ],
             [
              0.8888888888888888,
              "#fdca26"
             ],
             [
              1,
              "#f0f921"
             ]
            ],
            "type": "histogram2dcontour"
           }
          ],
          "mesh3d": [
           {
            "colorbar": {
             "outlinewidth": 0,
             "ticks": ""
            },
            "type": "mesh3d"
           }
          ],
          "parcoords": [
           {
            "line": {
             "colorbar": {
              "outlinewidth": 0,
              "ticks": ""
             }
            },
            "type": "parcoords"
           }
          ],
          "pie": [
           {
            "automargin": true,
            "type": "pie"
           }
          ],
          "scatter": [
           {
            "marker": {
             "colorbar": {
              "outlinewidth": 0,
              "ticks": ""
             }
            },
            "type": "scatter"
           }
          ],
          "scatter3d": [
           {
            "line": {
             "colorbar": {
              "outlinewidth": 0,
              "ticks": ""
             }
            },
            "marker": {
             "colorbar": {
              "outlinewidth": 0,
              "ticks": ""
             }
            },
            "type": "scatter3d"
           }
          ],
          "scattercarpet": [
           {
            "marker": {
             "colorbar": {
              "outlinewidth": 0,
              "ticks": ""
             }
            },
            "type": "scattercarpet"
           }
          ],
          "scattergeo": [
           {
            "marker": {
             "colorbar": {
              "outlinewidth": 0,
              "ticks": ""
             }
            },
            "type": "scattergeo"
           }
          ],
          "scattergl": [
           {
            "marker": {
             "colorbar": {
              "outlinewidth": 0,
              "ticks": ""
             }
            },
            "type": "scattergl"
           }
          ],
          "scattermapbox": [
           {
            "marker": {
             "colorbar": {
              "outlinewidth": 0,
              "ticks": ""
             }
            },
            "type": "scattermapbox"
           }
          ],
          "scatterpolar": [
           {
            "marker": {
             "colorbar": {
              "outlinewidth": 0,
              "ticks": ""
             }
            },
            "type": "scatterpolar"
           }
          ],
          "scatterpolargl": [
           {
            "marker": {
             "colorbar": {
              "outlinewidth": 0,
              "ticks": ""
             }
            },
            "type": "scatterpolargl"
           }
          ],
          "scatterternary": [
           {
            "marker": {
             "colorbar": {
              "outlinewidth": 0,
              "ticks": ""
             }
            },
            "type": "scatterternary"
           }
          ],
          "surface": [
           {
            "colorbar": {
             "outlinewidth": 0,
             "ticks": ""
            },
            "colorscale": [
             [
              0,
              "#0d0887"
             ],
             [
              0.1111111111111111,
              "#46039f"
             ],
             [
              0.2222222222222222,
              "#7201a8"
             ],
             [
              0.3333333333333333,
              "#9c179e"
             ],
             [
              0.4444444444444444,
              "#bd3786"
             ],
             [
              0.5555555555555556,
              "#d8576b"
             ],
             [
              0.6666666666666666,
              "#ed7953"
             ],
             [
              0.7777777777777778,
              "#fb9f3a"
             ],
             [
              0.8888888888888888,
              "#fdca26"
             ],
             [
              1,
              "#f0f921"
             ]
            ],
            "type": "surface"
           }
          ],
          "table": [
           {
            "cells": {
             "fill": {
              "color": "#EBF0F8"
             },
             "line": {
              "color": "white"
             }
            },
            "header": {
             "fill": {
              "color": "#C8D4E3"
             },
             "line": {
              "color": "white"
             }
            },
            "type": "table"
           }
          ]
         },
         "layout": {
          "annotationdefaults": {
           "arrowcolor": "#2a3f5f",
           "arrowhead": 0,
           "arrowwidth": 1
          },
          "autotypenumbers": "strict",
          "coloraxis": {
           "colorbar": {
            "outlinewidth": 0,
            "ticks": ""
           }
          },
          "colorscale": {
           "diverging": [
            [
             0,
             "#8e0152"
            ],
            [
             0.1,
             "#c51b7d"
            ],
            [
             0.2,
             "#de77ae"
            ],
            [
             0.3,
             "#f1b6da"
            ],
            [
             0.4,
             "#fde0ef"
            ],
            [
             0.5,
             "#f7f7f7"
            ],
            [
             0.6,
             "#e6f5d0"
            ],
            [
             0.7,
             "#b8e186"
            ],
            [
             0.8,
             "#7fbc41"
            ],
            [
             0.9,
             "#4d9221"
            ],
            [
             1,
             "#276419"
            ]
           ],
           "sequential": [
            [
             0,
             "#0d0887"
            ],
            [
             0.1111111111111111,
             "#46039f"
            ],
            [
             0.2222222222222222,
             "#7201a8"
            ],
            [
             0.3333333333333333,
             "#9c179e"
            ],
            [
             0.4444444444444444,
             "#bd3786"
            ],
            [
             0.5555555555555556,
             "#d8576b"
            ],
            [
             0.6666666666666666,
             "#ed7953"
            ],
            [
             0.7777777777777778,
             "#fb9f3a"
            ],
            [
             0.8888888888888888,
             "#fdca26"
            ],
            [
             1,
             "#f0f921"
            ]
           ],
           "sequentialminus": [
            [
             0,
             "#0d0887"
            ],
            [
             0.1111111111111111,
             "#46039f"
            ],
            [
             0.2222222222222222,
             "#7201a8"
            ],
            [
             0.3333333333333333,
             "#9c179e"
            ],
            [
             0.4444444444444444,
             "#bd3786"
            ],
            [
             0.5555555555555556,
             "#d8576b"
            ],
            [
             0.6666666666666666,
             "#ed7953"
            ],
            [
             0.7777777777777778,
             "#fb9f3a"
            ],
            [
             0.8888888888888888,
             "#fdca26"
            ],
            [
             1,
             "#f0f921"
            ]
           ]
          },
          "colorway": [
           "#636efa",
           "#EF553B",
           "#00cc96",
           "#ab63fa",
           "#FFA15A",
           "#19d3f3",
           "#FF6692",
           "#B6E880",
           "#FF97FF",
           "#FECB52"
          ],
          "font": {
           "color": "#2a3f5f"
          },
          "geo": {
           "bgcolor": "white",
           "lakecolor": "white",
           "landcolor": "#E5ECF6",
           "showlakes": true,
           "showland": true,
           "subunitcolor": "white"
          },
          "hoverlabel": {
           "align": "left"
          },
          "hovermode": "closest",
          "mapbox": {
           "style": "light"
          },
          "paper_bgcolor": "white",
          "plot_bgcolor": "#E5ECF6",
          "polar": {
           "angularaxis": {
            "gridcolor": "white",
            "linecolor": "white",
            "ticks": ""
           },
           "bgcolor": "#E5ECF6",
           "radialaxis": {
            "gridcolor": "white",
            "linecolor": "white",
            "ticks": ""
           }
          },
          "scene": {
           "xaxis": {
            "backgroundcolor": "#E5ECF6",
            "gridcolor": "white",
            "gridwidth": 2,
            "linecolor": "white",
            "showbackground": true,
            "ticks": "",
            "zerolinecolor": "white"
           },
           "yaxis": {
            "backgroundcolor": "#E5ECF6",
            "gridcolor": "white",
            "gridwidth": 2,
            "linecolor": "white",
            "showbackground": true,
            "ticks": "",
            "zerolinecolor": "white"
           },
           "zaxis": {
            "backgroundcolor": "#E5ECF6",
            "gridcolor": "white",
            "gridwidth": 2,
            "linecolor": "white",
            "showbackground": true,
            "ticks": "",
            "zerolinecolor": "white"
           }
          },
          "shapedefaults": {
           "line": {
            "color": "#2a3f5f"
           }
          },
          "ternary": {
           "aaxis": {
            "gridcolor": "white",
            "linecolor": "white",
            "ticks": ""
           },
           "baxis": {
            "gridcolor": "white",
            "linecolor": "white",
            "ticks": ""
           },
           "bgcolor": "#E5ECF6",
           "caxis": {
            "gridcolor": "white",
            "linecolor": "white",
            "ticks": ""
           }
          },
          "title": {
           "x": 0.05
          },
          "xaxis": {
           "automargin": true,
           "gridcolor": "white",
           "linecolor": "white",
           "ticks": "",
           "title": {
            "standoff": 15
           },
           "zerolinecolor": "white",
           "zerolinewidth": 2
          },
          "yaxis": {
           "automargin": true,
           "gridcolor": "white",
           "linecolor": "white",
           "ticks": "",
           "title": {
            "standoff": 15
           },
           "zerolinecolor": "white",
           "zerolinewidth": 2
          }
         }
        },
        "yaxis": {
         "title": {
          "text": "Acurácia (%)"
         }
        }
       }
      },
      "text/html": [
       "<div>                            <div id=\"366aab24-d480-4d33-be6d-539f207e8603\" class=\"plotly-graph-div\" style=\"height:525px; width:100%;\"></div>            <script type=\"text/javascript\">                require([\"plotly\"], function(Plotly) {                    window.PLOTLYENV=window.PLOTLYENV || {};                                    if (document.getElementById(\"366aab24-d480-4d33-be6d-539f207e8603\")) {                    Plotly.newPlot(                        \"366aab24-d480-4d33-be6d-539f207e8603\",                        [{\"boxmean\":\"sd\",\"marker\":{\"color\":\"rgba(44, 160, 101, 0.5)\"},\"name\":\"G-LSSVM\",\"x\":[\"Treino G-LSSVM\",\"Treino G-LSSVM\",\"Treino G-LSSVM\",\"Treino G-LSSVM\",\"Treino G-LSSVM\",\"Treino G-LSSVM\",\"Treino G-LSSVM\",\"Treino G-LSSVM\",\"Treino G-LSSVM\",\"Treino G-LSSVM\",\"Treino G-LSSVM\",\"Treino G-LSSVM\",\"Treino G-LSSVM\",\"Treino G-LSSVM\",\"Treino G-LSSVM\",\"Treino G-LSSVM\",\"Treino G-LSSVM\",\"Treino G-LSSVM\",\"Treino G-LSSVM\",\"Treino G-LSSVM\",\"Treino G-LSSVM\",\"Treino G-LSSVM\",\"Treino G-LSSVM\",\"Treino G-LSSVM\",\"Treino G-LSSVM\",\"Treino G-LSSVM\",\"Treino G-LSSVM\",\"Treino G-LSSVM\",\"Treino G-LSSVM\",\"Treino G-LSSVM\",\"Treino G-LSSVM\",\"Treino G-LSSVM\",\"Treino G-LSSVM\",\"Treino G-LSSVM\",\"Treino G-LSSVM\",\"Treino G-LSSVM\",\"Treino G-LSSVM\",\"Treino G-LSSVM\",\"Treino G-LSSVM\",\"Treino G-LSSVM\",\"Treino G-LSSVM\",\"Treino G-LSSVM\",\"Treino G-LSSVM\",\"Treino G-LSSVM\",\"Treino G-LSSVM\",\"Treino G-LSSVM\",\"Treino G-LSSVM\",\"Treino G-LSSVM\",\"Treino G-LSSVM\",\"Treino G-LSSVM\"],\"y\":[100.0,92.78350515463917,87.62886597938144,96.90721649484536,97.9381443298969,97.9381443298969,96.90721649484536,100.0,95.87628865979381,100.0,100.0,100.0,96.90721649484536,85.56701030927834,94.84536082474226,94.84536082474226,95.87628865979381,100.0,100.0,100.0,95.87628865979381,100.0,100.0,100.0,100.0,100.0,100.0,100.0,100.0,86.5979381443299,96.90721649484536,100.0,100.0,100.0,100.0,100.0,90.72164948453609,100.0,100.0,100.0,86.5979381443299,87.62886597938144,100.0,100.0,100.0,95.87628865979381,93.81443298969072,98.96907216494846,100.0,100.0],\"type\":\"box\"},{\"boxmean\":\"sd\",\"marker\":{\"color\":\"rgba(93, 164, 214, 0.5)\"},\"name\":\"L-LSSVM\",\"x\":[\"Treino L-LSSVM\",\"Treino L-LSSVM\",\"Treino L-LSSVM\",\"Treino L-LSSVM\",\"Treino L-LSSVM\",\"Treino L-LSSVM\",\"Treino L-LSSVM\",\"Treino L-LSSVM\",\"Treino L-LSSVM\",\"Treino L-LSSVM\",\"Treino L-LSSVM\",\"Treino L-LSSVM\",\"Treino L-LSSVM\",\"Treino L-LSSVM\",\"Treino L-LSSVM\",\"Treino L-LSSVM\",\"Treino L-LSSVM\",\"Treino L-LSSVM\",\"Treino L-LSSVM\",\"Treino L-LSSVM\",\"Treino L-LSSVM\",\"Treino L-LSSVM\",\"Treino L-LSSVM\",\"Treino L-LSSVM\",\"Treino L-LSSVM\",\"Treino L-LSSVM\",\"Treino L-LSSVM\",\"Treino L-LSSVM\",\"Treino L-LSSVM\",\"Treino L-LSSVM\",\"Treino L-LSSVM\",\"Treino L-LSSVM\",\"Treino L-LSSVM\",\"Treino L-LSSVM\",\"Treino L-LSSVM\",\"Treino L-LSSVM\",\"Treino L-LSSVM\",\"Treino L-LSSVM\",\"Treino L-LSSVM\",\"Treino L-LSSVM\",\"Treino L-LSSVM\",\"Treino L-LSSVM\",\"Treino L-LSSVM\",\"Treino L-LSSVM\",\"Treino L-LSSVM\",\"Treino L-LSSVM\",\"Treino L-LSSVM\",\"Treino L-LSSVM\",\"Treino L-LSSVM\",\"Treino L-LSSVM\"],\"y\":[100.0,95.87628865979381,100.0,100.0,100.0,100.0,96.90721649484536,100.0,100.0,100.0,100.0,100.0,97.9381443298969,96.90721649484536,100.0,100.0,96.90721649484536,100.0,100.0,100.0,100.0,100.0,100.0,100.0,100.0,100.0,100.0,100.0,100.0,100.0,100.0,100.0,100.0,100.0,100.0,100.0,100.0,100.0,100.0,100.0,100.0,100.0,95.87628865979381,100.0,100.0,100.0,100.0,98.96907216494846,100.0,100.0],\"type\":\"box\"},{\"boxmean\":\"sd\",\"marker\":{\"color\":\"rgba(155, 89, 182,1.0)\"},\"name\":\"R-LSSVM\",\"x\":[\"Treino R-LSSVM\",\"Treino R-LSSVM\",\"Treino R-LSSVM\",\"Treino R-LSSVM\",\"Treino R-LSSVM\",\"Treino R-LSSVM\",\"Treino R-LSSVM\",\"Treino R-LSSVM\",\"Treino R-LSSVM\",\"Treino R-LSSVM\",\"Treino R-LSSVM\",\"Treino R-LSSVM\",\"Treino R-LSSVM\",\"Treino R-LSSVM\",\"Treino R-LSSVM\",\"Treino R-LSSVM\",\"Treino R-LSSVM\",\"Treino R-LSSVM\",\"Treino R-LSSVM\",\"Treino R-LSSVM\",\"Treino R-LSSVM\",\"Treino R-LSSVM\",\"Treino R-LSSVM\",\"Treino R-LSSVM\",\"Treino R-LSSVM\",\"Treino R-LSSVM\",\"Treino R-LSSVM\",\"Treino R-LSSVM\",\"Treino R-LSSVM\",\"Treino R-LSSVM\",\"Treino R-LSSVM\",\"Treino R-LSSVM\",\"Treino R-LSSVM\",\"Treino R-LSSVM\",\"Treino R-LSSVM\",\"Treino R-LSSVM\",\"Treino R-LSSVM\",\"Treino R-LSSVM\",\"Treino R-LSSVM\",\"Treino R-LSSVM\",\"Treino R-LSSVM\",\"Treino R-LSSVM\",\"Treino R-LSSVM\",\"Treino R-LSSVM\",\"Treino R-LSSVM\",\"Treino R-LSSVM\",\"Treino R-LSSVM\",\"Treino R-LSSVM\",\"Treino R-LSSVM\",\"Treino R-LSSVM\"],\"y\":[100.0,95.87628865979381,98.96907216494846,97.9381443298969,100.0,98.96907216494846,100.0,100.0,100.0,100.0,100.0,100.0,100.0,94.84536082474226,94.84536082474226,100.0,96.90721649484536,100.0,90.72164948453609,100.0,95.87628865979381,100.0,100.0,100.0,100.0,100.0,100.0,100.0,100.0,100.0,100.0,90.72164948453609,100.0,100.0,100.0,100.0,98.96907216494846,100.0,92.78350515463917,100.0,97.9381443298969,100.0,100.0,100.0,100.0,95.87628865979381,100.0,91.75257731958763,100.0,100.0],\"type\":\"box\"},{\"boxmean\":\"sd\",\"marker\":{\"color\":\"rgba(44, 160, 101, 0.5)\"},\"name\":\"G-LSSVM\",\"x\":[\"Teste G-LSSVM\",\"Teste G-LSSVM\",\"Teste G-LSSVM\",\"Teste G-LSSVM\",\"Teste G-LSSVM\",\"Teste G-LSSVM\",\"Teste G-LSSVM\",\"Teste G-LSSVM\",\"Teste G-LSSVM\",\"Teste G-LSSVM\",\"Teste G-LSSVM\",\"Teste G-LSSVM\",\"Teste G-LSSVM\",\"Teste G-LSSVM\",\"Teste G-LSSVM\",\"Teste G-LSSVM\",\"Teste G-LSSVM\",\"Teste G-LSSVM\",\"Teste G-LSSVM\",\"Teste G-LSSVM\",\"Teste G-LSSVM\",\"Teste G-LSSVM\",\"Teste G-LSSVM\",\"Teste G-LSSVM\",\"Teste G-LSSVM\",\"Teste G-LSSVM\",\"Teste G-LSSVM\",\"Teste G-LSSVM\",\"Teste G-LSSVM\",\"Teste G-LSSVM\",\"Teste G-LSSVM\",\"Teste G-LSSVM\",\"Teste G-LSSVM\",\"Teste G-LSSVM\",\"Teste G-LSSVM\",\"Teste G-LSSVM\",\"Teste G-LSSVM\",\"Teste G-LSSVM\",\"Teste G-LSSVM\",\"Teste G-LSSVM\",\"Teste G-LSSVM\",\"Teste G-LSSVM\",\"Teste G-LSSVM\",\"Teste G-LSSVM\",\"Teste G-LSSVM\",\"Teste G-LSSVM\",\"Teste G-LSSVM\",\"Teste G-LSSVM\",\"Teste G-LSSVM\",\"Teste G-LSSVM\"],\"y\":[93.87755102040816,83.6734693877551,89.79591836734694,86.73469387755102,78.57142857142857,84.6938775510204,88.77551020408163,84.6938775510204,86.73469387755102,91.83673469387756,88.77551020408163,89.79591836734694,82.6530612244898,87.75510204081633,88.77551020408163,84.6938775510204,90.81632653061224,85.71428571428571,85.71428571428571,87.75510204081633,88.77551020408163,88.77551020408163,88.77551020408163,91.83673469387756,81.63265306122449,83.6734693877551,88.77551020408163,81.63265306122449,80.61224489795919,86.73469387755102,90.81632653061224,81.63265306122449,86.73469387755102,90.81632653061224,84.6938775510204,90.81632653061224,84.6938775510204,86.73469387755102,81.63265306122449,90.81632653061224,84.6938775510204,87.75510204081633,89.79591836734694,92.85714285714286,88.77551020408163,90.81632653061224,77.55102040816327,89.79591836734694,91.83673469387756,84.6938775510204],\"type\":\"box\"},{\"boxmean\":\"sd\",\"marker\":{\"color\":\"rgba(93, 164, 214, 0.5)\"},\"name\":\"L-LSSVM\",\"x\":[\"Teste L-LSSVM\",\"Teste L-LSSVM\",\"Teste L-LSSVM\",\"Teste L-LSSVM\",\"Teste L-LSSVM\",\"Teste L-LSSVM\",\"Teste L-LSSVM\",\"Teste L-LSSVM\",\"Teste L-LSSVM\",\"Teste L-LSSVM\",\"Teste L-LSSVM\",\"Teste L-LSSVM\",\"Teste L-LSSVM\",\"Teste L-LSSVM\",\"Teste L-LSSVM\",\"Teste L-LSSVM\",\"Teste L-LSSVM\",\"Teste L-LSSVM\",\"Teste L-LSSVM\",\"Teste L-LSSVM\",\"Teste L-LSSVM\",\"Teste L-LSSVM\",\"Teste L-LSSVM\",\"Teste L-LSSVM\",\"Teste L-LSSVM\",\"Teste L-LSSVM\",\"Teste L-LSSVM\",\"Teste L-LSSVM\",\"Teste L-LSSVM\",\"Teste L-LSSVM\",\"Teste L-LSSVM\",\"Teste L-LSSVM\",\"Teste L-LSSVM\",\"Teste L-LSSVM\",\"Teste L-LSSVM\",\"Teste L-LSSVM\",\"Teste L-LSSVM\",\"Teste L-LSSVM\",\"Teste L-LSSVM\",\"Teste L-LSSVM\",\"Teste L-LSSVM\",\"Teste L-LSSVM\",\"Teste L-LSSVM\",\"Teste L-LSSVM\",\"Teste L-LSSVM\",\"Teste L-LSSVM\",\"Teste L-LSSVM\",\"Teste L-LSSVM\",\"Teste L-LSSVM\",\"Teste L-LSSVM\"],\"y\":[92.85714285714286,83.6734693877551,91.83673469387756,92.85714285714286,84.6938775510204,82.6530612244898,91.83673469387756,84.6938775510204,86.73469387755102,94.89795918367348,89.79591836734694,87.75510204081633,79.59183673469387,92.85714285714286,87.75510204081633,90.81632653061224,91.83673469387756,87.75510204081633,88.77551020408163,91.83673469387756,92.85714285714286,92.85714285714286,88.77551020408163,92.85714285714286,89.79591836734694,96.93877551020408,92.85714285714286,89.79591836734694,84.6938775510204,89.79591836734694,94.89795918367348,91.83673469387756,89.79591836734694,93.87755102040816,85.71428571428571,90.81632653061224,86.73469387755102,88.77551020408163,88.77551020408163,85.71428571428571,83.6734693877551,94.89795918367348,81.63265306122449,91.83673469387756,90.81632653061224,91.83673469387756,77.55102040816327,88.77551020408163,91.83673469387756,88.77551020408163],\"type\":\"box\"},{\"boxmean\":\"sd\",\"marker\":{\"color\":\"rgba(155, 89, 182,1.0)\"},\"name\":\"R-LSSVM\",\"x\":[\"Teste R-LSSVM\",\"Teste R-LSSVM\",\"Teste R-LSSVM\",\"Teste R-LSSVM\",\"Teste R-LSSVM\",\"Teste R-LSSVM\",\"Teste R-LSSVM\",\"Teste R-LSSVM\",\"Teste R-LSSVM\",\"Teste R-LSSVM\",\"Teste R-LSSVM\",\"Teste R-LSSVM\",\"Teste R-LSSVM\",\"Teste R-LSSVM\",\"Teste R-LSSVM\",\"Teste R-LSSVM\",\"Teste R-LSSVM\",\"Teste R-LSSVM\",\"Teste R-LSSVM\",\"Teste R-LSSVM\",\"Teste R-LSSVM\",\"Teste R-LSSVM\",\"Teste R-LSSVM\",\"Teste R-LSSVM\",\"Teste R-LSSVM\",\"Teste R-LSSVM\",\"Teste R-LSSVM\",\"Teste R-LSSVM\",\"Teste R-LSSVM\",\"Teste R-LSSVM\",\"Teste R-LSSVM\",\"Teste R-LSSVM\",\"Teste R-LSSVM\",\"Teste R-LSSVM\",\"Teste R-LSSVM\",\"Teste R-LSSVM\",\"Teste R-LSSVM\",\"Teste R-LSSVM\",\"Teste R-LSSVM\",\"Teste R-LSSVM\",\"Teste R-LSSVM\",\"Teste R-LSSVM\",\"Teste R-LSSVM\",\"Teste R-LSSVM\",\"Teste R-LSSVM\",\"Teste R-LSSVM\",\"Teste R-LSSVM\",\"Teste R-LSSVM\",\"Teste R-LSSVM\",\"Teste R-LSSVM\"],\"y\":[94.89795918367348,87.75510204081633,89.79591836734694,93.87755102040816,81.63265306122449,85.71428571428571,89.79591836734694,83.6734693877551,85.71428571428571,87.75510204081633,90.81632653061224,88.77551020408163,86.73469387755102,86.73469387755102,87.75510204081633,91.83673469387756,91.83673469387756,89.79591836734694,85.71428571428571,88.77551020408163,88.77551020408163,84.6938775510204,88.77551020408163,90.81632653061224,80.61224489795919,88.77551020408163,88.77551020408163,93.87755102040816,85.71428571428571,91.83673469387756,94.89795918367348,89.79591836734694,87.75510204081633,90.81632653061224,91.83673469387756,92.85714285714286,93.87755102040816,86.73469387755102,83.6734693877551,86.73469387755102,83.6734693877551,86.73469387755102,90.81632653061224,94.89795918367348,90.81632653061224,89.79591836734694,77.55102040816327,84.6938775510204,88.77551020408163,86.73469387755102],\"type\":\"box\"},{\"line\":{\"color\":\"RoyalBlue\",\"dash\":\"dashdot\",\"width\":2},\"mode\":\"lines+markers\",\"showlegend\":false,\"x\":[\"Treino G-LSSVM\",\"Treino L-LSSVM\",\"Treino R-LSSVM\",\"Treino G-LSSVM\"],\"y\":[97.34020618556703,99.58762886597938,98.659793814433,97.34020618556703],\"type\":\"scatter\"},{\"line\":{\"color\":\"RoyalBlue\",\"dash\":\"dashdot\",\"width\":2},\"mode\":\"lines+markers\",\"showlegend\":false,\"x\":[\"Teste G-LSSVM\",\"Teste L-LSSVM\",\"Teste R-LSSVM\",\"Teste G-LSSVM\"],\"y\":[87.02040816326532,89.30612244897961,88.51020408163265,87.02040816326532],\"type\":\"scatter\"}],                        {\"legend\":{\"x\":0.875,\"y\":1},\"showlegend\":false,\"yaxis\":{\"title\":{\"text\":\"Acur\\u00e1cia (%)\"}},\"template\":{\"data\":{\"bar\":[{\"error_x\":{\"color\":\"#2a3f5f\"},\"error_y\":{\"color\":\"#2a3f5f\"},\"marker\":{\"line\":{\"color\":\"#E5ECF6\",\"width\":0.5},\"pattern\":{\"fillmode\":\"overlay\",\"size\":10,\"solidity\":0.2}},\"type\":\"bar\"}],\"barpolar\":[{\"marker\":{\"line\":{\"color\":\"#E5ECF6\",\"width\":0.5},\"pattern\":{\"fillmode\":\"overlay\",\"size\":10,\"solidity\":0.2}},\"type\":\"barpolar\"}],\"carpet\":[{\"aaxis\":{\"endlinecolor\":\"#2a3f5f\",\"gridcolor\":\"white\",\"linecolor\":\"white\",\"minorgridcolor\":\"white\",\"startlinecolor\":\"#2a3f5f\"},\"baxis\":{\"endlinecolor\":\"#2a3f5f\",\"gridcolor\":\"white\",\"linecolor\":\"white\",\"minorgridcolor\":\"white\",\"startlinecolor\":\"#2a3f5f\"},\"type\":\"carpet\"}],\"choropleth\":[{\"colorbar\":{\"outlinewidth\":0,\"ticks\":\"\"},\"type\":\"choropleth\"}],\"contour\":[{\"colorbar\":{\"outlinewidth\":0,\"ticks\":\"\"},\"colorscale\":[[0.0,\"#0d0887\"],[0.1111111111111111,\"#46039f\"],[0.2222222222222222,\"#7201a8\"],[0.3333333333333333,\"#9c179e\"],[0.4444444444444444,\"#bd3786\"],[0.5555555555555556,\"#d8576b\"],[0.6666666666666666,\"#ed7953\"],[0.7777777777777778,\"#fb9f3a\"],[0.8888888888888888,\"#fdca26\"],[1.0,\"#f0f921\"]],\"type\":\"contour\"}],\"contourcarpet\":[{\"colorbar\":{\"outlinewidth\":0,\"ticks\":\"\"},\"type\":\"contourcarpet\"}],\"heatmap\":[{\"colorbar\":{\"outlinewidth\":0,\"ticks\":\"\"},\"colorscale\":[[0.0,\"#0d0887\"],[0.1111111111111111,\"#46039f\"],[0.2222222222222222,\"#7201a8\"],[0.3333333333333333,\"#9c179e\"],[0.4444444444444444,\"#bd3786\"],[0.5555555555555556,\"#d8576b\"],[0.6666666666666666,\"#ed7953\"],[0.7777777777777778,\"#fb9f3a\"],[0.8888888888888888,\"#fdca26\"],[1.0,\"#f0f921\"]],\"type\":\"heatmap\"}],\"heatmapgl\":[{\"colorbar\":{\"outlinewidth\":0,\"ticks\":\"\"},\"colorscale\":[[0.0,\"#0d0887\"],[0.1111111111111111,\"#46039f\"],[0.2222222222222222,\"#7201a8\"],[0.3333333333333333,\"#9c179e\"],[0.4444444444444444,\"#bd3786\"],[0.5555555555555556,\"#d8576b\"],[0.6666666666666666,\"#ed7953\"],[0.7777777777777778,\"#fb9f3a\"],[0.8888888888888888,\"#fdca26\"],[1.0,\"#f0f921\"]],\"type\":\"heatmapgl\"}],\"histogram\":[{\"marker\":{\"pattern\":{\"fillmode\":\"overlay\",\"size\":10,\"solidity\":0.2}},\"type\":\"histogram\"}],\"histogram2d\":[{\"colorbar\":{\"outlinewidth\":0,\"ticks\":\"\"},\"colorscale\":[[0.0,\"#0d0887\"],[0.1111111111111111,\"#46039f\"],[0.2222222222222222,\"#7201a8\"],[0.3333333333333333,\"#9c179e\"],[0.4444444444444444,\"#bd3786\"],[0.5555555555555556,\"#d8576b\"],[0.6666666666666666,\"#ed7953\"],[0.7777777777777778,\"#fb9f3a\"],[0.8888888888888888,\"#fdca26\"],[1.0,\"#f0f921\"]],\"type\":\"histogram2d\"}],\"histogram2dcontour\":[{\"colorbar\":{\"outlinewidth\":0,\"ticks\":\"\"},\"colorscale\":[[0.0,\"#0d0887\"],[0.1111111111111111,\"#46039f\"],[0.2222222222222222,\"#7201a8\"],[0.3333333333333333,\"#9c179e\"],[0.4444444444444444,\"#bd3786\"],[0.5555555555555556,\"#d8576b\"],[0.6666666666666666,\"#ed7953\"],[0.7777777777777778,\"#fb9f3a\"],[0.8888888888888888,\"#fdca26\"],[1.0,\"#f0f921\"]],\"type\":\"histogram2dcontour\"}],\"mesh3d\":[{\"colorbar\":{\"outlinewidth\":0,\"ticks\":\"\"},\"type\":\"mesh3d\"}],\"parcoords\":[{\"line\":{\"colorbar\":{\"outlinewidth\":0,\"ticks\":\"\"}},\"type\":\"parcoords\"}],\"pie\":[{\"automargin\":true,\"type\":\"pie\"}],\"scatter\":[{\"marker\":{\"colorbar\":{\"outlinewidth\":0,\"ticks\":\"\"}},\"type\":\"scatter\"}],\"scatter3d\":[{\"line\":{\"colorbar\":{\"outlinewidth\":0,\"ticks\":\"\"}},\"marker\":{\"colorbar\":{\"outlinewidth\":0,\"ticks\":\"\"}},\"type\":\"scatter3d\"}],\"scattercarpet\":[{\"marker\":{\"colorbar\":{\"outlinewidth\":0,\"ticks\":\"\"}},\"type\":\"scattercarpet\"}],\"scattergeo\":[{\"marker\":{\"colorbar\":{\"outlinewidth\":0,\"ticks\":\"\"}},\"type\":\"scattergeo\"}],\"scattergl\":[{\"marker\":{\"colorbar\":{\"outlinewidth\":0,\"ticks\":\"\"}},\"type\":\"scattergl\"}],\"scattermapbox\":[{\"marker\":{\"colorbar\":{\"outlinewidth\":0,\"ticks\":\"\"}},\"type\":\"scattermapbox\"}],\"scatterpolar\":[{\"marker\":{\"colorbar\":{\"outlinewidth\":0,\"ticks\":\"\"}},\"type\":\"scatterpolar\"}],\"scatterpolargl\":[{\"marker\":{\"colorbar\":{\"outlinewidth\":0,\"ticks\":\"\"}},\"type\":\"scatterpolargl\"}],\"scatterternary\":[{\"marker\":{\"colorbar\":{\"outlinewidth\":0,\"ticks\":\"\"}},\"type\":\"scatterternary\"}],\"surface\":[{\"colorbar\":{\"outlinewidth\":0,\"ticks\":\"\"},\"colorscale\":[[0.0,\"#0d0887\"],[0.1111111111111111,\"#46039f\"],[0.2222222222222222,\"#7201a8\"],[0.3333333333333333,\"#9c179e\"],[0.4444444444444444,\"#bd3786\"],[0.5555555555555556,\"#d8576b\"],[0.6666666666666666,\"#ed7953\"],[0.7777777777777778,\"#fb9f3a\"],[0.8888888888888888,\"#fdca26\"],[1.0,\"#f0f921\"]],\"type\":\"surface\"}],\"table\":[{\"cells\":{\"fill\":{\"color\":\"#EBF0F8\"},\"line\":{\"color\":\"white\"}},\"header\":{\"fill\":{\"color\":\"#C8D4E3\"},\"line\":{\"color\":\"white\"}},\"type\":\"table\"}]},\"layout\":{\"annotationdefaults\":{\"arrowcolor\":\"#2a3f5f\",\"arrowhead\":0,\"arrowwidth\":1},\"autotypenumbers\":\"strict\",\"coloraxis\":{\"colorbar\":{\"outlinewidth\":0,\"ticks\":\"\"}},\"colorscale\":{\"diverging\":[[0,\"#8e0152\"],[0.1,\"#c51b7d\"],[0.2,\"#de77ae\"],[0.3,\"#f1b6da\"],[0.4,\"#fde0ef\"],[0.5,\"#f7f7f7\"],[0.6,\"#e6f5d0\"],[0.7,\"#b8e186\"],[0.8,\"#7fbc41\"],[0.9,\"#4d9221\"],[1,\"#276419\"]],\"sequential\":[[0.0,\"#0d0887\"],[0.1111111111111111,\"#46039f\"],[0.2222222222222222,\"#7201a8\"],[0.3333333333333333,\"#9c179e\"],[0.4444444444444444,\"#bd3786\"],[0.5555555555555556,\"#d8576b\"],[0.6666666666666666,\"#ed7953\"],[0.7777777777777778,\"#fb9f3a\"],[0.8888888888888888,\"#fdca26\"],[1.0,\"#f0f921\"]],\"sequentialminus\":[[0.0,\"#0d0887\"],[0.1111111111111111,\"#46039f\"],[0.2222222222222222,\"#7201a8\"],[0.3333333333333333,\"#9c179e\"],[0.4444444444444444,\"#bd3786\"],[0.5555555555555556,\"#d8576b\"],[0.6666666666666666,\"#ed7953\"],[0.7777777777777778,\"#fb9f3a\"],[0.8888888888888888,\"#fdca26\"],[1.0,\"#f0f921\"]]},\"colorway\":[\"#636efa\",\"#EF553B\",\"#00cc96\",\"#ab63fa\",\"#FFA15A\",\"#19d3f3\",\"#FF6692\",\"#B6E880\",\"#FF97FF\",\"#FECB52\"],\"font\":{\"color\":\"#2a3f5f\"},\"geo\":{\"bgcolor\":\"white\",\"lakecolor\":\"white\",\"landcolor\":\"#E5ECF6\",\"showlakes\":true,\"showland\":true,\"subunitcolor\":\"white\"},\"hoverlabel\":{\"align\":\"left\"},\"hovermode\":\"closest\",\"mapbox\":{\"style\":\"light\"},\"paper_bgcolor\":\"white\",\"plot_bgcolor\":\"#E5ECF6\",\"polar\":{\"angularaxis\":{\"gridcolor\":\"white\",\"linecolor\":\"white\",\"ticks\":\"\"},\"bgcolor\":\"#E5ECF6\",\"radialaxis\":{\"gridcolor\":\"white\",\"linecolor\":\"white\",\"ticks\":\"\"}},\"scene\":{\"xaxis\":{\"backgroundcolor\":\"#E5ECF6\",\"gridcolor\":\"white\",\"gridwidth\":2,\"linecolor\":\"white\",\"showbackground\":true,\"ticks\":\"\",\"zerolinecolor\":\"white\"},\"yaxis\":{\"backgroundcolor\":\"#E5ECF6\",\"gridcolor\":\"white\",\"gridwidth\":2,\"linecolor\":\"white\",\"showbackground\":true,\"ticks\":\"\",\"zerolinecolor\":\"white\"},\"zaxis\":{\"backgroundcolor\":\"#E5ECF6\",\"gridcolor\":\"white\",\"gridwidth\":2,\"linecolor\":\"white\",\"showbackground\":true,\"ticks\":\"\",\"zerolinecolor\":\"white\"}},\"shapedefaults\":{\"line\":{\"color\":\"#2a3f5f\"}},\"ternary\":{\"aaxis\":{\"gridcolor\":\"white\",\"linecolor\":\"white\",\"ticks\":\"\"},\"baxis\":{\"gridcolor\":\"white\",\"linecolor\":\"white\",\"ticks\":\"\"},\"bgcolor\":\"#E5ECF6\",\"caxis\":{\"gridcolor\":\"white\",\"linecolor\":\"white\",\"ticks\":\"\"}},\"title\":{\"x\":0.05},\"xaxis\":{\"automargin\":true,\"gridcolor\":\"white\",\"linecolor\":\"white\",\"ticks\":\"\",\"title\":{\"standoff\":15},\"zerolinecolor\":\"white\",\"zerolinewidth\":2},\"yaxis\":{\"automargin\":true,\"gridcolor\":\"white\",\"linecolor\":\"white\",\"ticks\":\"\",\"title\":{\"standoff\":15},\"zerolinecolor\":\"white\",\"zerolinewidth\":2}}},\"margin\":{\"l\":20,\"r\":5,\"t\":5,\"b\":20}},                        {\"responsive\": true}                    ).then(function(){\n",
       "                            \n",
       "var gd = document.getElementById('366aab24-d480-4d33-be6d-539f207e8603');\n",
       "var x = new MutationObserver(function (mutations, observer) {{\n",
       "        var display = window.getComputedStyle(gd).display;\n",
       "        if (!display || display === 'none') {{\n",
       "            console.log([gd, 'removed!']);\n",
       "            Plotly.purge(gd);\n",
       "            observer.disconnect();\n",
       "        }}\n",
       "}});\n",
       "\n",
       "// Listen for the removal of the full notebook cells\n",
       "var notebookContainer = gd.closest('#notebook-container');\n",
       "if (notebookContainer) {{\n",
       "    x.observe(notebookContainer, {childList: true});\n",
       "}}\n",
       "\n",
       "// Listen for the clearing of the current output cell\n",
       "var outputEl = gd.closest('.output');\n",
       "if (outputEl) {{\n",
       "    x.observe(outputEl, {childList: true});\n",
       "}}\n",
       "\n",
       "                        })                };                });            </script>        </div>"
      ]
     },
     "metadata": {},
     "output_type": "display_data"
    },
    {
     "data": {
      "text/html": [
       "<hr>"
      ],
      "text/plain": [
       "<IPython.core.display.HTML object>"
      ]
     },
     "metadata": {},
     "output_type": "display_data"
    },
    {
     "data": {
      "text/html": [
       "<center><h1>vc2c</h1></center>"
      ],
      "text/plain": [
       "<IPython.core.display.HTML object>"
      ]
     },
     "metadata": {},
     "output_type": "display_data"
    },
    {
     "data": {
      "application/vnd.plotly.v1+json": {
       "config": {
        "plotlyServerURL": "https://plotly.com"
       },
       "data": [
        {
         "boxmean": "sd",
         "marker": {
          "color": "rgba(44, 160, 101, 0.5)"
         },
         "name": "G-LSSVM",
         "type": "box",
         "x": [
          "Treino G-LSSVM",
          "Treino G-LSSVM",
          "Treino G-LSSVM",
          "Treino G-LSSVM",
          "Treino G-LSSVM",
          "Treino G-LSSVM",
          "Treino G-LSSVM",
          "Treino G-LSSVM",
          "Treino G-LSSVM",
          "Treino G-LSSVM",
          "Treino G-LSSVM",
          "Treino G-LSSVM",
          "Treino G-LSSVM",
          "Treino G-LSSVM",
          "Treino G-LSSVM",
          "Treino G-LSSVM",
          "Treino G-LSSVM",
          "Treino G-LSSVM",
          "Treino G-LSSVM",
          "Treino G-LSSVM",
          "Treino G-LSSVM",
          "Treino G-LSSVM",
          "Treino G-LSSVM",
          "Treino G-LSSVM",
          "Treino G-LSSVM",
          "Treino G-LSSVM",
          "Treino G-LSSVM",
          "Treino G-LSSVM",
          "Treino G-LSSVM",
          "Treino G-LSSVM",
          "Treino G-LSSVM",
          "Treino G-LSSVM",
          "Treino G-LSSVM",
          "Treino G-LSSVM",
          "Treino G-LSSVM",
          "Treino G-LSSVM",
          "Treino G-LSSVM",
          "Treino G-LSSVM",
          "Treino G-LSSVM",
          "Treino G-LSSVM",
          "Treino G-LSSVM",
          "Treino G-LSSVM",
          "Treino G-LSSVM",
          "Treino G-LSSVM",
          "Treino G-LSSVM",
          "Treino G-LSSVM",
          "Treino G-LSSVM",
          "Treino G-LSSVM",
          "Treino G-LSSVM",
          "Treino G-LSSVM"
         ],
         "y": [
          98.70967741935483,
          87.09677419354838,
          85.16129032258064,
          87.74193548387098,
          89.6774193548387,
          89.03225806451613,
          85.16129032258064,
          90.32258064516128,
          86.45161290322581,
          85.80645161290322,
          90.96774193548387,
          87.09677419354838,
          87.74193548387098,
          86.45161290322581,
          88.38709677419355,
          81.93548387096774,
          98.70967741935483,
          87.74193548387098,
          89.03225806451613,
          89.6774193548387,
          94.19354838709677,
          87.74193548387098,
          87.74193548387098,
          91.61290322580645,
          96.12903225806451,
          85.16129032258064,
          90.32258064516128,
          89.03225806451613,
          93.54838709677419,
          90.32258064516128,
          87.74193548387098,
          91.61290322580645,
          97.41935483870968,
          89.6774193548387,
          88.38709677419355,
          87.09677419354838,
          89.6774193548387,
          88.38709677419355,
          90.32258064516128,
          90.96774193548387,
          89.6774193548387,
          92.25806451612904,
          93.54838709677419,
          86.45161290322581,
          83.22580645161291,
          85.16129032258064,
          87.74193548387098,
          87.74193548387098,
          90.96774193548387,
          89.03225806451613
         ]
        },
        {
         "boxmean": "sd",
         "marker": {
          "color": "rgba(93, 164, 214, 0.5)"
         },
         "name": "L-LSSVM",
         "type": "box",
         "x": [
          "Treino L-LSSVM",
          "Treino L-LSSVM",
          "Treino L-LSSVM",
          "Treino L-LSSVM",
          "Treino L-LSSVM",
          "Treino L-LSSVM",
          "Treino L-LSSVM",
          "Treino L-LSSVM",
          "Treino L-LSSVM",
          "Treino L-LSSVM",
          "Treino L-LSSVM",
          "Treino L-LSSVM",
          "Treino L-LSSVM",
          "Treino L-LSSVM",
          "Treino L-LSSVM",
          "Treino L-LSSVM",
          "Treino L-LSSVM",
          "Treino L-LSSVM",
          "Treino L-LSSVM",
          "Treino L-LSSVM",
          "Treino L-LSSVM",
          "Treino L-LSSVM",
          "Treino L-LSSVM",
          "Treino L-LSSVM",
          "Treino L-LSSVM",
          "Treino L-LSSVM",
          "Treino L-LSSVM",
          "Treino L-LSSVM",
          "Treino L-LSSVM",
          "Treino L-LSSVM",
          "Treino L-LSSVM",
          "Treino L-LSSVM",
          "Treino L-LSSVM",
          "Treino L-LSSVM",
          "Treino L-LSSVM",
          "Treino L-LSSVM",
          "Treino L-LSSVM",
          "Treino L-LSSVM",
          "Treino L-LSSVM",
          "Treino L-LSSVM",
          "Treino L-LSSVM",
          "Treino L-LSSVM",
          "Treino L-LSSVM",
          "Treino L-LSSVM",
          "Treino L-LSSVM",
          "Treino L-LSSVM",
          "Treino L-LSSVM",
          "Treino L-LSSVM",
          "Treino L-LSSVM",
          "Treino L-LSSVM"
         ],
         "y": [
          88.38709677419355,
          90.96774193548387,
          85.16129032258064,
          81.29032258064515,
          89.6774193548387,
          78.70967741935485,
          87.74193548387098,
          91.61290322580645,
          88.38709677419355,
          87.09677419354838,
          85.80645161290322,
          87.74193548387098,
          90.32258064516128,
          89.6774193548387,
          87.09677419354838,
          81.93548387096774,
          100,
          88.38709677419355,
          90.96774193548387,
          88.38709677419355,
          92.25806451612904,
          88.38709677419355,
          89.03225806451613,
          93.54838709677419,
          96.7741935483871,
          86.45161290322581,
          90.96774193548387,
          91.61290322580645,
          94.19354838709677,
          91.61290322580645,
          85.16129032258064,
          90.32258064516128,
          90.32258064516128,
          85.80645161290322,
          88.38709677419355,
          86.45161290322581,
          90.32258064516128,
          85.80645161290322,
          89.03225806451613,
          87.09677419354838,
          87.74193548387098,
          85.16129032258064,
          89.6774193548387,
          91.61290322580645,
          89.6774193548387,
          90.32258064516128,
          89.03225806451613,
          94.19354838709677,
          85.16129032258064,
          92.90322580645162
         ]
        },
        {
         "boxmean": "sd",
         "marker": {
          "color": "rgba(155, 89, 182,1.0)"
         },
         "name": "R-LSSVM",
         "type": "box",
         "x": [
          "Treino R-LSSVM",
          "Treino R-LSSVM",
          "Treino R-LSSVM",
          "Treino R-LSSVM",
          "Treino R-LSSVM",
          "Treino R-LSSVM",
          "Treino R-LSSVM",
          "Treino R-LSSVM",
          "Treino R-LSSVM",
          "Treino R-LSSVM",
          "Treino R-LSSVM",
          "Treino R-LSSVM",
          "Treino R-LSSVM",
          "Treino R-LSSVM",
          "Treino R-LSSVM",
          "Treino R-LSSVM",
          "Treino R-LSSVM",
          "Treino R-LSSVM",
          "Treino R-LSSVM",
          "Treino R-LSSVM",
          "Treino R-LSSVM",
          "Treino R-LSSVM",
          "Treino R-LSSVM",
          "Treino R-LSSVM",
          "Treino R-LSSVM",
          "Treino R-LSSVM",
          "Treino R-LSSVM",
          "Treino R-LSSVM",
          "Treino R-LSSVM",
          "Treino R-LSSVM",
          "Treino R-LSSVM",
          "Treino R-LSSVM",
          "Treino R-LSSVM",
          "Treino R-LSSVM",
          "Treino R-LSSVM",
          "Treino R-LSSVM",
          "Treino R-LSSVM",
          "Treino R-LSSVM",
          "Treino R-LSSVM",
          "Treino R-LSSVM",
          "Treino R-LSSVM",
          "Treino R-LSSVM",
          "Treino R-LSSVM",
          "Treino R-LSSVM",
          "Treino R-LSSVM",
          "Treino R-LSSVM",
          "Treino R-LSSVM",
          "Treino R-LSSVM",
          "Treino R-LSSVM",
          "Treino R-LSSVM"
         ],
         "y": [
          98.70967741935483,
          85.16129032258064,
          87.09677419354838,
          84.51612903225806,
          84.51612903225806,
          73.54838709677419,
          87.74193548387098,
          89.6774193548387,
          88.38709677419355,
          88.38709677419355,
          90.32258064516128,
          88.38709677419355,
          87.74193548387098,
          85.80645161290322,
          85.80645161290322,
          83.22580645161291,
          94.83870967741936,
          87.74193548387098,
          89.03225806451613,
          85.16129032258064,
          93.54838709677419,
          89.03225806451613,
          87.09677419354838,
          89.03225806451613,
          98.70967741935483,
          86.45161290322581,
          87.09677419354838,
          89.03225806451613,
          94.19354838709677,
          91.61290322580645,
          83.87096774193549,
          90.32258064516128,
          93.54838709677419,
          85.80645161290322,
          91.61290322580645,
          86.45161290322581,
          93.54838709677419,
          89.03225806451613,
          92.90322580645162,
          90.32258064516128,
          86.45161290322581,
          90.32258064516128,
          93.54838709677419,
          90.96774193548387,
          78.70967741935485,
          88.38709677419355,
          87.74193548387098,
          92.90322580645162,
          91.61290322580645,
          90.96774193548387
         ]
        },
        {
         "boxmean": "sd",
         "marker": {
          "color": "rgba(44, 160, 101, 0.5)"
         },
         "name": "G-LSSVM",
         "type": "box",
         "x": [
          "Teste G-LSSVM",
          "Teste G-LSSVM",
          "Teste G-LSSVM",
          "Teste G-LSSVM",
          "Teste G-LSSVM",
          "Teste G-LSSVM",
          "Teste G-LSSVM",
          "Teste G-LSSVM",
          "Teste G-LSSVM",
          "Teste G-LSSVM",
          "Teste G-LSSVM",
          "Teste G-LSSVM",
          "Teste G-LSSVM",
          "Teste G-LSSVM",
          "Teste G-LSSVM",
          "Teste G-LSSVM",
          "Teste G-LSSVM",
          "Teste G-LSSVM",
          "Teste G-LSSVM",
          "Teste G-LSSVM",
          "Teste G-LSSVM",
          "Teste G-LSSVM",
          "Teste G-LSSVM",
          "Teste G-LSSVM",
          "Teste G-LSSVM",
          "Teste G-LSSVM",
          "Teste G-LSSVM",
          "Teste G-LSSVM",
          "Teste G-LSSVM",
          "Teste G-LSSVM",
          "Teste G-LSSVM",
          "Teste G-LSSVM",
          "Teste G-LSSVM",
          "Teste G-LSSVM",
          "Teste G-LSSVM",
          "Teste G-LSSVM",
          "Teste G-LSSVM",
          "Teste G-LSSVM",
          "Teste G-LSSVM",
          "Teste G-LSSVM",
          "Teste G-LSSVM",
          "Teste G-LSSVM",
          "Teste G-LSSVM",
          "Teste G-LSSVM",
          "Teste G-LSSVM",
          "Teste G-LSSVM",
          "Teste G-LSSVM",
          "Teste G-LSSVM",
          "Teste G-LSSVM",
          "Teste G-LSSVM"
         ],
         "y": [
          80,
          84.51612903225806,
          78.70967741935485,
          87.74193548387098,
          83.87096774193549,
          85.80645161290322,
          83.22580645161291,
          81.29032258064515,
          82.58064516129032,
          80,
          78.70967741935485,
          85.16129032258064,
          81.93548387096774,
          87.09677419354838,
          83.87096774193549,
          80,
          81.29032258064515,
          82.58064516129032,
          84.51612903225806,
          85.80645161290322,
          83.87096774193549,
          86.45161290322581,
          83.22580645161291,
          83.87096774193549,
          78.70967741935485,
          85.16129032258064,
          82.58064516129032,
          80,
          83.22580645161291,
          87.09677419354838,
          89.03225806451613,
          79.35483870967742,
          78.70967741935485,
          83.22580645161291,
          85.16129032258064,
          83.87096774193549,
          81.29032258064515,
          81.29032258064515,
          83.22580645161291,
          83.87096774193549,
          81.29032258064515,
          84.51612903225806,
          80,
          80,
          77.41935483870968,
          85.80645161290322,
          86.45161290322581,
          85.80645161290322,
          82.58064516129032,
          83.22580645161291
         ]
        },
        {
         "boxmean": "sd",
         "marker": {
          "color": "rgba(93, 164, 214, 0.5)"
         },
         "name": "L-LSSVM",
         "type": "box",
         "x": [
          "Teste L-LSSVM",
          "Teste L-LSSVM",
          "Teste L-LSSVM",
          "Teste L-LSSVM",
          "Teste L-LSSVM",
          "Teste L-LSSVM",
          "Teste L-LSSVM",
          "Teste L-LSSVM",
          "Teste L-LSSVM",
          "Teste L-LSSVM",
          "Teste L-LSSVM",
          "Teste L-LSSVM",
          "Teste L-LSSVM",
          "Teste L-LSSVM",
          "Teste L-LSSVM",
          "Teste L-LSSVM",
          "Teste L-LSSVM",
          "Teste L-LSSVM",
          "Teste L-LSSVM",
          "Teste L-LSSVM",
          "Teste L-LSSVM",
          "Teste L-LSSVM",
          "Teste L-LSSVM",
          "Teste L-LSSVM",
          "Teste L-LSSVM",
          "Teste L-LSSVM",
          "Teste L-LSSVM",
          "Teste L-LSSVM",
          "Teste L-LSSVM",
          "Teste L-LSSVM",
          "Teste L-LSSVM",
          "Teste L-LSSVM",
          "Teste L-LSSVM",
          "Teste L-LSSVM",
          "Teste L-LSSVM",
          "Teste L-LSSVM",
          "Teste L-LSSVM",
          "Teste L-LSSVM",
          "Teste L-LSSVM",
          "Teste L-LSSVM",
          "Teste L-LSSVM",
          "Teste L-LSSVM",
          "Teste L-LSSVM",
          "Teste L-LSSVM",
          "Teste L-LSSVM",
          "Teste L-LSSVM",
          "Teste L-LSSVM",
          "Teste L-LSSVM",
          "Teste L-LSSVM",
          "Teste L-LSSVM"
         ],
         "y": [
          84.51612903225806,
          84.51612903225806,
          76.77419354838709,
          84.51612903225806,
          82.58064516129032,
          74.83870967741936,
          81.93548387096774,
          78.70967741935485,
          83.22580645161291,
          86.45161290322581,
          81.93548387096774,
          82.58064516129032,
          83.22580645161291,
          83.22580645161291,
          87.74193548387098,
          75.48387096774194,
          80,
          81.29032258064515,
          81.93548387096774,
          83.87096774193549,
          84.51612903225806,
          87.09677419354838,
          81.93548387096774,
          78.70967741935485,
          76.77419354838709,
          82.58064516129032,
          80.64516129032258,
          82.58064516129032,
          81.93548387096774,
          86.45161290322581,
          83.87096774193549,
          77.41935483870968,
          83.22580645161291,
          83.22580645161291,
          85.16129032258064,
          83.22580645161291,
          80,
          85.16129032258064,
          83.87096774193549,
          80,
          81.29032258064515,
          81.93548387096774,
          80.64516129032258,
          81.29032258064515,
          84.51612903225806,
          81.93548387096774,
          81.29032258064515,
          82.58064516129032,
          83.22580645161291,
          80.64516129032258
         ]
        },
        {
         "boxmean": "sd",
         "marker": {
          "color": "rgba(155, 89, 182,1.0)"
         },
         "name": "R-LSSVM",
         "type": "box",
         "x": [
          "Teste R-LSSVM",
          "Teste R-LSSVM",
          "Teste R-LSSVM",
          "Teste R-LSSVM",
          "Teste R-LSSVM",
          "Teste R-LSSVM",
          "Teste R-LSSVM",
          "Teste R-LSSVM",
          "Teste R-LSSVM",
          "Teste R-LSSVM",
          "Teste R-LSSVM",
          "Teste R-LSSVM",
          "Teste R-LSSVM",
          "Teste R-LSSVM",
          "Teste R-LSSVM",
          "Teste R-LSSVM",
          "Teste R-LSSVM",
          "Teste R-LSSVM",
          "Teste R-LSSVM",
          "Teste R-LSSVM",
          "Teste R-LSSVM",
          "Teste R-LSSVM",
          "Teste R-LSSVM",
          "Teste R-LSSVM",
          "Teste R-LSSVM",
          "Teste R-LSSVM",
          "Teste R-LSSVM",
          "Teste R-LSSVM",
          "Teste R-LSSVM",
          "Teste R-LSSVM",
          "Teste R-LSSVM",
          "Teste R-LSSVM",
          "Teste R-LSSVM",
          "Teste R-LSSVM",
          "Teste R-LSSVM",
          "Teste R-LSSVM",
          "Teste R-LSSVM",
          "Teste R-LSSVM",
          "Teste R-LSSVM",
          "Teste R-LSSVM",
          "Teste R-LSSVM",
          "Teste R-LSSVM",
          "Teste R-LSSVM",
          "Teste R-LSSVM",
          "Teste R-LSSVM",
          "Teste R-LSSVM",
          "Teste R-LSSVM",
          "Teste R-LSSVM",
          "Teste R-LSSVM",
          "Teste R-LSSVM"
         ],
         "y": [
          80,
          85.16129032258064,
          81.93548387096774,
          87.09677419354838,
          86.45161290322581,
          71.61290322580646,
          83.22580645161291,
          79.35483870967742,
          81.93548387096774,
          84.51612903225806,
          83.87096774193549,
          83.87096774193549,
          84.51612903225806,
          85.16129032258064,
          85.16129032258064,
          79.35483870967742,
          83.22580645161291,
          81.93548387096774,
          82.58064516129032,
          86.45161290322581,
          84.51612903225806,
          87.74193548387098,
          82.58064516129032,
          81.93548387096774,
          81.93548387096774,
          81.29032258064515,
          83.22580645161291,
          79.35483870967742,
          82.58064516129032,
          84.51612903225806,
          89.03225806451613,
          78.70967741935485,
          80.64516129032258,
          81.29032258064515,
          83.87096774193549,
          85.16129032258064,
          79.35483870967742,
          87.09677419354838,
          77.41935483870968,
          83.22580645161291,
          81.29032258064515,
          82.58064516129032,
          81.29032258064515,
          80.64516129032258,
          75.48387096774194,
          81.93548387096774,
          85.16129032258064,
          83.22580645161291,
          80.64516129032258,
          82.58064516129032
         ]
        },
        {
         "line": {
          "color": "RoyalBlue",
          "dash": "dashdot",
          "width": 2
         },
         "mode": "lines+markers",
         "showlegend": false,
         "type": "scatter",
         "x": [
          "Treino G-LSSVM",
          "Treino L-LSSVM",
          "Treino R-LSSVM",
          "Treino G-LSSVM"
         ],
         "y": [
          89.31612903225806,
          88.96774193548386,
          88.81290322580645,
          89.31612903225806
         ]
        },
        {
         "line": {
          "color": "RoyalBlue",
          "dash": "dashdot",
          "width": 2
         },
         "mode": "lines+markers",
         "showlegend": false,
         "type": "scatter",
         "x": [
          "Teste G-LSSVM",
          "Teste L-LSSVM",
          "Teste R-LSSVM",
          "Teste G-LSSVM"
         ],
         "y": [
          82.98064516129033,
          82.14193548387097,
          82.55483870967743,
          82.98064516129033
         ]
        }
       ],
       "layout": {
        "legend": {
         "x": 0.875,
         "y": 1
        },
        "margin": {
         "b": 20,
         "l": 20,
         "r": 5,
         "t": 5
        },
        "showlegend": false,
        "template": {
         "data": {
          "bar": [
           {
            "error_x": {
             "color": "#2a3f5f"
            },
            "error_y": {
             "color": "#2a3f5f"
            },
            "marker": {
             "line": {
              "color": "#E5ECF6",
              "width": 0.5
             },
             "pattern": {
              "fillmode": "overlay",
              "size": 10,
              "solidity": 0.2
             }
            },
            "type": "bar"
           }
          ],
          "barpolar": [
           {
            "marker": {
             "line": {
              "color": "#E5ECF6",
              "width": 0.5
             },
             "pattern": {
              "fillmode": "overlay",
              "size": 10,
              "solidity": 0.2
             }
            },
            "type": "barpolar"
           }
          ],
          "carpet": [
           {
            "aaxis": {
             "endlinecolor": "#2a3f5f",
             "gridcolor": "white",
             "linecolor": "white",
             "minorgridcolor": "white",
             "startlinecolor": "#2a3f5f"
            },
            "baxis": {
             "endlinecolor": "#2a3f5f",
             "gridcolor": "white",
             "linecolor": "white",
             "minorgridcolor": "white",
             "startlinecolor": "#2a3f5f"
            },
            "type": "carpet"
           }
          ],
          "choropleth": [
           {
            "colorbar": {
             "outlinewidth": 0,
             "ticks": ""
            },
            "type": "choropleth"
           }
          ],
          "contour": [
           {
            "colorbar": {
             "outlinewidth": 0,
             "ticks": ""
            },
            "colorscale": [
             [
              0,
              "#0d0887"
             ],
             [
              0.1111111111111111,
              "#46039f"
             ],
             [
              0.2222222222222222,
              "#7201a8"
             ],
             [
              0.3333333333333333,
              "#9c179e"
             ],
             [
              0.4444444444444444,
              "#bd3786"
             ],
             [
              0.5555555555555556,
              "#d8576b"
             ],
             [
              0.6666666666666666,
              "#ed7953"
             ],
             [
              0.7777777777777778,
              "#fb9f3a"
             ],
             [
              0.8888888888888888,
              "#fdca26"
             ],
             [
              1,
              "#f0f921"
             ]
            ],
            "type": "contour"
           }
          ],
          "contourcarpet": [
           {
            "colorbar": {
             "outlinewidth": 0,
             "ticks": ""
            },
            "type": "contourcarpet"
           }
          ],
          "heatmap": [
           {
            "colorbar": {
             "outlinewidth": 0,
             "ticks": ""
            },
            "colorscale": [
             [
              0,
              "#0d0887"
             ],
             [
              0.1111111111111111,
              "#46039f"
             ],
             [
              0.2222222222222222,
              "#7201a8"
             ],
             [
              0.3333333333333333,
              "#9c179e"
             ],
             [
              0.4444444444444444,
              "#bd3786"
             ],
             [
              0.5555555555555556,
              "#d8576b"
             ],
             [
              0.6666666666666666,
              "#ed7953"
             ],
             [
              0.7777777777777778,
              "#fb9f3a"
             ],
             [
              0.8888888888888888,
              "#fdca26"
             ],
             [
              1,
              "#f0f921"
             ]
            ],
            "type": "heatmap"
           }
          ],
          "heatmapgl": [
           {
            "colorbar": {
             "outlinewidth": 0,
             "ticks": ""
            },
            "colorscale": [
             [
              0,
              "#0d0887"
             ],
             [
              0.1111111111111111,
              "#46039f"
             ],
             [
              0.2222222222222222,
              "#7201a8"
             ],
             [
              0.3333333333333333,
              "#9c179e"
             ],
             [
              0.4444444444444444,
              "#bd3786"
             ],
             [
              0.5555555555555556,
              "#d8576b"
             ],
             [
              0.6666666666666666,
              "#ed7953"
             ],
             [
              0.7777777777777778,
              "#fb9f3a"
             ],
             [
              0.8888888888888888,
              "#fdca26"
             ],
             [
              1,
              "#f0f921"
             ]
            ],
            "type": "heatmapgl"
           }
          ],
          "histogram": [
           {
            "marker": {
             "pattern": {
              "fillmode": "overlay",
              "size": 10,
              "solidity": 0.2
             }
            },
            "type": "histogram"
           }
          ],
          "histogram2d": [
           {
            "colorbar": {
             "outlinewidth": 0,
             "ticks": ""
            },
            "colorscale": [
             [
              0,
              "#0d0887"
             ],
             [
              0.1111111111111111,
              "#46039f"
             ],
             [
              0.2222222222222222,
              "#7201a8"
             ],
             [
              0.3333333333333333,
              "#9c179e"
             ],
             [
              0.4444444444444444,
              "#bd3786"
             ],
             [
              0.5555555555555556,
              "#d8576b"
             ],
             [
              0.6666666666666666,
              "#ed7953"
             ],
             [
              0.7777777777777778,
              "#fb9f3a"
             ],
             [
              0.8888888888888888,
              "#fdca26"
             ],
             [
              1,
              "#f0f921"
             ]
            ],
            "type": "histogram2d"
           }
          ],
          "histogram2dcontour": [
           {
            "colorbar": {
             "outlinewidth": 0,
             "ticks": ""
            },
            "colorscale": [
             [
              0,
              "#0d0887"
             ],
             [
              0.1111111111111111,
              "#46039f"
             ],
             [
              0.2222222222222222,
              "#7201a8"
             ],
             [
              0.3333333333333333,
              "#9c179e"
             ],
             [
              0.4444444444444444,
              "#bd3786"
             ],
             [
              0.5555555555555556,
              "#d8576b"
             ],
             [
              0.6666666666666666,
              "#ed7953"
             ],
             [
              0.7777777777777778,
              "#fb9f3a"
             ],
             [
              0.8888888888888888,
              "#fdca26"
             ],
             [
              1,
              "#f0f921"
             ]
            ],
            "type": "histogram2dcontour"
           }
          ],
          "mesh3d": [
           {
            "colorbar": {
             "outlinewidth": 0,
             "ticks": ""
            },
            "type": "mesh3d"
           }
          ],
          "parcoords": [
           {
            "line": {
             "colorbar": {
              "outlinewidth": 0,
              "ticks": ""
             }
            },
            "type": "parcoords"
           }
          ],
          "pie": [
           {
            "automargin": true,
            "type": "pie"
           }
          ],
          "scatter": [
           {
            "marker": {
             "colorbar": {
              "outlinewidth": 0,
              "ticks": ""
             }
            },
            "type": "scatter"
           }
          ],
          "scatter3d": [
           {
            "line": {
             "colorbar": {
              "outlinewidth": 0,
              "ticks": ""
             }
            },
            "marker": {
             "colorbar": {
              "outlinewidth": 0,
              "ticks": ""
             }
            },
            "type": "scatter3d"
           }
          ],
          "scattercarpet": [
           {
            "marker": {
             "colorbar": {
              "outlinewidth": 0,
              "ticks": ""
             }
            },
            "type": "scattercarpet"
           }
          ],
          "scattergeo": [
           {
            "marker": {
             "colorbar": {
              "outlinewidth": 0,
              "ticks": ""
             }
            },
            "type": "scattergeo"
           }
          ],
          "scattergl": [
           {
            "marker": {
             "colorbar": {
              "outlinewidth": 0,
              "ticks": ""
             }
            },
            "type": "scattergl"
           }
          ],
          "scattermapbox": [
           {
            "marker": {
             "colorbar": {
              "outlinewidth": 0,
              "ticks": ""
             }
            },
            "type": "scattermapbox"
           }
          ],
          "scatterpolar": [
           {
            "marker": {
             "colorbar": {
              "outlinewidth": 0,
              "ticks": ""
             }
            },
            "type": "scatterpolar"
           }
          ],
          "scatterpolargl": [
           {
            "marker": {
             "colorbar": {
              "outlinewidth": 0,
              "ticks": ""
             }
            },
            "type": "scatterpolargl"
           }
          ],
          "scatterternary": [
           {
            "marker": {
             "colorbar": {
              "outlinewidth": 0,
              "ticks": ""
             }
            },
            "type": "scatterternary"
           }
          ],
          "surface": [
           {
            "colorbar": {
             "outlinewidth": 0,
             "ticks": ""
            },
            "colorscale": [
             [
              0,
              "#0d0887"
             ],
             [
              0.1111111111111111,
              "#46039f"
             ],
             [
              0.2222222222222222,
              "#7201a8"
             ],
             [
              0.3333333333333333,
              "#9c179e"
             ],
             [
              0.4444444444444444,
              "#bd3786"
             ],
             [
              0.5555555555555556,
              "#d8576b"
             ],
             [
              0.6666666666666666,
              "#ed7953"
             ],
             [
              0.7777777777777778,
              "#fb9f3a"
             ],
             [
              0.8888888888888888,
              "#fdca26"
             ],
             [
              1,
              "#f0f921"
             ]
            ],
            "type": "surface"
           }
          ],
          "table": [
           {
            "cells": {
             "fill": {
              "color": "#EBF0F8"
             },
             "line": {
              "color": "white"
             }
            },
            "header": {
             "fill": {
              "color": "#C8D4E3"
             },
             "line": {
              "color": "white"
             }
            },
            "type": "table"
           }
          ]
         },
         "layout": {
          "annotationdefaults": {
           "arrowcolor": "#2a3f5f",
           "arrowhead": 0,
           "arrowwidth": 1
          },
          "autotypenumbers": "strict",
          "coloraxis": {
           "colorbar": {
            "outlinewidth": 0,
            "ticks": ""
           }
          },
          "colorscale": {
           "diverging": [
            [
             0,
             "#8e0152"
            ],
            [
             0.1,
             "#c51b7d"
            ],
            [
             0.2,
             "#de77ae"
            ],
            [
             0.3,
             "#f1b6da"
            ],
            [
             0.4,
             "#fde0ef"
            ],
            [
             0.5,
             "#f7f7f7"
            ],
            [
             0.6,
             "#e6f5d0"
            ],
            [
             0.7,
             "#b8e186"
            ],
            [
             0.8,
             "#7fbc41"
            ],
            [
             0.9,
             "#4d9221"
            ],
            [
             1,
             "#276419"
            ]
           ],
           "sequential": [
            [
             0,
             "#0d0887"
            ],
            [
             0.1111111111111111,
             "#46039f"
            ],
            [
             0.2222222222222222,
             "#7201a8"
            ],
            [
             0.3333333333333333,
             "#9c179e"
            ],
            [
             0.4444444444444444,
             "#bd3786"
            ],
            [
             0.5555555555555556,
             "#d8576b"
            ],
            [
             0.6666666666666666,
             "#ed7953"
            ],
            [
             0.7777777777777778,
             "#fb9f3a"
            ],
            [
             0.8888888888888888,
             "#fdca26"
            ],
            [
             1,
             "#f0f921"
            ]
           ],
           "sequentialminus": [
            [
             0,
             "#0d0887"
            ],
            [
             0.1111111111111111,
             "#46039f"
            ],
            [
             0.2222222222222222,
             "#7201a8"
            ],
            [
             0.3333333333333333,
             "#9c179e"
            ],
            [
             0.4444444444444444,
             "#bd3786"
            ],
            [
             0.5555555555555556,
             "#d8576b"
            ],
            [
             0.6666666666666666,
             "#ed7953"
            ],
            [
             0.7777777777777778,
             "#fb9f3a"
            ],
            [
             0.8888888888888888,
             "#fdca26"
            ],
            [
             1,
             "#f0f921"
            ]
           ]
          },
          "colorway": [
           "#636efa",
           "#EF553B",
           "#00cc96",
           "#ab63fa",
           "#FFA15A",
           "#19d3f3",
           "#FF6692",
           "#B6E880",
           "#FF97FF",
           "#FECB52"
          ],
          "font": {
           "color": "#2a3f5f"
          },
          "geo": {
           "bgcolor": "white",
           "lakecolor": "white",
           "landcolor": "#E5ECF6",
           "showlakes": true,
           "showland": true,
           "subunitcolor": "white"
          },
          "hoverlabel": {
           "align": "left"
          },
          "hovermode": "closest",
          "mapbox": {
           "style": "light"
          },
          "paper_bgcolor": "white",
          "plot_bgcolor": "#E5ECF6",
          "polar": {
           "angularaxis": {
            "gridcolor": "white",
            "linecolor": "white",
            "ticks": ""
           },
           "bgcolor": "#E5ECF6",
           "radialaxis": {
            "gridcolor": "white",
            "linecolor": "white",
            "ticks": ""
           }
          },
          "scene": {
           "xaxis": {
            "backgroundcolor": "#E5ECF6",
            "gridcolor": "white",
            "gridwidth": 2,
            "linecolor": "white",
            "showbackground": true,
            "ticks": "",
            "zerolinecolor": "white"
           },
           "yaxis": {
            "backgroundcolor": "#E5ECF6",
            "gridcolor": "white",
            "gridwidth": 2,
            "linecolor": "white",
            "showbackground": true,
            "ticks": "",
            "zerolinecolor": "white"
           },
           "zaxis": {
            "backgroundcolor": "#E5ECF6",
            "gridcolor": "white",
            "gridwidth": 2,
            "linecolor": "white",
            "showbackground": true,
            "ticks": "",
            "zerolinecolor": "white"
           }
          },
          "shapedefaults": {
           "line": {
            "color": "#2a3f5f"
           }
          },
          "ternary": {
           "aaxis": {
            "gridcolor": "white",
            "linecolor": "white",
            "ticks": ""
           },
           "baxis": {
            "gridcolor": "white",
            "linecolor": "white",
            "ticks": ""
           },
           "bgcolor": "#E5ECF6",
           "caxis": {
            "gridcolor": "white",
            "linecolor": "white",
            "ticks": ""
           }
          },
          "title": {
           "x": 0.05
          },
          "xaxis": {
           "automargin": true,
           "gridcolor": "white",
           "linecolor": "white",
           "ticks": "",
           "title": {
            "standoff": 15
           },
           "zerolinecolor": "white",
           "zerolinewidth": 2
          },
          "yaxis": {
           "automargin": true,
           "gridcolor": "white",
           "linecolor": "white",
           "ticks": "",
           "title": {
            "standoff": 15
           },
           "zerolinecolor": "white",
           "zerolinewidth": 2
          }
         }
        },
        "yaxis": {
         "title": {
          "text": "Acurácia (%)"
         }
        }
       }
      },
      "text/html": [
       "<div>                            <div id=\"bfae1d4f-fad3-41a4-a2d0-d098e0a68386\" class=\"plotly-graph-div\" style=\"height:525px; width:100%;\"></div>            <script type=\"text/javascript\">                require([\"plotly\"], function(Plotly) {                    window.PLOTLYENV=window.PLOTLYENV || {};                                    if (document.getElementById(\"bfae1d4f-fad3-41a4-a2d0-d098e0a68386\")) {                    Plotly.newPlot(                        \"bfae1d4f-fad3-41a4-a2d0-d098e0a68386\",                        [{\"boxmean\":\"sd\",\"marker\":{\"color\":\"rgba(44, 160, 101, 0.5)\"},\"name\":\"G-LSSVM\",\"x\":[\"Treino G-LSSVM\",\"Treino G-LSSVM\",\"Treino G-LSSVM\",\"Treino G-LSSVM\",\"Treino G-LSSVM\",\"Treino G-LSSVM\",\"Treino G-LSSVM\",\"Treino G-LSSVM\",\"Treino G-LSSVM\",\"Treino G-LSSVM\",\"Treino G-LSSVM\",\"Treino G-LSSVM\",\"Treino G-LSSVM\",\"Treino G-LSSVM\",\"Treino G-LSSVM\",\"Treino G-LSSVM\",\"Treino G-LSSVM\",\"Treino G-LSSVM\",\"Treino G-LSSVM\",\"Treino G-LSSVM\",\"Treino G-LSSVM\",\"Treino G-LSSVM\",\"Treino G-LSSVM\",\"Treino G-LSSVM\",\"Treino G-LSSVM\",\"Treino G-LSSVM\",\"Treino G-LSSVM\",\"Treino G-LSSVM\",\"Treino G-LSSVM\",\"Treino G-LSSVM\",\"Treino G-LSSVM\",\"Treino G-LSSVM\",\"Treino G-LSSVM\",\"Treino G-LSSVM\",\"Treino G-LSSVM\",\"Treino G-LSSVM\",\"Treino G-LSSVM\",\"Treino G-LSSVM\",\"Treino G-LSSVM\",\"Treino G-LSSVM\",\"Treino G-LSSVM\",\"Treino G-LSSVM\",\"Treino G-LSSVM\",\"Treino G-LSSVM\",\"Treino G-LSSVM\",\"Treino G-LSSVM\",\"Treino G-LSSVM\",\"Treino G-LSSVM\",\"Treino G-LSSVM\",\"Treino G-LSSVM\"],\"y\":[98.70967741935483,87.09677419354838,85.16129032258064,87.74193548387098,89.6774193548387,89.03225806451613,85.16129032258064,90.32258064516128,86.45161290322581,85.80645161290322,90.96774193548387,87.09677419354838,87.74193548387098,86.45161290322581,88.38709677419355,81.93548387096774,98.70967741935483,87.74193548387098,89.03225806451613,89.6774193548387,94.19354838709677,87.74193548387098,87.74193548387098,91.61290322580645,96.12903225806451,85.16129032258064,90.32258064516128,89.03225806451613,93.54838709677419,90.32258064516128,87.74193548387098,91.61290322580645,97.41935483870968,89.6774193548387,88.38709677419355,87.09677419354838,89.6774193548387,88.38709677419355,90.32258064516128,90.96774193548387,89.6774193548387,92.25806451612904,93.54838709677419,86.45161290322581,83.22580645161291,85.16129032258064,87.74193548387098,87.74193548387098,90.96774193548387,89.03225806451613],\"type\":\"box\"},{\"boxmean\":\"sd\",\"marker\":{\"color\":\"rgba(93, 164, 214, 0.5)\"},\"name\":\"L-LSSVM\",\"x\":[\"Treino L-LSSVM\",\"Treino L-LSSVM\",\"Treino L-LSSVM\",\"Treino L-LSSVM\",\"Treino L-LSSVM\",\"Treino L-LSSVM\",\"Treino L-LSSVM\",\"Treino L-LSSVM\",\"Treino L-LSSVM\",\"Treino L-LSSVM\",\"Treino L-LSSVM\",\"Treino L-LSSVM\",\"Treino L-LSSVM\",\"Treino L-LSSVM\",\"Treino L-LSSVM\",\"Treino L-LSSVM\",\"Treino L-LSSVM\",\"Treino L-LSSVM\",\"Treino L-LSSVM\",\"Treino L-LSSVM\",\"Treino L-LSSVM\",\"Treino L-LSSVM\",\"Treino L-LSSVM\",\"Treino L-LSSVM\",\"Treino L-LSSVM\",\"Treino L-LSSVM\",\"Treino L-LSSVM\",\"Treino L-LSSVM\",\"Treino L-LSSVM\",\"Treino L-LSSVM\",\"Treino L-LSSVM\",\"Treino L-LSSVM\",\"Treino L-LSSVM\",\"Treino L-LSSVM\",\"Treino L-LSSVM\",\"Treino L-LSSVM\",\"Treino L-LSSVM\",\"Treino L-LSSVM\",\"Treino L-LSSVM\",\"Treino L-LSSVM\",\"Treino L-LSSVM\",\"Treino L-LSSVM\",\"Treino L-LSSVM\",\"Treino L-LSSVM\",\"Treino L-LSSVM\",\"Treino L-LSSVM\",\"Treino L-LSSVM\",\"Treino L-LSSVM\",\"Treino L-LSSVM\",\"Treino L-LSSVM\"],\"y\":[88.38709677419355,90.96774193548387,85.16129032258064,81.29032258064515,89.6774193548387,78.70967741935485,87.74193548387098,91.61290322580645,88.38709677419355,87.09677419354838,85.80645161290322,87.74193548387098,90.32258064516128,89.6774193548387,87.09677419354838,81.93548387096774,100.0,88.38709677419355,90.96774193548387,88.38709677419355,92.25806451612904,88.38709677419355,89.03225806451613,93.54838709677419,96.7741935483871,86.45161290322581,90.96774193548387,91.61290322580645,94.19354838709677,91.61290322580645,85.16129032258064,90.32258064516128,90.32258064516128,85.80645161290322,88.38709677419355,86.45161290322581,90.32258064516128,85.80645161290322,89.03225806451613,87.09677419354838,87.74193548387098,85.16129032258064,89.6774193548387,91.61290322580645,89.6774193548387,90.32258064516128,89.03225806451613,94.19354838709677,85.16129032258064,92.90322580645162],\"type\":\"box\"},{\"boxmean\":\"sd\",\"marker\":{\"color\":\"rgba(155, 89, 182,1.0)\"},\"name\":\"R-LSSVM\",\"x\":[\"Treino R-LSSVM\",\"Treino R-LSSVM\",\"Treino R-LSSVM\",\"Treino R-LSSVM\",\"Treino R-LSSVM\",\"Treino R-LSSVM\",\"Treino R-LSSVM\",\"Treino R-LSSVM\",\"Treino R-LSSVM\",\"Treino R-LSSVM\",\"Treino R-LSSVM\",\"Treino R-LSSVM\",\"Treino R-LSSVM\",\"Treino R-LSSVM\",\"Treino R-LSSVM\",\"Treino R-LSSVM\",\"Treino R-LSSVM\",\"Treino R-LSSVM\",\"Treino R-LSSVM\",\"Treino R-LSSVM\",\"Treino R-LSSVM\",\"Treino R-LSSVM\",\"Treino R-LSSVM\",\"Treino R-LSSVM\",\"Treino R-LSSVM\",\"Treino R-LSSVM\",\"Treino R-LSSVM\",\"Treino R-LSSVM\",\"Treino R-LSSVM\",\"Treino R-LSSVM\",\"Treino R-LSSVM\",\"Treino R-LSSVM\",\"Treino R-LSSVM\",\"Treino R-LSSVM\",\"Treino R-LSSVM\",\"Treino R-LSSVM\",\"Treino R-LSSVM\",\"Treino R-LSSVM\",\"Treino R-LSSVM\",\"Treino R-LSSVM\",\"Treino R-LSSVM\",\"Treino R-LSSVM\",\"Treino R-LSSVM\",\"Treino R-LSSVM\",\"Treino R-LSSVM\",\"Treino R-LSSVM\",\"Treino R-LSSVM\",\"Treino R-LSSVM\",\"Treino R-LSSVM\",\"Treino R-LSSVM\"],\"y\":[98.70967741935483,85.16129032258064,87.09677419354838,84.51612903225806,84.51612903225806,73.54838709677419,87.74193548387098,89.6774193548387,88.38709677419355,88.38709677419355,90.32258064516128,88.38709677419355,87.74193548387098,85.80645161290322,85.80645161290322,83.22580645161291,94.83870967741936,87.74193548387098,89.03225806451613,85.16129032258064,93.54838709677419,89.03225806451613,87.09677419354838,89.03225806451613,98.70967741935483,86.45161290322581,87.09677419354838,89.03225806451613,94.19354838709677,91.61290322580645,83.87096774193549,90.32258064516128,93.54838709677419,85.80645161290322,91.61290322580645,86.45161290322581,93.54838709677419,89.03225806451613,92.90322580645162,90.32258064516128,86.45161290322581,90.32258064516128,93.54838709677419,90.96774193548387,78.70967741935485,88.38709677419355,87.74193548387098,92.90322580645162,91.61290322580645,90.96774193548387],\"type\":\"box\"},{\"boxmean\":\"sd\",\"marker\":{\"color\":\"rgba(44, 160, 101, 0.5)\"},\"name\":\"G-LSSVM\",\"x\":[\"Teste G-LSSVM\",\"Teste G-LSSVM\",\"Teste G-LSSVM\",\"Teste G-LSSVM\",\"Teste G-LSSVM\",\"Teste G-LSSVM\",\"Teste G-LSSVM\",\"Teste G-LSSVM\",\"Teste G-LSSVM\",\"Teste G-LSSVM\",\"Teste G-LSSVM\",\"Teste G-LSSVM\",\"Teste G-LSSVM\",\"Teste G-LSSVM\",\"Teste G-LSSVM\",\"Teste G-LSSVM\",\"Teste G-LSSVM\",\"Teste G-LSSVM\",\"Teste G-LSSVM\",\"Teste G-LSSVM\",\"Teste G-LSSVM\",\"Teste G-LSSVM\",\"Teste G-LSSVM\",\"Teste G-LSSVM\",\"Teste G-LSSVM\",\"Teste G-LSSVM\",\"Teste G-LSSVM\",\"Teste G-LSSVM\",\"Teste G-LSSVM\",\"Teste G-LSSVM\",\"Teste G-LSSVM\",\"Teste G-LSSVM\",\"Teste G-LSSVM\",\"Teste G-LSSVM\",\"Teste G-LSSVM\",\"Teste G-LSSVM\",\"Teste G-LSSVM\",\"Teste G-LSSVM\",\"Teste G-LSSVM\",\"Teste G-LSSVM\",\"Teste G-LSSVM\",\"Teste G-LSSVM\",\"Teste G-LSSVM\",\"Teste G-LSSVM\",\"Teste G-LSSVM\",\"Teste G-LSSVM\",\"Teste G-LSSVM\",\"Teste G-LSSVM\",\"Teste G-LSSVM\",\"Teste G-LSSVM\"],\"y\":[80.0,84.51612903225806,78.70967741935485,87.74193548387098,83.87096774193549,85.80645161290322,83.22580645161291,81.29032258064515,82.58064516129032,80.0,78.70967741935485,85.16129032258064,81.93548387096774,87.09677419354838,83.87096774193549,80.0,81.29032258064515,82.58064516129032,84.51612903225806,85.80645161290322,83.87096774193549,86.45161290322581,83.22580645161291,83.87096774193549,78.70967741935485,85.16129032258064,82.58064516129032,80.0,83.22580645161291,87.09677419354838,89.03225806451613,79.35483870967742,78.70967741935485,83.22580645161291,85.16129032258064,83.87096774193549,81.29032258064515,81.29032258064515,83.22580645161291,83.87096774193549,81.29032258064515,84.51612903225806,80.0,80.0,77.41935483870968,85.80645161290322,86.45161290322581,85.80645161290322,82.58064516129032,83.22580645161291],\"type\":\"box\"},{\"boxmean\":\"sd\",\"marker\":{\"color\":\"rgba(93, 164, 214, 0.5)\"},\"name\":\"L-LSSVM\",\"x\":[\"Teste L-LSSVM\",\"Teste L-LSSVM\",\"Teste L-LSSVM\",\"Teste L-LSSVM\",\"Teste L-LSSVM\",\"Teste L-LSSVM\",\"Teste L-LSSVM\",\"Teste L-LSSVM\",\"Teste L-LSSVM\",\"Teste L-LSSVM\",\"Teste L-LSSVM\",\"Teste L-LSSVM\",\"Teste L-LSSVM\",\"Teste L-LSSVM\",\"Teste L-LSSVM\",\"Teste L-LSSVM\",\"Teste L-LSSVM\",\"Teste L-LSSVM\",\"Teste L-LSSVM\",\"Teste L-LSSVM\",\"Teste L-LSSVM\",\"Teste L-LSSVM\",\"Teste L-LSSVM\",\"Teste L-LSSVM\",\"Teste L-LSSVM\",\"Teste L-LSSVM\",\"Teste L-LSSVM\",\"Teste L-LSSVM\",\"Teste L-LSSVM\",\"Teste L-LSSVM\",\"Teste L-LSSVM\",\"Teste L-LSSVM\",\"Teste L-LSSVM\",\"Teste L-LSSVM\",\"Teste L-LSSVM\",\"Teste L-LSSVM\",\"Teste L-LSSVM\",\"Teste L-LSSVM\",\"Teste L-LSSVM\",\"Teste L-LSSVM\",\"Teste L-LSSVM\",\"Teste L-LSSVM\",\"Teste L-LSSVM\",\"Teste L-LSSVM\",\"Teste L-LSSVM\",\"Teste L-LSSVM\",\"Teste L-LSSVM\",\"Teste L-LSSVM\",\"Teste L-LSSVM\",\"Teste L-LSSVM\"],\"y\":[84.51612903225806,84.51612903225806,76.77419354838709,84.51612903225806,82.58064516129032,74.83870967741936,81.93548387096774,78.70967741935485,83.22580645161291,86.45161290322581,81.93548387096774,82.58064516129032,83.22580645161291,83.22580645161291,87.74193548387098,75.48387096774194,80.0,81.29032258064515,81.93548387096774,83.87096774193549,84.51612903225806,87.09677419354838,81.93548387096774,78.70967741935485,76.77419354838709,82.58064516129032,80.64516129032258,82.58064516129032,81.93548387096774,86.45161290322581,83.87096774193549,77.41935483870968,83.22580645161291,83.22580645161291,85.16129032258064,83.22580645161291,80.0,85.16129032258064,83.87096774193549,80.0,81.29032258064515,81.93548387096774,80.64516129032258,81.29032258064515,84.51612903225806,81.93548387096774,81.29032258064515,82.58064516129032,83.22580645161291,80.64516129032258],\"type\":\"box\"},{\"boxmean\":\"sd\",\"marker\":{\"color\":\"rgba(155, 89, 182,1.0)\"},\"name\":\"R-LSSVM\",\"x\":[\"Teste R-LSSVM\",\"Teste R-LSSVM\",\"Teste R-LSSVM\",\"Teste R-LSSVM\",\"Teste R-LSSVM\",\"Teste R-LSSVM\",\"Teste R-LSSVM\",\"Teste R-LSSVM\",\"Teste R-LSSVM\",\"Teste R-LSSVM\",\"Teste R-LSSVM\",\"Teste R-LSSVM\",\"Teste R-LSSVM\",\"Teste R-LSSVM\",\"Teste R-LSSVM\",\"Teste R-LSSVM\",\"Teste R-LSSVM\",\"Teste R-LSSVM\",\"Teste R-LSSVM\",\"Teste R-LSSVM\",\"Teste R-LSSVM\",\"Teste R-LSSVM\",\"Teste R-LSSVM\",\"Teste R-LSSVM\",\"Teste R-LSSVM\",\"Teste R-LSSVM\",\"Teste R-LSSVM\",\"Teste R-LSSVM\",\"Teste R-LSSVM\",\"Teste R-LSSVM\",\"Teste R-LSSVM\",\"Teste R-LSSVM\",\"Teste R-LSSVM\",\"Teste R-LSSVM\",\"Teste R-LSSVM\",\"Teste R-LSSVM\",\"Teste R-LSSVM\",\"Teste R-LSSVM\",\"Teste R-LSSVM\",\"Teste R-LSSVM\",\"Teste R-LSSVM\",\"Teste R-LSSVM\",\"Teste R-LSSVM\",\"Teste R-LSSVM\",\"Teste R-LSSVM\",\"Teste R-LSSVM\",\"Teste R-LSSVM\",\"Teste R-LSSVM\",\"Teste R-LSSVM\",\"Teste R-LSSVM\"],\"y\":[80.0,85.16129032258064,81.93548387096774,87.09677419354838,86.45161290322581,71.61290322580646,83.22580645161291,79.35483870967742,81.93548387096774,84.51612903225806,83.87096774193549,83.87096774193549,84.51612903225806,85.16129032258064,85.16129032258064,79.35483870967742,83.22580645161291,81.93548387096774,82.58064516129032,86.45161290322581,84.51612903225806,87.74193548387098,82.58064516129032,81.93548387096774,81.93548387096774,81.29032258064515,83.22580645161291,79.35483870967742,82.58064516129032,84.51612903225806,89.03225806451613,78.70967741935485,80.64516129032258,81.29032258064515,83.87096774193549,85.16129032258064,79.35483870967742,87.09677419354838,77.41935483870968,83.22580645161291,81.29032258064515,82.58064516129032,81.29032258064515,80.64516129032258,75.48387096774194,81.93548387096774,85.16129032258064,83.22580645161291,80.64516129032258,82.58064516129032],\"type\":\"box\"},{\"line\":{\"color\":\"RoyalBlue\",\"dash\":\"dashdot\",\"width\":2},\"mode\":\"lines+markers\",\"showlegend\":false,\"x\":[\"Treino G-LSSVM\",\"Treino L-LSSVM\",\"Treino R-LSSVM\",\"Treino G-LSSVM\"],\"y\":[89.31612903225806,88.96774193548386,88.81290322580645,89.31612903225806],\"type\":\"scatter\"},{\"line\":{\"color\":\"RoyalBlue\",\"dash\":\"dashdot\",\"width\":2},\"mode\":\"lines+markers\",\"showlegend\":false,\"x\":[\"Teste G-LSSVM\",\"Teste L-LSSVM\",\"Teste R-LSSVM\",\"Teste G-LSSVM\"],\"y\":[82.98064516129033,82.14193548387097,82.55483870967743,82.98064516129033],\"type\":\"scatter\"}],                        {\"legend\":{\"x\":0.875,\"y\":1},\"showlegend\":false,\"yaxis\":{\"title\":{\"text\":\"Acur\\u00e1cia (%)\"}},\"template\":{\"data\":{\"bar\":[{\"error_x\":{\"color\":\"#2a3f5f\"},\"error_y\":{\"color\":\"#2a3f5f\"},\"marker\":{\"line\":{\"color\":\"#E5ECF6\",\"width\":0.5},\"pattern\":{\"fillmode\":\"overlay\",\"size\":10,\"solidity\":0.2}},\"type\":\"bar\"}],\"barpolar\":[{\"marker\":{\"line\":{\"color\":\"#E5ECF6\",\"width\":0.5},\"pattern\":{\"fillmode\":\"overlay\",\"size\":10,\"solidity\":0.2}},\"type\":\"barpolar\"}],\"carpet\":[{\"aaxis\":{\"endlinecolor\":\"#2a3f5f\",\"gridcolor\":\"white\",\"linecolor\":\"white\",\"minorgridcolor\":\"white\",\"startlinecolor\":\"#2a3f5f\"},\"baxis\":{\"endlinecolor\":\"#2a3f5f\",\"gridcolor\":\"white\",\"linecolor\":\"white\",\"minorgridcolor\":\"white\",\"startlinecolor\":\"#2a3f5f\"},\"type\":\"carpet\"}],\"choropleth\":[{\"colorbar\":{\"outlinewidth\":0,\"ticks\":\"\"},\"type\":\"choropleth\"}],\"contour\":[{\"colorbar\":{\"outlinewidth\":0,\"ticks\":\"\"},\"colorscale\":[[0.0,\"#0d0887\"],[0.1111111111111111,\"#46039f\"],[0.2222222222222222,\"#7201a8\"],[0.3333333333333333,\"#9c179e\"],[0.4444444444444444,\"#bd3786\"],[0.5555555555555556,\"#d8576b\"],[0.6666666666666666,\"#ed7953\"],[0.7777777777777778,\"#fb9f3a\"],[0.8888888888888888,\"#fdca26\"],[1.0,\"#f0f921\"]],\"type\":\"contour\"}],\"contourcarpet\":[{\"colorbar\":{\"outlinewidth\":0,\"ticks\":\"\"},\"type\":\"contourcarpet\"}],\"heatmap\":[{\"colorbar\":{\"outlinewidth\":0,\"ticks\":\"\"},\"colorscale\":[[0.0,\"#0d0887\"],[0.1111111111111111,\"#46039f\"],[0.2222222222222222,\"#7201a8\"],[0.3333333333333333,\"#9c179e\"],[0.4444444444444444,\"#bd3786\"],[0.5555555555555556,\"#d8576b\"],[0.6666666666666666,\"#ed7953\"],[0.7777777777777778,\"#fb9f3a\"],[0.8888888888888888,\"#fdca26\"],[1.0,\"#f0f921\"]],\"type\":\"heatmap\"}],\"heatmapgl\":[{\"colorbar\":{\"outlinewidth\":0,\"ticks\":\"\"},\"colorscale\":[[0.0,\"#0d0887\"],[0.1111111111111111,\"#46039f\"],[0.2222222222222222,\"#7201a8\"],[0.3333333333333333,\"#9c179e\"],[0.4444444444444444,\"#bd3786\"],[0.5555555555555556,\"#d8576b\"],[0.6666666666666666,\"#ed7953\"],[0.7777777777777778,\"#fb9f3a\"],[0.8888888888888888,\"#fdca26\"],[1.0,\"#f0f921\"]],\"type\":\"heatmapgl\"}],\"histogram\":[{\"marker\":{\"pattern\":{\"fillmode\":\"overlay\",\"size\":10,\"solidity\":0.2}},\"type\":\"histogram\"}],\"histogram2d\":[{\"colorbar\":{\"outlinewidth\":0,\"ticks\":\"\"},\"colorscale\":[[0.0,\"#0d0887\"],[0.1111111111111111,\"#46039f\"],[0.2222222222222222,\"#7201a8\"],[0.3333333333333333,\"#9c179e\"],[0.4444444444444444,\"#bd3786\"],[0.5555555555555556,\"#d8576b\"],[0.6666666666666666,\"#ed7953\"],[0.7777777777777778,\"#fb9f3a\"],[0.8888888888888888,\"#fdca26\"],[1.0,\"#f0f921\"]],\"type\":\"histogram2d\"}],\"histogram2dcontour\":[{\"colorbar\":{\"outlinewidth\":0,\"ticks\":\"\"},\"colorscale\":[[0.0,\"#0d0887\"],[0.1111111111111111,\"#46039f\"],[0.2222222222222222,\"#7201a8\"],[0.3333333333333333,\"#9c179e\"],[0.4444444444444444,\"#bd3786\"],[0.5555555555555556,\"#d8576b\"],[0.6666666666666666,\"#ed7953\"],[0.7777777777777778,\"#fb9f3a\"],[0.8888888888888888,\"#fdca26\"],[1.0,\"#f0f921\"]],\"type\":\"histogram2dcontour\"}],\"mesh3d\":[{\"colorbar\":{\"outlinewidth\":0,\"ticks\":\"\"},\"type\":\"mesh3d\"}],\"parcoords\":[{\"line\":{\"colorbar\":{\"outlinewidth\":0,\"ticks\":\"\"}},\"type\":\"parcoords\"}],\"pie\":[{\"automargin\":true,\"type\":\"pie\"}],\"scatter\":[{\"marker\":{\"colorbar\":{\"outlinewidth\":0,\"ticks\":\"\"}},\"type\":\"scatter\"}],\"scatter3d\":[{\"line\":{\"colorbar\":{\"outlinewidth\":0,\"ticks\":\"\"}},\"marker\":{\"colorbar\":{\"outlinewidth\":0,\"ticks\":\"\"}},\"type\":\"scatter3d\"}],\"scattercarpet\":[{\"marker\":{\"colorbar\":{\"outlinewidth\":0,\"ticks\":\"\"}},\"type\":\"scattercarpet\"}],\"scattergeo\":[{\"marker\":{\"colorbar\":{\"outlinewidth\":0,\"ticks\":\"\"}},\"type\":\"scattergeo\"}],\"scattergl\":[{\"marker\":{\"colorbar\":{\"outlinewidth\":0,\"ticks\":\"\"}},\"type\":\"scattergl\"}],\"scattermapbox\":[{\"marker\":{\"colorbar\":{\"outlinewidth\":0,\"ticks\":\"\"}},\"type\":\"scattermapbox\"}],\"scatterpolar\":[{\"marker\":{\"colorbar\":{\"outlinewidth\":0,\"ticks\":\"\"}},\"type\":\"scatterpolar\"}],\"scatterpolargl\":[{\"marker\":{\"colorbar\":{\"outlinewidth\":0,\"ticks\":\"\"}},\"type\":\"scatterpolargl\"}],\"scatterternary\":[{\"marker\":{\"colorbar\":{\"outlinewidth\":0,\"ticks\":\"\"}},\"type\":\"scatterternary\"}],\"surface\":[{\"colorbar\":{\"outlinewidth\":0,\"ticks\":\"\"},\"colorscale\":[[0.0,\"#0d0887\"],[0.1111111111111111,\"#46039f\"],[0.2222222222222222,\"#7201a8\"],[0.3333333333333333,\"#9c179e\"],[0.4444444444444444,\"#bd3786\"],[0.5555555555555556,\"#d8576b\"],[0.6666666666666666,\"#ed7953\"],[0.7777777777777778,\"#fb9f3a\"],[0.8888888888888888,\"#fdca26\"],[1.0,\"#f0f921\"]],\"type\":\"surface\"}],\"table\":[{\"cells\":{\"fill\":{\"color\":\"#EBF0F8\"},\"line\":{\"color\":\"white\"}},\"header\":{\"fill\":{\"color\":\"#C8D4E3\"},\"line\":{\"color\":\"white\"}},\"type\":\"table\"}]},\"layout\":{\"annotationdefaults\":{\"arrowcolor\":\"#2a3f5f\",\"arrowhead\":0,\"arrowwidth\":1},\"autotypenumbers\":\"strict\",\"coloraxis\":{\"colorbar\":{\"outlinewidth\":0,\"ticks\":\"\"}},\"colorscale\":{\"diverging\":[[0,\"#8e0152\"],[0.1,\"#c51b7d\"],[0.2,\"#de77ae\"],[0.3,\"#f1b6da\"],[0.4,\"#fde0ef\"],[0.5,\"#f7f7f7\"],[0.6,\"#e6f5d0\"],[0.7,\"#b8e186\"],[0.8,\"#7fbc41\"],[0.9,\"#4d9221\"],[1,\"#276419\"]],\"sequential\":[[0.0,\"#0d0887\"],[0.1111111111111111,\"#46039f\"],[0.2222222222222222,\"#7201a8\"],[0.3333333333333333,\"#9c179e\"],[0.4444444444444444,\"#bd3786\"],[0.5555555555555556,\"#d8576b\"],[0.6666666666666666,\"#ed7953\"],[0.7777777777777778,\"#fb9f3a\"],[0.8888888888888888,\"#fdca26\"],[1.0,\"#f0f921\"]],\"sequentialminus\":[[0.0,\"#0d0887\"],[0.1111111111111111,\"#46039f\"],[0.2222222222222222,\"#7201a8\"],[0.3333333333333333,\"#9c179e\"],[0.4444444444444444,\"#bd3786\"],[0.5555555555555556,\"#d8576b\"],[0.6666666666666666,\"#ed7953\"],[0.7777777777777778,\"#fb9f3a\"],[0.8888888888888888,\"#fdca26\"],[1.0,\"#f0f921\"]]},\"colorway\":[\"#636efa\",\"#EF553B\",\"#00cc96\",\"#ab63fa\",\"#FFA15A\",\"#19d3f3\",\"#FF6692\",\"#B6E880\",\"#FF97FF\",\"#FECB52\"],\"font\":{\"color\":\"#2a3f5f\"},\"geo\":{\"bgcolor\":\"white\",\"lakecolor\":\"white\",\"landcolor\":\"#E5ECF6\",\"showlakes\":true,\"showland\":true,\"subunitcolor\":\"white\"},\"hoverlabel\":{\"align\":\"left\"},\"hovermode\":\"closest\",\"mapbox\":{\"style\":\"light\"},\"paper_bgcolor\":\"white\",\"plot_bgcolor\":\"#E5ECF6\",\"polar\":{\"angularaxis\":{\"gridcolor\":\"white\",\"linecolor\":\"white\",\"ticks\":\"\"},\"bgcolor\":\"#E5ECF6\",\"radialaxis\":{\"gridcolor\":\"white\",\"linecolor\":\"white\",\"ticks\":\"\"}},\"scene\":{\"xaxis\":{\"backgroundcolor\":\"#E5ECF6\",\"gridcolor\":\"white\",\"gridwidth\":2,\"linecolor\":\"white\",\"showbackground\":true,\"ticks\":\"\",\"zerolinecolor\":\"white\"},\"yaxis\":{\"backgroundcolor\":\"#E5ECF6\",\"gridcolor\":\"white\",\"gridwidth\":2,\"linecolor\":\"white\",\"showbackground\":true,\"ticks\":\"\",\"zerolinecolor\":\"white\"},\"zaxis\":{\"backgroundcolor\":\"#E5ECF6\",\"gridcolor\":\"white\",\"gridwidth\":2,\"linecolor\":\"white\",\"showbackground\":true,\"ticks\":\"\",\"zerolinecolor\":\"white\"}},\"shapedefaults\":{\"line\":{\"color\":\"#2a3f5f\"}},\"ternary\":{\"aaxis\":{\"gridcolor\":\"white\",\"linecolor\":\"white\",\"ticks\":\"\"},\"baxis\":{\"gridcolor\":\"white\",\"linecolor\":\"white\",\"ticks\":\"\"},\"bgcolor\":\"#E5ECF6\",\"caxis\":{\"gridcolor\":\"white\",\"linecolor\":\"white\",\"ticks\":\"\"}},\"title\":{\"x\":0.05},\"xaxis\":{\"automargin\":true,\"gridcolor\":\"white\",\"linecolor\":\"white\",\"ticks\":\"\",\"title\":{\"standoff\":15},\"zerolinecolor\":\"white\",\"zerolinewidth\":2},\"yaxis\":{\"automargin\":true,\"gridcolor\":\"white\",\"linecolor\":\"white\",\"ticks\":\"\",\"title\":{\"standoff\":15},\"zerolinecolor\":\"white\",\"zerolinewidth\":2}}},\"margin\":{\"l\":20,\"r\":5,\"t\":5,\"b\":20}},                        {\"responsive\": true}                    ).then(function(){\n",
       "                            \n",
       "var gd = document.getElementById('bfae1d4f-fad3-41a4-a2d0-d098e0a68386');\n",
       "var x = new MutationObserver(function (mutations, observer) {{\n",
       "        var display = window.getComputedStyle(gd).display;\n",
       "        if (!display || display === 'none') {{\n",
       "            console.log([gd, 'removed!']);\n",
       "            Plotly.purge(gd);\n",
       "            observer.disconnect();\n",
       "        }}\n",
       "}});\n",
       "\n",
       "// Listen for the removal of the full notebook cells\n",
       "var notebookContainer = gd.closest('#notebook-container');\n",
       "if (notebookContainer) {{\n",
       "    x.observe(notebookContainer, {childList: true});\n",
       "}}\n",
       "\n",
       "// Listen for the clearing of the current output cell\n",
       "var outputEl = gd.closest('.output');\n",
       "if (outputEl) {{\n",
       "    x.observe(outputEl, {childList: true});\n",
       "}}\n",
       "\n",
       "                        })                };                });            </script>        </div>"
      ]
     },
     "metadata": {},
     "output_type": "display_data"
    },
    {
     "data": {
      "text/html": [
       "<hr>"
      ],
      "text/plain": [
       "<IPython.core.display.HTML object>"
      ]
     },
     "metadata": {},
     "output_type": "display_data"
    },
    {
     "data": {
      "text/html": [
       "<center><h1>vc3c</h1></center>"
      ],
      "text/plain": [
       "<IPython.core.display.HTML object>"
      ]
     },
     "metadata": {},
     "output_type": "display_data"
    },
    {
     "data": {
      "application/vnd.plotly.v1+json": {
       "config": {
        "plotlyServerURL": "https://plotly.com"
       },
       "data": [
        {
         "boxmean": "sd",
         "marker": {
          "color": "rgba(44, 160, 101, 0.5)"
         },
         "name": "G-LSSVM",
         "type": "box",
         "x": [
          "Treino G-LSSVM",
          "Treino G-LSSVM",
          "Treino G-LSSVM",
          "Treino G-LSSVM",
          "Treino G-LSSVM",
          "Treino G-LSSVM",
          "Treino G-LSSVM",
          "Treino G-LSSVM",
          "Treino G-LSSVM",
          "Treino G-LSSVM",
          "Treino G-LSSVM",
          "Treino G-LSSVM",
          "Treino G-LSSVM",
          "Treino G-LSSVM",
          "Treino G-LSSVM",
          "Treino G-LSSVM",
          "Treino G-LSSVM",
          "Treino G-LSSVM",
          "Treino G-LSSVM",
          "Treino G-LSSVM",
          "Treino G-LSSVM",
          "Treino G-LSSVM",
          "Treino G-LSSVM",
          "Treino G-LSSVM",
          "Treino G-LSSVM",
          "Treino G-LSSVM",
          "Treino G-LSSVM",
          "Treino G-LSSVM",
          "Treino G-LSSVM",
          "Treino G-LSSVM",
          "Treino G-LSSVM",
          "Treino G-LSSVM",
          "Treino G-LSSVM",
          "Treino G-LSSVM",
          "Treino G-LSSVM",
          "Treino G-LSSVM",
          "Treino G-LSSVM",
          "Treino G-LSSVM",
          "Treino G-LSSVM",
          "Treino G-LSSVM",
          "Treino G-LSSVM",
          "Treino G-LSSVM",
          "Treino G-LSSVM",
          "Treino G-LSSVM",
          "Treino G-LSSVM",
          "Treino G-LSSVM",
          "Treino G-LSSVM",
          "Treino G-LSSVM",
          "Treino G-LSSVM",
          "Treino G-LSSVM"
         ],
         "y": [
          86.45161290322581,
          84.51612903225806,
          81.29032258064515,
          83.87096774193549,
          92.90322580645162,
          87.09677419354838,
          85.80645161290322,
          85.80645161290322,
          85.16129032258064,
          79.35483870967742,
          88.38709677419355,
          90.32258064516128,
          89.03225806451613,
          83.22580645161291,
          88.38709677419355,
          86.45161290322581,
          88.38709677419355,
          88.38709677419355,
          86.45161290322581,
          88.38709677419355,
          85.80645161290322,
          87.74193548387098,
          80.64516129032258,
          90.32258064516128,
          82.58064516129032,
          87.74193548387098,
          87.09677419354838,
          90.32258064516128,
          91.61290322580645,
          90.32258064516128,
          90.96774193548387,
          80.64516129032258,
          83.87096774193549,
          88.38709677419355,
          81.29032258064515,
          87.74193548387098,
          87.09677419354838,
          86.45161290322581,
          88.38709677419355,
          86.45161290322581,
          87.09677419354838,
          99.35483870967742,
          89.03225806451613,
          85.80645161290322,
          88.38709677419355,
          83.87096774193549,
          85.80645161290322,
          91.61290322580645,
          83.87096774193549,
          83.22580645161291
         ]
        },
        {
         "boxmean": "sd",
         "marker": {
          "color": "rgba(93, 164, 214, 0.5)"
         },
         "name": "L-LSSVM",
         "type": "box",
         "x": [
          "Treino L-LSSVM",
          "Treino L-LSSVM",
          "Treino L-LSSVM",
          "Treino L-LSSVM",
          "Treino L-LSSVM",
          "Treino L-LSSVM",
          "Treino L-LSSVM",
          "Treino L-LSSVM",
          "Treino L-LSSVM",
          "Treino L-LSSVM",
          "Treino L-LSSVM",
          "Treino L-LSSVM",
          "Treino L-LSSVM",
          "Treino L-LSSVM",
          "Treino L-LSSVM",
          "Treino L-LSSVM",
          "Treino L-LSSVM",
          "Treino L-LSSVM",
          "Treino L-LSSVM",
          "Treino L-LSSVM",
          "Treino L-LSSVM",
          "Treino L-LSSVM",
          "Treino L-LSSVM",
          "Treino L-LSSVM",
          "Treino L-LSSVM",
          "Treino L-LSSVM",
          "Treino L-LSSVM",
          "Treino L-LSSVM",
          "Treino L-LSSVM",
          "Treino L-LSSVM",
          "Treino L-LSSVM",
          "Treino L-LSSVM",
          "Treino L-LSSVM",
          "Treino L-LSSVM",
          "Treino L-LSSVM",
          "Treino L-LSSVM",
          "Treino L-LSSVM",
          "Treino L-LSSVM",
          "Treino L-LSSVM",
          "Treino L-LSSVM",
          "Treino L-LSSVM",
          "Treino L-LSSVM",
          "Treino L-LSSVM",
          "Treino L-LSSVM",
          "Treino L-LSSVM",
          "Treino L-LSSVM",
          "Treino L-LSSVM",
          "Treino L-LSSVM",
          "Treino L-LSSVM",
          "Treino L-LSSVM"
         ],
         "y": [
          87.74193548387098,
          83.87096774193549,
          89.03225806451613,
          88.38709677419355,
          89.6774193548387,
          94.83870967741936,
          85.80645161290322,
          85.16129032258064,
          87.09677419354838,
          83.22580645161291,
          90.32258064516128,
          97.41935483870968,
          90.96774193548387,
          85.80645161290322,
          83.87096774193549,
          83.22580645161291,
          88.38709677419355,
          89.6774193548387,
          88.38709677419355,
          87.09677419354838,
          90.32258064516128,
          94.19354838709677,
          86.45161290322581,
          92.90322580645162,
          85.80645161290322,
          89.03225806451613,
          88.38709677419355,
          91.61290322580645,
          91.61290322580645,
          90.32258064516128,
          89.6774193548387,
          87.09677419354838,
          86.45161290322581,
          95.48387096774194,
          100,
          91.61290322580645,
          87.74193548387098,
          85.80645161290322,
          86.45161290322581,
          89.03225806451613,
          87.09677419354838,
          99.35483870967742,
          89.03225806451613,
          87.09677419354838,
          89.6774193548387,
          89.03225806451613,
          87.09677419354838,
          90.96774193548387,
          85.16129032258064,
          87.74193548387098
         ]
        },
        {
         "boxmean": "sd",
         "marker": {
          "color": "rgba(155, 89, 182,1.0)"
         },
         "name": "R-LSSVM",
         "type": "box",
         "x": [
          "Treino R-LSSVM",
          "Treino R-LSSVM",
          "Treino R-LSSVM",
          "Treino R-LSSVM",
          "Treino R-LSSVM",
          "Treino R-LSSVM",
          "Treino R-LSSVM",
          "Treino R-LSSVM",
          "Treino R-LSSVM",
          "Treino R-LSSVM",
          "Treino R-LSSVM",
          "Treino R-LSSVM",
          "Treino R-LSSVM",
          "Treino R-LSSVM",
          "Treino R-LSSVM",
          "Treino R-LSSVM",
          "Treino R-LSSVM",
          "Treino R-LSSVM",
          "Treino R-LSSVM",
          "Treino R-LSSVM",
          "Treino R-LSSVM",
          "Treino R-LSSVM",
          "Treino R-LSSVM",
          "Treino R-LSSVM",
          "Treino R-LSSVM",
          "Treino R-LSSVM",
          "Treino R-LSSVM",
          "Treino R-LSSVM",
          "Treino R-LSSVM",
          "Treino R-LSSVM",
          "Treino R-LSSVM",
          "Treino R-LSSVM",
          "Treino R-LSSVM",
          "Treino R-LSSVM",
          "Treino R-LSSVM",
          "Treino R-LSSVM",
          "Treino R-LSSVM",
          "Treino R-LSSVM",
          "Treino R-LSSVM",
          "Treino R-LSSVM",
          "Treino R-LSSVM",
          "Treino R-LSSVM",
          "Treino R-LSSVM",
          "Treino R-LSSVM",
          "Treino R-LSSVM",
          "Treino R-LSSVM",
          "Treino R-LSSVM",
          "Treino R-LSSVM",
          "Treino R-LSSVM",
          "Treino R-LSSVM"
         ],
         "y": [
          87.09677419354838,
          83.22580645161291,
          90.96774193548387,
          92.25806451612904,
          90.32258064516128,
          85.80645161290322,
          85.16129032258064,
          86.45161290322581,
          86.45161290322581,
          82.58064516129032,
          88.38709677419355,
          97.41935483870968,
          91.61290322580645,
          82.58064516129032,
          85.16129032258064,
          86.45161290322581,
          88.38709677419355,
          86.45161290322581,
          91.61290322580645,
          88.38709677419355,
          85.80645161290322,
          89.03225806451613,
          81.93548387096774,
          90.32258064516128,
          81.93548387096774,
          81.93548387096774,
          85.80645161290322,
          89.03225806451613,
          85.16129032258064,
          90.32258064516128,
          89.03225806451613,
          87.09677419354838,
          87.74193548387098,
          92.90322580645162,
          89.6774193548387,
          87.74193548387098,
          87.74193548387098,
          84.51612903225806,
          84.51612903225806,
          83.87096774193549,
          87.09677419354838,
          99.35483870967742,
          89.03225806451613,
          86.45161290322581,
          89.03225806451613,
          87.74193548387098,
          82.58064516129032,
          91.61290322580645,
          89.03225806451613,
          87.74193548387098
         ]
        },
        {
         "boxmean": "sd",
         "marker": {
          "color": "rgba(44, 160, 101, 0.5)"
         },
         "name": "G-LSSVM",
         "type": "box",
         "x": [
          "Teste G-LSSVM",
          "Teste G-LSSVM",
          "Teste G-LSSVM",
          "Teste G-LSSVM",
          "Teste G-LSSVM",
          "Teste G-LSSVM",
          "Teste G-LSSVM",
          "Teste G-LSSVM",
          "Teste G-LSSVM",
          "Teste G-LSSVM",
          "Teste G-LSSVM",
          "Teste G-LSSVM",
          "Teste G-LSSVM",
          "Teste G-LSSVM",
          "Teste G-LSSVM",
          "Teste G-LSSVM",
          "Teste G-LSSVM",
          "Teste G-LSSVM",
          "Teste G-LSSVM",
          "Teste G-LSSVM",
          "Teste G-LSSVM",
          "Teste G-LSSVM",
          "Teste G-LSSVM",
          "Teste G-LSSVM",
          "Teste G-LSSVM",
          "Teste G-LSSVM",
          "Teste G-LSSVM",
          "Teste G-LSSVM",
          "Teste G-LSSVM",
          "Teste G-LSSVM",
          "Teste G-LSSVM",
          "Teste G-LSSVM",
          "Teste G-LSSVM",
          "Teste G-LSSVM",
          "Teste G-LSSVM",
          "Teste G-LSSVM",
          "Teste G-LSSVM",
          "Teste G-LSSVM",
          "Teste G-LSSVM",
          "Teste G-LSSVM",
          "Teste G-LSSVM",
          "Teste G-LSSVM",
          "Teste G-LSSVM",
          "Teste G-LSSVM",
          "Teste G-LSSVM",
          "Teste G-LSSVM",
          "Teste G-LSSVM",
          "Teste G-LSSVM",
          "Teste G-LSSVM",
          "Teste G-LSSVM"
         ],
         "y": [
          82.58064516129032,
          87.74193548387098,
          79.35483870967742,
          89.03225806451613,
          81.29032258064515,
          79.35483870967742,
          86.45161290322581,
          87.74193548387098,
          81.29032258064515,
          76.77419354838709,
          82.58064516129032,
          83.22580645161291,
          82.58064516129032,
          85.80645161290322,
          80,
          85.16129032258064,
          83.87096774193549,
          84.51612903225806,
          85.16129032258064,
          80.64516129032258,
          85.80645161290322,
          83.87096774193549,
          82.58064516129032,
          82.58064516129032,
          83.87096774193549,
          87.09677419354838,
          85.80645161290322,
          80,
          81.29032258064515,
          81.29032258064515,
          83.87096774193549,
          80,
          78.06451612903226,
          83.87096774193549,
          89.6774193548387,
          81.93548387096774,
          81.93548387096774,
          87.09677419354838,
          83.87096774193549,
          81.93548387096774,
          83.22580645161291,
          74.19354838709677,
          82.58064516129032,
          86.45161290322581,
          85.80645161290322,
          85.80645161290322,
          87.74193548387098,
          80,
          86.45161290322581,
          75.48387096774194
         ]
        },
        {
         "boxmean": "sd",
         "marker": {
          "color": "rgba(93, 164, 214, 0.5)"
         },
         "name": "L-LSSVM",
         "type": "box",
         "x": [
          "Teste L-LSSVM",
          "Teste L-LSSVM",
          "Teste L-LSSVM",
          "Teste L-LSSVM",
          "Teste L-LSSVM",
          "Teste L-LSSVM",
          "Teste L-LSSVM",
          "Teste L-LSSVM",
          "Teste L-LSSVM",
          "Teste L-LSSVM",
          "Teste L-LSSVM",
          "Teste L-LSSVM",
          "Teste L-LSSVM",
          "Teste L-LSSVM",
          "Teste L-LSSVM",
          "Teste L-LSSVM",
          "Teste L-LSSVM",
          "Teste L-LSSVM",
          "Teste L-LSSVM",
          "Teste L-LSSVM",
          "Teste L-LSSVM",
          "Teste L-LSSVM",
          "Teste L-LSSVM",
          "Teste L-LSSVM",
          "Teste L-LSSVM",
          "Teste L-LSSVM",
          "Teste L-LSSVM",
          "Teste L-LSSVM",
          "Teste L-LSSVM",
          "Teste L-LSSVM",
          "Teste L-LSSVM",
          "Teste L-LSSVM",
          "Teste L-LSSVM",
          "Teste L-LSSVM",
          "Teste L-LSSVM",
          "Teste L-LSSVM",
          "Teste L-LSSVM",
          "Teste L-LSSVM",
          "Teste L-LSSVM",
          "Teste L-LSSVM",
          "Teste L-LSSVM",
          "Teste L-LSSVM",
          "Teste L-LSSVM",
          "Teste L-LSSVM",
          "Teste L-LSSVM",
          "Teste L-LSSVM",
          "Teste L-LSSVM",
          "Teste L-LSSVM",
          "Teste L-LSSVM",
          "Teste L-LSSVM"
         ],
         "y": [
          84.51612903225806,
          89.03225806451613,
          80,
          87.74193548387098,
          83.87096774193549,
          84.51612903225806,
          83.87096774193549,
          87.09677419354838,
          80,
          74.19354838709677,
          80.64516129032258,
          72.25806451612902,
          83.22580645161291,
          83.22580645161291,
          80,
          82.58064516129032,
          81.29032258064515,
          86.45161290322581,
          83.22580645161291,
          78.06451612903226,
          78.06451612903226,
          83.87096774193549,
          84.51612903225806,
          80,
          69.03225806451613,
          85.80645161290322,
          85.80645161290322,
          76.12903225806451,
          80.64516129032258,
          80.64516129032258,
          81.29032258064515,
          81.29032258064515,
          79.35483870967742,
          79.35483870967742,
          73.54838709677419,
          81.29032258064515,
          80.64516129032258,
          79.35483870967742,
          78.06451612903226,
          78.06451612903226,
          80,
          76.12903225806451,
          83.87096774193549,
          83.22580645161291,
          83.22580645161291,
          85.16129032258064,
          81.29032258064515,
          80.64516129032258,
          83.87096774193549,
          83.87096774193549
         ]
        },
        {
         "boxmean": "sd",
         "marker": {
          "color": "rgba(155, 89, 182,1.0)"
         },
         "name": "R-LSSVM",
         "type": "box",
         "x": [
          "Teste R-LSSVM",
          "Teste R-LSSVM",
          "Teste R-LSSVM",
          "Teste R-LSSVM",
          "Teste R-LSSVM",
          "Teste R-LSSVM",
          "Teste R-LSSVM",
          "Teste R-LSSVM",
          "Teste R-LSSVM",
          "Teste R-LSSVM",
          "Teste R-LSSVM",
          "Teste R-LSSVM",
          "Teste R-LSSVM",
          "Teste R-LSSVM",
          "Teste R-LSSVM",
          "Teste R-LSSVM",
          "Teste R-LSSVM",
          "Teste R-LSSVM",
          "Teste R-LSSVM",
          "Teste R-LSSVM",
          "Teste R-LSSVM",
          "Teste R-LSSVM",
          "Teste R-LSSVM",
          "Teste R-LSSVM",
          "Teste R-LSSVM",
          "Teste R-LSSVM",
          "Teste R-LSSVM",
          "Teste R-LSSVM",
          "Teste R-LSSVM",
          "Teste R-LSSVM",
          "Teste R-LSSVM",
          "Teste R-LSSVM",
          "Teste R-LSSVM",
          "Teste R-LSSVM",
          "Teste R-LSSVM",
          "Teste R-LSSVM",
          "Teste R-LSSVM",
          "Teste R-LSSVM",
          "Teste R-LSSVM",
          "Teste R-LSSVM",
          "Teste R-LSSVM",
          "Teste R-LSSVM",
          "Teste R-LSSVM",
          "Teste R-LSSVM",
          "Teste R-LSSVM",
          "Teste R-LSSVM",
          "Teste R-LSSVM",
          "Teste R-LSSVM",
          "Teste R-LSSVM",
          "Teste R-LSSVM"
         ],
         "y": [
          83.22580645161291,
          89.03225806451613,
          80,
          81.29032258064515,
          84.51612903225806,
          83.87096774193549,
          87.74193548387098,
          87.09677419354838,
          80,
          78.06451612903226,
          80.64516129032258,
          70.3225806451613,
          83.22580645161291,
          83.87096774193549,
          83.22580645161291,
          85.16129032258064,
          85.16129032258064,
          85.80645161290322,
          83.87096774193549,
          81.93548387096774,
          83.87096774193549,
          85.16129032258064,
          82.58064516129032,
          81.93548387096774,
          73.54838709677419,
          81.29032258064515,
          82.58064516129032,
          81.29032258064515,
          80,
          80,
          83.87096774193549,
          85.80645161290322,
          80.64516129032258,
          80.64516129032258,
          80,
          81.29032258064515,
          80.64516129032258,
          81.29032258064515,
          82.58064516129032,
          75.48387096774194,
          82.58064516129032,
          76.77419354838709,
          83.22580645161291,
          84.51612903225806,
          78.70967741935485,
          81.93548387096774,
          82.58064516129032,
          80,
          83.87096774193549,
          83.22580645161291
         ]
        },
        {
         "line": {
          "color": "RoyalBlue",
          "dash": "dashdot",
          "width": 2
         },
         "mode": "lines+markers",
         "showlegend": false,
         "type": "scatter",
         "x": [
          "Treino G-LSSVM",
          "Treino L-LSSVM",
          "Treino R-LSSVM",
          "Treino G-LSSVM"
         ],
         "y": [
          86.86451612903225,
          89.0451612903226,
          87.65161290322581,
          86.86451612903225
         ]
        },
        {
         "line": {
          "color": "RoyalBlue",
          "dash": "dashdot",
          "width": 2
         },
         "mode": "lines+markers",
         "showlegend": false,
         "type": "scatter",
         "x": [
          "Teste G-LSSVM",
          "Teste L-LSSVM",
          "Teste R-LSSVM",
          "Teste G-LSSVM"
         ],
         "y": [
          83.18709677419355,
          81.27741935483871,
          82,
          83.18709677419355
         ]
        }
       ],
       "layout": {
        "legend": {
         "x": 0.875,
         "y": 1
        },
        "margin": {
         "b": 20,
         "l": 20,
         "r": 5,
         "t": 5
        },
        "showlegend": false,
        "template": {
         "data": {
          "bar": [
           {
            "error_x": {
             "color": "#2a3f5f"
            },
            "error_y": {
             "color": "#2a3f5f"
            },
            "marker": {
             "line": {
              "color": "#E5ECF6",
              "width": 0.5
             },
             "pattern": {
              "fillmode": "overlay",
              "size": 10,
              "solidity": 0.2
             }
            },
            "type": "bar"
           }
          ],
          "barpolar": [
           {
            "marker": {
             "line": {
              "color": "#E5ECF6",
              "width": 0.5
             },
             "pattern": {
              "fillmode": "overlay",
              "size": 10,
              "solidity": 0.2
             }
            },
            "type": "barpolar"
           }
          ],
          "carpet": [
           {
            "aaxis": {
             "endlinecolor": "#2a3f5f",
             "gridcolor": "white",
             "linecolor": "white",
             "minorgridcolor": "white",
             "startlinecolor": "#2a3f5f"
            },
            "baxis": {
             "endlinecolor": "#2a3f5f",
             "gridcolor": "white",
             "linecolor": "white",
             "minorgridcolor": "white",
             "startlinecolor": "#2a3f5f"
            },
            "type": "carpet"
           }
          ],
          "choropleth": [
           {
            "colorbar": {
             "outlinewidth": 0,
             "ticks": ""
            },
            "type": "choropleth"
           }
          ],
          "contour": [
           {
            "colorbar": {
             "outlinewidth": 0,
             "ticks": ""
            },
            "colorscale": [
             [
              0,
              "#0d0887"
             ],
             [
              0.1111111111111111,
              "#46039f"
             ],
             [
              0.2222222222222222,
              "#7201a8"
             ],
             [
              0.3333333333333333,
              "#9c179e"
             ],
             [
              0.4444444444444444,
              "#bd3786"
             ],
             [
              0.5555555555555556,
              "#d8576b"
             ],
             [
              0.6666666666666666,
              "#ed7953"
             ],
             [
              0.7777777777777778,
              "#fb9f3a"
             ],
             [
              0.8888888888888888,
              "#fdca26"
             ],
             [
              1,
              "#f0f921"
             ]
            ],
            "type": "contour"
           }
          ],
          "contourcarpet": [
           {
            "colorbar": {
             "outlinewidth": 0,
             "ticks": ""
            },
            "type": "contourcarpet"
           }
          ],
          "heatmap": [
           {
            "colorbar": {
             "outlinewidth": 0,
             "ticks": ""
            },
            "colorscale": [
             [
              0,
              "#0d0887"
             ],
             [
              0.1111111111111111,
              "#46039f"
             ],
             [
              0.2222222222222222,
              "#7201a8"
             ],
             [
              0.3333333333333333,
              "#9c179e"
             ],
             [
              0.4444444444444444,
              "#bd3786"
             ],
             [
              0.5555555555555556,
              "#d8576b"
             ],
             [
              0.6666666666666666,
              "#ed7953"
             ],
             [
              0.7777777777777778,
              "#fb9f3a"
             ],
             [
              0.8888888888888888,
              "#fdca26"
             ],
             [
              1,
              "#f0f921"
             ]
            ],
            "type": "heatmap"
           }
          ],
          "heatmapgl": [
           {
            "colorbar": {
             "outlinewidth": 0,
             "ticks": ""
            },
            "colorscale": [
             [
              0,
              "#0d0887"
             ],
             [
              0.1111111111111111,
              "#46039f"
             ],
             [
              0.2222222222222222,
              "#7201a8"
             ],
             [
              0.3333333333333333,
              "#9c179e"
             ],
             [
              0.4444444444444444,
              "#bd3786"
             ],
             [
              0.5555555555555556,
              "#d8576b"
             ],
             [
              0.6666666666666666,
              "#ed7953"
             ],
             [
              0.7777777777777778,
              "#fb9f3a"
             ],
             [
              0.8888888888888888,
              "#fdca26"
             ],
             [
              1,
              "#f0f921"
             ]
            ],
            "type": "heatmapgl"
           }
          ],
          "histogram": [
           {
            "marker": {
             "pattern": {
              "fillmode": "overlay",
              "size": 10,
              "solidity": 0.2
             }
            },
            "type": "histogram"
           }
          ],
          "histogram2d": [
           {
            "colorbar": {
             "outlinewidth": 0,
             "ticks": ""
            },
            "colorscale": [
             [
              0,
              "#0d0887"
             ],
             [
              0.1111111111111111,
              "#46039f"
             ],
             [
              0.2222222222222222,
              "#7201a8"
             ],
             [
              0.3333333333333333,
              "#9c179e"
             ],
             [
              0.4444444444444444,
              "#bd3786"
             ],
             [
              0.5555555555555556,
              "#d8576b"
             ],
             [
              0.6666666666666666,
              "#ed7953"
             ],
             [
              0.7777777777777778,
              "#fb9f3a"
             ],
             [
              0.8888888888888888,
              "#fdca26"
             ],
             [
              1,
              "#f0f921"
             ]
            ],
            "type": "histogram2d"
           }
          ],
          "histogram2dcontour": [
           {
            "colorbar": {
             "outlinewidth": 0,
             "ticks": ""
            },
            "colorscale": [
             [
              0,
              "#0d0887"
             ],
             [
              0.1111111111111111,
              "#46039f"
             ],
             [
              0.2222222222222222,
              "#7201a8"
             ],
             [
              0.3333333333333333,
              "#9c179e"
             ],
             [
              0.4444444444444444,
              "#bd3786"
             ],
             [
              0.5555555555555556,
              "#d8576b"
             ],
             [
              0.6666666666666666,
              "#ed7953"
             ],
             [
              0.7777777777777778,
              "#fb9f3a"
             ],
             [
              0.8888888888888888,
              "#fdca26"
             ],
             [
              1,
              "#f0f921"
             ]
            ],
            "type": "histogram2dcontour"
           }
          ],
          "mesh3d": [
           {
            "colorbar": {
             "outlinewidth": 0,
             "ticks": ""
            },
            "type": "mesh3d"
           }
          ],
          "parcoords": [
           {
            "line": {
             "colorbar": {
              "outlinewidth": 0,
              "ticks": ""
             }
            },
            "type": "parcoords"
           }
          ],
          "pie": [
           {
            "automargin": true,
            "type": "pie"
           }
          ],
          "scatter": [
           {
            "marker": {
             "colorbar": {
              "outlinewidth": 0,
              "ticks": ""
             }
            },
            "type": "scatter"
           }
          ],
          "scatter3d": [
           {
            "line": {
             "colorbar": {
              "outlinewidth": 0,
              "ticks": ""
             }
            },
            "marker": {
             "colorbar": {
              "outlinewidth": 0,
              "ticks": ""
             }
            },
            "type": "scatter3d"
           }
          ],
          "scattercarpet": [
           {
            "marker": {
             "colorbar": {
              "outlinewidth": 0,
              "ticks": ""
             }
            },
            "type": "scattercarpet"
           }
          ],
          "scattergeo": [
           {
            "marker": {
             "colorbar": {
              "outlinewidth": 0,
              "ticks": ""
             }
            },
            "type": "scattergeo"
           }
          ],
          "scattergl": [
           {
            "marker": {
             "colorbar": {
              "outlinewidth": 0,
              "ticks": ""
             }
            },
            "type": "scattergl"
           }
          ],
          "scattermapbox": [
           {
            "marker": {
             "colorbar": {
              "outlinewidth": 0,
              "ticks": ""
             }
            },
            "type": "scattermapbox"
           }
          ],
          "scatterpolar": [
           {
            "marker": {
             "colorbar": {
              "outlinewidth": 0,
              "ticks": ""
             }
            },
            "type": "scatterpolar"
           }
          ],
          "scatterpolargl": [
           {
            "marker": {
             "colorbar": {
              "outlinewidth": 0,
              "ticks": ""
             }
            },
            "type": "scatterpolargl"
           }
          ],
          "scatterternary": [
           {
            "marker": {
             "colorbar": {
              "outlinewidth": 0,
              "ticks": ""
             }
            },
            "type": "scatterternary"
           }
          ],
          "surface": [
           {
            "colorbar": {
             "outlinewidth": 0,
             "ticks": ""
            },
            "colorscale": [
             [
              0,
              "#0d0887"
             ],
             [
              0.1111111111111111,
              "#46039f"
             ],
             [
              0.2222222222222222,
              "#7201a8"
             ],
             [
              0.3333333333333333,
              "#9c179e"
             ],
             [
              0.4444444444444444,
              "#bd3786"
             ],
             [
              0.5555555555555556,
              "#d8576b"
             ],
             [
              0.6666666666666666,
              "#ed7953"
             ],
             [
              0.7777777777777778,
              "#fb9f3a"
             ],
             [
              0.8888888888888888,
              "#fdca26"
             ],
             [
              1,
              "#f0f921"
             ]
            ],
            "type": "surface"
           }
          ],
          "table": [
           {
            "cells": {
             "fill": {
              "color": "#EBF0F8"
             },
             "line": {
              "color": "white"
             }
            },
            "header": {
             "fill": {
              "color": "#C8D4E3"
             },
             "line": {
              "color": "white"
             }
            },
            "type": "table"
           }
          ]
         },
         "layout": {
          "annotationdefaults": {
           "arrowcolor": "#2a3f5f",
           "arrowhead": 0,
           "arrowwidth": 1
          },
          "autotypenumbers": "strict",
          "coloraxis": {
           "colorbar": {
            "outlinewidth": 0,
            "ticks": ""
           }
          },
          "colorscale": {
           "diverging": [
            [
             0,
             "#8e0152"
            ],
            [
             0.1,
             "#c51b7d"
            ],
            [
             0.2,
             "#de77ae"
            ],
            [
             0.3,
             "#f1b6da"
            ],
            [
             0.4,
             "#fde0ef"
            ],
            [
             0.5,
             "#f7f7f7"
            ],
            [
             0.6,
             "#e6f5d0"
            ],
            [
             0.7,
             "#b8e186"
            ],
            [
             0.8,
             "#7fbc41"
            ],
            [
             0.9,
             "#4d9221"
            ],
            [
             1,
             "#276419"
            ]
           ],
           "sequential": [
            [
             0,
             "#0d0887"
            ],
            [
             0.1111111111111111,
             "#46039f"
            ],
            [
             0.2222222222222222,
             "#7201a8"
            ],
            [
             0.3333333333333333,
             "#9c179e"
            ],
            [
             0.4444444444444444,
             "#bd3786"
            ],
            [
             0.5555555555555556,
             "#d8576b"
            ],
            [
             0.6666666666666666,
             "#ed7953"
            ],
            [
             0.7777777777777778,
             "#fb9f3a"
            ],
            [
             0.8888888888888888,
             "#fdca26"
            ],
            [
             1,
             "#f0f921"
            ]
           ],
           "sequentialminus": [
            [
             0,
             "#0d0887"
            ],
            [
             0.1111111111111111,
             "#46039f"
            ],
            [
             0.2222222222222222,
             "#7201a8"
            ],
            [
             0.3333333333333333,
             "#9c179e"
            ],
            [
             0.4444444444444444,
             "#bd3786"
            ],
            [
             0.5555555555555556,
             "#d8576b"
            ],
            [
             0.6666666666666666,
             "#ed7953"
            ],
            [
             0.7777777777777778,
             "#fb9f3a"
            ],
            [
             0.8888888888888888,
             "#fdca26"
            ],
            [
             1,
             "#f0f921"
            ]
           ]
          },
          "colorway": [
           "#636efa",
           "#EF553B",
           "#00cc96",
           "#ab63fa",
           "#FFA15A",
           "#19d3f3",
           "#FF6692",
           "#B6E880",
           "#FF97FF",
           "#FECB52"
          ],
          "font": {
           "color": "#2a3f5f"
          },
          "geo": {
           "bgcolor": "white",
           "lakecolor": "white",
           "landcolor": "#E5ECF6",
           "showlakes": true,
           "showland": true,
           "subunitcolor": "white"
          },
          "hoverlabel": {
           "align": "left"
          },
          "hovermode": "closest",
          "mapbox": {
           "style": "light"
          },
          "paper_bgcolor": "white",
          "plot_bgcolor": "#E5ECF6",
          "polar": {
           "angularaxis": {
            "gridcolor": "white",
            "linecolor": "white",
            "ticks": ""
           },
           "bgcolor": "#E5ECF6",
           "radialaxis": {
            "gridcolor": "white",
            "linecolor": "white",
            "ticks": ""
           }
          },
          "scene": {
           "xaxis": {
            "backgroundcolor": "#E5ECF6",
            "gridcolor": "white",
            "gridwidth": 2,
            "linecolor": "white",
            "showbackground": true,
            "ticks": "",
            "zerolinecolor": "white"
           },
           "yaxis": {
            "backgroundcolor": "#E5ECF6",
            "gridcolor": "white",
            "gridwidth": 2,
            "linecolor": "white",
            "showbackground": true,
            "ticks": "",
            "zerolinecolor": "white"
           },
           "zaxis": {
            "backgroundcolor": "#E5ECF6",
            "gridcolor": "white",
            "gridwidth": 2,
            "linecolor": "white",
            "showbackground": true,
            "ticks": "",
            "zerolinecolor": "white"
           }
          },
          "shapedefaults": {
           "line": {
            "color": "#2a3f5f"
           }
          },
          "ternary": {
           "aaxis": {
            "gridcolor": "white",
            "linecolor": "white",
            "ticks": ""
           },
           "baxis": {
            "gridcolor": "white",
            "linecolor": "white",
            "ticks": ""
           },
           "bgcolor": "#E5ECF6",
           "caxis": {
            "gridcolor": "white",
            "linecolor": "white",
            "ticks": ""
           }
          },
          "title": {
           "x": 0.05
          },
          "xaxis": {
           "automargin": true,
           "gridcolor": "white",
           "linecolor": "white",
           "ticks": "",
           "title": {
            "standoff": 15
           },
           "zerolinecolor": "white",
           "zerolinewidth": 2
          },
          "yaxis": {
           "automargin": true,
           "gridcolor": "white",
           "linecolor": "white",
           "ticks": "",
           "title": {
            "standoff": 15
           },
           "zerolinecolor": "white",
           "zerolinewidth": 2
          }
         }
        },
        "yaxis": {
         "title": {
          "text": "Acurácia (%)"
         }
        }
       }
      },
      "text/html": [
       "<div>                            <div id=\"8cf5a4ff-c6c5-4291-b1a8-4725e3b5eb96\" class=\"plotly-graph-div\" style=\"height:525px; width:100%;\"></div>            <script type=\"text/javascript\">                require([\"plotly\"], function(Plotly) {                    window.PLOTLYENV=window.PLOTLYENV || {};                                    if (document.getElementById(\"8cf5a4ff-c6c5-4291-b1a8-4725e3b5eb96\")) {                    Plotly.newPlot(                        \"8cf5a4ff-c6c5-4291-b1a8-4725e3b5eb96\",                        [{\"boxmean\":\"sd\",\"marker\":{\"color\":\"rgba(44, 160, 101, 0.5)\"},\"name\":\"G-LSSVM\",\"x\":[\"Treino G-LSSVM\",\"Treino G-LSSVM\",\"Treino G-LSSVM\",\"Treino G-LSSVM\",\"Treino G-LSSVM\",\"Treino G-LSSVM\",\"Treino G-LSSVM\",\"Treino G-LSSVM\",\"Treino G-LSSVM\",\"Treino G-LSSVM\",\"Treino G-LSSVM\",\"Treino G-LSSVM\",\"Treino G-LSSVM\",\"Treino G-LSSVM\",\"Treino G-LSSVM\",\"Treino G-LSSVM\",\"Treino G-LSSVM\",\"Treino G-LSSVM\",\"Treino G-LSSVM\",\"Treino G-LSSVM\",\"Treino G-LSSVM\",\"Treino G-LSSVM\",\"Treino G-LSSVM\",\"Treino G-LSSVM\",\"Treino G-LSSVM\",\"Treino G-LSSVM\",\"Treino G-LSSVM\",\"Treino G-LSSVM\",\"Treino G-LSSVM\",\"Treino G-LSSVM\",\"Treino G-LSSVM\",\"Treino G-LSSVM\",\"Treino G-LSSVM\",\"Treino G-LSSVM\",\"Treino G-LSSVM\",\"Treino G-LSSVM\",\"Treino G-LSSVM\",\"Treino G-LSSVM\",\"Treino G-LSSVM\",\"Treino G-LSSVM\",\"Treino G-LSSVM\",\"Treino G-LSSVM\",\"Treino G-LSSVM\",\"Treino G-LSSVM\",\"Treino G-LSSVM\",\"Treino G-LSSVM\",\"Treino G-LSSVM\",\"Treino G-LSSVM\",\"Treino G-LSSVM\",\"Treino G-LSSVM\"],\"y\":[86.45161290322581,84.51612903225806,81.29032258064515,83.87096774193549,92.90322580645162,87.09677419354838,85.80645161290322,85.80645161290322,85.16129032258064,79.35483870967742,88.38709677419355,90.32258064516128,89.03225806451613,83.22580645161291,88.38709677419355,86.45161290322581,88.38709677419355,88.38709677419355,86.45161290322581,88.38709677419355,85.80645161290322,87.74193548387098,80.64516129032258,90.32258064516128,82.58064516129032,87.74193548387098,87.09677419354838,90.32258064516128,91.61290322580645,90.32258064516128,90.96774193548387,80.64516129032258,83.87096774193549,88.38709677419355,81.29032258064515,87.74193548387098,87.09677419354838,86.45161290322581,88.38709677419355,86.45161290322581,87.09677419354838,99.35483870967742,89.03225806451613,85.80645161290322,88.38709677419355,83.87096774193549,85.80645161290322,91.61290322580645,83.87096774193549,83.22580645161291],\"type\":\"box\"},{\"boxmean\":\"sd\",\"marker\":{\"color\":\"rgba(93, 164, 214, 0.5)\"},\"name\":\"L-LSSVM\",\"x\":[\"Treino L-LSSVM\",\"Treino L-LSSVM\",\"Treino L-LSSVM\",\"Treino L-LSSVM\",\"Treino L-LSSVM\",\"Treino L-LSSVM\",\"Treino L-LSSVM\",\"Treino L-LSSVM\",\"Treino L-LSSVM\",\"Treino L-LSSVM\",\"Treino L-LSSVM\",\"Treino L-LSSVM\",\"Treino L-LSSVM\",\"Treino L-LSSVM\",\"Treino L-LSSVM\",\"Treino L-LSSVM\",\"Treino L-LSSVM\",\"Treino L-LSSVM\",\"Treino L-LSSVM\",\"Treino L-LSSVM\",\"Treino L-LSSVM\",\"Treino L-LSSVM\",\"Treino L-LSSVM\",\"Treino L-LSSVM\",\"Treino L-LSSVM\",\"Treino L-LSSVM\",\"Treino L-LSSVM\",\"Treino L-LSSVM\",\"Treino L-LSSVM\",\"Treino L-LSSVM\",\"Treino L-LSSVM\",\"Treino L-LSSVM\",\"Treino L-LSSVM\",\"Treino L-LSSVM\",\"Treino L-LSSVM\",\"Treino L-LSSVM\",\"Treino L-LSSVM\",\"Treino L-LSSVM\",\"Treino L-LSSVM\",\"Treino L-LSSVM\",\"Treino L-LSSVM\",\"Treino L-LSSVM\",\"Treino L-LSSVM\",\"Treino L-LSSVM\",\"Treino L-LSSVM\",\"Treino L-LSSVM\",\"Treino L-LSSVM\",\"Treino L-LSSVM\",\"Treino L-LSSVM\",\"Treino L-LSSVM\"],\"y\":[87.74193548387098,83.87096774193549,89.03225806451613,88.38709677419355,89.6774193548387,94.83870967741936,85.80645161290322,85.16129032258064,87.09677419354838,83.22580645161291,90.32258064516128,97.41935483870968,90.96774193548387,85.80645161290322,83.87096774193549,83.22580645161291,88.38709677419355,89.6774193548387,88.38709677419355,87.09677419354838,90.32258064516128,94.19354838709677,86.45161290322581,92.90322580645162,85.80645161290322,89.03225806451613,88.38709677419355,91.61290322580645,91.61290322580645,90.32258064516128,89.6774193548387,87.09677419354838,86.45161290322581,95.48387096774194,100.0,91.61290322580645,87.74193548387098,85.80645161290322,86.45161290322581,89.03225806451613,87.09677419354838,99.35483870967742,89.03225806451613,87.09677419354838,89.6774193548387,89.03225806451613,87.09677419354838,90.96774193548387,85.16129032258064,87.74193548387098],\"type\":\"box\"},{\"boxmean\":\"sd\",\"marker\":{\"color\":\"rgba(155, 89, 182,1.0)\"},\"name\":\"R-LSSVM\",\"x\":[\"Treino R-LSSVM\",\"Treino R-LSSVM\",\"Treino R-LSSVM\",\"Treino R-LSSVM\",\"Treino R-LSSVM\",\"Treino R-LSSVM\",\"Treino R-LSSVM\",\"Treino R-LSSVM\",\"Treino R-LSSVM\",\"Treino R-LSSVM\",\"Treino R-LSSVM\",\"Treino R-LSSVM\",\"Treino R-LSSVM\",\"Treino R-LSSVM\",\"Treino R-LSSVM\",\"Treino R-LSSVM\",\"Treino R-LSSVM\",\"Treino R-LSSVM\",\"Treino R-LSSVM\",\"Treino R-LSSVM\",\"Treino R-LSSVM\",\"Treino R-LSSVM\",\"Treino R-LSSVM\",\"Treino R-LSSVM\",\"Treino R-LSSVM\",\"Treino R-LSSVM\",\"Treino R-LSSVM\",\"Treino R-LSSVM\",\"Treino R-LSSVM\",\"Treino R-LSSVM\",\"Treino R-LSSVM\",\"Treino R-LSSVM\",\"Treino R-LSSVM\",\"Treino R-LSSVM\",\"Treino R-LSSVM\",\"Treino R-LSSVM\",\"Treino R-LSSVM\",\"Treino R-LSSVM\",\"Treino R-LSSVM\",\"Treino R-LSSVM\",\"Treino R-LSSVM\",\"Treino R-LSSVM\",\"Treino R-LSSVM\",\"Treino R-LSSVM\",\"Treino R-LSSVM\",\"Treino R-LSSVM\",\"Treino R-LSSVM\",\"Treino R-LSSVM\",\"Treino R-LSSVM\",\"Treino R-LSSVM\"],\"y\":[87.09677419354838,83.22580645161291,90.96774193548387,92.25806451612904,90.32258064516128,85.80645161290322,85.16129032258064,86.45161290322581,86.45161290322581,82.58064516129032,88.38709677419355,97.41935483870968,91.61290322580645,82.58064516129032,85.16129032258064,86.45161290322581,88.38709677419355,86.45161290322581,91.61290322580645,88.38709677419355,85.80645161290322,89.03225806451613,81.93548387096774,90.32258064516128,81.93548387096774,81.93548387096774,85.80645161290322,89.03225806451613,85.16129032258064,90.32258064516128,89.03225806451613,87.09677419354838,87.74193548387098,92.90322580645162,89.6774193548387,87.74193548387098,87.74193548387098,84.51612903225806,84.51612903225806,83.87096774193549,87.09677419354838,99.35483870967742,89.03225806451613,86.45161290322581,89.03225806451613,87.74193548387098,82.58064516129032,91.61290322580645,89.03225806451613,87.74193548387098],\"type\":\"box\"},{\"boxmean\":\"sd\",\"marker\":{\"color\":\"rgba(44, 160, 101, 0.5)\"},\"name\":\"G-LSSVM\",\"x\":[\"Teste G-LSSVM\",\"Teste G-LSSVM\",\"Teste G-LSSVM\",\"Teste G-LSSVM\",\"Teste G-LSSVM\",\"Teste G-LSSVM\",\"Teste G-LSSVM\",\"Teste G-LSSVM\",\"Teste G-LSSVM\",\"Teste G-LSSVM\",\"Teste G-LSSVM\",\"Teste G-LSSVM\",\"Teste G-LSSVM\",\"Teste G-LSSVM\",\"Teste G-LSSVM\",\"Teste G-LSSVM\",\"Teste G-LSSVM\",\"Teste G-LSSVM\",\"Teste G-LSSVM\",\"Teste G-LSSVM\",\"Teste G-LSSVM\",\"Teste G-LSSVM\",\"Teste G-LSSVM\",\"Teste G-LSSVM\",\"Teste G-LSSVM\",\"Teste G-LSSVM\",\"Teste G-LSSVM\",\"Teste G-LSSVM\",\"Teste G-LSSVM\",\"Teste G-LSSVM\",\"Teste G-LSSVM\",\"Teste G-LSSVM\",\"Teste G-LSSVM\",\"Teste G-LSSVM\",\"Teste G-LSSVM\",\"Teste G-LSSVM\",\"Teste G-LSSVM\",\"Teste G-LSSVM\",\"Teste G-LSSVM\",\"Teste G-LSSVM\",\"Teste G-LSSVM\",\"Teste G-LSSVM\",\"Teste G-LSSVM\",\"Teste G-LSSVM\",\"Teste G-LSSVM\",\"Teste G-LSSVM\",\"Teste G-LSSVM\",\"Teste G-LSSVM\",\"Teste G-LSSVM\",\"Teste G-LSSVM\"],\"y\":[82.58064516129032,87.74193548387098,79.35483870967742,89.03225806451613,81.29032258064515,79.35483870967742,86.45161290322581,87.74193548387098,81.29032258064515,76.77419354838709,82.58064516129032,83.22580645161291,82.58064516129032,85.80645161290322,80.0,85.16129032258064,83.87096774193549,84.51612903225806,85.16129032258064,80.64516129032258,85.80645161290322,83.87096774193549,82.58064516129032,82.58064516129032,83.87096774193549,87.09677419354838,85.80645161290322,80.0,81.29032258064515,81.29032258064515,83.87096774193549,80.0,78.06451612903226,83.87096774193549,89.6774193548387,81.93548387096774,81.93548387096774,87.09677419354838,83.87096774193549,81.93548387096774,83.22580645161291,74.19354838709677,82.58064516129032,86.45161290322581,85.80645161290322,85.80645161290322,87.74193548387098,80.0,86.45161290322581,75.48387096774194],\"type\":\"box\"},{\"boxmean\":\"sd\",\"marker\":{\"color\":\"rgba(93, 164, 214, 0.5)\"},\"name\":\"L-LSSVM\",\"x\":[\"Teste L-LSSVM\",\"Teste L-LSSVM\",\"Teste L-LSSVM\",\"Teste L-LSSVM\",\"Teste L-LSSVM\",\"Teste L-LSSVM\",\"Teste L-LSSVM\",\"Teste L-LSSVM\",\"Teste L-LSSVM\",\"Teste L-LSSVM\",\"Teste L-LSSVM\",\"Teste L-LSSVM\",\"Teste L-LSSVM\",\"Teste L-LSSVM\",\"Teste L-LSSVM\",\"Teste L-LSSVM\",\"Teste L-LSSVM\",\"Teste L-LSSVM\",\"Teste L-LSSVM\",\"Teste L-LSSVM\",\"Teste L-LSSVM\",\"Teste L-LSSVM\",\"Teste L-LSSVM\",\"Teste L-LSSVM\",\"Teste L-LSSVM\",\"Teste L-LSSVM\",\"Teste L-LSSVM\",\"Teste L-LSSVM\",\"Teste L-LSSVM\",\"Teste L-LSSVM\",\"Teste L-LSSVM\",\"Teste L-LSSVM\",\"Teste L-LSSVM\",\"Teste L-LSSVM\",\"Teste L-LSSVM\",\"Teste L-LSSVM\",\"Teste L-LSSVM\",\"Teste L-LSSVM\",\"Teste L-LSSVM\",\"Teste L-LSSVM\",\"Teste L-LSSVM\",\"Teste L-LSSVM\",\"Teste L-LSSVM\",\"Teste L-LSSVM\",\"Teste L-LSSVM\",\"Teste L-LSSVM\",\"Teste L-LSSVM\",\"Teste L-LSSVM\",\"Teste L-LSSVM\",\"Teste L-LSSVM\"],\"y\":[84.51612903225806,89.03225806451613,80.0,87.74193548387098,83.87096774193549,84.51612903225806,83.87096774193549,87.09677419354838,80.0,74.19354838709677,80.64516129032258,72.25806451612902,83.22580645161291,83.22580645161291,80.0,82.58064516129032,81.29032258064515,86.45161290322581,83.22580645161291,78.06451612903226,78.06451612903226,83.87096774193549,84.51612903225806,80.0,69.03225806451613,85.80645161290322,85.80645161290322,76.12903225806451,80.64516129032258,80.64516129032258,81.29032258064515,81.29032258064515,79.35483870967742,79.35483870967742,73.54838709677419,81.29032258064515,80.64516129032258,79.35483870967742,78.06451612903226,78.06451612903226,80.0,76.12903225806451,83.87096774193549,83.22580645161291,83.22580645161291,85.16129032258064,81.29032258064515,80.64516129032258,83.87096774193549,83.87096774193549],\"type\":\"box\"},{\"boxmean\":\"sd\",\"marker\":{\"color\":\"rgba(155, 89, 182,1.0)\"},\"name\":\"R-LSSVM\",\"x\":[\"Teste R-LSSVM\",\"Teste R-LSSVM\",\"Teste R-LSSVM\",\"Teste R-LSSVM\",\"Teste R-LSSVM\",\"Teste R-LSSVM\",\"Teste R-LSSVM\",\"Teste R-LSSVM\",\"Teste R-LSSVM\",\"Teste R-LSSVM\",\"Teste R-LSSVM\",\"Teste R-LSSVM\",\"Teste R-LSSVM\",\"Teste R-LSSVM\",\"Teste R-LSSVM\",\"Teste R-LSSVM\",\"Teste R-LSSVM\",\"Teste R-LSSVM\",\"Teste R-LSSVM\",\"Teste R-LSSVM\",\"Teste R-LSSVM\",\"Teste R-LSSVM\",\"Teste R-LSSVM\",\"Teste R-LSSVM\",\"Teste R-LSSVM\",\"Teste R-LSSVM\",\"Teste R-LSSVM\",\"Teste R-LSSVM\",\"Teste R-LSSVM\",\"Teste R-LSSVM\",\"Teste R-LSSVM\",\"Teste R-LSSVM\",\"Teste R-LSSVM\",\"Teste R-LSSVM\",\"Teste R-LSSVM\",\"Teste R-LSSVM\",\"Teste R-LSSVM\",\"Teste R-LSSVM\",\"Teste R-LSSVM\",\"Teste R-LSSVM\",\"Teste R-LSSVM\",\"Teste R-LSSVM\",\"Teste R-LSSVM\",\"Teste R-LSSVM\",\"Teste R-LSSVM\",\"Teste R-LSSVM\",\"Teste R-LSSVM\",\"Teste R-LSSVM\",\"Teste R-LSSVM\",\"Teste R-LSSVM\"],\"y\":[83.22580645161291,89.03225806451613,80.0,81.29032258064515,84.51612903225806,83.87096774193549,87.74193548387098,87.09677419354838,80.0,78.06451612903226,80.64516129032258,70.3225806451613,83.22580645161291,83.87096774193549,83.22580645161291,85.16129032258064,85.16129032258064,85.80645161290322,83.87096774193549,81.93548387096774,83.87096774193549,85.16129032258064,82.58064516129032,81.93548387096774,73.54838709677419,81.29032258064515,82.58064516129032,81.29032258064515,80.0,80.0,83.87096774193549,85.80645161290322,80.64516129032258,80.64516129032258,80.0,81.29032258064515,80.64516129032258,81.29032258064515,82.58064516129032,75.48387096774194,82.58064516129032,76.77419354838709,83.22580645161291,84.51612903225806,78.70967741935485,81.93548387096774,82.58064516129032,80.0,83.87096774193549,83.22580645161291],\"type\":\"box\"},{\"line\":{\"color\":\"RoyalBlue\",\"dash\":\"dashdot\",\"width\":2},\"mode\":\"lines+markers\",\"showlegend\":false,\"x\":[\"Treino G-LSSVM\",\"Treino L-LSSVM\",\"Treino R-LSSVM\",\"Treino G-LSSVM\"],\"y\":[86.86451612903225,89.0451612903226,87.65161290322581,86.86451612903225],\"type\":\"scatter\"},{\"line\":{\"color\":\"RoyalBlue\",\"dash\":\"dashdot\",\"width\":2},\"mode\":\"lines+markers\",\"showlegend\":false,\"x\":[\"Teste G-LSSVM\",\"Teste L-LSSVM\",\"Teste R-LSSVM\",\"Teste G-LSSVM\"],\"y\":[83.18709677419355,81.27741935483871,82.0,83.18709677419355],\"type\":\"scatter\"}],                        {\"legend\":{\"x\":0.875,\"y\":1},\"showlegend\":false,\"yaxis\":{\"title\":{\"text\":\"Acur\\u00e1cia (%)\"}},\"template\":{\"data\":{\"bar\":[{\"error_x\":{\"color\":\"#2a3f5f\"},\"error_y\":{\"color\":\"#2a3f5f\"},\"marker\":{\"line\":{\"color\":\"#E5ECF6\",\"width\":0.5},\"pattern\":{\"fillmode\":\"overlay\",\"size\":10,\"solidity\":0.2}},\"type\":\"bar\"}],\"barpolar\":[{\"marker\":{\"line\":{\"color\":\"#E5ECF6\",\"width\":0.5},\"pattern\":{\"fillmode\":\"overlay\",\"size\":10,\"solidity\":0.2}},\"type\":\"barpolar\"}],\"carpet\":[{\"aaxis\":{\"endlinecolor\":\"#2a3f5f\",\"gridcolor\":\"white\",\"linecolor\":\"white\",\"minorgridcolor\":\"white\",\"startlinecolor\":\"#2a3f5f\"},\"baxis\":{\"endlinecolor\":\"#2a3f5f\",\"gridcolor\":\"white\",\"linecolor\":\"white\",\"minorgridcolor\":\"white\",\"startlinecolor\":\"#2a3f5f\"},\"type\":\"carpet\"}],\"choropleth\":[{\"colorbar\":{\"outlinewidth\":0,\"ticks\":\"\"},\"type\":\"choropleth\"}],\"contour\":[{\"colorbar\":{\"outlinewidth\":0,\"ticks\":\"\"},\"colorscale\":[[0.0,\"#0d0887\"],[0.1111111111111111,\"#46039f\"],[0.2222222222222222,\"#7201a8\"],[0.3333333333333333,\"#9c179e\"],[0.4444444444444444,\"#bd3786\"],[0.5555555555555556,\"#d8576b\"],[0.6666666666666666,\"#ed7953\"],[0.7777777777777778,\"#fb9f3a\"],[0.8888888888888888,\"#fdca26\"],[1.0,\"#f0f921\"]],\"type\":\"contour\"}],\"contourcarpet\":[{\"colorbar\":{\"outlinewidth\":0,\"ticks\":\"\"},\"type\":\"contourcarpet\"}],\"heatmap\":[{\"colorbar\":{\"outlinewidth\":0,\"ticks\":\"\"},\"colorscale\":[[0.0,\"#0d0887\"],[0.1111111111111111,\"#46039f\"],[0.2222222222222222,\"#7201a8\"],[0.3333333333333333,\"#9c179e\"],[0.4444444444444444,\"#bd3786\"],[0.5555555555555556,\"#d8576b\"],[0.6666666666666666,\"#ed7953\"],[0.7777777777777778,\"#fb9f3a\"],[0.8888888888888888,\"#fdca26\"],[1.0,\"#f0f921\"]],\"type\":\"heatmap\"}],\"heatmapgl\":[{\"colorbar\":{\"outlinewidth\":0,\"ticks\":\"\"},\"colorscale\":[[0.0,\"#0d0887\"],[0.1111111111111111,\"#46039f\"],[0.2222222222222222,\"#7201a8\"],[0.3333333333333333,\"#9c179e\"],[0.4444444444444444,\"#bd3786\"],[0.5555555555555556,\"#d8576b\"],[0.6666666666666666,\"#ed7953\"],[0.7777777777777778,\"#fb9f3a\"],[0.8888888888888888,\"#fdca26\"],[1.0,\"#f0f921\"]],\"type\":\"heatmapgl\"}],\"histogram\":[{\"marker\":{\"pattern\":{\"fillmode\":\"overlay\",\"size\":10,\"solidity\":0.2}},\"type\":\"histogram\"}],\"histogram2d\":[{\"colorbar\":{\"outlinewidth\":0,\"ticks\":\"\"},\"colorscale\":[[0.0,\"#0d0887\"],[0.1111111111111111,\"#46039f\"],[0.2222222222222222,\"#7201a8\"],[0.3333333333333333,\"#9c179e\"],[0.4444444444444444,\"#bd3786\"],[0.5555555555555556,\"#d8576b\"],[0.6666666666666666,\"#ed7953\"],[0.7777777777777778,\"#fb9f3a\"],[0.8888888888888888,\"#fdca26\"],[1.0,\"#f0f921\"]],\"type\":\"histogram2d\"}],\"histogram2dcontour\":[{\"colorbar\":{\"outlinewidth\":0,\"ticks\":\"\"},\"colorscale\":[[0.0,\"#0d0887\"],[0.1111111111111111,\"#46039f\"],[0.2222222222222222,\"#7201a8\"],[0.3333333333333333,\"#9c179e\"],[0.4444444444444444,\"#bd3786\"],[0.5555555555555556,\"#d8576b\"],[0.6666666666666666,\"#ed7953\"],[0.7777777777777778,\"#fb9f3a\"],[0.8888888888888888,\"#fdca26\"],[1.0,\"#f0f921\"]],\"type\":\"histogram2dcontour\"}],\"mesh3d\":[{\"colorbar\":{\"outlinewidth\":0,\"ticks\":\"\"},\"type\":\"mesh3d\"}],\"parcoords\":[{\"line\":{\"colorbar\":{\"outlinewidth\":0,\"ticks\":\"\"}},\"type\":\"parcoords\"}],\"pie\":[{\"automargin\":true,\"type\":\"pie\"}],\"scatter\":[{\"marker\":{\"colorbar\":{\"outlinewidth\":0,\"ticks\":\"\"}},\"type\":\"scatter\"}],\"scatter3d\":[{\"line\":{\"colorbar\":{\"outlinewidth\":0,\"ticks\":\"\"}},\"marker\":{\"colorbar\":{\"outlinewidth\":0,\"ticks\":\"\"}},\"type\":\"scatter3d\"}],\"scattercarpet\":[{\"marker\":{\"colorbar\":{\"outlinewidth\":0,\"ticks\":\"\"}},\"type\":\"scattercarpet\"}],\"scattergeo\":[{\"marker\":{\"colorbar\":{\"outlinewidth\":0,\"ticks\":\"\"}},\"type\":\"scattergeo\"}],\"scattergl\":[{\"marker\":{\"colorbar\":{\"outlinewidth\":0,\"ticks\":\"\"}},\"type\":\"scattergl\"}],\"scattermapbox\":[{\"marker\":{\"colorbar\":{\"outlinewidth\":0,\"ticks\":\"\"}},\"type\":\"scattermapbox\"}],\"scatterpolar\":[{\"marker\":{\"colorbar\":{\"outlinewidth\":0,\"ticks\":\"\"}},\"type\":\"scatterpolar\"}],\"scatterpolargl\":[{\"marker\":{\"colorbar\":{\"outlinewidth\":0,\"ticks\":\"\"}},\"type\":\"scatterpolargl\"}],\"scatterternary\":[{\"marker\":{\"colorbar\":{\"outlinewidth\":0,\"ticks\":\"\"}},\"type\":\"scatterternary\"}],\"surface\":[{\"colorbar\":{\"outlinewidth\":0,\"ticks\":\"\"},\"colorscale\":[[0.0,\"#0d0887\"],[0.1111111111111111,\"#46039f\"],[0.2222222222222222,\"#7201a8\"],[0.3333333333333333,\"#9c179e\"],[0.4444444444444444,\"#bd3786\"],[0.5555555555555556,\"#d8576b\"],[0.6666666666666666,\"#ed7953\"],[0.7777777777777778,\"#fb9f3a\"],[0.8888888888888888,\"#fdca26\"],[1.0,\"#f0f921\"]],\"type\":\"surface\"}],\"table\":[{\"cells\":{\"fill\":{\"color\":\"#EBF0F8\"},\"line\":{\"color\":\"white\"}},\"header\":{\"fill\":{\"color\":\"#C8D4E3\"},\"line\":{\"color\":\"white\"}},\"type\":\"table\"}]},\"layout\":{\"annotationdefaults\":{\"arrowcolor\":\"#2a3f5f\",\"arrowhead\":0,\"arrowwidth\":1},\"autotypenumbers\":\"strict\",\"coloraxis\":{\"colorbar\":{\"outlinewidth\":0,\"ticks\":\"\"}},\"colorscale\":{\"diverging\":[[0,\"#8e0152\"],[0.1,\"#c51b7d\"],[0.2,\"#de77ae\"],[0.3,\"#f1b6da\"],[0.4,\"#fde0ef\"],[0.5,\"#f7f7f7\"],[0.6,\"#e6f5d0\"],[0.7,\"#b8e186\"],[0.8,\"#7fbc41\"],[0.9,\"#4d9221\"],[1,\"#276419\"]],\"sequential\":[[0.0,\"#0d0887\"],[0.1111111111111111,\"#46039f\"],[0.2222222222222222,\"#7201a8\"],[0.3333333333333333,\"#9c179e\"],[0.4444444444444444,\"#bd3786\"],[0.5555555555555556,\"#d8576b\"],[0.6666666666666666,\"#ed7953\"],[0.7777777777777778,\"#fb9f3a\"],[0.8888888888888888,\"#fdca26\"],[1.0,\"#f0f921\"]],\"sequentialminus\":[[0.0,\"#0d0887\"],[0.1111111111111111,\"#46039f\"],[0.2222222222222222,\"#7201a8\"],[0.3333333333333333,\"#9c179e\"],[0.4444444444444444,\"#bd3786\"],[0.5555555555555556,\"#d8576b\"],[0.6666666666666666,\"#ed7953\"],[0.7777777777777778,\"#fb9f3a\"],[0.8888888888888888,\"#fdca26\"],[1.0,\"#f0f921\"]]},\"colorway\":[\"#636efa\",\"#EF553B\",\"#00cc96\",\"#ab63fa\",\"#FFA15A\",\"#19d3f3\",\"#FF6692\",\"#B6E880\",\"#FF97FF\",\"#FECB52\"],\"font\":{\"color\":\"#2a3f5f\"},\"geo\":{\"bgcolor\":\"white\",\"lakecolor\":\"white\",\"landcolor\":\"#E5ECF6\",\"showlakes\":true,\"showland\":true,\"subunitcolor\":\"white\"},\"hoverlabel\":{\"align\":\"left\"},\"hovermode\":\"closest\",\"mapbox\":{\"style\":\"light\"},\"paper_bgcolor\":\"white\",\"plot_bgcolor\":\"#E5ECF6\",\"polar\":{\"angularaxis\":{\"gridcolor\":\"white\",\"linecolor\":\"white\",\"ticks\":\"\"},\"bgcolor\":\"#E5ECF6\",\"radialaxis\":{\"gridcolor\":\"white\",\"linecolor\":\"white\",\"ticks\":\"\"}},\"scene\":{\"xaxis\":{\"backgroundcolor\":\"#E5ECF6\",\"gridcolor\":\"white\",\"gridwidth\":2,\"linecolor\":\"white\",\"showbackground\":true,\"ticks\":\"\",\"zerolinecolor\":\"white\"},\"yaxis\":{\"backgroundcolor\":\"#E5ECF6\",\"gridcolor\":\"white\",\"gridwidth\":2,\"linecolor\":\"white\",\"showbackground\":true,\"ticks\":\"\",\"zerolinecolor\":\"white\"},\"zaxis\":{\"backgroundcolor\":\"#E5ECF6\",\"gridcolor\":\"white\",\"gridwidth\":2,\"linecolor\":\"white\",\"showbackground\":true,\"ticks\":\"\",\"zerolinecolor\":\"white\"}},\"shapedefaults\":{\"line\":{\"color\":\"#2a3f5f\"}},\"ternary\":{\"aaxis\":{\"gridcolor\":\"white\",\"linecolor\":\"white\",\"ticks\":\"\"},\"baxis\":{\"gridcolor\":\"white\",\"linecolor\":\"white\",\"ticks\":\"\"},\"bgcolor\":\"#E5ECF6\",\"caxis\":{\"gridcolor\":\"white\",\"linecolor\":\"white\",\"ticks\":\"\"}},\"title\":{\"x\":0.05},\"xaxis\":{\"automargin\":true,\"gridcolor\":\"white\",\"linecolor\":\"white\",\"ticks\":\"\",\"title\":{\"standoff\":15},\"zerolinecolor\":\"white\",\"zerolinewidth\":2},\"yaxis\":{\"automargin\":true,\"gridcolor\":\"white\",\"linecolor\":\"white\",\"ticks\":\"\",\"title\":{\"standoff\":15},\"zerolinecolor\":\"white\",\"zerolinewidth\":2}}},\"margin\":{\"l\":20,\"r\":5,\"t\":5,\"b\":20}},                        {\"responsive\": true}                    ).then(function(){\n",
       "                            \n",
       "var gd = document.getElementById('8cf5a4ff-c6c5-4291-b1a8-4725e3b5eb96');\n",
       "var x = new MutationObserver(function (mutations, observer) {{\n",
       "        var display = window.getComputedStyle(gd).display;\n",
       "        if (!display || display === 'none') {{\n",
       "            console.log([gd, 'removed!']);\n",
       "            Plotly.purge(gd);\n",
       "            observer.disconnect();\n",
       "        }}\n",
       "}});\n",
       "\n",
       "// Listen for the removal of the full notebook cells\n",
       "var notebookContainer = gd.closest('#notebook-container');\n",
       "if (notebookContainer) {{\n",
       "    x.observe(notebookContainer, {childList: true});\n",
       "}}\n",
       "\n",
       "// Listen for the clearing of the current output cell\n",
       "var outputEl = gd.closest('.output');\n",
       "if (outputEl) {{\n",
       "    x.observe(outputEl, {childList: true});\n",
       "}}\n",
       "\n",
       "                        })                };                });            </script>        </div>"
      ]
     },
     "metadata": {},
     "output_type": "display_data"
    },
    {
     "data": {
      "text/html": [
       "<hr>"
      ],
      "text/plain": [
       "<IPython.core.display.HTML object>"
      ]
     },
     "metadata": {},
     "output_type": "display_data"
    },
    {
     "data": {
      "text/html": [
       "<center><h1>wf24f</h1></center>"
      ],
      "text/plain": [
       "<IPython.core.display.HTML object>"
      ]
     },
     "metadata": {},
     "output_type": "display_data"
    },
    {
     "data": {
      "application/vnd.plotly.v1+json": {
       "config": {
        "plotlyServerURL": "https://plotly.com"
       },
       "data": [
        {
         "boxmean": "sd",
         "marker": {
          "color": "rgba(44, 160, 101, 0.5)"
         },
         "name": "G-LSSVM",
         "type": "box",
         "x": [
          "Treino G-LSSVM",
          "Treino G-LSSVM",
          "Treino G-LSSVM",
          "Treino G-LSSVM",
          "Treino G-LSSVM",
          "Treino G-LSSVM",
          "Treino G-LSSVM",
          "Treino G-LSSVM",
          "Treino G-LSSVM",
          "Treino G-LSSVM",
          "Treino G-LSSVM",
          "Treino G-LSSVM",
          "Treino G-LSSVM",
          "Treino G-LSSVM",
          "Treino G-LSSVM",
          "Treino G-LSSVM",
          "Treino G-LSSVM",
          "Treino G-LSSVM",
          "Treino G-LSSVM",
          "Treino G-LSSVM",
          "Treino G-LSSVM",
          "Treino G-LSSVM",
          "Treino G-LSSVM",
          "Treino G-LSSVM",
          "Treino G-LSSVM",
          "Treino G-LSSVM",
          "Treino G-LSSVM",
          "Treino G-LSSVM",
          "Treino G-LSSVM",
          "Treino G-LSSVM",
          "Treino G-LSSVM",
          "Treino G-LSSVM",
          "Treino G-LSSVM",
          "Treino G-LSSVM",
          "Treino G-LSSVM",
          "Treino G-LSSVM",
          "Treino G-LSSVM",
          "Treino G-LSSVM",
          "Treino G-LSSVM",
          "Treino G-LSSVM",
          "Treino G-LSSVM",
          "Treino G-LSSVM",
          "Treino G-LSSVM",
          "Treino G-LSSVM",
          "Treino G-LSSVM",
          "Treino G-LSSVM",
          "Treino G-LSSVM",
          "Treino G-LSSVM",
          "Treino G-LSSVM",
          "Treino G-LSSVM"
         ],
         "y": [
          97.65395894428153,
          97.17741935483872,
          97.32404692082112,
          97.25073313782991,
          97.10410557184751,
          97.0307917888563,
          97.32404692082112,
          97.0307917888563,
          97.47067448680352,
          97.32404692082112,
          97.36070381231671,
          97.28739002932552,
          97.58064516129032,
          97.43401759530792,
          96.73753665689149,
          97.21407624633432,
          96.99413489736071,
          97.25073313782991,
          97.36070381231671,
          96.6642228739003,
          97.39736070381232,
          97.32404692082112,
          97.32404692082112,
          93.91495601173021,
          97.36070381231671,
          97.10410557184751,
          96.9574780058651,
          97.0674486803519,
          97.25073313782991,
          97.14076246334311,
          97.54398826979472,
          96.9574780058651,
          96.8108504398827,
          97.54398826979472,
          97.28739002932552,
          97.65395894428153,
          97.36070381231671,
          96.73753665689149,
          97.69061583577712,
          96.99413489736071,
          97.17741935483872,
          97.10410557184751,
          97.39736070381232,
          97.32404692082112,
          97.10410557184751,
          97.50733137829913,
          97.43401759530792,
          97.43401759530792,
          97.36070381231671,
          97.36070381231671
         ]
        },
        {
         "boxmean": "sd",
         "marker": {
          "color": "rgba(93, 164, 214, 0.5)"
         },
         "name": "L-LSSVM",
         "type": "box",
         "x": [
          "Treino L-LSSVM",
          "Treino L-LSSVM",
          "Treino L-LSSVM",
          "Treino L-LSSVM",
          "Treino L-LSSVM",
          "Treino L-LSSVM",
          "Treino L-LSSVM",
          "Treino L-LSSVM",
          "Treino L-LSSVM",
          "Treino L-LSSVM",
          "Treino L-LSSVM",
          "Treino L-LSSVM",
          "Treino L-LSSVM",
          "Treino L-LSSVM",
          "Treino L-LSSVM",
          "Treino L-LSSVM",
          "Treino L-LSSVM",
          "Treino L-LSSVM",
          "Treino L-LSSVM",
          "Treino L-LSSVM",
          "Treino L-LSSVM",
          "Treino L-LSSVM",
          "Treino L-LSSVM",
          "Treino L-LSSVM",
          "Treino L-LSSVM",
          "Treino L-LSSVM",
          "Treino L-LSSVM",
          "Treino L-LSSVM",
          "Treino L-LSSVM",
          "Treino L-LSSVM",
          "Treino L-LSSVM",
          "Treino L-LSSVM",
          "Treino L-LSSVM",
          "Treino L-LSSVM",
          "Treino L-LSSVM",
          "Treino L-LSSVM",
          "Treino L-LSSVM",
          "Treino L-LSSVM",
          "Treino L-LSSVM",
          "Treino L-LSSVM",
          "Treino L-LSSVM",
          "Treino L-LSSVM",
          "Treino L-LSSVM",
          "Treino L-LSSVM",
          "Treino L-LSSVM",
          "Treino L-LSSVM",
          "Treino L-LSSVM",
          "Treino L-LSSVM",
          "Treino L-LSSVM",
          "Treino L-LSSVM"
         ],
         "y": [
          98.24046920821115,
          97.87390029325513,
          97.61730205278593,
          97.76392961876833,
          97.58064516129032,
          97.65395894428153,
          97.83724340175954,
          97.47067448680352,
          97.76392961876833,
          97.72727272727273,
          97.65395894428153,
          97.65395894428153,
          98.05718475073314,
          97.91055718475073,
          97.28739002932552,
          97.28739002932552,
          97.39736070381232,
          97.54398826979472,
          97.76392961876833,
          97.58064516129032,
          97.91055718475073,
          97.72727272727273,
          97.91055718475073,
          97.65395894428153,
          97.54398826979472,
          97.58064516129032,
          97.17741935483872,
          97.47067448680352,
          97.54398826979472,
          97.54398826979472,
          97.83724340175954,
          97.36070381231671,
          97.21407624633432,
          97.94721407624634,
          97.65395894428153,
          98.09384164222874,
          97.72727272727273,
          97.21407624633432,
          98.16715542521995,
          97.21407624633432,
          97.83724340175954,
          97.36070381231671,
          97.94721407624634,
          97.83724340175954,
          97.61730205278593,
          97.76392961876833,
          98.38709677419355,
          97.87390029325513,
          98.09384164222874,
          97.83724340175954
         ]
        },
        {
         "boxmean": "sd",
         "marker": {
          "color": "rgba(155, 89, 182,1.0)"
         },
         "name": "R-LSSVM",
         "type": "box",
         "x": [
          "Treino R-LSSVM",
          "Treino R-LSSVM",
          "Treino R-LSSVM",
          "Treino R-LSSVM",
          "Treino R-LSSVM",
          "Treino R-LSSVM",
          "Treino R-LSSVM",
          "Treino R-LSSVM",
          "Treino R-LSSVM",
          "Treino R-LSSVM",
          "Treino R-LSSVM",
          "Treino R-LSSVM",
          "Treino R-LSSVM",
          "Treino R-LSSVM",
          "Treino R-LSSVM",
          "Treino R-LSSVM",
          "Treino R-LSSVM",
          "Treino R-LSSVM",
          "Treino R-LSSVM",
          "Treino R-LSSVM",
          "Treino R-LSSVM",
          "Treino R-LSSVM",
          "Treino R-LSSVM",
          "Treino R-LSSVM",
          "Treino R-LSSVM",
          "Treino R-LSSVM",
          "Treino R-LSSVM",
          "Treino R-LSSVM",
          "Treino R-LSSVM",
          "Treino R-LSSVM",
          "Treino R-LSSVM",
          "Treino R-LSSVM",
          "Treino R-LSSVM",
          "Treino R-LSSVM",
          "Treino R-LSSVM",
          "Treino R-LSSVM",
          "Treino R-LSSVM",
          "Treino R-LSSVM",
          "Treino R-LSSVM",
          "Treino R-LSSVM",
          "Treino R-LSSVM",
          "Treino R-LSSVM",
          "Treino R-LSSVM",
          "Treino R-LSSVM",
          "Treino R-LSSVM",
          "Treino R-LSSVM",
          "Treino R-LSSVM",
          "Treino R-LSSVM",
          "Treino R-LSSVM",
          "Treino R-LSSVM"
         ],
         "y": [
          98.24046920821115,
          97.50733137829913,
          97.58064516129032,
          97.65395894428153,
          97.58064516129032,
          97.65395894428153,
          98.05718475073314,
          97.28739002932552,
          97.94721407624634,
          97.80058651026393,
          97.91055718475073,
          97.69061583577712,
          98.16715542521995,
          97.87390029325513,
          97.14076246334311,
          97.87390029325513,
          97.54398826979472,
          97.50733137829913,
          97.72727272727273,
          97.32404692082112,
          97.61730205278593,
          97.76392961876833,
          97.98387096774194,
          97.39736070381232,
          97.58064516129032,
          97.58064516129032,
          97.36070381231671,
          97.50733137829913,
          97.54398826979472,
          97.54398826979472,
          98.20381231671554,
          97.32404692082112,
          97.21407624633432,
          97.91055718475073,
          97.83724340175954,
          98.16715542521995,
          97.65395894428153,
          97.47067448680352,
          98.20381231671554,
          97.32404692082112,
          97.65395894428153,
          97.43401759530792,
          97.98387096774194,
          96.5909090909091,
          97.50733137829913,
          97.65395894428153,
          97.69061583577712,
          97.61730205278593,
          98.27712609970675,
          97.83724340175954
         ]
        },
        {
         "boxmean": "sd",
         "marker": {
          "color": "rgba(44, 160, 101, 0.5)"
         },
         "name": "G-LSSVM",
         "type": "box",
         "x": [
          "Teste G-LSSVM",
          "Teste G-LSSVM",
          "Teste G-LSSVM",
          "Teste G-LSSVM",
          "Teste G-LSSVM",
          "Teste G-LSSVM",
          "Teste G-LSSVM",
          "Teste G-LSSVM",
          "Teste G-LSSVM",
          "Teste G-LSSVM",
          "Teste G-LSSVM",
          "Teste G-LSSVM",
          "Teste G-LSSVM",
          "Teste G-LSSVM",
          "Teste G-LSSVM",
          "Teste G-LSSVM",
          "Teste G-LSSVM",
          "Teste G-LSSVM",
          "Teste G-LSSVM",
          "Teste G-LSSVM",
          "Teste G-LSSVM",
          "Teste G-LSSVM",
          "Teste G-LSSVM",
          "Teste G-LSSVM",
          "Teste G-LSSVM",
          "Teste G-LSSVM",
          "Teste G-LSSVM",
          "Teste G-LSSVM",
          "Teste G-LSSVM",
          "Teste G-LSSVM",
          "Teste G-LSSVM",
          "Teste G-LSSVM",
          "Teste G-LSSVM",
          "Teste G-LSSVM",
          "Teste G-LSSVM",
          "Teste G-LSSVM",
          "Teste G-LSSVM",
          "Teste G-LSSVM",
          "Teste G-LSSVM",
          "Teste G-LSSVM",
          "Teste G-LSSVM",
          "Teste G-LSSVM",
          "Teste G-LSSVM",
          "Teste G-LSSVM",
          "Teste G-LSSVM",
          "Teste G-LSSVM",
          "Teste G-LSSVM",
          "Teste G-LSSVM",
          "Teste G-LSSVM",
          "Teste G-LSSVM"
         ],
         "y": [
          91.09237536656892,
          90.87243401759531,
          91.89882697947213,
          91.45894428152492,
          90.76246334310851,
          90.4692082111437,
          90.9457478005865,
          90.5425219941349,
          91.34897360703812,
          90.32258064516128,
          90.9457478005865,
          91.23900293255132,
          90.76246334310851,
          90.7258064516129,
          91.23900293255132,
          91.09237536656892,
          90.5791788856305,
          91.86217008797654,
          91.16568914956011,
          91.27565982404691,
          91.23900293255132,
          91.56891495601172,
          91.34897360703812,
          89.91935483870968,
          91.49560117302052,
          91.89882697947213,
          91.16568914956011,
          90.39589442815249,
          91.01906158357771,
          91.20234604105572,
          91.12903225806451,
          92.30205278592375,
          91.56891495601172,
          90.28592375366568,
          91.09237536656892,
          90.4325513196481,
          90.6524926686217,
          91.93548387096774,
          91.01906158357771,
          91.31231671554252,
          91.49560117302052,
          91.78885630498533,
          91.64222873900293,
          90.06598240469208,
          91.89882697947213,
          90.6158357771261,
          90.7258064516129,
          90.7258064516129,
          91.38563049853371,
          90.9090909090909
         ]
        },
        {
         "boxmean": "sd",
         "marker": {
          "color": "rgba(93, 164, 214, 0.5)"
         },
         "name": "L-LSSVM",
         "type": "box",
         "x": [
          "Teste L-LSSVM",
          "Teste L-LSSVM",
          "Teste L-LSSVM",
          "Teste L-LSSVM",
          "Teste L-LSSVM",
          "Teste L-LSSVM",
          "Teste L-LSSVM",
          "Teste L-LSSVM",
          "Teste L-LSSVM",
          "Teste L-LSSVM",
          "Teste L-LSSVM",
          "Teste L-LSSVM",
          "Teste L-LSSVM",
          "Teste L-LSSVM",
          "Teste L-LSSVM",
          "Teste L-LSSVM",
          "Teste L-LSSVM",
          "Teste L-LSSVM",
          "Teste L-LSSVM",
          "Teste L-LSSVM",
          "Teste L-LSSVM",
          "Teste L-LSSVM",
          "Teste L-LSSVM",
          "Teste L-LSSVM",
          "Teste L-LSSVM",
          "Teste L-LSSVM",
          "Teste L-LSSVM",
          "Teste L-LSSVM",
          "Teste L-LSSVM",
          "Teste L-LSSVM",
          "Teste L-LSSVM",
          "Teste L-LSSVM",
          "Teste L-LSSVM",
          "Teste L-LSSVM",
          "Teste L-LSSVM",
          "Teste L-LSSVM",
          "Teste L-LSSVM",
          "Teste L-LSSVM",
          "Teste L-LSSVM",
          "Teste L-LSSVM",
          "Teste L-LSSVM",
          "Teste L-LSSVM",
          "Teste L-LSSVM",
          "Teste L-LSSVM",
          "Teste L-LSSVM",
          "Teste L-LSSVM",
          "Teste L-LSSVM",
          "Teste L-LSSVM",
          "Teste L-LSSVM",
          "Teste L-LSSVM"
         ],
         "y": [
          91.12903225806451,
          89.77272727272727,
          91.53225806451613,
          91.16568914956011,
          90.02932551319648,
          90.5425219941349,
          90.6158357771261,
          90.06598240469208,
          90.9457478005865,
          89.80938416422288,
          90.02932551319648,
          90.98240469208211,
          90.50586510263929,
          91.0557184750733,
          90.5791788856305,
          88.01319648093842,
          89.84604105571847,
          91.23900293255132,
          90.98240469208211,
          90.7991202346041,
          91.16568914956011,
          91.31231671554252,
          91.23900293255132,
          91.23900293255132,
          91.09237536656892,
          92.00879765395894,
          91.0557184750733,
          90.32258064516128,
          90.87243401759531,
          90.7991202346041,
          90.50586510263929,
          91.56891495601172,
          91.42228739002933,
          90.39589442815249,
          90.6158357771261,
          90.4692082111437,
          90.4325513196481,
          91.64222873900293,
          88.74633431085044,
          90.5425219941349,
          90.9090909090909,
          91.49560117302052,
          90.4325513196481,
          90.10263929618768,
          90.8357771260997,
          89.99266862170087,
          89.11290322580645,
          90.17595307917888,
          90.32258064516128,
          90.13929618768329
         ]
        },
        {
         "boxmean": "sd",
         "marker": {
          "color": "rgba(155, 89, 182,1.0)"
         },
         "name": "R-LSSVM",
         "type": "box",
         "x": [
          "Teste R-LSSVM",
          "Teste R-LSSVM",
          "Teste R-LSSVM",
          "Teste R-LSSVM",
          "Teste R-LSSVM",
          "Teste R-LSSVM",
          "Teste R-LSSVM",
          "Teste R-LSSVM",
          "Teste R-LSSVM",
          "Teste R-LSSVM",
          "Teste R-LSSVM",
          "Teste R-LSSVM",
          "Teste R-LSSVM",
          "Teste R-LSSVM",
          "Teste R-LSSVM",
          "Teste R-LSSVM",
          "Teste R-LSSVM",
          "Teste R-LSSVM",
          "Teste R-LSSVM",
          "Teste R-LSSVM",
          "Teste R-LSSVM",
          "Teste R-LSSVM",
          "Teste R-LSSVM",
          "Teste R-LSSVM",
          "Teste R-LSSVM",
          "Teste R-LSSVM",
          "Teste R-LSSVM",
          "Teste R-LSSVM",
          "Teste R-LSSVM",
          "Teste R-LSSVM",
          "Teste R-LSSVM",
          "Teste R-LSSVM",
          "Teste R-LSSVM",
          "Teste R-LSSVM",
          "Teste R-LSSVM",
          "Teste R-LSSVM",
          "Teste R-LSSVM",
          "Teste R-LSSVM",
          "Teste R-LSSVM",
          "Teste R-LSSVM",
          "Teste R-LSSVM",
          "Teste R-LSSVM",
          "Teste R-LSSVM",
          "Teste R-LSSVM",
          "Teste R-LSSVM",
          "Teste R-LSSVM",
          "Teste R-LSSVM",
          "Teste R-LSSVM",
          "Teste R-LSSVM",
          "Teste R-LSSVM"
         ],
         "y": [
          90.9090909090909,
          90.32258064516128,
          90.6524926686217,
          91.31231671554252,
          90.21260997067448,
          90.9090909090909,
          90.7258064516129,
          90.02932551319648,
          90.50586510263929,
          90.28592375366568,
          89.80938416422288,
          90.6524926686217,
          90.32258064516128,
          90.35923753665689,
          90.87243401759531,
          90.28592375366568,
          90.5791788856305,
          91.53225806451613,
          90.98240469208211,
          90.8357771260997,
          91.09237536656892,
          91.27565982404691,
          90.9090909090909,
          91.12903225806451,
          91.53225806451613,
          91.49560117302052,
          90.5791788856305,
          90.39589442815249,
          90.7991202346041,
          90.4325513196481,
          89.69941348973607,
          91.75219941348973,
          91.16568914956011,
          90.6524926686217,
          90.98240469208211,
          90.4325513196481,
          90.50586510263929,
          92.08211143695014,
          91.0557184750733,
          90.6524926686217,
          91.49560117302052,
          91.78885630498533,
          90.87243401759531,
          89.18621700879766,
          91.38563049853371,
          90.28592375366568,
          90.6524926686217,
          90.5425219941349,
          89.25953079178885,
          89.91935483870968
         ]
        },
        {
         "line": {
          "color": "RoyalBlue",
          "dash": "dashdot",
          "width": 2
         },
         "mode": "lines+markers",
         "showlegend": false,
         "type": "scatter",
         "x": [
          "Treino G-LSSVM",
          "Treino L-LSSVM",
          "Treino R-LSSVM",
          "Treino G-LSSVM"
         ],
         "y": [
          97.1840175953079,
          97.69428152492668,
          97.6700879765396,
          97.1840175953079
         ]
        },
        {
         "line": {
          "color": "RoyalBlue",
          "dash": "dashdot",
          "width": 2
         },
         "mode": "lines+markers",
         "showlegend": false,
         "type": "scatter",
         "x": [
          "Teste G-LSSVM",
          "Teste L-LSSVM",
          "Teste R-LSSVM",
          "Teste G-LSSVM"
         ],
         "y": [
          91.09677419354837,
          90.61217008797654,
          90.72214076246333,
          91.09677419354837
         ]
        }
       ],
       "layout": {
        "legend": {
         "x": 0.875,
         "y": 1
        },
        "margin": {
         "b": 20,
         "l": 20,
         "r": 5,
         "t": 5
        },
        "showlegend": false,
        "template": {
         "data": {
          "bar": [
           {
            "error_x": {
             "color": "#2a3f5f"
            },
            "error_y": {
             "color": "#2a3f5f"
            },
            "marker": {
             "line": {
              "color": "#E5ECF6",
              "width": 0.5
             },
             "pattern": {
              "fillmode": "overlay",
              "size": 10,
              "solidity": 0.2
             }
            },
            "type": "bar"
           }
          ],
          "barpolar": [
           {
            "marker": {
             "line": {
              "color": "#E5ECF6",
              "width": 0.5
             },
             "pattern": {
              "fillmode": "overlay",
              "size": 10,
              "solidity": 0.2
             }
            },
            "type": "barpolar"
           }
          ],
          "carpet": [
           {
            "aaxis": {
             "endlinecolor": "#2a3f5f",
             "gridcolor": "white",
             "linecolor": "white",
             "minorgridcolor": "white",
             "startlinecolor": "#2a3f5f"
            },
            "baxis": {
             "endlinecolor": "#2a3f5f",
             "gridcolor": "white",
             "linecolor": "white",
             "minorgridcolor": "white",
             "startlinecolor": "#2a3f5f"
            },
            "type": "carpet"
           }
          ],
          "choropleth": [
           {
            "colorbar": {
             "outlinewidth": 0,
             "ticks": ""
            },
            "type": "choropleth"
           }
          ],
          "contour": [
           {
            "colorbar": {
             "outlinewidth": 0,
             "ticks": ""
            },
            "colorscale": [
             [
              0,
              "#0d0887"
             ],
             [
              0.1111111111111111,
              "#46039f"
             ],
             [
              0.2222222222222222,
              "#7201a8"
             ],
             [
              0.3333333333333333,
              "#9c179e"
             ],
             [
              0.4444444444444444,
              "#bd3786"
             ],
             [
              0.5555555555555556,
              "#d8576b"
             ],
             [
              0.6666666666666666,
              "#ed7953"
             ],
             [
              0.7777777777777778,
              "#fb9f3a"
             ],
             [
              0.8888888888888888,
              "#fdca26"
             ],
             [
              1,
              "#f0f921"
             ]
            ],
            "type": "contour"
           }
          ],
          "contourcarpet": [
           {
            "colorbar": {
             "outlinewidth": 0,
             "ticks": ""
            },
            "type": "contourcarpet"
           }
          ],
          "heatmap": [
           {
            "colorbar": {
             "outlinewidth": 0,
             "ticks": ""
            },
            "colorscale": [
             [
              0,
              "#0d0887"
             ],
             [
              0.1111111111111111,
              "#46039f"
             ],
             [
              0.2222222222222222,
              "#7201a8"
             ],
             [
              0.3333333333333333,
              "#9c179e"
             ],
             [
              0.4444444444444444,
              "#bd3786"
             ],
             [
              0.5555555555555556,
              "#d8576b"
             ],
             [
              0.6666666666666666,
              "#ed7953"
             ],
             [
              0.7777777777777778,
              "#fb9f3a"
             ],
             [
              0.8888888888888888,
              "#fdca26"
             ],
             [
              1,
              "#f0f921"
             ]
            ],
            "type": "heatmap"
           }
          ],
          "heatmapgl": [
           {
            "colorbar": {
             "outlinewidth": 0,
             "ticks": ""
            },
            "colorscale": [
             [
              0,
              "#0d0887"
             ],
             [
              0.1111111111111111,
              "#46039f"
             ],
             [
              0.2222222222222222,
              "#7201a8"
             ],
             [
              0.3333333333333333,
              "#9c179e"
             ],
             [
              0.4444444444444444,
              "#bd3786"
             ],
             [
              0.5555555555555556,
              "#d8576b"
             ],
             [
              0.6666666666666666,
              "#ed7953"
             ],
             [
              0.7777777777777778,
              "#fb9f3a"
             ],
             [
              0.8888888888888888,
              "#fdca26"
             ],
             [
              1,
              "#f0f921"
             ]
            ],
            "type": "heatmapgl"
           }
          ],
          "histogram": [
           {
            "marker": {
             "pattern": {
              "fillmode": "overlay",
              "size": 10,
              "solidity": 0.2
             }
            },
            "type": "histogram"
           }
          ],
          "histogram2d": [
           {
            "colorbar": {
             "outlinewidth": 0,
             "ticks": ""
            },
            "colorscale": [
             [
              0,
              "#0d0887"
             ],
             [
              0.1111111111111111,
              "#46039f"
             ],
             [
              0.2222222222222222,
              "#7201a8"
             ],
             [
              0.3333333333333333,
              "#9c179e"
             ],
             [
              0.4444444444444444,
              "#bd3786"
             ],
             [
              0.5555555555555556,
              "#d8576b"
             ],
             [
              0.6666666666666666,
              "#ed7953"
             ],
             [
              0.7777777777777778,
              "#fb9f3a"
             ],
             [
              0.8888888888888888,
              "#fdca26"
             ],
             [
              1,
              "#f0f921"
             ]
            ],
            "type": "histogram2d"
           }
          ],
          "histogram2dcontour": [
           {
            "colorbar": {
             "outlinewidth": 0,
             "ticks": ""
            },
            "colorscale": [
             [
              0,
              "#0d0887"
             ],
             [
              0.1111111111111111,
              "#46039f"
             ],
             [
              0.2222222222222222,
              "#7201a8"
             ],
             [
              0.3333333333333333,
              "#9c179e"
             ],
             [
              0.4444444444444444,
              "#bd3786"
             ],
             [
              0.5555555555555556,
              "#d8576b"
             ],
             [
              0.6666666666666666,
              "#ed7953"
             ],
             [
              0.7777777777777778,
              "#fb9f3a"
             ],
             [
              0.8888888888888888,
              "#fdca26"
             ],
             [
              1,
              "#f0f921"
             ]
            ],
            "type": "histogram2dcontour"
           }
          ],
          "mesh3d": [
           {
            "colorbar": {
             "outlinewidth": 0,
             "ticks": ""
            },
            "type": "mesh3d"
           }
          ],
          "parcoords": [
           {
            "line": {
             "colorbar": {
              "outlinewidth": 0,
              "ticks": ""
             }
            },
            "type": "parcoords"
           }
          ],
          "pie": [
           {
            "automargin": true,
            "type": "pie"
           }
          ],
          "scatter": [
           {
            "marker": {
             "colorbar": {
              "outlinewidth": 0,
              "ticks": ""
             }
            },
            "type": "scatter"
           }
          ],
          "scatter3d": [
           {
            "line": {
             "colorbar": {
              "outlinewidth": 0,
              "ticks": ""
             }
            },
            "marker": {
             "colorbar": {
              "outlinewidth": 0,
              "ticks": ""
             }
            },
            "type": "scatter3d"
           }
          ],
          "scattercarpet": [
           {
            "marker": {
             "colorbar": {
              "outlinewidth": 0,
              "ticks": ""
             }
            },
            "type": "scattercarpet"
           }
          ],
          "scattergeo": [
           {
            "marker": {
             "colorbar": {
              "outlinewidth": 0,
              "ticks": ""
             }
            },
            "type": "scattergeo"
           }
          ],
          "scattergl": [
           {
            "marker": {
             "colorbar": {
              "outlinewidth": 0,
              "ticks": ""
             }
            },
            "type": "scattergl"
           }
          ],
          "scattermapbox": [
           {
            "marker": {
             "colorbar": {
              "outlinewidth": 0,
              "ticks": ""
             }
            },
            "type": "scattermapbox"
           }
          ],
          "scatterpolar": [
           {
            "marker": {
             "colorbar": {
              "outlinewidth": 0,
              "ticks": ""
             }
            },
            "type": "scatterpolar"
           }
          ],
          "scatterpolargl": [
           {
            "marker": {
             "colorbar": {
              "outlinewidth": 0,
              "ticks": ""
             }
            },
            "type": "scatterpolargl"
           }
          ],
          "scatterternary": [
           {
            "marker": {
             "colorbar": {
              "outlinewidth": 0,
              "ticks": ""
             }
            },
            "type": "scatterternary"
           }
          ],
          "surface": [
           {
            "colorbar": {
             "outlinewidth": 0,
             "ticks": ""
            },
            "colorscale": [
             [
              0,
              "#0d0887"
             ],
             [
              0.1111111111111111,
              "#46039f"
             ],
             [
              0.2222222222222222,
              "#7201a8"
             ],
             [
              0.3333333333333333,
              "#9c179e"
             ],
             [
              0.4444444444444444,
              "#bd3786"
             ],
             [
              0.5555555555555556,
              "#d8576b"
             ],
             [
              0.6666666666666666,
              "#ed7953"
             ],
             [
              0.7777777777777778,
              "#fb9f3a"
             ],
             [
              0.8888888888888888,
              "#fdca26"
             ],
             [
              1,
              "#f0f921"
             ]
            ],
            "type": "surface"
           }
          ],
          "table": [
           {
            "cells": {
             "fill": {
              "color": "#EBF0F8"
             },
             "line": {
              "color": "white"
             }
            },
            "header": {
             "fill": {
              "color": "#C8D4E3"
             },
             "line": {
              "color": "white"
             }
            },
            "type": "table"
           }
          ]
         },
         "layout": {
          "annotationdefaults": {
           "arrowcolor": "#2a3f5f",
           "arrowhead": 0,
           "arrowwidth": 1
          },
          "autotypenumbers": "strict",
          "coloraxis": {
           "colorbar": {
            "outlinewidth": 0,
            "ticks": ""
           }
          },
          "colorscale": {
           "diverging": [
            [
             0,
             "#8e0152"
            ],
            [
             0.1,
             "#c51b7d"
            ],
            [
             0.2,
             "#de77ae"
            ],
            [
             0.3,
             "#f1b6da"
            ],
            [
             0.4,
             "#fde0ef"
            ],
            [
             0.5,
             "#f7f7f7"
            ],
            [
             0.6,
             "#e6f5d0"
            ],
            [
             0.7,
             "#b8e186"
            ],
            [
             0.8,
             "#7fbc41"
            ],
            [
             0.9,
             "#4d9221"
            ],
            [
             1,
             "#276419"
            ]
           ],
           "sequential": [
            [
             0,
             "#0d0887"
            ],
            [
             0.1111111111111111,
             "#46039f"
            ],
            [
             0.2222222222222222,
             "#7201a8"
            ],
            [
             0.3333333333333333,
             "#9c179e"
            ],
            [
             0.4444444444444444,
             "#bd3786"
            ],
            [
             0.5555555555555556,
             "#d8576b"
            ],
            [
             0.6666666666666666,
             "#ed7953"
            ],
            [
             0.7777777777777778,
             "#fb9f3a"
            ],
            [
             0.8888888888888888,
             "#fdca26"
            ],
            [
             1,
             "#f0f921"
            ]
           ],
           "sequentialminus": [
            [
             0,
             "#0d0887"
            ],
            [
             0.1111111111111111,
             "#46039f"
            ],
            [
             0.2222222222222222,
             "#7201a8"
            ],
            [
             0.3333333333333333,
             "#9c179e"
            ],
            [
             0.4444444444444444,
             "#bd3786"
            ],
            [
             0.5555555555555556,
             "#d8576b"
            ],
            [
             0.6666666666666666,
             "#ed7953"
            ],
            [
             0.7777777777777778,
             "#fb9f3a"
            ],
            [
             0.8888888888888888,
             "#fdca26"
            ],
            [
             1,
             "#f0f921"
            ]
           ]
          },
          "colorway": [
           "#636efa",
           "#EF553B",
           "#00cc96",
           "#ab63fa",
           "#FFA15A",
           "#19d3f3",
           "#FF6692",
           "#B6E880",
           "#FF97FF",
           "#FECB52"
          ],
          "font": {
           "color": "#2a3f5f"
          },
          "geo": {
           "bgcolor": "white",
           "lakecolor": "white",
           "landcolor": "#E5ECF6",
           "showlakes": true,
           "showland": true,
           "subunitcolor": "white"
          },
          "hoverlabel": {
           "align": "left"
          },
          "hovermode": "closest",
          "mapbox": {
           "style": "light"
          },
          "paper_bgcolor": "white",
          "plot_bgcolor": "#E5ECF6",
          "polar": {
           "angularaxis": {
            "gridcolor": "white",
            "linecolor": "white",
            "ticks": ""
           },
           "bgcolor": "#E5ECF6",
           "radialaxis": {
            "gridcolor": "white",
            "linecolor": "white",
            "ticks": ""
           }
          },
          "scene": {
           "xaxis": {
            "backgroundcolor": "#E5ECF6",
            "gridcolor": "white",
            "gridwidth": 2,
            "linecolor": "white",
            "showbackground": true,
            "ticks": "",
            "zerolinecolor": "white"
           },
           "yaxis": {
            "backgroundcolor": "#E5ECF6",
            "gridcolor": "white",
            "gridwidth": 2,
            "linecolor": "white",
            "showbackground": true,
            "ticks": "",
            "zerolinecolor": "white"
           },
           "zaxis": {
            "backgroundcolor": "#E5ECF6",
            "gridcolor": "white",
            "gridwidth": 2,
            "linecolor": "white",
            "showbackground": true,
            "ticks": "",
            "zerolinecolor": "white"
           }
          },
          "shapedefaults": {
           "line": {
            "color": "#2a3f5f"
           }
          },
          "ternary": {
           "aaxis": {
            "gridcolor": "white",
            "linecolor": "white",
            "ticks": ""
           },
           "baxis": {
            "gridcolor": "white",
            "linecolor": "white",
            "ticks": ""
           },
           "bgcolor": "#E5ECF6",
           "caxis": {
            "gridcolor": "white",
            "linecolor": "white",
            "ticks": ""
           }
          },
          "title": {
           "x": 0.05
          },
          "xaxis": {
           "automargin": true,
           "gridcolor": "white",
           "linecolor": "white",
           "ticks": "",
           "title": {
            "standoff": 15
           },
           "zerolinecolor": "white",
           "zerolinewidth": 2
          },
          "yaxis": {
           "automargin": true,
           "gridcolor": "white",
           "linecolor": "white",
           "ticks": "",
           "title": {
            "standoff": 15
           },
           "zerolinecolor": "white",
           "zerolinewidth": 2
          }
         }
        },
        "yaxis": {
         "title": {
          "text": "Acurácia (%)"
         }
        }
       }
      },
      "text/html": [
       "<div>                            <div id=\"a79f2ba3-bc01-4952-b5d1-ddc4c1e9d51c\" class=\"plotly-graph-div\" style=\"height:525px; width:100%;\"></div>            <script type=\"text/javascript\">                require([\"plotly\"], function(Plotly) {                    window.PLOTLYENV=window.PLOTLYENV || {};                                    if (document.getElementById(\"a79f2ba3-bc01-4952-b5d1-ddc4c1e9d51c\")) {                    Plotly.newPlot(                        \"a79f2ba3-bc01-4952-b5d1-ddc4c1e9d51c\",                        [{\"boxmean\":\"sd\",\"marker\":{\"color\":\"rgba(44, 160, 101, 0.5)\"},\"name\":\"G-LSSVM\",\"x\":[\"Treino G-LSSVM\",\"Treino G-LSSVM\",\"Treino G-LSSVM\",\"Treino G-LSSVM\",\"Treino G-LSSVM\",\"Treino G-LSSVM\",\"Treino G-LSSVM\",\"Treino G-LSSVM\",\"Treino G-LSSVM\",\"Treino G-LSSVM\",\"Treino G-LSSVM\",\"Treino G-LSSVM\",\"Treino G-LSSVM\",\"Treino G-LSSVM\",\"Treino G-LSSVM\",\"Treino G-LSSVM\",\"Treino G-LSSVM\",\"Treino G-LSSVM\",\"Treino G-LSSVM\",\"Treino G-LSSVM\",\"Treino G-LSSVM\",\"Treino G-LSSVM\",\"Treino G-LSSVM\",\"Treino G-LSSVM\",\"Treino G-LSSVM\",\"Treino G-LSSVM\",\"Treino G-LSSVM\",\"Treino G-LSSVM\",\"Treino G-LSSVM\",\"Treino G-LSSVM\",\"Treino G-LSSVM\",\"Treino G-LSSVM\",\"Treino G-LSSVM\",\"Treino G-LSSVM\",\"Treino G-LSSVM\",\"Treino G-LSSVM\",\"Treino G-LSSVM\",\"Treino G-LSSVM\",\"Treino G-LSSVM\",\"Treino G-LSSVM\",\"Treino G-LSSVM\",\"Treino G-LSSVM\",\"Treino G-LSSVM\",\"Treino G-LSSVM\",\"Treino G-LSSVM\",\"Treino G-LSSVM\",\"Treino G-LSSVM\",\"Treino G-LSSVM\",\"Treino G-LSSVM\",\"Treino G-LSSVM\"],\"y\":[97.65395894428153,97.17741935483872,97.32404692082112,97.25073313782991,97.10410557184751,97.0307917888563,97.32404692082112,97.0307917888563,97.47067448680352,97.32404692082112,97.36070381231671,97.28739002932552,97.58064516129032,97.43401759530792,96.73753665689149,97.21407624633432,96.99413489736071,97.25073313782991,97.36070381231671,96.6642228739003,97.39736070381232,97.32404692082112,97.32404692082112,93.91495601173021,97.36070381231671,97.10410557184751,96.9574780058651,97.0674486803519,97.25073313782991,97.14076246334311,97.54398826979472,96.9574780058651,96.8108504398827,97.54398826979472,97.28739002932552,97.65395894428153,97.36070381231671,96.73753665689149,97.69061583577712,96.99413489736071,97.17741935483872,97.10410557184751,97.39736070381232,97.32404692082112,97.10410557184751,97.50733137829913,97.43401759530792,97.43401759530792,97.36070381231671,97.36070381231671],\"type\":\"box\"},{\"boxmean\":\"sd\",\"marker\":{\"color\":\"rgba(93, 164, 214, 0.5)\"},\"name\":\"L-LSSVM\",\"x\":[\"Treino L-LSSVM\",\"Treino L-LSSVM\",\"Treino L-LSSVM\",\"Treino L-LSSVM\",\"Treino L-LSSVM\",\"Treino L-LSSVM\",\"Treino L-LSSVM\",\"Treino L-LSSVM\",\"Treino L-LSSVM\",\"Treino L-LSSVM\",\"Treino L-LSSVM\",\"Treino L-LSSVM\",\"Treino L-LSSVM\",\"Treino L-LSSVM\",\"Treino L-LSSVM\",\"Treino L-LSSVM\",\"Treino L-LSSVM\",\"Treino L-LSSVM\",\"Treino L-LSSVM\",\"Treino L-LSSVM\",\"Treino L-LSSVM\",\"Treino L-LSSVM\",\"Treino L-LSSVM\",\"Treino L-LSSVM\",\"Treino L-LSSVM\",\"Treino L-LSSVM\",\"Treino L-LSSVM\",\"Treino L-LSSVM\",\"Treino L-LSSVM\",\"Treino L-LSSVM\",\"Treino L-LSSVM\",\"Treino L-LSSVM\",\"Treino L-LSSVM\",\"Treino L-LSSVM\",\"Treino L-LSSVM\",\"Treino L-LSSVM\",\"Treino L-LSSVM\",\"Treino L-LSSVM\",\"Treino L-LSSVM\",\"Treino L-LSSVM\",\"Treino L-LSSVM\",\"Treino L-LSSVM\",\"Treino L-LSSVM\",\"Treino L-LSSVM\",\"Treino L-LSSVM\",\"Treino L-LSSVM\",\"Treino L-LSSVM\",\"Treino L-LSSVM\",\"Treino L-LSSVM\",\"Treino L-LSSVM\"],\"y\":[98.24046920821115,97.87390029325513,97.61730205278593,97.76392961876833,97.58064516129032,97.65395894428153,97.83724340175954,97.47067448680352,97.76392961876833,97.72727272727273,97.65395894428153,97.65395894428153,98.05718475073314,97.91055718475073,97.28739002932552,97.28739002932552,97.39736070381232,97.54398826979472,97.76392961876833,97.58064516129032,97.91055718475073,97.72727272727273,97.91055718475073,97.65395894428153,97.54398826979472,97.58064516129032,97.17741935483872,97.47067448680352,97.54398826979472,97.54398826979472,97.83724340175954,97.36070381231671,97.21407624633432,97.94721407624634,97.65395894428153,98.09384164222874,97.72727272727273,97.21407624633432,98.16715542521995,97.21407624633432,97.83724340175954,97.36070381231671,97.94721407624634,97.83724340175954,97.61730205278593,97.76392961876833,98.38709677419355,97.87390029325513,98.09384164222874,97.83724340175954],\"type\":\"box\"},{\"boxmean\":\"sd\",\"marker\":{\"color\":\"rgba(155, 89, 182,1.0)\"},\"name\":\"R-LSSVM\",\"x\":[\"Treino R-LSSVM\",\"Treino R-LSSVM\",\"Treino R-LSSVM\",\"Treino R-LSSVM\",\"Treino R-LSSVM\",\"Treino R-LSSVM\",\"Treino R-LSSVM\",\"Treino R-LSSVM\",\"Treino R-LSSVM\",\"Treino R-LSSVM\",\"Treino R-LSSVM\",\"Treino R-LSSVM\",\"Treino R-LSSVM\",\"Treino R-LSSVM\",\"Treino R-LSSVM\",\"Treino R-LSSVM\",\"Treino R-LSSVM\",\"Treino R-LSSVM\",\"Treino R-LSSVM\",\"Treino R-LSSVM\",\"Treino R-LSSVM\",\"Treino R-LSSVM\",\"Treino R-LSSVM\",\"Treino R-LSSVM\",\"Treino R-LSSVM\",\"Treino R-LSSVM\",\"Treino R-LSSVM\",\"Treino R-LSSVM\",\"Treino R-LSSVM\",\"Treino R-LSSVM\",\"Treino R-LSSVM\",\"Treino R-LSSVM\",\"Treino R-LSSVM\",\"Treino R-LSSVM\",\"Treino R-LSSVM\",\"Treino R-LSSVM\",\"Treino R-LSSVM\",\"Treino R-LSSVM\",\"Treino R-LSSVM\",\"Treino R-LSSVM\",\"Treino R-LSSVM\",\"Treino R-LSSVM\",\"Treino R-LSSVM\",\"Treino R-LSSVM\",\"Treino R-LSSVM\",\"Treino R-LSSVM\",\"Treino R-LSSVM\",\"Treino R-LSSVM\",\"Treino R-LSSVM\",\"Treino R-LSSVM\"],\"y\":[98.24046920821115,97.50733137829913,97.58064516129032,97.65395894428153,97.58064516129032,97.65395894428153,98.05718475073314,97.28739002932552,97.94721407624634,97.80058651026393,97.91055718475073,97.69061583577712,98.16715542521995,97.87390029325513,97.14076246334311,97.87390029325513,97.54398826979472,97.50733137829913,97.72727272727273,97.32404692082112,97.61730205278593,97.76392961876833,97.98387096774194,97.39736070381232,97.58064516129032,97.58064516129032,97.36070381231671,97.50733137829913,97.54398826979472,97.54398826979472,98.20381231671554,97.32404692082112,97.21407624633432,97.91055718475073,97.83724340175954,98.16715542521995,97.65395894428153,97.47067448680352,98.20381231671554,97.32404692082112,97.65395894428153,97.43401759530792,97.98387096774194,96.5909090909091,97.50733137829913,97.65395894428153,97.69061583577712,97.61730205278593,98.27712609970675,97.83724340175954],\"type\":\"box\"},{\"boxmean\":\"sd\",\"marker\":{\"color\":\"rgba(44, 160, 101, 0.5)\"},\"name\":\"G-LSSVM\",\"x\":[\"Teste G-LSSVM\",\"Teste G-LSSVM\",\"Teste G-LSSVM\",\"Teste G-LSSVM\",\"Teste G-LSSVM\",\"Teste G-LSSVM\",\"Teste G-LSSVM\",\"Teste G-LSSVM\",\"Teste G-LSSVM\",\"Teste G-LSSVM\",\"Teste G-LSSVM\",\"Teste G-LSSVM\",\"Teste G-LSSVM\",\"Teste G-LSSVM\",\"Teste G-LSSVM\",\"Teste G-LSSVM\",\"Teste G-LSSVM\",\"Teste G-LSSVM\",\"Teste G-LSSVM\",\"Teste G-LSSVM\",\"Teste G-LSSVM\",\"Teste G-LSSVM\",\"Teste G-LSSVM\",\"Teste G-LSSVM\",\"Teste G-LSSVM\",\"Teste G-LSSVM\",\"Teste G-LSSVM\",\"Teste G-LSSVM\",\"Teste G-LSSVM\",\"Teste G-LSSVM\",\"Teste G-LSSVM\",\"Teste G-LSSVM\",\"Teste G-LSSVM\",\"Teste G-LSSVM\",\"Teste G-LSSVM\",\"Teste G-LSSVM\",\"Teste G-LSSVM\",\"Teste G-LSSVM\",\"Teste G-LSSVM\",\"Teste G-LSSVM\",\"Teste G-LSSVM\",\"Teste G-LSSVM\",\"Teste G-LSSVM\",\"Teste G-LSSVM\",\"Teste G-LSSVM\",\"Teste G-LSSVM\",\"Teste G-LSSVM\",\"Teste G-LSSVM\",\"Teste G-LSSVM\",\"Teste G-LSSVM\"],\"y\":[91.09237536656892,90.87243401759531,91.89882697947213,91.45894428152492,90.76246334310851,90.4692082111437,90.9457478005865,90.5425219941349,91.34897360703812,90.32258064516128,90.9457478005865,91.23900293255132,90.76246334310851,90.7258064516129,91.23900293255132,91.09237536656892,90.5791788856305,91.86217008797654,91.16568914956011,91.27565982404691,91.23900293255132,91.56891495601172,91.34897360703812,89.91935483870968,91.49560117302052,91.89882697947213,91.16568914956011,90.39589442815249,91.01906158357771,91.20234604105572,91.12903225806451,92.30205278592375,91.56891495601172,90.28592375366568,91.09237536656892,90.4325513196481,90.6524926686217,91.93548387096774,91.01906158357771,91.31231671554252,91.49560117302052,91.78885630498533,91.64222873900293,90.06598240469208,91.89882697947213,90.6158357771261,90.7258064516129,90.7258064516129,91.38563049853371,90.9090909090909],\"type\":\"box\"},{\"boxmean\":\"sd\",\"marker\":{\"color\":\"rgba(93, 164, 214, 0.5)\"},\"name\":\"L-LSSVM\",\"x\":[\"Teste L-LSSVM\",\"Teste L-LSSVM\",\"Teste L-LSSVM\",\"Teste L-LSSVM\",\"Teste L-LSSVM\",\"Teste L-LSSVM\",\"Teste L-LSSVM\",\"Teste L-LSSVM\",\"Teste L-LSSVM\",\"Teste L-LSSVM\",\"Teste L-LSSVM\",\"Teste L-LSSVM\",\"Teste L-LSSVM\",\"Teste L-LSSVM\",\"Teste L-LSSVM\",\"Teste L-LSSVM\",\"Teste L-LSSVM\",\"Teste L-LSSVM\",\"Teste L-LSSVM\",\"Teste L-LSSVM\",\"Teste L-LSSVM\",\"Teste L-LSSVM\",\"Teste L-LSSVM\",\"Teste L-LSSVM\",\"Teste L-LSSVM\",\"Teste L-LSSVM\",\"Teste L-LSSVM\",\"Teste L-LSSVM\",\"Teste L-LSSVM\",\"Teste L-LSSVM\",\"Teste L-LSSVM\",\"Teste L-LSSVM\",\"Teste L-LSSVM\",\"Teste L-LSSVM\",\"Teste L-LSSVM\",\"Teste L-LSSVM\",\"Teste L-LSSVM\",\"Teste L-LSSVM\",\"Teste L-LSSVM\",\"Teste L-LSSVM\",\"Teste L-LSSVM\",\"Teste L-LSSVM\",\"Teste L-LSSVM\",\"Teste L-LSSVM\",\"Teste L-LSSVM\",\"Teste L-LSSVM\",\"Teste L-LSSVM\",\"Teste L-LSSVM\",\"Teste L-LSSVM\",\"Teste L-LSSVM\"],\"y\":[91.12903225806451,89.77272727272727,91.53225806451613,91.16568914956011,90.02932551319648,90.5425219941349,90.6158357771261,90.06598240469208,90.9457478005865,89.80938416422288,90.02932551319648,90.98240469208211,90.50586510263929,91.0557184750733,90.5791788856305,88.01319648093842,89.84604105571847,91.23900293255132,90.98240469208211,90.7991202346041,91.16568914956011,91.31231671554252,91.23900293255132,91.23900293255132,91.09237536656892,92.00879765395894,91.0557184750733,90.32258064516128,90.87243401759531,90.7991202346041,90.50586510263929,91.56891495601172,91.42228739002933,90.39589442815249,90.6158357771261,90.4692082111437,90.4325513196481,91.64222873900293,88.74633431085044,90.5425219941349,90.9090909090909,91.49560117302052,90.4325513196481,90.10263929618768,90.8357771260997,89.99266862170087,89.11290322580645,90.17595307917888,90.32258064516128,90.13929618768329],\"type\":\"box\"},{\"boxmean\":\"sd\",\"marker\":{\"color\":\"rgba(155, 89, 182,1.0)\"},\"name\":\"R-LSSVM\",\"x\":[\"Teste R-LSSVM\",\"Teste R-LSSVM\",\"Teste R-LSSVM\",\"Teste R-LSSVM\",\"Teste R-LSSVM\",\"Teste R-LSSVM\",\"Teste R-LSSVM\",\"Teste R-LSSVM\",\"Teste R-LSSVM\",\"Teste R-LSSVM\",\"Teste R-LSSVM\",\"Teste R-LSSVM\",\"Teste R-LSSVM\",\"Teste R-LSSVM\",\"Teste R-LSSVM\",\"Teste R-LSSVM\",\"Teste R-LSSVM\",\"Teste R-LSSVM\",\"Teste R-LSSVM\",\"Teste R-LSSVM\",\"Teste R-LSSVM\",\"Teste R-LSSVM\",\"Teste R-LSSVM\",\"Teste R-LSSVM\",\"Teste R-LSSVM\",\"Teste R-LSSVM\",\"Teste R-LSSVM\",\"Teste R-LSSVM\",\"Teste R-LSSVM\",\"Teste R-LSSVM\",\"Teste R-LSSVM\",\"Teste R-LSSVM\",\"Teste R-LSSVM\",\"Teste R-LSSVM\",\"Teste R-LSSVM\",\"Teste R-LSSVM\",\"Teste R-LSSVM\",\"Teste R-LSSVM\",\"Teste R-LSSVM\",\"Teste R-LSSVM\",\"Teste R-LSSVM\",\"Teste R-LSSVM\",\"Teste R-LSSVM\",\"Teste R-LSSVM\",\"Teste R-LSSVM\",\"Teste R-LSSVM\",\"Teste R-LSSVM\",\"Teste R-LSSVM\",\"Teste R-LSSVM\",\"Teste R-LSSVM\"],\"y\":[90.9090909090909,90.32258064516128,90.6524926686217,91.31231671554252,90.21260997067448,90.9090909090909,90.7258064516129,90.02932551319648,90.50586510263929,90.28592375366568,89.80938416422288,90.6524926686217,90.32258064516128,90.35923753665689,90.87243401759531,90.28592375366568,90.5791788856305,91.53225806451613,90.98240469208211,90.8357771260997,91.09237536656892,91.27565982404691,90.9090909090909,91.12903225806451,91.53225806451613,91.49560117302052,90.5791788856305,90.39589442815249,90.7991202346041,90.4325513196481,89.69941348973607,91.75219941348973,91.16568914956011,90.6524926686217,90.98240469208211,90.4325513196481,90.50586510263929,92.08211143695014,91.0557184750733,90.6524926686217,91.49560117302052,91.78885630498533,90.87243401759531,89.18621700879766,91.38563049853371,90.28592375366568,90.6524926686217,90.5425219941349,89.25953079178885,89.91935483870968],\"type\":\"box\"},{\"line\":{\"color\":\"RoyalBlue\",\"dash\":\"dashdot\",\"width\":2},\"mode\":\"lines+markers\",\"showlegend\":false,\"x\":[\"Treino G-LSSVM\",\"Treino L-LSSVM\",\"Treino R-LSSVM\",\"Treino G-LSSVM\"],\"y\":[97.1840175953079,97.69428152492668,97.6700879765396,97.1840175953079],\"type\":\"scatter\"},{\"line\":{\"color\":\"RoyalBlue\",\"dash\":\"dashdot\",\"width\":2},\"mode\":\"lines+markers\",\"showlegend\":false,\"x\":[\"Teste G-LSSVM\",\"Teste L-LSSVM\",\"Teste R-LSSVM\",\"Teste G-LSSVM\"],\"y\":[91.09677419354837,90.61217008797654,90.72214076246333,91.09677419354837],\"type\":\"scatter\"}],                        {\"legend\":{\"x\":0.875,\"y\":1},\"showlegend\":false,\"yaxis\":{\"title\":{\"text\":\"Acur\\u00e1cia (%)\"}},\"template\":{\"data\":{\"bar\":[{\"error_x\":{\"color\":\"#2a3f5f\"},\"error_y\":{\"color\":\"#2a3f5f\"},\"marker\":{\"line\":{\"color\":\"#E5ECF6\",\"width\":0.5},\"pattern\":{\"fillmode\":\"overlay\",\"size\":10,\"solidity\":0.2}},\"type\":\"bar\"}],\"barpolar\":[{\"marker\":{\"line\":{\"color\":\"#E5ECF6\",\"width\":0.5},\"pattern\":{\"fillmode\":\"overlay\",\"size\":10,\"solidity\":0.2}},\"type\":\"barpolar\"}],\"carpet\":[{\"aaxis\":{\"endlinecolor\":\"#2a3f5f\",\"gridcolor\":\"white\",\"linecolor\":\"white\",\"minorgridcolor\":\"white\",\"startlinecolor\":\"#2a3f5f\"},\"baxis\":{\"endlinecolor\":\"#2a3f5f\",\"gridcolor\":\"white\",\"linecolor\":\"white\",\"minorgridcolor\":\"white\",\"startlinecolor\":\"#2a3f5f\"},\"type\":\"carpet\"}],\"choropleth\":[{\"colorbar\":{\"outlinewidth\":0,\"ticks\":\"\"},\"type\":\"choropleth\"}],\"contour\":[{\"colorbar\":{\"outlinewidth\":0,\"ticks\":\"\"},\"colorscale\":[[0.0,\"#0d0887\"],[0.1111111111111111,\"#46039f\"],[0.2222222222222222,\"#7201a8\"],[0.3333333333333333,\"#9c179e\"],[0.4444444444444444,\"#bd3786\"],[0.5555555555555556,\"#d8576b\"],[0.6666666666666666,\"#ed7953\"],[0.7777777777777778,\"#fb9f3a\"],[0.8888888888888888,\"#fdca26\"],[1.0,\"#f0f921\"]],\"type\":\"contour\"}],\"contourcarpet\":[{\"colorbar\":{\"outlinewidth\":0,\"ticks\":\"\"},\"type\":\"contourcarpet\"}],\"heatmap\":[{\"colorbar\":{\"outlinewidth\":0,\"ticks\":\"\"},\"colorscale\":[[0.0,\"#0d0887\"],[0.1111111111111111,\"#46039f\"],[0.2222222222222222,\"#7201a8\"],[0.3333333333333333,\"#9c179e\"],[0.4444444444444444,\"#bd3786\"],[0.5555555555555556,\"#d8576b\"],[0.6666666666666666,\"#ed7953\"],[0.7777777777777778,\"#fb9f3a\"],[0.8888888888888888,\"#fdca26\"],[1.0,\"#f0f921\"]],\"type\":\"heatmap\"}],\"heatmapgl\":[{\"colorbar\":{\"outlinewidth\":0,\"ticks\":\"\"},\"colorscale\":[[0.0,\"#0d0887\"],[0.1111111111111111,\"#46039f\"],[0.2222222222222222,\"#7201a8\"],[0.3333333333333333,\"#9c179e\"],[0.4444444444444444,\"#bd3786\"],[0.5555555555555556,\"#d8576b\"],[0.6666666666666666,\"#ed7953\"],[0.7777777777777778,\"#fb9f3a\"],[0.8888888888888888,\"#fdca26\"],[1.0,\"#f0f921\"]],\"type\":\"heatmapgl\"}],\"histogram\":[{\"marker\":{\"pattern\":{\"fillmode\":\"overlay\",\"size\":10,\"solidity\":0.2}},\"type\":\"histogram\"}],\"histogram2d\":[{\"colorbar\":{\"outlinewidth\":0,\"ticks\":\"\"},\"colorscale\":[[0.0,\"#0d0887\"],[0.1111111111111111,\"#46039f\"],[0.2222222222222222,\"#7201a8\"],[0.3333333333333333,\"#9c179e\"],[0.4444444444444444,\"#bd3786\"],[0.5555555555555556,\"#d8576b\"],[0.6666666666666666,\"#ed7953\"],[0.7777777777777778,\"#fb9f3a\"],[0.8888888888888888,\"#fdca26\"],[1.0,\"#f0f921\"]],\"type\":\"histogram2d\"}],\"histogram2dcontour\":[{\"colorbar\":{\"outlinewidth\":0,\"ticks\":\"\"},\"colorscale\":[[0.0,\"#0d0887\"],[0.1111111111111111,\"#46039f\"],[0.2222222222222222,\"#7201a8\"],[0.3333333333333333,\"#9c179e\"],[0.4444444444444444,\"#bd3786\"],[0.5555555555555556,\"#d8576b\"],[0.6666666666666666,\"#ed7953\"],[0.7777777777777778,\"#fb9f3a\"],[0.8888888888888888,\"#fdca26\"],[1.0,\"#f0f921\"]],\"type\":\"histogram2dcontour\"}],\"mesh3d\":[{\"colorbar\":{\"outlinewidth\":0,\"ticks\":\"\"},\"type\":\"mesh3d\"}],\"parcoords\":[{\"line\":{\"colorbar\":{\"outlinewidth\":0,\"ticks\":\"\"}},\"type\":\"parcoords\"}],\"pie\":[{\"automargin\":true,\"type\":\"pie\"}],\"scatter\":[{\"marker\":{\"colorbar\":{\"outlinewidth\":0,\"ticks\":\"\"}},\"type\":\"scatter\"}],\"scatter3d\":[{\"line\":{\"colorbar\":{\"outlinewidth\":0,\"ticks\":\"\"}},\"marker\":{\"colorbar\":{\"outlinewidth\":0,\"ticks\":\"\"}},\"type\":\"scatter3d\"}],\"scattercarpet\":[{\"marker\":{\"colorbar\":{\"outlinewidth\":0,\"ticks\":\"\"}},\"type\":\"scattercarpet\"}],\"scattergeo\":[{\"marker\":{\"colorbar\":{\"outlinewidth\":0,\"ticks\":\"\"}},\"type\":\"scattergeo\"}],\"scattergl\":[{\"marker\":{\"colorbar\":{\"outlinewidth\":0,\"ticks\":\"\"}},\"type\":\"scattergl\"}],\"scattermapbox\":[{\"marker\":{\"colorbar\":{\"outlinewidth\":0,\"ticks\":\"\"}},\"type\":\"scattermapbox\"}],\"scatterpolar\":[{\"marker\":{\"colorbar\":{\"outlinewidth\":0,\"ticks\":\"\"}},\"type\":\"scatterpolar\"}],\"scatterpolargl\":[{\"marker\":{\"colorbar\":{\"outlinewidth\":0,\"ticks\":\"\"}},\"type\":\"scatterpolargl\"}],\"scatterternary\":[{\"marker\":{\"colorbar\":{\"outlinewidth\":0,\"ticks\":\"\"}},\"type\":\"scatterternary\"}],\"surface\":[{\"colorbar\":{\"outlinewidth\":0,\"ticks\":\"\"},\"colorscale\":[[0.0,\"#0d0887\"],[0.1111111111111111,\"#46039f\"],[0.2222222222222222,\"#7201a8\"],[0.3333333333333333,\"#9c179e\"],[0.4444444444444444,\"#bd3786\"],[0.5555555555555556,\"#d8576b\"],[0.6666666666666666,\"#ed7953\"],[0.7777777777777778,\"#fb9f3a\"],[0.8888888888888888,\"#fdca26\"],[1.0,\"#f0f921\"]],\"type\":\"surface\"}],\"table\":[{\"cells\":{\"fill\":{\"color\":\"#EBF0F8\"},\"line\":{\"color\":\"white\"}},\"header\":{\"fill\":{\"color\":\"#C8D4E3\"},\"line\":{\"color\":\"white\"}},\"type\":\"table\"}]},\"layout\":{\"annotationdefaults\":{\"arrowcolor\":\"#2a3f5f\",\"arrowhead\":0,\"arrowwidth\":1},\"autotypenumbers\":\"strict\",\"coloraxis\":{\"colorbar\":{\"outlinewidth\":0,\"ticks\":\"\"}},\"colorscale\":{\"diverging\":[[0,\"#8e0152\"],[0.1,\"#c51b7d\"],[0.2,\"#de77ae\"],[0.3,\"#f1b6da\"],[0.4,\"#fde0ef\"],[0.5,\"#f7f7f7\"],[0.6,\"#e6f5d0\"],[0.7,\"#b8e186\"],[0.8,\"#7fbc41\"],[0.9,\"#4d9221\"],[1,\"#276419\"]],\"sequential\":[[0.0,\"#0d0887\"],[0.1111111111111111,\"#46039f\"],[0.2222222222222222,\"#7201a8\"],[0.3333333333333333,\"#9c179e\"],[0.4444444444444444,\"#bd3786\"],[0.5555555555555556,\"#d8576b\"],[0.6666666666666666,\"#ed7953\"],[0.7777777777777778,\"#fb9f3a\"],[0.8888888888888888,\"#fdca26\"],[1.0,\"#f0f921\"]],\"sequentialminus\":[[0.0,\"#0d0887\"],[0.1111111111111111,\"#46039f\"],[0.2222222222222222,\"#7201a8\"],[0.3333333333333333,\"#9c179e\"],[0.4444444444444444,\"#bd3786\"],[0.5555555555555556,\"#d8576b\"],[0.6666666666666666,\"#ed7953\"],[0.7777777777777778,\"#fb9f3a\"],[0.8888888888888888,\"#fdca26\"],[1.0,\"#f0f921\"]]},\"colorway\":[\"#636efa\",\"#EF553B\",\"#00cc96\",\"#ab63fa\",\"#FFA15A\",\"#19d3f3\",\"#FF6692\",\"#B6E880\",\"#FF97FF\",\"#FECB52\"],\"font\":{\"color\":\"#2a3f5f\"},\"geo\":{\"bgcolor\":\"white\",\"lakecolor\":\"white\",\"landcolor\":\"#E5ECF6\",\"showlakes\":true,\"showland\":true,\"subunitcolor\":\"white\"},\"hoverlabel\":{\"align\":\"left\"},\"hovermode\":\"closest\",\"mapbox\":{\"style\":\"light\"},\"paper_bgcolor\":\"white\",\"plot_bgcolor\":\"#E5ECF6\",\"polar\":{\"angularaxis\":{\"gridcolor\":\"white\",\"linecolor\":\"white\",\"ticks\":\"\"},\"bgcolor\":\"#E5ECF6\",\"radialaxis\":{\"gridcolor\":\"white\",\"linecolor\":\"white\",\"ticks\":\"\"}},\"scene\":{\"xaxis\":{\"backgroundcolor\":\"#E5ECF6\",\"gridcolor\":\"white\",\"gridwidth\":2,\"linecolor\":\"white\",\"showbackground\":true,\"ticks\":\"\",\"zerolinecolor\":\"white\"},\"yaxis\":{\"backgroundcolor\":\"#E5ECF6\",\"gridcolor\":\"white\",\"gridwidth\":2,\"linecolor\":\"white\",\"showbackground\":true,\"ticks\":\"\",\"zerolinecolor\":\"white\"},\"zaxis\":{\"backgroundcolor\":\"#E5ECF6\",\"gridcolor\":\"white\",\"gridwidth\":2,\"linecolor\":\"white\",\"showbackground\":true,\"ticks\":\"\",\"zerolinecolor\":\"white\"}},\"shapedefaults\":{\"line\":{\"color\":\"#2a3f5f\"}},\"ternary\":{\"aaxis\":{\"gridcolor\":\"white\",\"linecolor\":\"white\",\"ticks\":\"\"},\"baxis\":{\"gridcolor\":\"white\",\"linecolor\":\"white\",\"ticks\":\"\"},\"bgcolor\":\"#E5ECF6\",\"caxis\":{\"gridcolor\":\"white\",\"linecolor\":\"white\",\"ticks\":\"\"}},\"title\":{\"x\":0.05},\"xaxis\":{\"automargin\":true,\"gridcolor\":\"white\",\"linecolor\":\"white\",\"ticks\":\"\",\"title\":{\"standoff\":15},\"zerolinecolor\":\"white\",\"zerolinewidth\":2},\"yaxis\":{\"automargin\":true,\"gridcolor\":\"white\",\"linecolor\":\"white\",\"ticks\":\"\",\"title\":{\"standoff\":15},\"zerolinecolor\":\"white\",\"zerolinewidth\":2}}},\"margin\":{\"l\":20,\"r\":5,\"t\":5,\"b\":20}},                        {\"responsive\": true}                    ).then(function(){\n",
       "                            \n",
       "var gd = document.getElementById('a79f2ba3-bc01-4952-b5d1-ddc4c1e9d51c');\n",
       "var x = new MutationObserver(function (mutations, observer) {{\n",
       "        var display = window.getComputedStyle(gd).display;\n",
       "        if (!display || display === 'none') {{\n",
       "            console.log([gd, 'removed!']);\n",
       "            Plotly.purge(gd);\n",
       "            observer.disconnect();\n",
       "        }}\n",
       "}});\n",
       "\n",
       "// Listen for the removal of the full notebook cells\n",
       "var notebookContainer = gd.closest('#notebook-container');\n",
       "if (notebookContainer) {{\n",
       "    x.observe(notebookContainer, {childList: true});\n",
       "}}\n",
       "\n",
       "// Listen for the clearing of the current output cell\n",
       "var outputEl = gd.closest('.output');\n",
       "if (outputEl) {{\n",
       "    x.observe(outputEl, {childList: true});\n",
       "}}\n",
       "\n",
       "                        })                };                });            </script>        </div>"
      ]
     },
     "metadata": {},
     "output_type": "display_data"
    },
    {
     "data": {
      "text/html": [
       "<hr>"
      ],
      "text/plain": [
       "<IPython.core.display.HTML object>"
      ]
     },
     "metadata": {},
     "output_type": "display_data"
    },
    {
     "data": {
      "text/html": [
       "<center><h1>wf2f</h1></center>"
      ],
      "text/plain": [
       "<IPython.core.display.HTML object>"
      ]
     },
     "metadata": {},
     "output_type": "display_data"
    },
    {
     "data": {
      "application/vnd.plotly.v1+json": {
       "config": {
        "plotlyServerURL": "https://plotly.com"
       },
       "data": [
        {
         "boxmean": "sd",
         "marker": {
          "color": "rgba(44, 160, 101, 0.5)"
         },
         "name": "G-LSSVM",
         "type": "box",
         "x": [
          "Treino G-LSSVM",
          "Treino G-LSSVM",
          "Treino G-LSSVM",
          "Treino G-LSSVM",
          "Treino G-LSSVM",
          "Treino G-LSSVM",
          "Treino G-LSSVM",
          "Treino G-LSSVM",
          "Treino G-LSSVM",
          "Treino G-LSSVM",
          "Treino G-LSSVM",
          "Treino G-LSSVM",
          "Treino G-LSSVM",
          "Treino G-LSSVM",
          "Treino G-LSSVM",
          "Treino G-LSSVM",
          "Treino G-LSSVM",
          "Treino G-LSSVM",
          "Treino G-LSSVM",
          "Treino G-LSSVM",
          "Treino G-LSSVM",
          "Treino G-LSSVM",
          "Treino G-LSSVM",
          "Treino G-LSSVM",
          "Treino G-LSSVM",
          "Treino G-LSSVM",
          "Treino G-LSSVM",
          "Treino G-LSSVM",
          "Treino G-LSSVM",
          "Treino G-LSSVM",
          "Treino G-LSSVM",
          "Treino G-LSSVM",
          "Treino G-LSSVM",
          "Treino G-LSSVM",
          "Treino G-LSSVM",
          "Treino G-LSSVM",
          "Treino G-LSSVM",
          "Treino G-LSSVM",
          "Treino G-LSSVM",
          "Treino G-LSSVM",
          "Treino G-LSSVM",
          "Treino G-LSSVM",
          "Treino G-LSSVM",
          "Treino G-LSSVM",
          "Treino G-LSSVM",
          "Treino G-LSSVM",
          "Treino G-LSSVM",
          "Treino G-LSSVM",
          "Treino G-LSSVM",
          "Treino G-LSSVM"
         ],
         "y": [
          96.26099706744868,
          96.51759530791789,
          96.62756598240469,
          96.18768328445748,
          96.29765395894428,
          96.33431085043989,
          96.40762463343108,
          96.4442815249267,
          96.40762463343108,
          96.8841642228739,
          96.6642228739003,
          96.18768328445748,
          96.33431085043989,
          96.9574780058651,
          96.40762463343108,
          96.7008797653959,
          96.29765395894428,
          96.51759530791789,
          96.5909090909091,
          96.26099706744868,
          96.62756598240469,
          96.11436950146629,
          96.26099706744868,
          96.29765395894428,
          96.9574780058651,
          96.26099706744868,
          96.73753665689149,
          96.29765395894428,
          96.51759530791789,
          96.5542521994135,
          96.18768328445748,
          96.40762463343108,
          96.51759530791789,
          96.8841642228739,
          96.7741935483871,
          96.4442815249267,
          96.04105571847508,
          96.11436950146629,
          96.40762463343108,
          95.93108504398828,
          96.33431085043989,
          96.48093841642229,
          96.48093841642229,
          96.26099706744868,
          96.5542521994135,
          96.48093841642229,
          96.4442815249267,
          96.4442815249267,
          96.40762463343108,
          96.40762463343108
         ]
        },
        {
         "boxmean": "sd",
         "marker": {
          "color": "rgba(93, 164, 214, 0.5)"
         },
         "name": "L-LSSVM",
         "type": "box",
         "x": [
          "Treino L-LSSVM",
          "Treino L-LSSVM",
          "Treino L-LSSVM",
          "Treino L-LSSVM",
          "Treino L-LSSVM",
          "Treino L-LSSVM",
          "Treino L-LSSVM",
          "Treino L-LSSVM",
          "Treino L-LSSVM",
          "Treino L-LSSVM",
          "Treino L-LSSVM",
          "Treino L-LSSVM",
          "Treino L-LSSVM",
          "Treino L-LSSVM",
          "Treino L-LSSVM",
          "Treino L-LSSVM",
          "Treino L-LSSVM",
          "Treino L-LSSVM",
          "Treino L-LSSVM",
          "Treino L-LSSVM",
          "Treino L-LSSVM",
          "Treino L-LSSVM",
          "Treino L-LSSVM",
          "Treino L-LSSVM",
          "Treino L-LSSVM",
          "Treino L-LSSVM",
          "Treino L-LSSVM",
          "Treino L-LSSVM",
          "Treino L-LSSVM",
          "Treino L-LSSVM",
          "Treino L-LSSVM",
          "Treino L-LSSVM",
          "Treino L-LSSVM",
          "Treino L-LSSVM",
          "Treino L-LSSVM",
          "Treino L-LSSVM",
          "Treino L-LSSVM",
          "Treino L-LSSVM",
          "Treino L-LSSVM",
          "Treino L-LSSVM",
          "Treino L-LSSVM",
          "Treino L-LSSVM",
          "Treino L-LSSVM",
          "Treino L-LSSVM",
          "Treino L-LSSVM",
          "Treino L-LSSVM",
          "Treino L-LSSVM",
          "Treino L-LSSVM",
          "Treino L-LSSVM",
          "Treino L-LSSVM"
         ],
         "y": [
          98.38709677419355,
          98.90029325513197,
          97.83724340175954,
          98.68035190615836,
          98.49706744868035,
          98.16715542521995,
          98.79032258064517,
          98.71700879765396,
          98.93695014662757,
          98.31378299120234,
          98.79032258064517,
          98.09384164222874,
          98.90029325513197,
          98.31378299120234,
          98.53372434017595,
          98.97360703812316,
          98.71700879765396,
          98.82697947214076,
          98.68035190615836,
          98.68035190615836,
          98.75366568914956,
          98.38709677419355,
          98.75366568914956,
          98.79032258064517,
          98.53372434017595,
          98.49706744868035,
          98.57038123167156,
          98.46041055718476,
          98.09384164222874,
          98.24046920821115,
          98.16715542521995,
          97.50733137829913,
          98.38709677419355,
          98.49706744868035,
          97.80058651026393,
          98.16715542521995,
          98.13049853372434,
          98.90029325513197,
          98.49706744868035,
          98.60703812316716,
          98.60703812316716,
          98.31378299120234,
          97.80058651026393,
          99.04692082111437,
          98.79032258064517,
          98.68035190615836,
          98.20381231671554,
          98.38709677419355,
          98.79032258064517,
          99.04692082111437
         ]
        },
        {
         "boxmean": "sd",
         "marker": {
          "color": "rgba(155, 89, 182,1.0)"
         },
         "name": "R-LSSVM",
         "type": "box",
         "x": [
          "Treino R-LSSVM",
          "Treino R-LSSVM",
          "Treino R-LSSVM",
          "Treino R-LSSVM",
          "Treino R-LSSVM",
          "Treino R-LSSVM",
          "Treino R-LSSVM",
          "Treino R-LSSVM",
          "Treino R-LSSVM",
          "Treino R-LSSVM",
          "Treino R-LSSVM",
          "Treino R-LSSVM",
          "Treino R-LSSVM",
          "Treino R-LSSVM",
          "Treino R-LSSVM",
          "Treino R-LSSVM",
          "Treino R-LSSVM",
          "Treino R-LSSVM",
          "Treino R-LSSVM",
          "Treino R-LSSVM",
          "Treino R-LSSVM",
          "Treino R-LSSVM",
          "Treino R-LSSVM",
          "Treino R-LSSVM",
          "Treino R-LSSVM",
          "Treino R-LSSVM",
          "Treino R-LSSVM",
          "Treino R-LSSVM",
          "Treino R-LSSVM",
          "Treino R-LSSVM",
          "Treino R-LSSVM",
          "Treino R-LSSVM",
          "Treino R-LSSVM",
          "Treino R-LSSVM",
          "Treino R-LSSVM",
          "Treino R-LSSVM",
          "Treino R-LSSVM",
          "Treino R-LSSVM",
          "Treino R-LSSVM",
          "Treino R-LSSVM",
          "Treino R-LSSVM",
          "Treino R-LSSVM",
          "Treino R-LSSVM",
          "Treino R-LSSVM",
          "Treino R-LSSVM",
          "Treino R-LSSVM",
          "Treino R-LSSVM",
          "Treino R-LSSVM",
          "Treino R-LSSVM",
          "Treino R-LSSVM"
         ],
         "y": [
          98.46041055718476,
          98.35043988269796,
          97.72727272727273,
          97.58064516129032,
          98.13049853372434,
          98.20381231671554,
          98.38709677419355,
          98.46041055718476,
          98.38709677419355,
          98.42375366568915,
          98.05718475073314,
          98.20381231671554,
          98.20381231671554,
          98.42375366568915,
          96.8841642228739,
          98.31378299120234,
          98.09384164222874,
          98.16715542521995,
          98.57038123167156,
          97.98387096774194,
          98.35043988269796,
          98.13049853372434,
          98.16715542521995,
          98.09384164222874,
          98.53372434017595,
          98.02052785923753,
          98.60703812316716,
          98.24046920821115,
          97.76392961876833,
          97.17741935483872,
          98.20381231671554,
          97.87390029325513,
          97.91055718475073,
          98.42375366568915,
          98.64369501466275,
          97.98387096774194,
          98.35043988269796,
          97.91055718475073,
          98.75366568914956,
          97.91055718475073,
          98.35043988269796,
          97.32404692082112,
          98.42375366568915,
          97.98387096774194,
          97.98387096774194,
          98.42375366568915,
          97.58064516129032,
          97.61730205278593,
          98.42375366568915,
          97.83724340175954
         ]
        },
        {
         "boxmean": "sd",
         "marker": {
          "color": "rgba(44, 160, 101, 0.5)"
         },
         "name": "G-LSSVM",
         "type": "box",
         "x": [
          "Teste G-LSSVM",
          "Teste G-LSSVM",
          "Teste G-LSSVM",
          "Teste G-LSSVM",
          "Teste G-LSSVM",
          "Teste G-LSSVM",
          "Teste G-LSSVM",
          "Teste G-LSSVM",
          "Teste G-LSSVM",
          "Teste G-LSSVM",
          "Teste G-LSSVM",
          "Teste G-LSSVM",
          "Teste G-LSSVM",
          "Teste G-LSSVM",
          "Teste G-LSSVM",
          "Teste G-LSSVM",
          "Teste G-LSSVM",
          "Teste G-LSSVM",
          "Teste G-LSSVM",
          "Teste G-LSSVM",
          "Teste G-LSSVM",
          "Teste G-LSSVM",
          "Teste G-LSSVM",
          "Teste G-LSSVM",
          "Teste G-LSSVM",
          "Teste G-LSSVM",
          "Teste G-LSSVM",
          "Teste G-LSSVM",
          "Teste G-LSSVM",
          "Teste G-LSSVM",
          "Teste G-LSSVM",
          "Teste G-LSSVM",
          "Teste G-LSSVM",
          "Teste G-LSSVM",
          "Teste G-LSSVM",
          "Teste G-LSSVM",
          "Teste G-LSSVM",
          "Teste G-LSSVM",
          "Teste G-LSSVM",
          "Teste G-LSSVM",
          "Teste G-LSSVM",
          "Teste G-LSSVM",
          "Teste G-LSSVM",
          "Teste G-LSSVM",
          "Teste G-LSSVM",
          "Teste G-LSSVM",
          "Teste G-LSSVM",
          "Teste G-LSSVM",
          "Teste G-LSSVM",
          "Teste G-LSSVM"
         ],
         "y": [
          95.89442815249268,
          95.74780058651027,
          96.15102639296188,
          95.96774193548387,
          96.4442815249267,
          96.73753665689149,
          95.89442815249268,
          96.15102639296188,
          96.51759530791789,
          96.29765395894428,
          95.93108504398828,
          96.40762463343108,
          96.18768328445748,
          96.51759530791789,
          95.89442815249268,
          95.60117302052787,
          96.5542521994135,
          96.22434017595309,
          96.7008797653959,
          96.26099706744868,
          96.11436950146629,
          96.37096774193549,
          95.89442815249268,
          96.99413489736071,
          96.33431085043989,
          96.26099706744868,
          96.29765395894428,
          95.52785923753666,
          96.48093841642229,
          96.29765395894428,
          96.22434017595309,
          96.22434017595309,
          96.07771260997067,
          96.18768328445748,
          95.49120234604106,
          96.37096774193549,
          94.46480938416423,
          96.11436950146629,
          96.07771260997067,
          96.29765395894428,
          95.60117302052787,
          96.37096774193549,
          96.07771260997067,
          96.18768328445748,
          96.40762463343108,
          95.85777126099707,
          95.96774193548387,
          96.29765395894428,
          96.37096774193549,
          96.07771260997067
         ]
        },
        {
         "boxmean": "sd",
         "marker": {
          "color": "rgba(93, 164, 214, 0.5)"
         },
         "name": "L-LSSVM",
         "type": "box",
         "x": [
          "Teste L-LSSVM",
          "Teste L-LSSVM",
          "Teste L-LSSVM",
          "Teste L-LSSVM",
          "Teste L-LSSVM",
          "Teste L-LSSVM",
          "Teste L-LSSVM",
          "Teste L-LSSVM",
          "Teste L-LSSVM",
          "Teste L-LSSVM",
          "Teste L-LSSVM",
          "Teste L-LSSVM",
          "Teste L-LSSVM",
          "Teste L-LSSVM",
          "Teste L-LSSVM",
          "Teste L-LSSVM",
          "Teste L-LSSVM",
          "Teste L-LSSVM",
          "Teste L-LSSVM",
          "Teste L-LSSVM",
          "Teste L-LSSVM",
          "Teste L-LSSVM",
          "Teste L-LSSVM",
          "Teste L-LSSVM",
          "Teste L-LSSVM",
          "Teste L-LSSVM",
          "Teste L-LSSVM",
          "Teste L-LSSVM",
          "Teste L-LSSVM",
          "Teste L-LSSVM",
          "Teste L-LSSVM",
          "Teste L-LSSVM",
          "Teste L-LSSVM",
          "Teste L-LSSVM",
          "Teste L-LSSVM",
          "Teste L-LSSVM",
          "Teste L-LSSVM",
          "Teste L-LSSVM",
          "Teste L-LSSVM",
          "Teste L-LSSVM",
          "Teste L-LSSVM",
          "Teste L-LSSVM",
          "Teste L-LSSVM",
          "Teste L-LSSVM",
          "Teste L-LSSVM",
          "Teste L-LSSVM",
          "Teste L-LSSVM",
          "Teste L-LSSVM",
          "Teste L-LSSVM",
          "Teste L-LSSVM"
         ],
         "y": [
          97.72727272727273,
          97.36070381231671,
          97.39736070381232,
          97.87390029325513,
          98.02052785923753,
          97.91055718475073,
          98.09384164222874,
          97.50733137829913,
          98.09384164222874,
          97.47067448680352,
          97.87390029325513,
          97.39736070381232,
          97.72727272727273,
          97.58064516129032,
          97.80058651026393,
          97.58064516129032,
          97.94721407624634,
          97.76392961876833,
          97.91055718475073,
          98.02052785923753,
          97.98387096774194,
          97.94721407624634,
          97.98387096774194,
          98.02052785923753,
          97.98387096774194,
          98.16715542521995,
          97.87390029325513,
          98.09384164222874,
          97.72727272727273,
          98.09384164222874,
          97.94721407624634,
          97.25073313782991,
          97.72727272727273,
          97.80058651026393,
          96.7741935483871,
          97.61730205278593,
          97.61730205278593,
          97.80058651026393,
          97.87390029325513,
          97.87390029325513,
          97.80058651026393,
          98.09384164222874,
          97.72727272727273,
          97.98387096774194,
          98.38709677419355,
          97.69061583577712,
          97.61730205278593,
          97.76392961876833,
          97.65395894428153,
          98.57038123167156
         ]
        },
        {
         "boxmean": "sd",
         "marker": {
          "color": "rgba(155, 89, 182,1.0)"
         },
         "name": "R-LSSVM",
         "type": "box",
         "x": [
          "Teste R-LSSVM",
          "Teste R-LSSVM",
          "Teste R-LSSVM",
          "Teste R-LSSVM",
          "Teste R-LSSVM",
          "Teste R-LSSVM",
          "Teste R-LSSVM",
          "Teste R-LSSVM",
          "Teste R-LSSVM",
          "Teste R-LSSVM",
          "Teste R-LSSVM",
          "Teste R-LSSVM",
          "Teste R-LSSVM",
          "Teste R-LSSVM",
          "Teste R-LSSVM",
          "Teste R-LSSVM",
          "Teste R-LSSVM",
          "Teste R-LSSVM",
          "Teste R-LSSVM",
          "Teste R-LSSVM",
          "Teste R-LSSVM",
          "Teste R-LSSVM",
          "Teste R-LSSVM",
          "Teste R-LSSVM",
          "Teste R-LSSVM",
          "Teste R-LSSVM",
          "Teste R-LSSVM",
          "Teste R-LSSVM",
          "Teste R-LSSVM",
          "Teste R-LSSVM",
          "Teste R-LSSVM",
          "Teste R-LSSVM",
          "Teste R-LSSVM",
          "Teste R-LSSVM",
          "Teste R-LSSVM",
          "Teste R-LSSVM",
          "Teste R-LSSVM",
          "Teste R-LSSVM",
          "Teste R-LSSVM",
          "Teste R-LSSVM",
          "Teste R-LSSVM",
          "Teste R-LSSVM",
          "Teste R-LSSVM",
          "Teste R-LSSVM",
          "Teste R-LSSVM",
          "Teste R-LSSVM",
          "Teste R-LSSVM",
          "Teste R-LSSVM",
          "Teste R-LSSVM",
          "Teste R-LSSVM"
         ],
         "y": [
          97.80058651026393,
          97.80058651026393,
          96.9208211143695,
          97.36070381231671,
          97.80058651026393,
          97.98387096774194,
          97.83724340175954,
          97.65395894428153,
          97.32404692082112,
          97.69061583577712,
          97.36070381231671,
          97.72727272727273,
          97.72727272727273,
          97.50733137829913,
          96.9208211143695,
          97.39736070381232,
          97.98387096774194,
          97.61730205278593,
          97.98387096774194,
          97.17741935483872,
          97.98387096774194,
          98.02052785923753,
          97.76392961876833,
          97.91055718475073,
          97.87390029325513,
          97.76392961876833,
          98.02052785923753,
          97.83724340175954,
          97.28739002932552,
          97.36070381231671,
          98.05718475073314,
          97.58064516129032,
          96.9208211143695,
          97.87390029325513,
          97.72727272727273,
          97.58064516129032,
          98.05718475073314,
          97.39736070381232,
          98.20381231671554,
          97.76392961876833,
          97.10410557184751,
          97.32404692082112,
          97.87390029325513,
          97.28739002932552,
          97.91055718475073,
          97.69061583577712,
          97.39736070381232,
          97.10410557184751,
          97.61730205278593,
          97.83724340175954
         ]
        },
        {
         "line": {
          "color": "RoyalBlue",
          "dash": "dashdot",
          "width": 2
         },
         "mode": "lines+markers",
         "showlegend": false,
         "type": "scatter",
         "x": [
          "Treino G-LSSVM",
          "Treino L-LSSVM",
          "Treino R-LSSVM",
          "Treino G-LSSVM"
         ],
         "y": [
          96.43841642228737,
          98.50293255131965,
          98.12023460410555,
          96.43841642228737
         ]
        },
        {
         "line": {
          "color": "RoyalBlue",
          "dash": "dashdot",
          "width": 2
         },
         "mode": "lines+markers",
         "showlegend": false,
         "type": "scatter",
         "x": [
          "Teste G-LSSVM",
          "Teste L-LSSVM",
          "Teste R-LSSVM",
          "Teste G-LSSVM"
         ],
         "y": [
          96.14809384164224,
          97.81011730205279,
          97.63416422287389,
          96.14809384164224
         ]
        }
       ],
       "layout": {
        "legend": {
         "x": 0.875,
         "y": 1
        },
        "margin": {
         "b": 20,
         "l": 20,
         "r": 5,
         "t": 5
        },
        "showlegend": false,
        "template": {
         "data": {
          "bar": [
           {
            "error_x": {
             "color": "#2a3f5f"
            },
            "error_y": {
             "color": "#2a3f5f"
            },
            "marker": {
             "line": {
              "color": "#E5ECF6",
              "width": 0.5
             },
             "pattern": {
              "fillmode": "overlay",
              "size": 10,
              "solidity": 0.2
             }
            },
            "type": "bar"
           }
          ],
          "barpolar": [
           {
            "marker": {
             "line": {
              "color": "#E5ECF6",
              "width": 0.5
             },
             "pattern": {
              "fillmode": "overlay",
              "size": 10,
              "solidity": 0.2
             }
            },
            "type": "barpolar"
           }
          ],
          "carpet": [
           {
            "aaxis": {
             "endlinecolor": "#2a3f5f",
             "gridcolor": "white",
             "linecolor": "white",
             "minorgridcolor": "white",
             "startlinecolor": "#2a3f5f"
            },
            "baxis": {
             "endlinecolor": "#2a3f5f",
             "gridcolor": "white",
             "linecolor": "white",
             "minorgridcolor": "white",
             "startlinecolor": "#2a3f5f"
            },
            "type": "carpet"
           }
          ],
          "choropleth": [
           {
            "colorbar": {
             "outlinewidth": 0,
             "ticks": ""
            },
            "type": "choropleth"
           }
          ],
          "contour": [
           {
            "colorbar": {
             "outlinewidth": 0,
             "ticks": ""
            },
            "colorscale": [
             [
              0,
              "#0d0887"
             ],
             [
              0.1111111111111111,
              "#46039f"
             ],
             [
              0.2222222222222222,
              "#7201a8"
             ],
             [
              0.3333333333333333,
              "#9c179e"
             ],
             [
              0.4444444444444444,
              "#bd3786"
             ],
             [
              0.5555555555555556,
              "#d8576b"
             ],
             [
              0.6666666666666666,
              "#ed7953"
             ],
             [
              0.7777777777777778,
              "#fb9f3a"
             ],
             [
              0.8888888888888888,
              "#fdca26"
             ],
             [
              1,
              "#f0f921"
             ]
            ],
            "type": "contour"
           }
          ],
          "contourcarpet": [
           {
            "colorbar": {
             "outlinewidth": 0,
             "ticks": ""
            },
            "type": "contourcarpet"
           }
          ],
          "heatmap": [
           {
            "colorbar": {
             "outlinewidth": 0,
             "ticks": ""
            },
            "colorscale": [
             [
              0,
              "#0d0887"
             ],
             [
              0.1111111111111111,
              "#46039f"
             ],
             [
              0.2222222222222222,
              "#7201a8"
             ],
             [
              0.3333333333333333,
              "#9c179e"
             ],
             [
              0.4444444444444444,
              "#bd3786"
             ],
             [
              0.5555555555555556,
              "#d8576b"
             ],
             [
              0.6666666666666666,
              "#ed7953"
             ],
             [
              0.7777777777777778,
              "#fb9f3a"
             ],
             [
              0.8888888888888888,
              "#fdca26"
             ],
             [
              1,
              "#f0f921"
             ]
            ],
            "type": "heatmap"
           }
          ],
          "heatmapgl": [
           {
            "colorbar": {
             "outlinewidth": 0,
             "ticks": ""
            },
            "colorscale": [
             [
              0,
              "#0d0887"
             ],
             [
              0.1111111111111111,
              "#46039f"
             ],
             [
              0.2222222222222222,
              "#7201a8"
             ],
             [
              0.3333333333333333,
              "#9c179e"
             ],
             [
              0.4444444444444444,
              "#bd3786"
             ],
             [
              0.5555555555555556,
              "#d8576b"
             ],
             [
              0.6666666666666666,
              "#ed7953"
             ],
             [
              0.7777777777777778,
              "#fb9f3a"
             ],
             [
              0.8888888888888888,
              "#fdca26"
             ],
             [
              1,
              "#f0f921"
             ]
            ],
            "type": "heatmapgl"
           }
          ],
          "histogram": [
           {
            "marker": {
             "pattern": {
              "fillmode": "overlay",
              "size": 10,
              "solidity": 0.2
             }
            },
            "type": "histogram"
           }
          ],
          "histogram2d": [
           {
            "colorbar": {
             "outlinewidth": 0,
             "ticks": ""
            },
            "colorscale": [
             [
              0,
              "#0d0887"
             ],
             [
              0.1111111111111111,
              "#46039f"
             ],
             [
              0.2222222222222222,
              "#7201a8"
             ],
             [
              0.3333333333333333,
              "#9c179e"
             ],
             [
              0.4444444444444444,
              "#bd3786"
             ],
             [
              0.5555555555555556,
              "#d8576b"
             ],
             [
              0.6666666666666666,
              "#ed7953"
             ],
             [
              0.7777777777777778,
              "#fb9f3a"
             ],
             [
              0.8888888888888888,
              "#fdca26"
             ],
             [
              1,
              "#f0f921"
             ]
            ],
            "type": "histogram2d"
           }
          ],
          "histogram2dcontour": [
           {
            "colorbar": {
             "outlinewidth": 0,
             "ticks": ""
            },
            "colorscale": [
             [
              0,
              "#0d0887"
             ],
             [
              0.1111111111111111,
              "#46039f"
             ],
             [
              0.2222222222222222,
              "#7201a8"
             ],
             [
              0.3333333333333333,
              "#9c179e"
             ],
             [
              0.4444444444444444,
              "#bd3786"
             ],
             [
              0.5555555555555556,
              "#d8576b"
             ],
             [
              0.6666666666666666,
              "#ed7953"
             ],
             [
              0.7777777777777778,
              "#fb9f3a"
             ],
             [
              0.8888888888888888,
              "#fdca26"
             ],
             [
              1,
              "#f0f921"
             ]
            ],
            "type": "histogram2dcontour"
           }
          ],
          "mesh3d": [
           {
            "colorbar": {
             "outlinewidth": 0,
             "ticks": ""
            },
            "type": "mesh3d"
           }
          ],
          "parcoords": [
           {
            "line": {
             "colorbar": {
              "outlinewidth": 0,
              "ticks": ""
             }
            },
            "type": "parcoords"
           }
          ],
          "pie": [
           {
            "automargin": true,
            "type": "pie"
           }
          ],
          "scatter": [
           {
            "marker": {
             "colorbar": {
              "outlinewidth": 0,
              "ticks": ""
             }
            },
            "type": "scatter"
           }
          ],
          "scatter3d": [
           {
            "line": {
             "colorbar": {
              "outlinewidth": 0,
              "ticks": ""
             }
            },
            "marker": {
             "colorbar": {
              "outlinewidth": 0,
              "ticks": ""
             }
            },
            "type": "scatter3d"
           }
          ],
          "scattercarpet": [
           {
            "marker": {
             "colorbar": {
              "outlinewidth": 0,
              "ticks": ""
             }
            },
            "type": "scattercarpet"
           }
          ],
          "scattergeo": [
           {
            "marker": {
             "colorbar": {
              "outlinewidth": 0,
              "ticks": ""
             }
            },
            "type": "scattergeo"
           }
          ],
          "scattergl": [
           {
            "marker": {
             "colorbar": {
              "outlinewidth": 0,
              "ticks": ""
             }
            },
            "type": "scattergl"
           }
          ],
          "scattermapbox": [
           {
            "marker": {
             "colorbar": {
              "outlinewidth": 0,
              "ticks": ""
             }
            },
            "type": "scattermapbox"
           }
          ],
          "scatterpolar": [
           {
            "marker": {
             "colorbar": {
              "outlinewidth": 0,
              "ticks": ""
             }
            },
            "type": "scatterpolar"
           }
          ],
          "scatterpolargl": [
           {
            "marker": {
             "colorbar": {
              "outlinewidth": 0,
              "ticks": ""
             }
            },
            "type": "scatterpolargl"
           }
          ],
          "scatterternary": [
           {
            "marker": {
             "colorbar": {
              "outlinewidth": 0,
              "ticks": ""
             }
            },
            "type": "scatterternary"
           }
          ],
          "surface": [
           {
            "colorbar": {
             "outlinewidth": 0,
             "ticks": ""
            },
            "colorscale": [
             [
              0,
              "#0d0887"
             ],
             [
              0.1111111111111111,
              "#46039f"
             ],
             [
              0.2222222222222222,
              "#7201a8"
             ],
             [
              0.3333333333333333,
              "#9c179e"
             ],
             [
              0.4444444444444444,
              "#bd3786"
             ],
             [
              0.5555555555555556,
              "#d8576b"
             ],
             [
              0.6666666666666666,
              "#ed7953"
             ],
             [
              0.7777777777777778,
              "#fb9f3a"
             ],
             [
              0.8888888888888888,
              "#fdca26"
             ],
             [
              1,
              "#f0f921"
             ]
            ],
            "type": "surface"
           }
          ],
          "table": [
           {
            "cells": {
             "fill": {
              "color": "#EBF0F8"
             },
             "line": {
              "color": "white"
             }
            },
            "header": {
             "fill": {
              "color": "#C8D4E3"
             },
             "line": {
              "color": "white"
             }
            },
            "type": "table"
           }
          ]
         },
         "layout": {
          "annotationdefaults": {
           "arrowcolor": "#2a3f5f",
           "arrowhead": 0,
           "arrowwidth": 1
          },
          "autotypenumbers": "strict",
          "coloraxis": {
           "colorbar": {
            "outlinewidth": 0,
            "ticks": ""
           }
          },
          "colorscale": {
           "diverging": [
            [
             0,
             "#8e0152"
            ],
            [
             0.1,
             "#c51b7d"
            ],
            [
             0.2,
             "#de77ae"
            ],
            [
             0.3,
             "#f1b6da"
            ],
            [
             0.4,
             "#fde0ef"
            ],
            [
             0.5,
             "#f7f7f7"
            ],
            [
             0.6,
             "#e6f5d0"
            ],
            [
             0.7,
             "#b8e186"
            ],
            [
             0.8,
             "#7fbc41"
            ],
            [
             0.9,
             "#4d9221"
            ],
            [
             1,
             "#276419"
            ]
           ],
           "sequential": [
            [
             0,
             "#0d0887"
            ],
            [
             0.1111111111111111,
             "#46039f"
            ],
            [
             0.2222222222222222,
             "#7201a8"
            ],
            [
             0.3333333333333333,
             "#9c179e"
            ],
            [
             0.4444444444444444,
             "#bd3786"
            ],
            [
             0.5555555555555556,
             "#d8576b"
            ],
            [
             0.6666666666666666,
             "#ed7953"
            ],
            [
             0.7777777777777778,
             "#fb9f3a"
            ],
            [
             0.8888888888888888,
             "#fdca26"
            ],
            [
             1,
             "#f0f921"
            ]
           ],
           "sequentialminus": [
            [
             0,
             "#0d0887"
            ],
            [
             0.1111111111111111,
             "#46039f"
            ],
            [
             0.2222222222222222,
             "#7201a8"
            ],
            [
             0.3333333333333333,
             "#9c179e"
            ],
            [
             0.4444444444444444,
             "#bd3786"
            ],
            [
             0.5555555555555556,
             "#d8576b"
            ],
            [
             0.6666666666666666,
             "#ed7953"
            ],
            [
             0.7777777777777778,
             "#fb9f3a"
            ],
            [
             0.8888888888888888,
             "#fdca26"
            ],
            [
             1,
             "#f0f921"
            ]
           ]
          },
          "colorway": [
           "#636efa",
           "#EF553B",
           "#00cc96",
           "#ab63fa",
           "#FFA15A",
           "#19d3f3",
           "#FF6692",
           "#B6E880",
           "#FF97FF",
           "#FECB52"
          ],
          "font": {
           "color": "#2a3f5f"
          },
          "geo": {
           "bgcolor": "white",
           "lakecolor": "white",
           "landcolor": "#E5ECF6",
           "showlakes": true,
           "showland": true,
           "subunitcolor": "white"
          },
          "hoverlabel": {
           "align": "left"
          },
          "hovermode": "closest",
          "mapbox": {
           "style": "light"
          },
          "paper_bgcolor": "white",
          "plot_bgcolor": "#E5ECF6",
          "polar": {
           "angularaxis": {
            "gridcolor": "white",
            "linecolor": "white",
            "ticks": ""
           },
           "bgcolor": "#E5ECF6",
           "radialaxis": {
            "gridcolor": "white",
            "linecolor": "white",
            "ticks": ""
           }
          },
          "scene": {
           "xaxis": {
            "backgroundcolor": "#E5ECF6",
            "gridcolor": "white",
            "gridwidth": 2,
            "linecolor": "white",
            "showbackground": true,
            "ticks": "",
            "zerolinecolor": "white"
           },
           "yaxis": {
            "backgroundcolor": "#E5ECF6",
            "gridcolor": "white",
            "gridwidth": 2,
            "linecolor": "white",
            "showbackground": true,
            "ticks": "",
            "zerolinecolor": "white"
           },
           "zaxis": {
            "backgroundcolor": "#E5ECF6",
            "gridcolor": "white",
            "gridwidth": 2,
            "linecolor": "white",
            "showbackground": true,
            "ticks": "",
            "zerolinecolor": "white"
           }
          },
          "shapedefaults": {
           "line": {
            "color": "#2a3f5f"
           }
          },
          "ternary": {
           "aaxis": {
            "gridcolor": "white",
            "linecolor": "white",
            "ticks": ""
           },
           "baxis": {
            "gridcolor": "white",
            "linecolor": "white",
            "ticks": ""
           },
           "bgcolor": "#E5ECF6",
           "caxis": {
            "gridcolor": "white",
            "linecolor": "white",
            "ticks": ""
           }
          },
          "title": {
           "x": 0.05
          },
          "xaxis": {
           "automargin": true,
           "gridcolor": "white",
           "linecolor": "white",
           "ticks": "",
           "title": {
            "standoff": 15
           },
           "zerolinecolor": "white",
           "zerolinewidth": 2
          },
          "yaxis": {
           "automargin": true,
           "gridcolor": "white",
           "linecolor": "white",
           "ticks": "",
           "title": {
            "standoff": 15
           },
           "zerolinecolor": "white",
           "zerolinewidth": 2
          }
         }
        },
        "yaxis": {
         "title": {
          "text": "Acurácia (%)"
         }
        }
       }
      },
      "text/html": [
       "<div>                            <div id=\"e4026866-636b-4984-ad92-83a282ed43ac\" class=\"plotly-graph-div\" style=\"height:525px; width:100%;\"></div>            <script type=\"text/javascript\">                require([\"plotly\"], function(Plotly) {                    window.PLOTLYENV=window.PLOTLYENV || {};                                    if (document.getElementById(\"e4026866-636b-4984-ad92-83a282ed43ac\")) {                    Plotly.newPlot(                        \"e4026866-636b-4984-ad92-83a282ed43ac\",                        [{\"boxmean\":\"sd\",\"marker\":{\"color\":\"rgba(44, 160, 101, 0.5)\"},\"name\":\"G-LSSVM\",\"x\":[\"Treino G-LSSVM\",\"Treino G-LSSVM\",\"Treino G-LSSVM\",\"Treino G-LSSVM\",\"Treino G-LSSVM\",\"Treino G-LSSVM\",\"Treino G-LSSVM\",\"Treino G-LSSVM\",\"Treino G-LSSVM\",\"Treino G-LSSVM\",\"Treino G-LSSVM\",\"Treino G-LSSVM\",\"Treino G-LSSVM\",\"Treino G-LSSVM\",\"Treino G-LSSVM\",\"Treino G-LSSVM\",\"Treino G-LSSVM\",\"Treino G-LSSVM\",\"Treino G-LSSVM\",\"Treino G-LSSVM\",\"Treino G-LSSVM\",\"Treino G-LSSVM\",\"Treino G-LSSVM\",\"Treino G-LSSVM\",\"Treino G-LSSVM\",\"Treino G-LSSVM\",\"Treino G-LSSVM\",\"Treino G-LSSVM\",\"Treino G-LSSVM\",\"Treino G-LSSVM\",\"Treino G-LSSVM\",\"Treino G-LSSVM\",\"Treino G-LSSVM\",\"Treino G-LSSVM\",\"Treino G-LSSVM\",\"Treino G-LSSVM\",\"Treino G-LSSVM\",\"Treino G-LSSVM\",\"Treino G-LSSVM\",\"Treino G-LSSVM\",\"Treino G-LSSVM\",\"Treino G-LSSVM\",\"Treino G-LSSVM\",\"Treino G-LSSVM\",\"Treino G-LSSVM\",\"Treino G-LSSVM\",\"Treino G-LSSVM\",\"Treino G-LSSVM\",\"Treino G-LSSVM\",\"Treino G-LSSVM\"],\"y\":[96.26099706744868,96.51759530791789,96.62756598240469,96.18768328445748,96.29765395894428,96.33431085043989,96.40762463343108,96.4442815249267,96.40762463343108,96.8841642228739,96.6642228739003,96.18768328445748,96.33431085043989,96.9574780058651,96.40762463343108,96.7008797653959,96.29765395894428,96.51759530791789,96.5909090909091,96.26099706744868,96.62756598240469,96.11436950146629,96.26099706744868,96.29765395894428,96.9574780058651,96.26099706744868,96.73753665689149,96.29765395894428,96.51759530791789,96.5542521994135,96.18768328445748,96.40762463343108,96.51759530791789,96.8841642228739,96.7741935483871,96.4442815249267,96.04105571847508,96.11436950146629,96.40762463343108,95.93108504398828,96.33431085043989,96.48093841642229,96.48093841642229,96.26099706744868,96.5542521994135,96.48093841642229,96.4442815249267,96.4442815249267,96.40762463343108,96.40762463343108],\"type\":\"box\"},{\"boxmean\":\"sd\",\"marker\":{\"color\":\"rgba(93, 164, 214, 0.5)\"},\"name\":\"L-LSSVM\",\"x\":[\"Treino L-LSSVM\",\"Treino L-LSSVM\",\"Treino L-LSSVM\",\"Treino L-LSSVM\",\"Treino L-LSSVM\",\"Treino L-LSSVM\",\"Treino L-LSSVM\",\"Treino L-LSSVM\",\"Treino L-LSSVM\",\"Treino L-LSSVM\",\"Treino L-LSSVM\",\"Treino L-LSSVM\",\"Treino L-LSSVM\",\"Treino L-LSSVM\",\"Treino L-LSSVM\",\"Treino L-LSSVM\",\"Treino L-LSSVM\",\"Treino L-LSSVM\",\"Treino L-LSSVM\",\"Treino L-LSSVM\",\"Treino L-LSSVM\",\"Treino L-LSSVM\",\"Treino L-LSSVM\",\"Treino L-LSSVM\",\"Treino L-LSSVM\",\"Treino L-LSSVM\",\"Treino L-LSSVM\",\"Treino L-LSSVM\",\"Treino L-LSSVM\",\"Treino L-LSSVM\",\"Treino L-LSSVM\",\"Treino L-LSSVM\",\"Treino L-LSSVM\",\"Treino L-LSSVM\",\"Treino L-LSSVM\",\"Treino L-LSSVM\",\"Treino L-LSSVM\",\"Treino L-LSSVM\",\"Treino L-LSSVM\",\"Treino L-LSSVM\",\"Treino L-LSSVM\",\"Treino L-LSSVM\",\"Treino L-LSSVM\",\"Treino L-LSSVM\",\"Treino L-LSSVM\",\"Treino L-LSSVM\",\"Treino L-LSSVM\",\"Treino L-LSSVM\",\"Treino L-LSSVM\",\"Treino L-LSSVM\"],\"y\":[98.38709677419355,98.90029325513197,97.83724340175954,98.68035190615836,98.49706744868035,98.16715542521995,98.79032258064517,98.71700879765396,98.93695014662757,98.31378299120234,98.79032258064517,98.09384164222874,98.90029325513197,98.31378299120234,98.53372434017595,98.97360703812316,98.71700879765396,98.82697947214076,98.68035190615836,98.68035190615836,98.75366568914956,98.38709677419355,98.75366568914956,98.79032258064517,98.53372434017595,98.49706744868035,98.57038123167156,98.46041055718476,98.09384164222874,98.24046920821115,98.16715542521995,97.50733137829913,98.38709677419355,98.49706744868035,97.80058651026393,98.16715542521995,98.13049853372434,98.90029325513197,98.49706744868035,98.60703812316716,98.60703812316716,98.31378299120234,97.80058651026393,99.04692082111437,98.79032258064517,98.68035190615836,98.20381231671554,98.38709677419355,98.79032258064517,99.04692082111437],\"type\":\"box\"},{\"boxmean\":\"sd\",\"marker\":{\"color\":\"rgba(155, 89, 182,1.0)\"},\"name\":\"R-LSSVM\",\"x\":[\"Treino R-LSSVM\",\"Treino R-LSSVM\",\"Treino R-LSSVM\",\"Treino R-LSSVM\",\"Treino R-LSSVM\",\"Treino R-LSSVM\",\"Treino R-LSSVM\",\"Treino R-LSSVM\",\"Treino R-LSSVM\",\"Treino R-LSSVM\",\"Treino R-LSSVM\",\"Treino R-LSSVM\",\"Treino R-LSSVM\",\"Treino R-LSSVM\",\"Treino R-LSSVM\",\"Treino R-LSSVM\",\"Treino R-LSSVM\",\"Treino R-LSSVM\",\"Treino R-LSSVM\",\"Treino R-LSSVM\",\"Treino R-LSSVM\",\"Treino R-LSSVM\",\"Treino R-LSSVM\",\"Treino R-LSSVM\",\"Treino R-LSSVM\",\"Treino R-LSSVM\",\"Treino R-LSSVM\",\"Treino R-LSSVM\",\"Treino R-LSSVM\",\"Treino R-LSSVM\",\"Treino R-LSSVM\",\"Treino R-LSSVM\",\"Treino R-LSSVM\",\"Treino R-LSSVM\",\"Treino R-LSSVM\",\"Treino R-LSSVM\",\"Treino R-LSSVM\",\"Treino R-LSSVM\",\"Treino R-LSSVM\",\"Treino R-LSSVM\",\"Treino R-LSSVM\",\"Treino R-LSSVM\",\"Treino R-LSSVM\",\"Treino R-LSSVM\",\"Treino R-LSSVM\",\"Treino R-LSSVM\",\"Treino R-LSSVM\",\"Treino R-LSSVM\",\"Treino R-LSSVM\",\"Treino R-LSSVM\"],\"y\":[98.46041055718476,98.35043988269796,97.72727272727273,97.58064516129032,98.13049853372434,98.20381231671554,98.38709677419355,98.46041055718476,98.38709677419355,98.42375366568915,98.05718475073314,98.20381231671554,98.20381231671554,98.42375366568915,96.8841642228739,98.31378299120234,98.09384164222874,98.16715542521995,98.57038123167156,97.98387096774194,98.35043988269796,98.13049853372434,98.16715542521995,98.09384164222874,98.53372434017595,98.02052785923753,98.60703812316716,98.24046920821115,97.76392961876833,97.17741935483872,98.20381231671554,97.87390029325513,97.91055718475073,98.42375366568915,98.64369501466275,97.98387096774194,98.35043988269796,97.91055718475073,98.75366568914956,97.91055718475073,98.35043988269796,97.32404692082112,98.42375366568915,97.98387096774194,97.98387096774194,98.42375366568915,97.58064516129032,97.61730205278593,98.42375366568915,97.83724340175954],\"type\":\"box\"},{\"boxmean\":\"sd\",\"marker\":{\"color\":\"rgba(44, 160, 101, 0.5)\"},\"name\":\"G-LSSVM\",\"x\":[\"Teste G-LSSVM\",\"Teste G-LSSVM\",\"Teste G-LSSVM\",\"Teste G-LSSVM\",\"Teste G-LSSVM\",\"Teste G-LSSVM\",\"Teste G-LSSVM\",\"Teste G-LSSVM\",\"Teste G-LSSVM\",\"Teste G-LSSVM\",\"Teste G-LSSVM\",\"Teste G-LSSVM\",\"Teste G-LSSVM\",\"Teste G-LSSVM\",\"Teste G-LSSVM\",\"Teste G-LSSVM\",\"Teste G-LSSVM\",\"Teste G-LSSVM\",\"Teste G-LSSVM\",\"Teste G-LSSVM\",\"Teste G-LSSVM\",\"Teste G-LSSVM\",\"Teste G-LSSVM\",\"Teste G-LSSVM\",\"Teste G-LSSVM\",\"Teste G-LSSVM\",\"Teste G-LSSVM\",\"Teste G-LSSVM\",\"Teste G-LSSVM\",\"Teste G-LSSVM\",\"Teste G-LSSVM\",\"Teste G-LSSVM\",\"Teste G-LSSVM\",\"Teste G-LSSVM\",\"Teste G-LSSVM\",\"Teste G-LSSVM\",\"Teste G-LSSVM\",\"Teste G-LSSVM\",\"Teste G-LSSVM\",\"Teste G-LSSVM\",\"Teste G-LSSVM\",\"Teste G-LSSVM\",\"Teste G-LSSVM\",\"Teste G-LSSVM\",\"Teste G-LSSVM\",\"Teste G-LSSVM\",\"Teste G-LSSVM\",\"Teste G-LSSVM\",\"Teste G-LSSVM\",\"Teste G-LSSVM\"],\"y\":[95.89442815249268,95.74780058651027,96.15102639296188,95.96774193548387,96.4442815249267,96.73753665689149,95.89442815249268,96.15102639296188,96.51759530791789,96.29765395894428,95.93108504398828,96.40762463343108,96.18768328445748,96.51759530791789,95.89442815249268,95.60117302052787,96.5542521994135,96.22434017595309,96.7008797653959,96.26099706744868,96.11436950146629,96.37096774193549,95.89442815249268,96.99413489736071,96.33431085043989,96.26099706744868,96.29765395894428,95.52785923753666,96.48093841642229,96.29765395894428,96.22434017595309,96.22434017595309,96.07771260997067,96.18768328445748,95.49120234604106,96.37096774193549,94.46480938416423,96.11436950146629,96.07771260997067,96.29765395894428,95.60117302052787,96.37096774193549,96.07771260997067,96.18768328445748,96.40762463343108,95.85777126099707,95.96774193548387,96.29765395894428,96.37096774193549,96.07771260997067],\"type\":\"box\"},{\"boxmean\":\"sd\",\"marker\":{\"color\":\"rgba(93, 164, 214, 0.5)\"},\"name\":\"L-LSSVM\",\"x\":[\"Teste L-LSSVM\",\"Teste L-LSSVM\",\"Teste L-LSSVM\",\"Teste L-LSSVM\",\"Teste L-LSSVM\",\"Teste L-LSSVM\",\"Teste L-LSSVM\",\"Teste L-LSSVM\",\"Teste L-LSSVM\",\"Teste L-LSSVM\",\"Teste L-LSSVM\",\"Teste L-LSSVM\",\"Teste L-LSSVM\",\"Teste L-LSSVM\",\"Teste L-LSSVM\",\"Teste L-LSSVM\",\"Teste L-LSSVM\",\"Teste L-LSSVM\",\"Teste L-LSSVM\",\"Teste L-LSSVM\",\"Teste L-LSSVM\",\"Teste L-LSSVM\",\"Teste L-LSSVM\",\"Teste L-LSSVM\",\"Teste L-LSSVM\",\"Teste L-LSSVM\",\"Teste L-LSSVM\",\"Teste L-LSSVM\",\"Teste L-LSSVM\",\"Teste L-LSSVM\",\"Teste L-LSSVM\",\"Teste L-LSSVM\",\"Teste L-LSSVM\",\"Teste L-LSSVM\",\"Teste L-LSSVM\",\"Teste L-LSSVM\",\"Teste L-LSSVM\",\"Teste L-LSSVM\",\"Teste L-LSSVM\",\"Teste L-LSSVM\",\"Teste L-LSSVM\",\"Teste L-LSSVM\",\"Teste L-LSSVM\",\"Teste L-LSSVM\",\"Teste L-LSSVM\",\"Teste L-LSSVM\",\"Teste L-LSSVM\",\"Teste L-LSSVM\",\"Teste L-LSSVM\",\"Teste L-LSSVM\"],\"y\":[97.72727272727273,97.36070381231671,97.39736070381232,97.87390029325513,98.02052785923753,97.91055718475073,98.09384164222874,97.50733137829913,98.09384164222874,97.47067448680352,97.87390029325513,97.39736070381232,97.72727272727273,97.58064516129032,97.80058651026393,97.58064516129032,97.94721407624634,97.76392961876833,97.91055718475073,98.02052785923753,97.98387096774194,97.94721407624634,97.98387096774194,98.02052785923753,97.98387096774194,98.16715542521995,97.87390029325513,98.09384164222874,97.72727272727273,98.09384164222874,97.94721407624634,97.25073313782991,97.72727272727273,97.80058651026393,96.7741935483871,97.61730205278593,97.61730205278593,97.80058651026393,97.87390029325513,97.87390029325513,97.80058651026393,98.09384164222874,97.72727272727273,97.98387096774194,98.38709677419355,97.69061583577712,97.61730205278593,97.76392961876833,97.65395894428153,98.57038123167156],\"type\":\"box\"},{\"boxmean\":\"sd\",\"marker\":{\"color\":\"rgba(155, 89, 182,1.0)\"},\"name\":\"R-LSSVM\",\"x\":[\"Teste R-LSSVM\",\"Teste R-LSSVM\",\"Teste R-LSSVM\",\"Teste R-LSSVM\",\"Teste R-LSSVM\",\"Teste R-LSSVM\",\"Teste R-LSSVM\",\"Teste R-LSSVM\",\"Teste R-LSSVM\",\"Teste R-LSSVM\",\"Teste R-LSSVM\",\"Teste R-LSSVM\",\"Teste R-LSSVM\",\"Teste R-LSSVM\",\"Teste R-LSSVM\",\"Teste R-LSSVM\",\"Teste R-LSSVM\",\"Teste R-LSSVM\",\"Teste R-LSSVM\",\"Teste R-LSSVM\",\"Teste R-LSSVM\",\"Teste R-LSSVM\",\"Teste R-LSSVM\",\"Teste R-LSSVM\",\"Teste R-LSSVM\",\"Teste R-LSSVM\",\"Teste R-LSSVM\",\"Teste R-LSSVM\",\"Teste R-LSSVM\",\"Teste R-LSSVM\",\"Teste R-LSSVM\",\"Teste R-LSSVM\",\"Teste R-LSSVM\",\"Teste R-LSSVM\",\"Teste R-LSSVM\",\"Teste R-LSSVM\",\"Teste R-LSSVM\",\"Teste R-LSSVM\",\"Teste R-LSSVM\",\"Teste R-LSSVM\",\"Teste R-LSSVM\",\"Teste R-LSSVM\",\"Teste R-LSSVM\",\"Teste R-LSSVM\",\"Teste R-LSSVM\",\"Teste R-LSSVM\",\"Teste R-LSSVM\",\"Teste R-LSSVM\",\"Teste R-LSSVM\",\"Teste R-LSSVM\"],\"y\":[97.80058651026393,97.80058651026393,96.9208211143695,97.36070381231671,97.80058651026393,97.98387096774194,97.83724340175954,97.65395894428153,97.32404692082112,97.69061583577712,97.36070381231671,97.72727272727273,97.72727272727273,97.50733137829913,96.9208211143695,97.39736070381232,97.98387096774194,97.61730205278593,97.98387096774194,97.17741935483872,97.98387096774194,98.02052785923753,97.76392961876833,97.91055718475073,97.87390029325513,97.76392961876833,98.02052785923753,97.83724340175954,97.28739002932552,97.36070381231671,98.05718475073314,97.58064516129032,96.9208211143695,97.87390029325513,97.72727272727273,97.58064516129032,98.05718475073314,97.39736070381232,98.20381231671554,97.76392961876833,97.10410557184751,97.32404692082112,97.87390029325513,97.28739002932552,97.91055718475073,97.69061583577712,97.39736070381232,97.10410557184751,97.61730205278593,97.83724340175954],\"type\":\"box\"},{\"line\":{\"color\":\"RoyalBlue\",\"dash\":\"dashdot\",\"width\":2},\"mode\":\"lines+markers\",\"showlegend\":false,\"x\":[\"Treino G-LSSVM\",\"Treino L-LSSVM\",\"Treino R-LSSVM\",\"Treino G-LSSVM\"],\"y\":[96.43841642228737,98.50293255131965,98.12023460410555,96.43841642228737],\"type\":\"scatter\"},{\"line\":{\"color\":\"RoyalBlue\",\"dash\":\"dashdot\",\"width\":2},\"mode\":\"lines+markers\",\"showlegend\":false,\"x\":[\"Teste G-LSSVM\",\"Teste L-LSSVM\",\"Teste R-LSSVM\",\"Teste G-LSSVM\"],\"y\":[96.14809384164224,97.81011730205279,97.63416422287389,96.14809384164224],\"type\":\"scatter\"}],                        {\"legend\":{\"x\":0.875,\"y\":1},\"showlegend\":false,\"yaxis\":{\"title\":{\"text\":\"Acur\\u00e1cia (%)\"}},\"template\":{\"data\":{\"bar\":[{\"error_x\":{\"color\":\"#2a3f5f\"},\"error_y\":{\"color\":\"#2a3f5f\"},\"marker\":{\"line\":{\"color\":\"#E5ECF6\",\"width\":0.5},\"pattern\":{\"fillmode\":\"overlay\",\"size\":10,\"solidity\":0.2}},\"type\":\"bar\"}],\"barpolar\":[{\"marker\":{\"line\":{\"color\":\"#E5ECF6\",\"width\":0.5},\"pattern\":{\"fillmode\":\"overlay\",\"size\":10,\"solidity\":0.2}},\"type\":\"barpolar\"}],\"carpet\":[{\"aaxis\":{\"endlinecolor\":\"#2a3f5f\",\"gridcolor\":\"white\",\"linecolor\":\"white\",\"minorgridcolor\":\"white\",\"startlinecolor\":\"#2a3f5f\"},\"baxis\":{\"endlinecolor\":\"#2a3f5f\",\"gridcolor\":\"white\",\"linecolor\":\"white\",\"minorgridcolor\":\"white\",\"startlinecolor\":\"#2a3f5f\"},\"type\":\"carpet\"}],\"choropleth\":[{\"colorbar\":{\"outlinewidth\":0,\"ticks\":\"\"},\"type\":\"choropleth\"}],\"contour\":[{\"colorbar\":{\"outlinewidth\":0,\"ticks\":\"\"},\"colorscale\":[[0.0,\"#0d0887\"],[0.1111111111111111,\"#46039f\"],[0.2222222222222222,\"#7201a8\"],[0.3333333333333333,\"#9c179e\"],[0.4444444444444444,\"#bd3786\"],[0.5555555555555556,\"#d8576b\"],[0.6666666666666666,\"#ed7953\"],[0.7777777777777778,\"#fb9f3a\"],[0.8888888888888888,\"#fdca26\"],[1.0,\"#f0f921\"]],\"type\":\"contour\"}],\"contourcarpet\":[{\"colorbar\":{\"outlinewidth\":0,\"ticks\":\"\"},\"type\":\"contourcarpet\"}],\"heatmap\":[{\"colorbar\":{\"outlinewidth\":0,\"ticks\":\"\"},\"colorscale\":[[0.0,\"#0d0887\"],[0.1111111111111111,\"#46039f\"],[0.2222222222222222,\"#7201a8\"],[0.3333333333333333,\"#9c179e\"],[0.4444444444444444,\"#bd3786\"],[0.5555555555555556,\"#d8576b\"],[0.6666666666666666,\"#ed7953\"],[0.7777777777777778,\"#fb9f3a\"],[0.8888888888888888,\"#fdca26\"],[1.0,\"#f0f921\"]],\"type\":\"heatmap\"}],\"heatmapgl\":[{\"colorbar\":{\"outlinewidth\":0,\"ticks\":\"\"},\"colorscale\":[[0.0,\"#0d0887\"],[0.1111111111111111,\"#46039f\"],[0.2222222222222222,\"#7201a8\"],[0.3333333333333333,\"#9c179e\"],[0.4444444444444444,\"#bd3786\"],[0.5555555555555556,\"#d8576b\"],[0.6666666666666666,\"#ed7953\"],[0.7777777777777778,\"#fb9f3a\"],[0.8888888888888888,\"#fdca26\"],[1.0,\"#f0f921\"]],\"type\":\"heatmapgl\"}],\"histogram\":[{\"marker\":{\"pattern\":{\"fillmode\":\"overlay\",\"size\":10,\"solidity\":0.2}},\"type\":\"histogram\"}],\"histogram2d\":[{\"colorbar\":{\"outlinewidth\":0,\"ticks\":\"\"},\"colorscale\":[[0.0,\"#0d0887\"],[0.1111111111111111,\"#46039f\"],[0.2222222222222222,\"#7201a8\"],[0.3333333333333333,\"#9c179e\"],[0.4444444444444444,\"#bd3786\"],[0.5555555555555556,\"#d8576b\"],[0.6666666666666666,\"#ed7953\"],[0.7777777777777778,\"#fb9f3a\"],[0.8888888888888888,\"#fdca26\"],[1.0,\"#f0f921\"]],\"type\":\"histogram2d\"}],\"histogram2dcontour\":[{\"colorbar\":{\"outlinewidth\":0,\"ticks\":\"\"},\"colorscale\":[[0.0,\"#0d0887\"],[0.1111111111111111,\"#46039f\"],[0.2222222222222222,\"#7201a8\"],[0.3333333333333333,\"#9c179e\"],[0.4444444444444444,\"#bd3786\"],[0.5555555555555556,\"#d8576b\"],[0.6666666666666666,\"#ed7953\"],[0.7777777777777778,\"#fb9f3a\"],[0.8888888888888888,\"#fdca26\"],[1.0,\"#f0f921\"]],\"type\":\"histogram2dcontour\"}],\"mesh3d\":[{\"colorbar\":{\"outlinewidth\":0,\"ticks\":\"\"},\"type\":\"mesh3d\"}],\"parcoords\":[{\"line\":{\"colorbar\":{\"outlinewidth\":0,\"ticks\":\"\"}},\"type\":\"parcoords\"}],\"pie\":[{\"automargin\":true,\"type\":\"pie\"}],\"scatter\":[{\"marker\":{\"colorbar\":{\"outlinewidth\":0,\"ticks\":\"\"}},\"type\":\"scatter\"}],\"scatter3d\":[{\"line\":{\"colorbar\":{\"outlinewidth\":0,\"ticks\":\"\"}},\"marker\":{\"colorbar\":{\"outlinewidth\":0,\"ticks\":\"\"}},\"type\":\"scatter3d\"}],\"scattercarpet\":[{\"marker\":{\"colorbar\":{\"outlinewidth\":0,\"ticks\":\"\"}},\"type\":\"scattercarpet\"}],\"scattergeo\":[{\"marker\":{\"colorbar\":{\"outlinewidth\":0,\"ticks\":\"\"}},\"type\":\"scattergeo\"}],\"scattergl\":[{\"marker\":{\"colorbar\":{\"outlinewidth\":0,\"ticks\":\"\"}},\"type\":\"scattergl\"}],\"scattermapbox\":[{\"marker\":{\"colorbar\":{\"outlinewidth\":0,\"ticks\":\"\"}},\"type\":\"scattermapbox\"}],\"scatterpolar\":[{\"marker\":{\"colorbar\":{\"outlinewidth\":0,\"ticks\":\"\"}},\"type\":\"scatterpolar\"}],\"scatterpolargl\":[{\"marker\":{\"colorbar\":{\"outlinewidth\":0,\"ticks\":\"\"}},\"type\":\"scatterpolargl\"}],\"scatterternary\":[{\"marker\":{\"colorbar\":{\"outlinewidth\":0,\"ticks\":\"\"}},\"type\":\"scatterternary\"}],\"surface\":[{\"colorbar\":{\"outlinewidth\":0,\"ticks\":\"\"},\"colorscale\":[[0.0,\"#0d0887\"],[0.1111111111111111,\"#46039f\"],[0.2222222222222222,\"#7201a8\"],[0.3333333333333333,\"#9c179e\"],[0.4444444444444444,\"#bd3786\"],[0.5555555555555556,\"#d8576b\"],[0.6666666666666666,\"#ed7953\"],[0.7777777777777778,\"#fb9f3a\"],[0.8888888888888888,\"#fdca26\"],[1.0,\"#f0f921\"]],\"type\":\"surface\"}],\"table\":[{\"cells\":{\"fill\":{\"color\":\"#EBF0F8\"},\"line\":{\"color\":\"white\"}},\"header\":{\"fill\":{\"color\":\"#C8D4E3\"},\"line\":{\"color\":\"white\"}},\"type\":\"table\"}]},\"layout\":{\"annotationdefaults\":{\"arrowcolor\":\"#2a3f5f\",\"arrowhead\":0,\"arrowwidth\":1},\"autotypenumbers\":\"strict\",\"coloraxis\":{\"colorbar\":{\"outlinewidth\":0,\"ticks\":\"\"}},\"colorscale\":{\"diverging\":[[0,\"#8e0152\"],[0.1,\"#c51b7d\"],[0.2,\"#de77ae\"],[0.3,\"#f1b6da\"],[0.4,\"#fde0ef\"],[0.5,\"#f7f7f7\"],[0.6,\"#e6f5d0\"],[0.7,\"#b8e186\"],[0.8,\"#7fbc41\"],[0.9,\"#4d9221\"],[1,\"#276419\"]],\"sequential\":[[0.0,\"#0d0887\"],[0.1111111111111111,\"#46039f\"],[0.2222222222222222,\"#7201a8\"],[0.3333333333333333,\"#9c179e\"],[0.4444444444444444,\"#bd3786\"],[0.5555555555555556,\"#d8576b\"],[0.6666666666666666,\"#ed7953\"],[0.7777777777777778,\"#fb9f3a\"],[0.8888888888888888,\"#fdca26\"],[1.0,\"#f0f921\"]],\"sequentialminus\":[[0.0,\"#0d0887\"],[0.1111111111111111,\"#46039f\"],[0.2222222222222222,\"#7201a8\"],[0.3333333333333333,\"#9c179e\"],[0.4444444444444444,\"#bd3786\"],[0.5555555555555556,\"#d8576b\"],[0.6666666666666666,\"#ed7953\"],[0.7777777777777778,\"#fb9f3a\"],[0.8888888888888888,\"#fdca26\"],[1.0,\"#f0f921\"]]},\"colorway\":[\"#636efa\",\"#EF553B\",\"#00cc96\",\"#ab63fa\",\"#FFA15A\",\"#19d3f3\",\"#FF6692\",\"#B6E880\",\"#FF97FF\",\"#FECB52\"],\"font\":{\"color\":\"#2a3f5f\"},\"geo\":{\"bgcolor\":\"white\",\"lakecolor\":\"white\",\"landcolor\":\"#E5ECF6\",\"showlakes\":true,\"showland\":true,\"subunitcolor\":\"white\"},\"hoverlabel\":{\"align\":\"left\"},\"hovermode\":\"closest\",\"mapbox\":{\"style\":\"light\"},\"paper_bgcolor\":\"white\",\"plot_bgcolor\":\"#E5ECF6\",\"polar\":{\"angularaxis\":{\"gridcolor\":\"white\",\"linecolor\":\"white\",\"ticks\":\"\"},\"bgcolor\":\"#E5ECF6\",\"radialaxis\":{\"gridcolor\":\"white\",\"linecolor\":\"white\",\"ticks\":\"\"}},\"scene\":{\"xaxis\":{\"backgroundcolor\":\"#E5ECF6\",\"gridcolor\":\"white\",\"gridwidth\":2,\"linecolor\":\"white\",\"showbackground\":true,\"ticks\":\"\",\"zerolinecolor\":\"white\"},\"yaxis\":{\"backgroundcolor\":\"#E5ECF6\",\"gridcolor\":\"white\",\"gridwidth\":2,\"linecolor\":\"white\",\"showbackground\":true,\"ticks\":\"\",\"zerolinecolor\":\"white\"},\"zaxis\":{\"backgroundcolor\":\"#E5ECF6\",\"gridcolor\":\"white\",\"gridwidth\":2,\"linecolor\":\"white\",\"showbackground\":true,\"ticks\":\"\",\"zerolinecolor\":\"white\"}},\"shapedefaults\":{\"line\":{\"color\":\"#2a3f5f\"}},\"ternary\":{\"aaxis\":{\"gridcolor\":\"white\",\"linecolor\":\"white\",\"ticks\":\"\"},\"baxis\":{\"gridcolor\":\"white\",\"linecolor\":\"white\",\"ticks\":\"\"},\"bgcolor\":\"#E5ECF6\",\"caxis\":{\"gridcolor\":\"white\",\"linecolor\":\"white\",\"ticks\":\"\"}},\"title\":{\"x\":0.05},\"xaxis\":{\"automargin\":true,\"gridcolor\":\"white\",\"linecolor\":\"white\",\"ticks\":\"\",\"title\":{\"standoff\":15},\"zerolinecolor\":\"white\",\"zerolinewidth\":2},\"yaxis\":{\"automargin\":true,\"gridcolor\":\"white\",\"linecolor\":\"white\",\"ticks\":\"\",\"title\":{\"standoff\":15},\"zerolinecolor\":\"white\",\"zerolinewidth\":2}}},\"margin\":{\"l\":20,\"r\":5,\"t\":5,\"b\":20}},                        {\"responsive\": true}                    ).then(function(){\n",
       "                            \n",
       "var gd = document.getElementById('e4026866-636b-4984-ad92-83a282ed43ac');\n",
       "var x = new MutationObserver(function (mutations, observer) {{\n",
       "        var display = window.getComputedStyle(gd).display;\n",
       "        if (!display || display === 'none') {{\n",
       "            console.log([gd, 'removed!']);\n",
       "            Plotly.purge(gd);\n",
       "            observer.disconnect();\n",
       "        }}\n",
       "}});\n",
       "\n",
       "// Listen for the removal of the full notebook cells\n",
       "var notebookContainer = gd.closest('#notebook-container');\n",
       "if (notebookContainer) {{\n",
       "    x.observe(notebookContainer, {childList: true});\n",
       "}}\n",
       "\n",
       "// Listen for the clearing of the current output cell\n",
       "var outputEl = gd.closest('.output');\n",
       "if (outputEl) {{\n",
       "    x.observe(outputEl, {childList: true});\n",
       "}}\n",
       "\n",
       "                        })                };                });            </script>        </div>"
      ]
     },
     "metadata": {},
     "output_type": "display_data"
    },
    {
     "data": {
      "text/html": [
       "<hr>"
      ],
      "text/plain": [
       "<IPython.core.display.HTML object>"
      ]
     },
     "metadata": {},
     "output_type": "display_data"
    },
    {
     "data": {
      "text/html": [
       "<center><h1>wf4f</h1></center>"
      ],
      "text/plain": [
       "<IPython.core.display.HTML object>"
      ]
     },
     "metadata": {},
     "output_type": "display_data"
    },
    {
     "data": {
      "application/vnd.plotly.v1+json": {
       "config": {
        "plotlyServerURL": "https://plotly.com"
       },
       "data": [
        {
         "boxmean": "sd",
         "marker": {
          "color": "rgba(44, 160, 101, 0.5)"
         },
         "name": "G-LSSVM",
         "type": "box",
         "x": [
          "Treino G-LSSVM",
          "Treino G-LSSVM",
          "Treino G-LSSVM",
          "Treino G-LSSVM",
          "Treino G-LSSVM",
          "Treino G-LSSVM",
          "Treino G-LSSVM",
          "Treino G-LSSVM",
          "Treino G-LSSVM",
          "Treino G-LSSVM",
          "Treino G-LSSVM",
          "Treino G-LSSVM",
          "Treino G-LSSVM",
          "Treino G-LSSVM",
          "Treino G-LSSVM",
          "Treino G-LSSVM",
          "Treino G-LSSVM",
          "Treino G-LSSVM",
          "Treino G-LSSVM",
          "Treino G-LSSVM",
          "Treino G-LSSVM",
          "Treino G-LSSVM",
          "Treino G-LSSVM",
          "Treino G-LSSVM",
          "Treino G-LSSVM",
          "Treino G-LSSVM",
          "Treino G-LSSVM",
          "Treino G-LSSVM",
          "Treino G-LSSVM",
          "Treino G-LSSVM",
          "Treino G-LSSVM",
          "Treino G-LSSVM",
          "Treino G-LSSVM",
          "Treino G-LSSVM",
          "Treino G-LSSVM",
          "Treino G-LSSVM",
          "Treino G-LSSVM",
          "Treino G-LSSVM",
          "Treino G-LSSVM",
          "Treino G-LSSVM",
          "Treino G-LSSVM",
          "Treino G-LSSVM",
          "Treino G-LSSVM",
          "Treino G-LSSVM",
          "Treino G-LSSVM",
          "Treino G-LSSVM",
          "Treino G-LSSVM",
          "Treino G-LSSVM",
          "Treino G-LSSVM",
          "Treino G-LSSVM"
         ],
         "y": [
          97.43401759530792,
          96.99413489736071,
          97.50733137829913,
          97.0674486803519,
          97.43401759530792,
          96.9208211143695,
          97.10410557184751,
          97.39736070381232,
          97.32404692082112,
          97.76392961876833,
          97.25073313782991,
          97.17741935483872,
          97.21407624633432,
          97.54398826979472,
          96.8841642228739,
          97.54398826979472,
          96.99413489736071,
          96.8841642228739,
          97.54398826979472,
          95.85777126099707,
          97.94721407624634,
          97.72727272727273,
          97.28739002932552,
          97.17741935483872,
          97.83724340175954,
          96.8841642228739,
          97.28739002932552,
          97.21407624633432,
          97.0307917888563,
          96.7008797653959,
          96.7008797653959,
          98.16715542521995,
          97.65395894428153,
          97.47067448680352,
          97.50733137829913,
          97.21407624633432,
          97.25073313782991,
          96.8841642228739,
          96.07771260997067,
          96.73753665689149,
          97.0674486803519,
          97.76392961876833,
          95.56451612903226,
          97.54398826979472,
          96.9574780058651,
          97.36070381231671,
          96.73753665689149,
          97.14076246334311,
          97.58064516129032,
          97.69061583577712
         ]
        },
        {
         "boxmean": "sd",
         "marker": {
          "color": "rgba(93, 164, 214, 0.5)"
         },
         "name": "L-LSSVM",
         "type": "box",
         "x": [
          "Treino L-LSSVM",
          "Treino L-LSSVM",
          "Treino L-LSSVM",
          "Treino L-LSSVM",
          "Treino L-LSSVM",
          "Treino L-LSSVM",
          "Treino L-LSSVM",
          "Treino L-LSSVM",
          "Treino L-LSSVM",
          "Treino L-LSSVM",
          "Treino L-LSSVM",
          "Treino L-LSSVM",
          "Treino L-LSSVM",
          "Treino L-LSSVM",
          "Treino L-LSSVM",
          "Treino L-LSSVM",
          "Treino L-LSSVM",
          "Treino L-LSSVM",
          "Treino L-LSSVM",
          "Treino L-LSSVM",
          "Treino L-LSSVM",
          "Treino L-LSSVM",
          "Treino L-LSSVM",
          "Treino L-LSSVM",
          "Treino L-LSSVM",
          "Treino L-LSSVM",
          "Treino L-LSSVM",
          "Treino L-LSSVM",
          "Treino L-LSSVM",
          "Treino L-LSSVM",
          "Treino L-LSSVM",
          "Treino L-LSSVM",
          "Treino L-LSSVM",
          "Treino L-LSSVM",
          "Treino L-LSSVM",
          "Treino L-LSSVM",
          "Treino L-LSSVM",
          "Treino L-LSSVM",
          "Treino L-LSSVM",
          "Treino L-LSSVM",
          "Treino L-LSSVM",
          "Treino L-LSSVM",
          "Treino L-LSSVM",
          "Treino L-LSSVM",
          "Treino L-LSSVM",
          "Treino L-LSSVM",
          "Treino L-LSSVM",
          "Treino L-LSSVM",
          "Treino L-LSSVM",
          "Treino L-LSSVM"
         ],
         "y": [
          97.87390029325513,
          98.60703812316716,
          97.61730205278593,
          97.21407624633432,
          98.68035190615836,
          96.9208211143695,
          98.13049853372434,
          97.39736070381232,
          97.43401759530792,
          97.58064516129032,
          97.50733137829913,
          97.14076246334311,
          98.53372434017595,
          98.35043988269796,
          97.17741935483872,
          98.79032258064517,
          97.72727272727273,
          97.65395894428153,
          97.58064516129032,
          98.13049853372434,
          97.10410557184751,
          98.20381231671554,
          99.01026392961877,
          98.97360703812316,
          98.75366568914956,
          97.80058651026393,
          97.61730205278593,
          98.49706744868035,
          97.36070381231671,
          97.28739002932552,
          97.28739002932552,
          97.54398826979472,
          98.05718475073314,
          97.0307917888563,
          97.43401759530792,
          98.82697947214076,
          97.39736070381232,
          98.82697947214076,
          98.53372434017595,
          97.54398826979472,
          97.47067448680352,
          98.35043988269796,
          98.53372434017595,
          98.42375366568915,
          97.54398826979472,
          97.36070381231671,
          97.21407624633432,
          97.91055718475073,
          97.98387096774194,
          98.53372434017595
         ]
        },
        {
         "boxmean": "sd",
         "marker": {
          "color": "rgba(155, 89, 182,1.0)"
         },
         "name": "R-LSSVM",
         "type": "box",
         "x": [
          "Treino R-LSSVM",
          "Treino R-LSSVM",
          "Treino R-LSSVM",
          "Treino R-LSSVM",
          "Treino R-LSSVM",
          "Treino R-LSSVM",
          "Treino R-LSSVM",
          "Treino R-LSSVM",
          "Treino R-LSSVM",
          "Treino R-LSSVM",
          "Treino R-LSSVM",
          "Treino R-LSSVM",
          "Treino R-LSSVM",
          "Treino R-LSSVM",
          "Treino R-LSSVM",
          "Treino R-LSSVM",
          "Treino R-LSSVM",
          "Treino R-LSSVM",
          "Treino R-LSSVM",
          "Treino R-LSSVM",
          "Treino R-LSSVM",
          "Treino R-LSSVM",
          "Treino R-LSSVM",
          "Treino R-LSSVM",
          "Treino R-LSSVM",
          "Treino R-LSSVM",
          "Treino R-LSSVM",
          "Treino R-LSSVM",
          "Treino R-LSSVM",
          "Treino R-LSSVM",
          "Treino R-LSSVM",
          "Treino R-LSSVM",
          "Treino R-LSSVM",
          "Treino R-LSSVM",
          "Treino R-LSSVM",
          "Treino R-LSSVM",
          "Treino R-LSSVM",
          "Treino R-LSSVM",
          "Treino R-LSSVM",
          "Treino R-LSSVM",
          "Treino R-LSSVM",
          "Treino R-LSSVM",
          "Treino R-LSSVM",
          "Treino R-LSSVM",
          "Treino R-LSSVM",
          "Treino R-LSSVM",
          "Treino R-LSSVM",
          "Treino R-LSSVM",
          "Treino R-LSSVM",
          "Treino R-LSSVM"
         ],
         "y": [
          97.87390029325513,
          97.58064516129032,
          97.32404692082112,
          97.21407624633432,
          98.31378299120234,
          97.83724340175954,
          97.61730205278593,
          98.13049853372434,
          97.61730205278593,
          97.76392961876833,
          97.47067448680352,
          98.75366568914956,
          97.32404692082112,
          97.50733137829913,
          97.43401759530792,
          98.97360703812316,
          97.91055718475073,
          97.72727272727273,
          97.58064516129032,
          98.20381231671554,
          97.14076246334311,
          97.87390029325513,
          98.57038123167156,
          97.98387096774194,
          98.13049853372434,
          97.98387096774194,
          97.21407624633432,
          98.02052785923753,
          97.94721407624634,
          96.26099706744868,
          96.9574780058651,
          97.98387096774194,
          97.98387096774194,
          98.31378299120234,
          97.54398826979472,
          98.05718475073314,
          97.94721407624634,
          97.98387096774194,
          97.61730205278593,
          97.43401759530792,
          98.16715542521995,
          98.71700879765396,
          98.13049853372434,
          98.24046920821115,
          97.69061583577712,
          97.87390029325513,
          97.83724340175954,
          98.75366568914956,
          98.27712609970675,
          98.13049853372434
         ]
        },
        {
         "boxmean": "sd",
         "marker": {
          "color": "rgba(44, 160, 101, 0.5)"
         },
         "name": "G-LSSVM",
         "type": "box",
         "x": [
          "Teste G-LSSVM",
          "Teste G-LSSVM",
          "Teste G-LSSVM",
          "Teste G-LSSVM",
          "Teste G-LSSVM",
          "Teste G-LSSVM",
          "Teste G-LSSVM",
          "Teste G-LSSVM",
          "Teste G-LSSVM",
          "Teste G-LSSVM",
          "Teste G-LSSVM",
          "Teste G-LSSVM",
          "Teste G-LSSVM",
          "Teste G-LSSVM",
          "Teste G-LSSVM",
          "Teste G-LSSVM",
          "Teste G-LSSVM",
          "Teste G-LSSVM",
          "Teste G-LSSVM",
          "Teste G-LSSVM",
          "Teste G-LSSVM",
          "Teste G-LSSVM",
          "Teste G-LSSVM",
          "Teste G-LSSVM",
          "Teste G-LSSVM",
          "Teste G-LSSVM",
          "Teste G-LSSVM",
          "Teste G-LSSVM",
          "Teste G-LSSVM",
          "Teste G-LSSVM",
          "Teste G-LSSVM",
          "Teste G-LSSVM",
          "Teste G-LSSVM",
          "Teste G-LSSVM",
          "Teste G-LSSVM",
          "Teste G-LSSVM",
          "Teste G-LSSVM",
          "Teste G-LSSVM",
          "Teste G-LSSVM",
          "Teste G-LSSVM",
          "Teste G-LSSVM",
          "Teste G-LSSVM",
          "Teste G-LSSVM",
          "Teste G-LSSVM",
          "Teste G-LSSVM",
          "Teste G-LSSVM",
          "Teste G-LSSVM",
          "Teste G-LSSVM",
          "Teste G-LSSVM",
          "Teste G-LSSVM"
         ],
         "y": [
          96.5542521994135,
          96.22434017595309,
          96.26099706744868,
          95.85777126099707,
          96.73753665689149,
          96.18768328445748,
          95.60117302052787,
          95.78445747800586,
          96.29765395894428,
          96.5542521994135,
          96.04105571847508,
          96.4442815249267,
          96.5542521994135,
          96.29765395894428,
          95.71114369501467,
          95.67448680351906,
          96.51759530791789,
          96.5909090909091,
          96.8108504398827,
          95.12463343108504,
          96.11436950146629,
          96.26099706744868,
          96.18768328445748,
          96.9208211143695,
          95.85777126099707,
          96.33431085043989,
          96.6642228739003,
          96.29765395894428,
          96.22434017595309,
          96.15102639296188,
          96.4442815249267,
          96.22434017595309,
          95.96774193548387,
          96.37096774193549,
          96.00439882697948,
          96.5542521994135,
          96.00439882697948,
          96.40762463343108,
          95.23460410557185,
          96.8475073313783,
          95.56451612903226,
          96.6642228739003,
          94.94134897360705,
          96.22434017595309,
          96.48093841642229,
          96.07771260997067,
          95.85777126099707,
          96.15102639296188,
          96.26099706744868,
          96.51759530791789
         ]
        },
        {
         "boxmean": "sd",
         "marker": {
          "color": "rgba(93, 164, 214, 0.5)"
         },
         "name": "L-LSSVM",
         "type": "box",
         "x": [
          "Teste L-LSSVM",
          "Teste L-LSSVM",
          "Teste L-LSSVM",
          "Teste L-LSSVM",
          "Teste L-LSSVM",
          "Teste L-LSSVM",
          "Teste L-LSSVM",
          "Teste L-LSSVM",
          "Teste L-LSSVM",
          "Teste L-LSSVM",
          "Teste L-LSSVM",
          "Teste L-LSSVM",
          "Teste L-LSSVM",
          "Teste L-LSSVM",
          "Teste L-LSSVM",
          "Teste L-LSSVM",
          "Teste L-LSSVM",
          "Teste L-LSSVM",
          "Teste L-LSSVM",
          "Teste L-LSSVM",
          "Teste L-LSSVM",
          "Teste L-LSSVM",
          "Teste L-LSSVM",
          "Teste L-LSSVM",
          "Teste L-LSSVM",
          "Teste L-LSSVM",
          "Teste L-LSSVM",
          "Teste L-LSSVM",
          "Teste L-LSSVM",
          "Teste L-LSSVM",
          "Teste L-LSSVM",
          "Teste L-LSSVM",
          "Teste L-LSSVM",
          "Teste L-LSSVM",
          "Teste L-LSSVM",
          "Teste L-LSSVM",
          "Teste L-LSSVM",
          "Teste L-LSSVM",
          "Teste L-LSSVM",
          "Teste L-LSSVM",
          "Teste L-LSSVM",
          "Teste L-LSSVM",
          "Teste L-LSSVM",
          "Teste L-LSSVM",
          "Teste L-LSSVM",
          "Teste L-LSSVM",
          "Teste L-LSSVM",
          "Teste L-LSSVM",
          "Teste L-LSSVM",
          "Teste L-LSSVM"
         ],
         "y": [
          96.40762463343108,
          96.51759530791789,
          95.45454545454545,
          95.78445747800586,
          95.45454545454545,
          96.22434017595309,
          95.49120234604106,
          95.96774193548387,
          96.29765395894428,
          95.67448680351906,
          96.04105571847508,
          95.74780058651027,
          96.51759530791789,
          95.85777126099707,
          95.82111436950147,
          95.52785923753666,
          96.29765395894428,
          96.73753665689149,
          96.07771260997067,
          95.49120234604106,
          96.26099706744868,
          96.62756598240469,
          96.5542521994135,
          96.37096774193549,
          95.82111436950147,
          95.89442815249268,
          96.00439882697948,
          96.37096774193549,
          95.82111436950147,
          95.93108504398828,
          96.18768328445748,
          96.22434017595309,
          96.33431085043989,
          94.90469208211144,
          95.85777126099707,
          95.78445747800586,
          95.67448680351906,
          96.7008797653959,
          96.48093841642229,
          96.15102639296188,
          95.52785923753666,
          96.9208211143695,
          96.29765395894428,
          96.22434017595309,
          96.6642228739003,
          95.78445747800586,
          96.33431085043989,
          96.5909090909091,
          95.63782991202346,
          96.48093841642229
         ]
        },
        {
         "boxmean": "sd",
         "marker": {
          "color": "rgba(155, 89, 182,1.0)"
         },
         "name": "R-LSSVM",
         "type": "box",
         "x": [
          "Teste R-LSSVM",
          "Teste R-LSSVM",
          "Teste R-LSSVM",
          "Teste R-LSSVM",
          "Teste R-LSSVM",
          "Teste R-LSSVM",
          "Teste R-LSSVM",
          "Teste R-LSSVM",
          "Teste R-LSSVM",
          "Teste R-LSSVM",
          "Teste R-LSSVM",
          "Teste R-LSSVM",
          "Teste R-LSSVM",
          "Teste R-LSSVM",
          "Teste R-LSSVM",
          "Teste R-LSSVM",
          "Teste R-LSSVM",
          "Teste R-LSSVM",
          "Teste R-LSSVM",
          "Teste R-LSSVM",
          "Teste R-LSSVM",
          "Teste R-LSSVM",
          "Teste R-LSSVM",
          "Teste R-LSSVM",
          "Teste R-LSSVM",
          "Teste R-LSSVM",
          "Teste R-LSSVM",
          "Teste R-LSSVM",
          "Teste R-LSSVM",
          "Teste R-LSSVM",
          "Teste R-LSSVM",
          "Teste R-LSSVM",
          "Teste R-LSSVM",
          "Teste R-LSSVM",
          "Teste R-LSSVM",
          "Teste R-LSSVM",
          "Teste R-LSSVM",
          "Teste R-LSSVM",
          "Teste R-LSSVM",
          "Teste R-LSSVM",
          "Teste R-LSSVM",
          "Teste R-LSSVM",
          "Teste R-LSSVM",
          "Teste R-LSSVM",
          "Teste R-LSSVM",
          "Teste R-LSSVM",
          "Teste R-LSSVM",
          "Teste R-LSSVM",
          "Teste R-LSSVM",
          "Teste R-LSSVM"
         ],
         "y": [
          96.4442815249267,
          96.5909090909091,
          95.85777126099707,
          95.74780058651027,
          96.5909090909091,
          96.48093841642229,
          95.60117302052787,
          96.00439882697948,
          96.11436950146629,
          96.62756598240469,
          96.07771260997067,
          96.6642228739003,
          96.62756598240469,
          96.37096774193549,
          95.82111436950147,
          95.49120234604106,
          96.37096774193549,
          96.73753665689149,
          96.40762463343108,
          96.00439882697948,
          96.15102639296188,
          96.7741935483871,
          95.89442815249268,
          96.8841642228739,
          96.29765395894428,
          96.5542521994135,
          96.48093841642229,
          96.73753665689149,
          96.5909090909091,
          95.27126099706746,
          96.11436950146629,
          96.22434017595309,
          96.5909090909091,
          96.33431085043989,
          95.93108504398828,
          96.18768328445748,
          96.40762463343108,
          96.9208211143695,
          96.4442815249267,
          96.9574780058651,
          95.63782991202346,
          96.51759530791789,
          96.04105571847508,
          96.40762463343108,
          96.4442815249267,
          95.93108504398828,
          96.22434017595309,
          95.56451612903226,
          95.89442815249268,
          97.17741935483872
         ]
        },
        {
         "line": {
          "color": "RoyalBlue",
          "dash": "dashdot",
          "width": 2
         },
         "mode": "lines+markers",
         "showlegend": false,
         "type": "scatter",
         "x": [
          "Treino G-LSSVM",
          "Treino L-LSSVM",
          "Treino R-LSSVM",
          "Treino G-LSSVM"
         ],
         "y": [
          97.20014662756599,
          97.88929618768329,
          97.858504398827,
          97.20014662756599
         ]
        },
        {
         "line": {
          "color": "RoyalBlue",
          "dash": "dashdot",
          "width": 2
         },
         "mode": "lines+markers",
         "showlegend": false,
         "type": "scatter",
         "x": [
          "Teste G-LSSVM",
          "Teste L-LSSVM",
          "Teste R-LSSVM",
          "Teste G-LSSVM"
         ],
         "y": [
          96.19281524926686,
          96.07624633431084,
          96.28445747800586,
          96.19281524926686
         ]
        }
       ],
       "layout": {
        "legend": {
         "x": 0.875,
         "y": 1
        },
        "margin": {
         "b": 20,
         "l": 20,
         "r": 5,
         "t": 5
        },
        "showlegend": false,
        "template": {
         "data": {
          "bar": [
           {
            "error_x": {
             "color": "#2a3f5f"
            },
            "error_y": {
             "color": "#2a3f5f"
            },
            "marker": {
             "line": {
              "color": "#E5ECF6",
              "width": 0.5
             },
             "pattern": {
              "fillmode": "overlay",
              "size": 10,
              "solidity": 0.2
             }
            },
            "type": "bar"
           }
          ],
          "barpolar": [
           {
            "marker": {
             "line": {
              "color": "#E5ECF6",
              "width": 0.5
             },
             "pattern": {
              "fillmode": "overlay",
              "size": 10,
              "solidity": 0.2
             }
            },
            "type": "barpolar"
           }
          ],
          "carpet": [
           {
            "aaxis": {
             "endlinecolor": "#2a3f5f",
             "gridcolor": "white",
             "linecolor": "white",
             "minorgridcolor": "white",
             "startlinecolor": "#2a3f5f"
            },
            "baxis": {
             "endlinecolor": "#2a3f5f",
             "gridcolor": "white",
             "linecolor": "white",
             "minorgridcolor": "white",
             "startlinecolor": "#2a3f5f"
            },
            "type": "carpet"
           }
          ],
          "choropleth": [
           {
            "colorbar": {
             "outlinewidth": 0,
             "ticks": ""
            },
            "type": "choropleth"
           }
          ],
          "contour": [
           {
            "colorbar": {
             "outlinewidth": 0,
             "ticks": ""
            },
            "colorscale": [
             [
              0,
              "#0d0887"
             ],
             [
              0.1111111111111111,
              "#46039f"
             ],
             [
              0.2222222222222222,
              "#7201a8"
             ],
             [
              0.3333333333333333,
              "#9c179e"
             ],
             [
              0.4444444444444444,
              "#bd3786"
             ],
             [
              0.5555555555555556,
              "#d8576b"
             ],
             [
              0.6666666666666666,
              "#ed7953"
             ],
             [
              0.7777777777777778,
              "#fb9f3a"
             ],
             [
              0.8888888888888888,
              "#fdca26"
             ],
             [
              1,
              "#f0f921"
             ]
            ],
            "type": "contour"
           }
          ],
          "contourcarpet": [
           {
            "colorbar": {
             "outlinewidth": 0,
             "ticks": ""
            },
            "type": "contourcarpet"
           }
          ],
          "heatmap": [
           {
            "colorbar": {
             "outlinewidth": 0,
             "ticks": ""
            },
            "colorscale": [
             [
              0,
              "#0d0887"
             ],
             [
              0.1111111111111111,
              "#46039f"
             ],
             [
              0.2222222222222222,
              "#7201a8"
             ],
             [
              0.3333333333333333,
              "#9c179e"
             ],
             [
              0.4444444444444444,
              "#bd3786"
             ],
             [
              0.5555555555555556,
              "#d8576b"
             ],
             [
              0.6666666666666666,
              "#ed7953"
             ],
             [
              0.7777777777777778,
              "#fb9f3a"
             ],
             [
              0.8888888888888888,
              "#fdca26"
             ],
             [
              1,
              "#f0f921"
             ]
            ],
            "type": "heatmap"
           }
          ],
          "heatmapgl": [
           {
            "colorbar": {
             "outlinewidth": 0,
             "ticks": ""
            },
            "colorscale": [
             [
              0,
              "#0d0887"
             ],
             [
              0.1111111111111111,
              "#46039f"
             ],
             [
              0.2222222222222222,
              "#7201a8"
             ],
             [
              0.3333333333333333,
              "#9c179e"
             ],
             [
              0.4444444444444444,
              "#bd3786"
             ],
             [
              0.5555555555555556,
              "#d8576b"
             ],
             [
              0.6666666666666666,
              "#ed7953"
             ],
             [
              0.7777777777777778,
              "#fb9f3a"
             ],
             [
              0.8888888888888888,
              "#fdca26"
             ],
             [
              1,
              "#f0f921"
             ]
            ],
            "type": "heatmapgl"
           }
          ],
          "histogram": [
           {
            "marker": {
             "pattern": {
              "fillmode": "overlay",
              "size": 10,
              "solidity": 0.2
             }
            },
            "type": "histogram"
           }
          ],
          "histogram2d": [
           {
            "colorbar": {
             "outlinewidth": 0,
             "ticks": ""
            },
            "colorscale": [
             [
              0,
              "#0d0887"
             ],
             [
              0.1111111111111111,
              "#46039f"
             ],
             [
              0.2222222222222222,
              "#7201a8"
             ],
             [
              0.3333333333333333,
              "#9c179e"
             ],
             [
              0.4444444444444444,
              "#bd3786"
             ],
             [
              0.5555555555555556,
              "#d8576b"
             ],
             [
              0.6666666666666666,
              "#ed7953"
             ],
             [
              0.7777777777777778,
              "#fb9f3a"
             ],
             [
              0.8888888888888888,
              "#fdca26"
             ],
             [
              1,
              "#f0f921"
             ]
            ],
            "type": "histogram2d"
           }
          ],
          "histogram2dcontour": [
           {
            "colorbar": {
             "outlinewidth": 0,
             "ticks": ""
            },
            "colorscale": [
             [
              0,
              "#0d0887"
             ],
             [
              0.1111111111111111,
              "#46039f"
             ],
             [
              0.2222222222222222,
              "#7201a8"
             ],
             [
              0.3333333333333333,
              "#9c179e"
             ],
             [
              0.4444444444444444,
              "#bd3786"
             ],
             [
              0.5555555555555556,
              "#d8576b"
             ],
             [
              0.6666666666666666,
              "#ed7953"
             ],
             [
              0.7777777777777778,
              "#fb9f3a"
             ],
             [
              0.8888888888888888,
              "#fdca26"
             ],
             [
              1,
              "#f0f921"
             ]
            ],
            "type": "histogram2dcontour"
           }
          ],
          "mesh3d": [
           {
            "colorbar": {
             "outlinewidth": 0,
             "ticks": ""
            },
            "type": "mesh3d"
           }
          ],
          "parcoords": [
           {
            "line": {
             "colorbar": {
              "outlinewidth": 0,
              "ticks": ""
             }
            },
            "type": "parcoords"
           }
          ],
          "pie": [
           {
            "automargin": true,
            "type": "pie"
           }
          ],
          "scatter": [
           {
            "marker": {
             "colorbar": {
              "outlinewidth": 0,
              "ticks": ""
             }
            },
            "type": "scatter"
           }
          ],
          "scatter3d": [
           {
            "line": {
             "colorbar": {
              "outlinewidth": 0,
              "ticks": ""
             }
            },
            "marker": {
             "colorbar": {
              "outlinewidth": 0,
              "ticks": ""
             }
            },
            "type": "scatter3d"
           }
          ],
          "scattercarpet": [
           {
            "marker": {
             "colorbar": {
              "outlinewidth": 0,
              "ticks": ""
             }
            },
            "type": "scattercarpet"
           }
          ],
          "scattergeo": [
           {
            "marker": {
             "colorbar": {
              "outlinewidth": 0,
              "ticks": ""
             }
            },
            "type": "scattergeo"
           }
          ],
          "scattergl": [
           {
            "marker": {
             "colorbar": {
              "outlinewidth": 0,
              "ticks": ""
             }
            },
            "type": "scattergl"
           }
          ],
          "scattermapbox": [
           {
            "marker": {
             "colorbar": {
              "outlinewidth": 0,
              "ticks": ""
             }
            },
            "type": "scattermapbox"
           }
          ],
          "scatterpolar": [
           {
            "marker": {
             "colorbar": {
              "outlinewidth": 0,
              "ticks": ""
             }
            },
            "type": "scatterpolar"
           }
          ],
          "scatterpolargl": [
           {
            "marker": {
             "colorbar": {
              "outlinewidth": 0,
              "ticks": ""
             }
            },
            "type": "scatterpolargl"
           }
          ],
          "scatterternary": [
           {
            "marker": {
             "colorbar": {
              "outlinewidth": 0,
              "ticks": ""
             }
            },
            "type": "scatterternary"
           }
          ],
          "surface": [
           {
            "colorbar": {
             "outlinewidth": 0,
             "ticks": ""
            },
            "colorscale": [
             [
              0,
              "#0d0887"
             ],
             [
              0.1111111111111111,
              "#46039f"
             ],
             [
              0.2222222222222222,
              "#7201a8"
             ],
             [
              0.3333333333333333,
              "#9c179e"
             ],
             [
              0.4444444444444444,
              "#bd3786"
             ],
             [
              0.5555555555555556,
              "#d8576b"
             ],
             [
              0.6666666666666666,
              "#ed7953"
             ],
             [
              0.7777777777777778,
              "#fb9f3a"
             ],
             [
              0.8888888888888888,
              "#fdca26"
             ],
             [
              1,
              "#f0f921"
             ]
            ],
            "type": "surface"
           }
          ],
          "table": [
           {
            "cells": {
             "fill": {
              "color": "#EBF0F8"
             },
             "line": {
              "color": "white"
             }
            },
            "header": {
             "fill": {
              "color": "#C8D4E3"
             },
             "line": {
              "color": "white"
             }
            },
            "type": "table"
           }
          ]
         },
         "layout": {
          "annotationdefaults": {
           "arrowcolor": "#2a3f5f",
           "arrowhead": 0,
           "arrowwidth": 1
          },
          "autotypenumbers": "strict",
          "coloraxis": {
           "colorbar": {
            "outlinewidth": 0,
            "ticks": ""
           }
          },
          "colorscale": {
           "diverging": [
            [
             0,
             "#8e0152"
            ],
            [
             0.1,
             "#c51b7d"
            ],
            [
             0.2,
             "#de77ae"
            ],
            [
             0.3,
             "#f1b6da"
            ],
            [
             0.4,
             "#fde0ef"
            ],
            [
             0.5,
             "#f7f7f7"
            ],
            [
             0.6,
             "#e6f5d0"
            ],
            [
             0.7,
             "#b8e186"
            ],
            [
             0.8,
             "#7fbc41"
            ],
            [
             0.9,
             "#4d9221"
            ],
            [
             1,
             "#276419"
            ]
           ],
           "sequential": [
            [
             0,
             "#0d0887"
            ],
            [
             0.1111111111111111,
             "#46039f"
            ],
            [
             0.2222222222222222,
             "#7201a8"
            ],
            [
             0.3333333333333333,
             "#9c179e"
            ],
            [
             0.4444444444444444,
             "#bd3786"
            ],
            [
             0.5555555555555556,
             "#d8576b"
            ],
            [
             0.6666666666666666,
             "#ed7953"
            ],
            [
             0.7777777777777778,
             "#fb9f3a"
            ],
            [
             0.8888888888888888,
             "#fdca26"
            ],
            [
             1,
             "#f0f921"
            ]
           ],
           "sequentialminus": [
            [
             0,
             "#0d0887"
            ],
            [
             0.1111111111111111,
             "#46039f"
            ],
            [
             0.2222222222222222,
             "#7201a8"
            ],
            [
             0.3333333333333333,
             "#9c179e"
            ],
            [
             0.4444444444444444,
             "#bd3786"
            ],
            [
             0.5555555555555556,
             "#d8576b"
            ],
            [
             0.6666666666666666,
             "#ed7953"
            ],
            [
             0.7777777777777778,
             "#fb9f3a"
            ],
            [
             0.8888888888888888,
             "#fdca26"
            ],
            [
             1,
             "#f0f921"
            ]
           ]
          },
          "colorway": [
           "#636efa",
           "#EF553B",
           "#00cc96",
           "#ab63fa",
           "#FFA15A",
           "#19d3f3",
           "#FF6692",
           "#B6E880",
           "#FF97FF",
           "#FECB52"
          ],
          "font": {
           "color": "#2a3f5f"
          },
          "geo": {
           "bgcolor": "white",
           "lakecolor": "white",
           "landcolor": "#E5ECF6",
           "showlakes": true,
           "showland": true,
           "subunitcolor": "white"
          },
          "hoverlabel": {
           "align": "left"
          },
          "hovermode": "closest",
          "mapbox": {
           "style": "light"
          },
          "paper_bgcolor": "white",
          "plot_bgcolor": "#E5ECF6",
          "polar": {
           "angularaxis": {
            "gridcolor": "white",
            "linecolor": "white",
            "ticks": ""
           },
           "bgcolor": "#E5ECF6",
           "radialaxis": {
            "gridcolor": "white",
            "linecolor": "white",
            "ticks": ""
           }
          },
          "scene": {
           "xaxis": {
            "backgroundcolor": "#E5ECF6",
            "gridcolor": "white",
            "gridwidth": 2,
            "linecolor": "white",
            "showbackground": true,
            "ticks": "",
            "zerolinecolor": "white"
           },
           "yaxis": {
            "backgroundcolor": "#E5ECF6",
            "gridcolor": "white",
            "gridwidth": 2,
            "linecolor": "white",
            "showbackground": true,
            "ticks": "",
            "zerolinecolor": "white"
           },
           "zaxis": {
            "backgroundcolor": "#E5ECF6",
            "gridcolor": "white",
            "gridwidth": 2,
            "linecolor": "white",
            "showbackground": true,
            "ticks": "",
            "zerolinecolor": "white"
           }
          },
          "shapedefaults": {
           "line": {
            "color": "#2a3f5f"
           }
          },
          "ternary": {
           "aaxis": {
            "gridcolor": "white",
            "linecolor": "white",
            "ticks": ""
           },
           "baxis": {
            "gridcolor": "white",
            "linecolor": "white",
            "ticks": ""
           },
           "bgcolor": "#E5ECF6",
           "caxis": {
            "gridcolor": "white",
            "linecolor": "white",
            "ticks": ""
           }
          },
          "title": {
           "x": 0.05
          },
          "xaxis": {
           "automargin": true,
           "gridcolor": "white",
           "linecolor": "white",
           "ticks": "",
           "title": {
            "standoff": 15
           },
           "zerolinecolor": "white",
           "zerolinewidth": 2
          },
          "yaxis": {
           "automargin": true,
           "gridcolor": "white",
           "linecolor": "white",
           "ticks": "",
           "title": {
            "standoff": 15
           },
           "zerolinecolor": "white",
           "zerolinewidth": 2
          }
         }
        },
        "yaxis": {
         "title": {
          "text": "Acurácia (%)"
         }
        }
       }
      },
      "text/html": [
       "<div>                            <div id=\"e052d4b6-10c8-494a-ac2f-1da86fbe6ad9\" class=\"plotly-graph-div\" style=\"height:525px; width:100%;\"></div>            <script type=\"text/javascript\">                require([\"plotly\"], function(Plotly) {                    window.PLOTLYENV=window.PLOTLYENV || {};                                    if (document.getElementById(\"e052d4b6-10c8-494a-ac2f-1da86fbe6ad9\")) {                    Plotly.newPlot(                        \"e052d4b6-10c8-494a-ac2f-1da86fbe6ad9\",                        [{\"boxmean\":\"sd\",\"marker\":{\"color\":\"rgba(44, 160, 101, 0.5)\"},\"name\":\"G-LSSVM\",\"x\":[\"Treino G-LSSVM\",\"Treino G-LSSVM\",\"Treino G-LSSVM\",\"Treino G-LSSVM\",\"Treino G-LSSVM\",\"Treino G-LSSVM\",\"Treino G-LSSVM\",\"Treino G-LSSVM\",\"Treino G-LSSVM\",\"Treino G-LSSVM\",\"Treino G-LSSVM\",\"Treino G-LSSVM\",\"Treino G-LSSVM\",\"Treino G-LSSVM\",\"Treino G-LSSVM\",\"Treino G-LSSVM\",\"Treino G-LSSVM\",\"Treino G-LSSVM\",\"Treino G-LSSVM\",\"Treino G-LSSVM\",\"Treino G-LSSVM\",\"Treino G-LSSVM\",\"Treino G-LSSVM\",\"Treino G-LSSVM\",\"Treino G-LSSVM\",\"Treino G-LSSVM\",\"Treino G-LSSVM\",\"Treino G-LSSVM\",\"Treino G-LSSVM\",\"Treino G-LSSVM\",\"Treino G-LSSVM\",\"Treino G-LSSVM\",\"Treino G-LSSVM\",\"Treino G-LSSVM\",\"Treino G-LSSVM\",\"Treino G-LSSVM\",\"Treino G-LSSVM\",\"Treino G-LSSVM\",\"Treino G-LSSVM\",\"Treino G-LSSVM\",\"Treino G-LSSVM\",\"Treino G-LSSVM\",\"Treino G-LSSVM\",\"Treino G-LSSVM\",\"Treino G-LSSVM\",\"Treino G-LSSVM\",\"Treino G-LSSVM\",\"Treino G-LSSVM\",\"Treino G-LSSVM\",\"Treino G-LSSVM\"],\"y\":[97.43401759530792,96.99413489736071,97.50733137829913,97.0674486803519,97.43401759530792,96.9208211143695,97.10410557184751,97.39736070381232,97.32404692082112,97.76392961876833,97.25073313782991,97.17741935483872,97.21407624633432,97.54398826979472,96.8841642228739,97.54398826979472,96.99413489736071,96.8841642228739,97.54398826979472,95.85777126099707,97.94721407624634,97.72727272727273,97.28739002932552,97.17741935483872,97.83724340175954,96.8841642228739,97.28739002932552,97.21407624633432,97.0307917888563,96.7008797653959,96.7008797653959,98.16715542521995,97.65395894428153,97.47067448680352,97.50733137829913,97.21407624633432,97.25073313782991,96.8841642228739,96.07771260997067,96.73753665689149,97.0674486803519,97.76392961876833,95.56451612903226,97.54398826979472,96.9574780058651,97.36070381231671,96.73753665689149,97.14076246334311,97.58064516129032,97.69061583577712],\"type\":\"box\"},{\"boxmean\":\"sd\",\"marker\":{\"color\":\"rgba(93, 164, 214, 0.5)\"},\"name\":\"L-LSSVM\",\"x\":[\"Treino L-LSSVM\",\"Treino L-LSSVM\",\"Treino L-LSSVM\",\"Treino L-LSSVM\",\"Treino L-LSSVM\",\"Treino L-LSSVM\",\"Treino L-LSSVM\",\"Treino L-LSSVM\",\"Treino L-LSSVM\",\"Treino L-LSSVM\",\"Treino L-LSSVM\",\"Treino L-LSSVM\",\"Treino L-LSSVM\",\"Treino L-LSSVM\",\"Treino L-LSSVM\",\"Treino L-LSSVM\",\"Treino L-LSSVM\",\"Treino L-LSSVM\",\"Treino L-LSSVM\",\"Treino L-LSSVM\",\"Treino L-LSSVM\",\"Treino L-LSSVM\",\"Treino L-LSSVM\",\"Treino L-LSSVM\",\"Treino L-LSSVM\",\"Treino L-LSSVM\",\"Treino L-LSSVM\",\"Treino L-LSSVM\",\"Treino L-LSSVM\",\"Treino L-LSSVM\",\"Treino L-LSSVM\",\"Treino L-LSSVM\",\"Treino L-LSSVM\",\"Treino L-LSSVM\",\"Treino L-LSSVM\",\"Treino L-LSSVM\",\"Treino L-LSSVM\",\"Treino L-LSSVM\",\"Treino L-LSSVM\",\"Treino L-LSSVM\",\"Treino L-LSSVM\",\"Treino L-LSSVM\",\"Treino L-LSSVM\",\"Treino L-LSSVM\",\"Treino L-LSSVM\",\"Treino L-LSSVM\",\"Treino L-LSSVM\",\"Treino L-LSSVM\",\"Treino L-LSSVM\",\"Treino L-LSSVM\"],\"y\":[97.87390029325513,98.60703812316716,97.61730205278593,97.21407624633432,98.68035190615836,96.9208211143695,98.13049853372434,97.39736070381232,97.43401759530792,97.58064516129032,97.50733137829913,97.14076246334311,98.53372434017595,98.35043988269796,97.17741935483872,98.79032258064517,97.72727272727273,97.65395894428153,97.58064516129032,98.13049853372434,97.10410557184751,98.20381231671554,99.01026392961877,98.97360703812316,98.75366568914956,97.80058651026393,97.61730205278593,98.49706744868035,97.36070381231671,97.28739002932552,97.28739002932552,97.54398826979472,98.05718475073314,97.0307917888563,97.43401759530792,98.82697947214076,97.39736070381232,98.82697947214076,98.53372434017595,97.54398826979472,97.47067448680352,98.35043988269796,98.53372434017595,98.42375366568915,97.54398826979472,97.36070381231671,97.21407624633432,97.91055718475073,97.98387096774194,98.53372434017595],\"type\":\"box\"},{\"boxmean\":\"sd\",\"marker\":{\"color\":\"rgba(155, 89, 182,1.0)\"},\"name\":\"R-LSSVM\",\"x\":[\"Treino R-LSSVM\",\"Treino R-LSSVM\",\"Treino R-LSSVM\",\"Treino R-LSSVM\",\"Treino R-LSSVM\",\"Treino R-LSSVM\",\"Treino R-LSSVM\",\"Treino R-LSSVM\",\"Treino R-LSSVM\",\"Treino R-LSSVM\",\"Treino R-LSSVM\",\"Treino R-LSSVM\",\"Treino R-LSSVM\",\"Treino R-LSSVM\",\"Treino R-LSSVM\",\"Treino R-LSSVM\",\"Treino R-LSSVM\",\"Treino R-LSSVM\",\"Treino R-LSSVM\",\"Treino R-LSSVM\",\"Treino R-LSSVM\",\"Treino R-LSSVM\",\"Treino R-LSSVM\",\"Treino R-LSSVM\",\"Treino R-LSSVM\",\"Treino R-LSSVM\",\"Treino R-LSSVM\",\"Treino R-LSSVM\",\"Treino R-LSSVM\",\"Treino R-LSSVM\",\"Treino R-LSSVM\",\"Treino R-LSSVM\",\"Treino R-LSSVM\",\"Treino R-LSSVM\",\"Treino R-LSSVM\",\"Treino R-LSSVM\",\"Treino R-LSSVM\",\"Treino R-LSSVM\",\"Treino R-LSSVM\",\"Treino R-LSSVM\",\"Treino R-LSSVM\",\"Treino R-LSSVM\",\"Treino R-LSSVM\",\"Treino R-LSSVM\",\"Treino R-LSSVM\",\"Treino R-LSSVM\",\"Treino R-LSSVM\",\"Treino R-LSSVM\",\"Treino R-LSSVM\",\"Treino R-LSSVM\"],\"y\":[97.87390029325513,97.58064516129032,97.32404692082112,97.21407624633432,98.31378299120234,97.83724340175954,97.61730205278593,98.13049853372434,97.61730205278593,97.76392961876833,97.47067448680352,98.75366568914956,97.32404692082112,97.50733137829913,97.43401759530792,98.97360703812316,97.91055718475073,97.72727272727273,97.58064516129032,98.20381231671554,97.14076246334311,97.87390029325513,98.57038123167156,97.98387096774194,98.13049853372434,97.98387096774194,97.21407624633432,98.02052785923753,97.94721407624634,96.26099706744868,96.9574780058651,97.98387096774194,97.98387096774194,98.31378299120234,97.54398826979472,98.05718475073314,97.94721407624634,97.98387096774194,97.61730205278593,97.43401759530792,98.16715542521995,98.71700879765396,98.13049853372434,98.24046920821115,97.69061583577712,97.87390029325513,97.83724340175954,98.75366568914956,98.27712609970675,98.13049853372434],\"type\":\"box\"},{\"boxmean\":\"sd\",\"marker\":{\"color\":\"rgba(44, 160, 101, 0.5)\"},\"name\":\"G-LSSVM\",\"x\":[\"Teste G-LSSVM\",\"Teste G-LSSVM\",\"Teste G-LSSVM\",\"Teste G-LSSVM\",\"Teste G-LSSVM\",\"Teste G-LSSVM\",\"Teste G-LSSVM\",\"Teste G-LSSVM\",\"Teste G-LSSVM\",\"Teste G-LSSVM\",\"Teste G-LSSVM\",\"Teste G-LSSVM\",\"Teste G-LSSVM\",\"Teste G-LSSVM\",\"Teste G-LSSVM\",\"Teste G-LSSVM\",\"Teste G-LSSVM\",\"Teste G-LSSVM\",\"Teste G-LSSVM\",\"Teste G-LSSVM\",\"Teste G-LSSVM\",\"Teste G-LSSVM\",\"Teste G-LSSVM\",\"Teste G-LSSVM\",\"Teste G-LSSVM\",\"Teste G-LSSVM\",\"Teste G-LSSVM\",\"Teste G-LSSVM\",\"Teste G-LSSVM\",\"Teste G-LSSVM\",\"Teste G-LSSVM\",\"Teste G-LSSVM\",\"Teste G-LSSVM\",\"Teste G-LSSVM\",\"Teste G-LSSVM\",\"Teste G-LSSVM\",\"Teste G-LSSVM\",\"Teste G-LSSVM\",\"Teste G-LSSVM\",\"Teste G-LSSVM\",\"Teste G-LSSVM\",\"Teste G-LSSVM\",\"Teste G-LSSVM\",\"Teste G-LSSVM\",\"Teste G-LSSVM\",\"Teste G-LSSVM\",\"Teste G-LSSVM\",\"Teste G-LSSVM\",\"Teste G-LSSVM\",\"Teste G-LSSVM\"],\"y\":[96.5542521994135,96.22434017595309,96.26099706744868,95.85777126099707,96.73753665689149,96.18768328445748,95.60117302052787,95.78445747800586,96.29765395894428,96.5542521994135,96.04105571847508,96.4442815249267,96.5542521994135,96.29765395894428,95.71114369501467,95.67448680351906,96.51759530791789,96.5909090909091,96.8108504398827,95.12463343108504,96.11436950146629,96.26099706744868,96.18768328445748,96.9208211143695,95.85777126099707,96.33431085043989,96.6642228739003,96.29765395894428,96.22434017595309,96.15102639296188,96.4442815249267,96.22434017595309,95.96774193548387,96.37096774193549,96.00439882697948,96.5542521994135,96.00439882697948,96.40762463343108,95.23460410557185,96.8475073313783,95.56451612903226,96.6642228739003,94.94134897360705,96.22434017595309,96.48093841642229,96.07771260997067,95.85777126099707,96.15102639296188,96.26099706744868,96.51759530791789],\"type\":\"box\"},{\"boxmean\":\"sd\",\"marker\":{\"color\":\"rgba(93, 164, 214, 0.5)\"},\"name\":\"L-LSSVM\",\"x\":[\"Teste L-LSSVM\",\"Teste L-LSSVM\",\"Teste L-LSSVM\",\"Teste L-LSSVM\",\"Teste L-LSSVM\",\"Teste L-LSSVM\",\"Teste L-LSSVM\",\"Teste L-LSSVM\",\"Teste L-LSSVM\",\"Teste L-LSSVM\",\"Teste L-LSSVM\",\"Teste L-LSSVM\",\"Teste L-LSSVM\",\"Teste L-LSSVM\",\"Teste L-LSSVM\",\"Teste L-LSSVM\",\"Teste L-LSSVM\",\"Teste L-LSSVM\",\"Teste L-LSSVM\",\"Teste L-LSSVM\",\"Teste L-LSSVM\",\"Teste L-LSSVM\",\"Teste L-LSSVM\",\"Teste L-LSSVM\",\"Teste L-LSSVM\",\"Teste L-LSSVM\",\"Teste L-LSSVM\",\"Teste L-LSSVM\",\"Teste L-LSSVM\",\"Teste L-LSSVM\",\"Teste L-LSSVM\",\"Teste L-LSSVM\",\"Teste L-LSSVM\",\"Teste L-LSSVM\",\"Teste L-LSSVM\",\"Teste L-LSSVM\",\"Teste L-LSSVM\",\"Teste L-LSSVM\",\"Teste L-LSSVM\",\"Teste L-LSSVM\",\"Teste L-LSSVM\",\"Teste L-LSSVM\",\"Teste L-LSSVM\",\"Teste L-LSSVM\",\"Teste L-LSSVM\",\"Teste L-LSSVM\",\"Teste L-LSSVM\",\"Teste L-LSSVM\",\"Teste L-LSSVM\",\"Teste L-LSSVM\"],\"y\":[96.40762463343108,96.51759530791789,95.45454545454545,95.78445747800586,95.45454545454545,96.22434017595309,95.49120234604106,95.96774193548387,96.29765395894428,95.67448680351906,96.04105571847508,95.74780058651027,96.51759530791789,95.85777126099707,95.82111436950147,95.52785923753666,96.29765395894428,96.73753665689149,96.07771260997067,95.49120234604106,96.26099706744868,96.62756598240469,96.5542521994135,96.37096774193549,95.82111436950147,95.89442815249268,96.00439882697948,96.37096774193549,95.82111436950147,95.93108504398828,96.18768328445748,96.22434017595309,96.33431085043989,94.90469208211144,95.85777126099707,95.78445747800586,95.67448680351906,96.7008797653959,96.48093841642229,96.15102639296188,95.52785923753666,96.9208211143695,96.29765395894428,96.22434017595309,96.6642228739003,95.78445747800586,96.33431085043989,96.5909090909091,95.63782991202346,96.48093841642229],\"type\":\"box\"},{\"boxmean\":\"sd\",\"marker\":{\"color\":\"rgba(155, 89, 182,1.0)\"},\"name\":\"R-LSSVM\",\"x\":[\"Teste R-LSSVM\",\"Teste R-LSSVM\",\"Teste R-LSSVM\",\"Teste R-LSSVM\",\"Teste R-LSSVM\",\"Teste R-LSSVM\",\"Teste R-LSSVM\",\"Teste R-LSSVM\",\"Teste R-LSSVM\",\"Teste R-LSSVM\",\"Teste R-LSSVM\",\"Teste R-LSSVM\",\"Teste R-LSSVM\",\"Teste R-LSSVM\",\"Teste R-LSSVM\",\"Teste R-LSSVM\",\"Teste R-LSSVM\",\"Teste R-LSSVM\",\"Teste R-LSSVM\",\"Teste R-LSSVM\",\"Teste R-LSSVM\",\"Teste R-LSSVM\",\"Teste R-LSSVM\",\"Teste R-LSSVM\",\"Teste R-LSSVM\",\"Teste R-LSSVM\",\"Teste R-LSSVM\",\"Teste R-LSSVM\",\"Teste R-LSSVM\",\"Teste R-LSSVM\",\"Teste R-LSSVM\",\"Teste R-LSSVM\",\"Teste R-LSSVM\",\"Teste R-LSSVM\",\"Teste R-LSSVM\",\"Teste R-LSSVM\",\"Teste R-LSSVM\",\"Teste R-LSSVM\",\"Teste R-LSSVM\",\"Teste R-LSSVM\",\"Teste R-LSSVM\",\"Teste R-LSSVM\",\"Teste R-LSSVM\",\"Teste R-LSSVM\",\"Teste R-LSSVM\",\"Teste R-LSSVM\",\"Teste R-LSSVM\",\"Teste R-LSSVM\",\"Teste R-LSSVM\",\"Teste R-LSSVM\"],\"y\":[96.4442815249267,96.5909090909091,95.85777126099707,95.74780058651027,96.5909090909091,96.48093841642229,95.60117302052787,96.00439882697948,96.11436950146629,96.62756598240469,96.07771260997067,96.6642228739003,96.62756598240469,96.37096774193549,95.82111436950147,95.49120234604106,96.37096774193549,96.73753665689149,96.40762463343108,96.00439882697948,96.15102639296188,96.7741935483871,95.89442815249268,96.8841642228739,96.29765395894428,96.5542521994135,96.48093841642229,96.73753665689149,96.5909090909091,95.27126099706746,96.11436950146629,96.22434017595309,96.5909090909091,96.33431085043989,95.93108504398828,96.18768328445748,96.40762463343108,96.9208211143695,96.4442815249267,96.9574780058651,95.63782991202346,96.51759530791789,96.04105571847508,96.40762463343108,96.4442815249267,95.93108504398828,96.22434017595309,95.56451612903226,95.89442815249268,97.17741935483872],\"type\":\"box\"},{\"line\":{\"color\":\"RoyalBlue\",\"dash\":\"dashdot\",\"width\":2},\"mode\":\"lines+markers\",\"showlegend\":false,\"x\":[\"Treino G-LSSVM\",\"Treino L-LSSVM\",\"Treino R-LSSVM\",\"Treino G-LSSVM\"],\"y\":[97.20014662756599,97.88929618768329,97.858504398827,97.20014662756599],\"type\":\"scatter\"},{\"line\":{\"color\":\"RoyalBlue\",\"dash\":\"dashdot\",\"width\":2},\"mode\":\"lines+markers\",\"showlegend\":false,\"x\":[\"Teste G-LSSVM\",\"Teste L-LSSVM\",\"Teste R-LSSVM\",\"Teste G-LSSVM\"],\"y\":[96.19281524926686,96.07624633431084,96.28445747800586,96.19281524926686],\"type\":\"scatter\"}],                        {\"legend\":{\"x\":0.875,\"y\":1},\"showlegend\":false,\"yaxis\":{\"title\":{\"text\":\"Acur\\u00e1cia (%)\"}},\"template\":{\"data\":{\"bar\":[{\"error_x\":{\"color\":\"#2a3f5f\"},\"error_y\":{\"color\":\"#2a3f5f\"},\"marker\":{\"line\":{\"color\":\"#E5ECF6\",\"width\":0.5},\"pattern\":{\"fillmode\":\"overlay\",\"size\":10,\"solidity\":0.2}},\"type\":\"bar\"}],\"barpolar\":[{\"marker\":{\"line\":{\"color\":\"#E5ECF6\",\"width\":0.5},\"pattern\":{\"fillmode\":\"overlay\",\"size\":10,\"solidity\":0.2}},\"type\":\"barpolar\"}],\"carpet\":[{\"aaxis\":{\"endlinecolor\":\"#2a3f5f\",\"gridcolor\":\"white\",\"linecolor\":\"white\",\"minorgridcolor\":\"white\",\"startlinecolor\":\"#2a3f5f\"},\"baxis\":{\"endlinecolor\":\"#2a3f5f\",\"gridcolor\":\"white\",\"linecolor\":\"white\",\"minorgridcolor\":\"white\",\"startlinecolor\":\"#2a3f5f\"},\"type\":\"carpet\"}],\"choropleth\":[{\"colorbar\":{\"outlinewidth\":0,\"ticks\":\"\"},\"type\":\"choropleth\"}],\"contour\":[{\"colorbar\":{\"outlinewidth\":0,\"ticks\":\"\"},\"colorscale\":[[0.0,\"#0d0887\"],[0.1111111111111111,\"#46039f\"],[0.2222222222222222,\"#7201a8\"],[0.3333333333333333,\"#9c179e\"],[0.4444444444444444,\"#bd3786\"],[0.5555555555555556,\"#d8576b\"],[0.6666666666666666,\"#ed7953\"],[0.7777777777777778,\"#fb9f3a\"],[0.8888888888888888,\"#fdca26\"],[1.0,\"#f0f921\"]],\"type\":\"contour\"}],\"contourcarpet\":[{\"colorbar\":{\"outlinewidth\":0,\"ticks\":\"\"},\"type\":\"contourcarpet\"}],\"heatmap\":[{\"colorbar\":{\"outlinewidth\":0,\"ticks\":\"\"},\"colorscale\":[[0.0,\"#0d0887\"],[0.1111111111111111,\"#46039f\"],[0.2222222222222222,\"#7201a8\"],[0.3333333333333333,\"#9c179e\"],[0.4444444444444444,\"#bd3786\"],[0.5555555555555556,\"#d8576b\"],[0.6666666666666666,\"#ed7953\"],[0.7777777777777778,\"#fb9f3a\"],[0.8888888888888888,\"#fdca26\"],[1.0,\"#f0f921\"]],\"type\":\"heatmap\"}],\"heatmapgl\":[{\"colorbar\":{\"outlinewidth\":0,\"ticks\":\"\"},\"colorscale\":[[0.0,\"#0d0887\"],[0.1111111111111111,\"#46039f\"],[0.2222222222222222,\"#7201a8\"],[0.3333333333333333,\"#9c179e\"],[0.4444444444444444,\"#bd3786\"],[0.5555555555555556,\"#d8576b\"],[0.6666666666666666,\"#ed7953\"],[0.7777777777777778,\"#fb9f3a\"],[0.8888888888888888,\"#fdca26\"],[1.0,\"#f0f921\"]],\"type\":\"heatmapgl\"}],\"histogram\":[{\"marker\":{\"pattern\":{\"fillmode\":\"overlay\",\"size\":10,\"solidity\":0.2}},\"type\":\"histogram\"}],\"histogram2d\":[{\"colorbar\":{\"outlinewidth\":0,\"ticks\":\"\"},\"colorscale\":[[0.0,\"#0d0887\"],[0.1111111111111111,\"#46039f\"],[0.2222222222222222,\"#7201a8\"],[0.3333333333333333,\"#9c179e\"],[0.4444444444444444,\"#bd3786\"],[0.5555555555555556,\"#d8576b\"],[0.6666666666666666,\"#ed7953\"],[0.7777777777777778,\"#fb9f3a\"],[0.8888888888888888,\"#fdca26\"],[1.0,\"#f0f921\"]],\"type\":\"histogram2d\"}],\"histogram2dcontour\":[{\"colorbar\":{\"outlinewidth\":0,\"ticks\":\"\"},\"colorscale\":[[0.0,\"#0d0887\"],[0.1111111111111111,\"#46039f\"],[0.2222222222222222,\"#7201a8\"],[0.3333333333333333,\"#9c179e\"],[0.4444444444444444,\"#bd3786\"],[0.5555555555555556,\"#d8576b\"],[0.6666666666666666,\"#ed7953\"],[0.7777777777777778,\"#fb9f3a\"],[0.8888888888888888,\"#fdca26\"],[1.0,\"#f0f921\"]],\"type\":\"histogram2dcontour\"}],\"mesh3d\":[{\"colorbar\":{\"outlinewidth\":0,\"ticks\":\"\"},\"type\":\"mesh3d\"}],\"parcoords\":[{\"line\":{\"colorbar\":{\"outlinewidth\":0,\"ticks\":\"\"}},\"type\":\"parcoords\"}],\"pie\":[{\"automargin\":true,\"type\":\"pie\"}],\"scatter\":[{\"marker\":{\"colorbar\":{\"outlinewidth\":0,\"ticks\":\"\"}},\"type\":\"scatter\"}],\"scatter3d\":[{\"line\":{\"colorbar\":{\"outlinewidth\":0,\"ticks\":\"\"}},\"marker\":{\"colorbar\":{\"outlinewidth\":0,\"ticks\":\"\"}},\"type\":\"scatter3d\"}],\"scattercarpet\":[{\"marker\":{\"colorbar\":{\"outlinewidth\":0,\"ticks\":\"\"}},\"type\":\"scattercarpet\"}],\"scattergeo\":[{\"marker\":{\"colorbar\":{\"outlinewidth\":0,\"ticks\":\"\"}},\"type\":\"scattergeo\"}],\"scattergl\":[{\"marker\":{\"colorbar\":{\"outlinewidth\":0,\"ticks\":\"\"}},\"type\":\"scattergl\"}],\"scattermapbox\":[{\"marker\":{\"colorbar\":{\"outlinewidth\":0,\"ticks\":\"\"}},\"type\":\"scattermapbox\"}],\"scatterpolar\":[{\"marker\":{\"colorbar\":{\"outlinewidth\":0,\"ticks\":\"\"}},\"type\":\"scatterpolar\"}],\"scatterpolargl\":[{\"marker\":{\"colorbar\":{\"outlinewidth\":0,\"ticks\":\"\"}},\"type\":\"scatterpolargl\"}],\"scatterternary\":[{\"marker\":{\"colorbar\":{\"outlinewidth\":0,\"ticks\":\"\"}},\"type\":\"scatterternary\"}],\"surface\":[{\"colorbar\":{\"outlinewidth\":0,\"ticks\":\"\"},\"colorscale\":[[0.0,\"#0d0887\"],[0.1111111111111111,\"#46039f\"],[0.2222222222222222,\"#7201a8\"],[0.3333333333333333,\"#9c179e\"],[0.4444444444444444,\"#bd3786\"],[0.5555555555555556,\"#d8576b\"],[0.6666666666666666,\"#ed7953\"],[0.7777777777777778,\"#fb9f3a\"],[0.8888888888888888,\"#fdca26\"],[1.0,\"#f0f921\"]],\"type\":\"surface\"}],\"table\":[{\"cells\":{\"fill\":{\"color\":\"#EBF0F8\"},\"line\":{\"color\":\"white\"}},\"header\":{\"fill\":{\"color\":\"#C8D4E3\"},\"line\":{\"color\":\"white\"}},\"type\":\"table\"}]},\"layout\":{\"annotationdefaults\":{\"arrowcolor\":\"#2a3f5f\",\"arrowhead\":0,\"arrowwidth\":1},\"autotypenumbers\":\"strict\",\"coloraxis\":{\"colorbar\":{\"outlinewidth\":0,\"ticks\":\"\"}},\"colorscale\":{\"diverging\":[[0,\"#8e0152\"],[0.1,\"#c51b7d\"],[0.2,\"#de77ae\"],[0.3,\"#f1b6da\"],[0.4,\"#fde0ef\"],[0.5,\"#f7f7f7\"],[0.6,\"#e6f5d0\"],[0.7,\"#b8e186\"],[0.8,\"#7fbc41\"],[0.9,\"#4d9221\"],[1,\"#276419\"]],\"sequential\":[[0.0,\"#0d0887\"],[0.1111111111111111,\"#46039f\"],[0.2222222222222222,\"#7201a8\"],[0.3333333333333333,\"#9c179e\"],[0.4444444444444444,\"#bd3786\"],[0.5555555555555556,\"#d8576b\"],[0.6666666666666666,\"#ed7953\"],[0.7777777777777778,\"#fb9f3a\"],[0.8888888888888888,\"#fdca26\"],[1.0,\"#f0f921\"]],\"sequentialminus\":[[0.0,\"#0d0887\"],[0.1111111111111111,\"#46039f\"],[0.2222222222222222,\"#7201a8\"],[0.3333333333333333,\"#9c179e\"],[0.4444444444444444,\"#bd3786\"],[0.5555555555555556,\"#d8576b\"],[0.6666666666666666,\"#ed7953\"],[0.7777777777777778,\"#fb9f3a\"],[0.8888888888888888,\"#fdca26\"],[1.0,\"#f0f921\"]]},\"colorway\":[\"#636efa\",\"#EF553B\",\"#00cc96\",\"#ab63fa\",\"#FFA15A\",\"#19d3f3\",\"#FF6692\",\"#B6E880\",\"#FF97FF\",\"#FECB52\"],\"font\":{\"color\":\"#2a3f5f\"},\"geo\":{\"bgcolor\":\"white\",\"lakecolor\":\"white\",\"landcolor\":\"#E5ECF6\",\"showlakes\":true,\"showland\":true,\"subunitcolor\":\"white\"},\"hoverlabel\":{\"align\":\"left\"},\"hovermode\":\"closest\",\"mapbox\":{\"style\":\"light\"},\"paper_bgcolor\":\"white\",\"plot_bgcolor\":\"#E5ECF6\",\"polar\":{\"angularaxis\":{\"gridcolor\":\"white\",\"linecolor\":\"white\",\"ticks\":\"\"},\"bgcolor\":\"#E5ECF6\",\"radialaxis\":{\"gridcolor\":\"white\",\"linecolor\":\"white\",\"ticks\":\"\"}},\"scene\":{\"xaxis\":{\"backgroundcolor\":\"#E5ECF6\",\"gridcolor\":\"white\",\"gridwidth\":2,\"linecolor\":\"white\",\"showbackground\":true,\"ticks\":\"\",\"zerolinecolor\":\"white\"},\"yaxis\":{\"backgroundcolor\":\"#E5ECF6\",\"gridcolor\":\"white\",\"gridwidth\":2,\"linecolor\":\"white\",\"showbackground\":true,\"ticks\":\"\",\"zerolinecolor\":\"white\"},\"zaxis\":{\"backgroundcolor\":\"#E5ECF6\",\"gridcolor\":\"white\",\"gridwidth\":2,\"linecolor\":\"white\",\"showbackground\":true,\"ticks\":\"\",\"zerolinecolor\":\"white\"}},\"shapedefaults\":{\"line\":{\"color\":\"#2a3f5f\"}},\"ternary\":{\"aaxis\":{\"gridcolor\":\"white\",\"linecolor\":\"white\",\"ticks\":\"\"},\"baxis\":{\"gridcolor\":\"white\",\"linecolor\":\"white\",\"ticks\":\"\"},\"bgcolor\":\"#E5ECF6\",\"caxis\":{\"gridcolor\":\"white\",\"linecolor\":\"white\",\"ticks\":\"\"}},\"title\":{\"x\":0.05},\"xaxis\":{\"automargin\":true,\"gridcolor\":\"white\",\"linecolor\":\"white\",\"ticks\":\"\",\"title\":{\"standoff\":15},\"zerolinecolor\":\"white\",\"zerolinewidth\":2},\"yaxis\":{\"automargin\":true,\"gridcolor\":\"white\",\"linecolor\":\"white\",\"ticks\":\"\",\"title\":{\"standoff\":15},\"zerolinecolor\":\"white\",\"zerolinewidth\":2}}},\"margin\":{\"l\":20,\"r\":5,\"t\":5,\"b\":20}},                        {\"responsive\": true}                    ).then(function(){\n",
       "                            \n",
       "var gd = document.getElementById('e052d4b6-10c8-494a-ac2f-1da86fbe6ad9');\n",
       "var x = new MutationObserver(function (mutations, observer) {{\n",
       "        var display = window.getComputedStyle(gd).display;\n",
       "        if (!display || display === 'none') {{\n",
       "            console.log([gd, 'removed!']);\n",
       "            Plotly.purge(gd);\n",
       "            observer.disconnect();\n",
       "        }}\n",
       "}});\n",
       "\n",
       "// Listen for the removal of the full notebook cells\n",
       "var notebookContainer = gd.closest('#notebook-container');\n",
       "if (notebookContainer) {{\n",
       "    x.observe(notebookContainer, {childList: true});\n",
       "}}\n",
       "\n",
       "// Listen for the clearing of the current output cell\n",
       "var outputEl = gd.closest('.output');\n",
       "if (outputEl) {{\n",
       "    x.observe(outputEl, {childList: true});\n",
       "}}\n",
       "\n",
       "                        })                };                });            </script>        </div>"
      ]
     },
     "metadata": {},
     "output_type": "display_data"
    },
    {
     "data": {
      "text/html": [
       "<hr>"
      ],
      "text/plain": [
       "<IPython.core.display.HTML object>"
      ]
     },
     "metadata": {},
     "output_type": "display_data"
    }
   ],
   "source": [
    "import plotly.offline as py\n",
    "import plotly.graph_objs as go\n",
    "\n",
    "from IPython.core.display import display, HTML\n",
    "\n",
    "py.init_notebook_mode(connected=True) # enabling plot within jupyter notebook\n",
    "\n",
    "set_dict = {'treino': 'cm_tr', 'teste': 'cm_ts'}\n",
    "\n",
    "for dataset_name in datasets:\n",
    "    display(HTML('<center><h1>'+dataset_name+'</h1></center>'))\n",
    "    \n",
    "    data = {}\n",
    "    for classifier in df.keys():\n",
    "        df_dataset = df[classifier].loc[df[classifier]['dataset_name'] == dataset_name]\n",
    "        \n",
    "        n_exp = len(df_dataset)\n",
    "        data[classifier] = {\n",
    "            'treino': [None]*n_exp, \n",
    "            'teste' : [None]*n_exp\n",
    "        }\n",
    "\n",
    "        for set_ in set_dict:\n",
    "            cm_series = df_dataset[set_dict[set_]].values\n",
    "            \n",
    "            for i in range(n_exp):\n",
    "                temp_cm = np.frombuffer(eval(cm_series[i]), dtype='int64')\n",
    "                cm = temp_cm.reshape( int( len(temp_cm)**(1/2) ) ,-1)\n",
    "                \n",
    "                # acuracia:\n",
    "                data[classifier][set_][i] = cm2acc(cm)*100\n",
    "                \n",
    "    boxs = []\n",
    "    for set_ in set_dict:\n",
    "        for classifier in df.keys():\n",
    "            cor = {\n",
    "                'global':   \"rgba(44, 160, 101, 0.5)\",\n",
    "                'local':    \"rgba(93, 164, 214, 0.5)\",\n",
    "                'regional': \"rgba(155, 89, 182,1.0)\"\n",
    "            }\n",
    "            boxs.append(\n",
    "                go.Box(\n",
    "                    y = data[classifier][set_],\n",
    "                    x = [\"{}{} {}-LSSVM\".format(set_[0].upper(), set_[1:],\n",
    "                                                  classifier[0].upper())\n",
    "                        ]*len(data[classifier][set_]),\n",
    "                    name = \"{}-LSSVM\".format(classifier[0].upper()),\n",
    "                    boxmean='sd',\n",
    "                    marker_color=cor[classifier],\n",
    "#                     showlegend = False if set_=='treino' else True\n",
    "                    )\n",
    "            )\n",
    "    \n",
    "\n",
    "\n",
    "    layout = go.Layout(\n",
    "#         title = \"Acurácia nos conjuntos de treino e teste [<b>{}</b>]\".format(dataset_name),\n",
    "        yaxis=dict(title=\"Acurácia (%)\"),\n",
    "        showlegend=False,\n",
    "        legend=dict(x=.875, y=1)\n",
    "    )\n",
    "\n",
    "    fig = go.Figure(data=boxs,layout=layout)\n",
    "    width = 2\n",
    "    fig.add_trace(go.Scatter(\n",
    "        x=['Treino G-LSSVM', 'Treino L-LSSVM', 'Treino R-LSSVM', 'Treino G-LSSVM'],\n",
    "        y=[np.mean(data['global']['treino']), np.mean(data['local']['treino']),\n",
    "           np.mean(data['regional']['treino']), np.mean(data['global']['treino'])],\n",
    "        mode='lines+markers',\n",
    "        line=dict(\n",
    "            color=\"RoyalBlue\",\n",
    "            dash=\"dashdot\",\n",
    "#             dash=\"dot\",\n",
    "            width=width\n",
    "        ),\n",
    "        showlegend=False\n",
    "    ))\n",
    "    \n",
    "    fig.add_trace(go.Scatter(\n",
    "        x=['Teste G-LSSVM', 'Teste L-LSSVM', 'Teste R-LSSVM', 'Teste G-LSSVM'],\n",
    "        y=[np.mean(data['global']['teste']), np.mean(data['local']['teste']),\n",
    "           np.mean(data['regional']['teste']), np.mean(data['global']['teste'])],\n",
    "        mode='lines+markers',\n",
    "        line=dict(\n",
    "            color=\"RoyalBlue\",\n",
    "            dash=\"dashdot\",\n",
    "#             dash=\"dot\",\n",
    "            width=width\n",
    "        ),\n",
    "        showlegend=False\n",
    "    ))\n",
    "    \n",
    "    fig.update_layout(\n",
    "        margin=dict(l=20, r=5, t=5, b=20),\n",
    "#         paper_bgcolor=\"LightSteelBlue\",\n",
    "    )\n",
    "    \n",
    "    fig.show()\n",
    "    \n",
    "    fig.write_image(\"images/r-lssvm_{}.pdf\".format(dataset_name))\n",
    "    \n",
    "    display(HTML('<hr>'))"
   ]
  },
  {
   "cell_type": "markdown",
   "metadata": {},
   "source": [
    "#### 1.2 Eigenvalues analysis <a class=\"anchor\" id=\"r-lssvm_eigenvalues\"></a>"
   ]
  },
  {
   "cell_type": "code",
   "execution_count": 4,
   "metadata": {
    "scrolled": true
   },
   "outputs": [
    {
     "data": {
      "text/html": [
       "<center><h1>pk</h1></center>"
      ],
      "text/plain": [
       "<IPython.core.display.HTML object>"
      ]
     },
     "metadata": {},
     "output_type": "display_data"
    },
    {
     "ename": "KeyError",
     "evalue": "\"None of [Float64Index([2.0, 1.0, 0.3162277660168379], dtype='float64')] are in the [columns]\"",
     "output_type": "error",
     "traceback": [
      "\u001b[1;31m---------------------------------------------------------------------------\u001b[0m",
      "\u001b[1;31mKeyError\u001b[0m                                  Traceback (most recent call last)",
      "Input \u001b[1;32mIn [4]\u001b[0m, in \u001b[0;36m<cell line: 4>\u001b[1;34m()\u001b[0m\n\u001b[0;32m      1\u001b[0m \u001b[38;5;28;01mfrom\u001b[39;00m \u001b[38;5;21;01mdevcode\u001b[39;00m\u001b[38;5;21;01m.\u001b[39;00m\u001b[38;5;21;01manalysis\u001b[39;00m\u001b[38;5;21;01m.\u001b[39;00m\u001b[38;5;21;01meigenvalues\u001b[39;00m \u001b[38;5;28;01mimport\u001b[39;00m eigenvalues_analysis_regional\n\u001b[0;32m      3\u001b[0m df_results \u001b[38;5;241m=\u001b[39m pd\u001b[38;5;241m.\u001b[39mread_csv(\u001b[38;5;124m\"\u001b[39m\u001b[38;5;124mresults/regional-results/ROLS - all - n_res=100 - 2019-07-10.csv\u001b[39m\u001b[38;5;124m\"\u001b[39m)\n\u001b[1;32m----> 4\u001b[0m \u001b[43meigenvalues_analysis_regional\u001b[49m\u001b[43m(\u001b[49m\u001b[43mdatasets\u001b[49m\u001b[43m,\u001b[49m\u001b[43m \u001b[49m\u001b[43mdf\u001b[49m\u001b[43m[\u001b[49m\u001b[38;5;124;43m\"\u001b[39;49m\u001b[38;5;124;43mregional\u001b[39;49m\u001b[38;5;124;43m\"\u001b[39;49m\u001b[43m]\u001b[49m\u001b[43m)\u001b[49m\n",
      "File \u001b[1;32mD:\\Portfolio\\Research\\regional-classifiers\\devcode\\analysis\\eigenvalues.py:62\u001b[0m, in \u001b[0;36meigenvalues_analysis_regional\u001b[1;34m(datasets, df_model)\u001b[0m\n\u001b[0;32m     60\u001b[0m \u001b[38;5;28;01mdef\u001b[39;00m \u001b[38;5;21meigenvalues_analysis_regional\u001b[39m(datasets, df_model):\n\u001b[0;32m     61\u001b[0m     hps_names \u001b[38;5;241m=\u001b[39m [\u001b[38;5;124m\"\u001b[39m\u001b[38;5;124m$k_\u001b[39m\u001b[38;5;132;01m{opt}\u001b[39;00m\u001b[38;5;124m$ [CV]\u001b[39m\u001b[38;5;124m\"\u001b[39m, \u001b[38;5;124m\"\u001b[39m\u001b[38;5;124m$\u001b[39m\u001b[38;5;124m\\\u001b[39m\u001b[38;5;124mgamma_\u001b[39m\u001b[38;5;132;01m{opt}\u001b[39;00m\u001b[38;5;124m$ [CV]\u001b[39m\u001b[38;5;124m\"\u001b[39m, \u001b[38;5;124m\"\u001b[39m\u001b[38;5;124m$\u001b[39m\u001b[38;5;124m\\\u001b[39m\u001b[38;5;124msigma_\u001b[39m\u001b[38;5;132;01m{opt}\u001b[39;00m\u001b[38;5;124m$ [CV]\u001b[39m\u001b[38;5;124m\"\u001b[39m]\n\u001b[1;32m---> 62\u001b[0m     \u001b[38;5;28;01mreturn\u001b[39;00m \u001b[43meigenvalues_analysis_local_and_regional\u001b[49m\u001b[43m(\u001b[49m\u001b[43mdatasets\u001b[49m\u001b[43m,\u001b[49m\u001b[43m \u001b[49m\u001b[43mdf_model\u001b[49m\u001b[43m,\u001b[49m\u001b[43m \u001b[49m\u001b[43mhps_names\u001b[49m\u001b[43m,\u001b[49m\u001b[43m \u001b[49m\u001b[43mlocal_eigenvalues_and_cond\u001b[49m\u001b[43m)\u001b[49m\n",
      "File \u001b[1;32mD:\\Portfolio\\Research\\regional-classifiers\\devcode\\analysis\\eigenvalues.py:34\u001b[0m, in \u001b[0;36meigenvalues_analysis_local_and_regional\u001b[1;34m(datasets, df_model, hps_names, eig_cond_func)\u001b[0m\n\u001b[0;32m     31\u001b[0m hps_comb \u001b[38;5;241m=\u001b[39m np\u001b[38;5;241m.\u001b[39munique(df_dataset[hps_names]\u001b[38;5;241m.\u001b[39mvalues, axis\u001b[38;5;241m=\u001b[39m\u001b[38;5;241m0\u001b[39m)  \u001b[38;5;66;03m# hyperparam combinations\u001b[39;00m\n\u001b[0;32m     33\u001b[0m \u001b[38;5;28;01mfor\u001b[39;00m comb \u001b[38;5;129;01min\u001b[39;00m hps_comb:\n\u001b[1;32m---> 34\u001b[0m     df_comb \u001b[38;5;241m=\u001b[39m \u001b[43mDataFrameUtils\u001b[49m\u001b[38;5;241;43m.\u001b[39;49m\u001b[43mextract_ordered_case\u001b[49m\u001b[43m(\u001b[49m\u001b[43mdf_dataset\u001b[49m\u001b[43m,\u001b[49m\u001b[43m \u001b[49m\u001b[43mhps_comb\u001b[49m\u001b[43m,\u001b[49m\u001b[43m \u001b[49m\u001b[43mhps_names\u001b[49m\u001b[43m)\u001b[49m\n\u001b[0;32m     36\u001b[0m     eigen_string \u001b[38;5;241m=\u001b[39m df_comb[\u001b[38;5;124m'\u001b[39m\u001b[38;5;124meigenvalues\u001b[39m\u001b[38;5;124m'\u001b[39m]\u001b[38;5;241m.\u001b[39mvalues\n\u001b[0;32m     37\u001b[0m     dtypes       \u001b[38;5;241m=\u001b[39m df_comb[\u001b[38;5;124m'\u001b[39m\u001b[38;5;124meigenvalues_dtype\u001b[39m\u001b[38;5;124m'\u001b[39m]\u001b[38;5;241m.\u001b[39mvalues\n",
      "File \u001b[1;32mD:\\Portfolio\\Research\\regional-classifiers\\devcode\\utils\\__init__.py:13\u001b[0m, in \u001b[0;36mDataFrameUtils.extract_ordered_case\u001b[1;34m(df, df_params, s_params)\u001b[0m\n\u001b[0;32m     10\u001b[0m \u001b[38;5;129m@staticmethod\u001b[39m\n\u001b[0;32m     11\u001b[0m \u001b[38;5;28;01mdef\u001b[39;00m \u001b[38;5;21mextract_ordered_case\u001b[39m(df, df_params, s_params):\n\u001b[0;32m     12\u001b[0m     n_params \u001b[38;5;241m=\u001b[39m \u001b[38;5;28mlen\u001b[39m(s_params)\n\u001b[1;32m---> 13\u001b[0m     _filter_params \u001b[38;5;241m=\u001b[39m [(df[df_params[i]] \u001b[38;5;241m==\u001b[39m s_params[i]) \u001b[38;5;28;01mfor\u001b[39;00m i \u001b[38;5;129;01min\u001b[39;00m \u001b[38;5;28mrange\u001b[39m(n_params)]\n\u001b[0;32m     15\u001b[0m     combined_filter \u001b[38;5;241m=\u001b[39m _filter_params[\u001b[38;5;241m0\u001b[39m]\n\u001b[0;32m     17\u001b[0m     \u001b[38;5;28;01mfor\u001b[39;00m _filter \u001b[38;5;129;01min\u001b[39;00m _filter_params:\n",
      "File \u001b[1;32mD:\\Portfolio\\Research\\regional-classifiers\\devcode\\utils\\__init__.py:13\u001b[0m, in \u001b[0;36m<listcomp>\u001b[1;34m(.0)\u001b[0m\n\u001b[0;32m     10\u001b[0m \u001b[38;5;129m@staticmethod\u001b[39m\n\u001b[0;32m     11\u001b[0m \u001b[38;5;28;01mdef\u001b[39;00m \u001b[38;5;21mextract_ordered_case\u001b[39m(df, df_params, s_params):\n\u001b[0;32m     12\u001b[0m     n_params \u001b[38;5;241m=\u001b[39m \u001b[38;5;28mlen\u001b[39m(s_params)\n\u001b[1;32m---> 13\u001b[0m     _filter_params \u001b[38;5;241m=\u001b[39m [(\u001b[43mdf\u001b[49m\u001b[43m[\u001b[49m\u001b[43mdf_params\u001b[49m\u001b[43m[\u001b[49m\u001b[43mi\u001b[49m\u001b[43m]\u001b[49m\u001b[43m]\u001b[49m \u001b[38;5;241m==\u001b[39m s_params[i]) \u001b[38;5;28;01mfor\u001b[39;00m i \u001b[38;5;129;01min\u001b[39;00m \u001b[38;5;28mrange\u001b[39m(n_params)]\n\u001b[0;32m     15\u001b[0m     combined_filter \u001b[38;5;241m=\u001b[39m _filter_params[\u001b[38;5;241m0\u001b[39m]\n\u001b[0;32m     17\u001b[0m     \u001b[38;5;28;01mfor\u001b[39;00m _filter \u001b[38;5;129;01min\u001b[39;00m _filter_params:\n",
      "File \u001b[1;32m~\\anaconda3\\lib\\site-packages\\pandas\\core\\frame.py:3511\u001b[0m, in \u001b[0;36mDataFrame.__getitem__\u001b[1;34m(self, key)\u001b[0m\n\u001b[0;32m   3509\u001b[0m     \u001b[38;5;28;01mif\u001b[39;00m is_iterator(key):\n\u001b[0;32m   3510\u001b[0m         key \u001b[38;5;241m=\u001b[39m \u001b[38;5;28mlist\u001b[39m(key)\n\u001b[1;32m-> 3511\u001b[0m     indexer \u001b[38;5;241m=\u001b[39m \u001b[38;5;28;43mself\u001b[39;49m\u001b[38;5;241;43m.\u001b[39;49m\u001b[43mcolumns\u001b[49m\u001b[38;5;241;43m.\u001b[39;49m\u001b[43m_get_indexer_strict\u001b[49m\u001b[43m(\u001b[49m\u001b[43mkey\u001b[49m\u001b[43m,\u001b[49m\u001b[43m \u001b[49m\u001b[38;5;124;43m\"\u001b[39;49m\u001b[38;5;124;43mcolumns\u001b[39;49m\u001b[38;5;124;43m\"\u001b[39;49m\u001b[43m)\u001b[49m[\u001b[38;5;241m1\u001b[39m]\n\u001b[0;32m   3513\u001b[0m \u001b[38;5;66;03m# take() does not accept boolean indexers\u001b[39;00m\n\u001b[0;32m   3514\u001b[0m \u001b[38;5;28;01mif\u001b[39;00m \u001b[38;5;28mgetattr\u001b[39m(indexer, \u001b[38;5;124m\"\u001b[39m\u001b[38;5;124mdtype\u001b[39m\u001b[38;5;124m\"\u001b[39m, \u001b[38;5;28;01mNone\u001b[39;00m) \u001b[38;5;241m==\u001b[39m \u001b[38;5;28mbool\u001b[39m:\n",
      "File \u001b[1;32m~\\anaconda3\\lib\\site-packages\\pandas\\core\\indexes\\base.py:5782\u001b[0m, in \u001b[0;36mIndex._get_indexer_strict\u001b[1;34m(self, key, axis_name)\u001b[0m\n\u001b[0;32m   5779\u001b[0m \u001b[38;5;28;01melse\u001b[39;00m:\n\u001b[0;32m   5780\u001b[0m     keyarr, indexer, new_indexer \u001b[38;5;241m=\u001b[39m \u001b[38;5;28mself\u001b[39m\u001b[38;5;241m.\u001b[39m_reindex_non_unique(keyarr)\n\u001b[1;32m-> 5782\u001b[0m \u001b[38;5;28;43mself\u001b[39;49m\u001b[38;5;241;43m.\u001b[39;49m\u001b[43m_raise_if_missing\u001b[49m\u001b[43m(\u001b[49m\u001b[43mkeyarr\u001b[49m\u001b[43m,\u001b[49m\u001b[43m \u001b[49m\u001b[43mindexer\u001b[49m\u001b[43m,\u001b[49m\u001b[43m \u001b[49m\u001b[43maxis_name\u001b[49m\u001b[43m)\u001b[49m\n\u001b[0;32m   5784\u001b[0m keyarr \u001b[38;5;241m=\u001b[39m \u001b[38;5;28mself\u001b[39m\u001b[38;5;241m.\u001b[39mtake(indexer)\n\u001b[0;32m   5785\u001b[0m \u001b[38;5;28;01mif\u001b[39;00m \u001b[38;5;28misinstance\u001b[39m(key, Index):\n\u001b[0;32m   5786\u001b[0m     \u001b[38;5;66;03m# GH 42790 - Preserve name from an Index\u001b[39;00m\n",
      "File \u001b[1;32m~\\anaconda3\\lib\\site-packages\\pandas\\core\\indexes\\base.py:5842\u001b[0m, in \u001b[0;36mIndex._raise_if_missing\u001b[1;34m(self, key, indexer, axis_name)\u001b[0m\n\u001b[0;32m   5840\u001b[0m     \u001b[38;5;28;01mif\u001b[39;00m use_interval_msg:\n\u001b[0;32m   5841\u001b[0m         key \u001b[38;5;241m=\u001b[39m \u001b[38;5;28mlist\u001b[39m(key)\n\u001b[1;32m-> 5842\u001b[0m     \u001b[38;5;28;01mraise\u001b[39;00m \u001b[38;5;167;01mKeyError\u001b[39;00m(\u001b[38;5;124mf\u001b[39m\u001b[38;5;124m\"\u001b[39m\u001b[38;5;124mNone of [\u001b[39m\u001b[38;5;132;01m{\u001b[39;00mkey\u001b[38;5;132;01m}\u001b[39;00m\u001b[38;5;124m] are in the [\u001b[39m\u001b[38;5;132;01m{\u001b[39;00maxis_name\u001b[38;5;132;01m}\u001b[39;00m\u001b[38;5;124m]\u001b[39m\u001b[38;5;124m\"\u001b[39m)\n\u001b[0;32m   5844\u001b[0m not_found \u001b[38;5;241m=\u001b[39m \u001b[38;5;28mlist\u001b[39m(ensure_index(key)[missing_mask\u001b[38;5;241m.\u001b[39mnonzero()[\u001b[38;5;241m0\u001b[39m]]\u001b[38;5;241m.\u001b[39munique())\n\u001b[0;32m   5845\u001b[0m \u001b[38;5;28;01mraise\u001b[39;00m \u001b[38;5;167;01mKeyError\u001b[39;00m(\u001b[38;5;124mf\u001b[39m\u001b[38;5;124m\"\u001b[39m\u001b[38;5;132;01m{\u001b[39;00mnot_found\u001b[38;5;132;01m}\u001b[39;00m\u001b[38;5;124m not in index\u001b[39m\u001b[38;5;124m\"\u001b[39m)\n",
      "\u001b[1;31mKeyError\u001b[0m: \"None of [Float64Index([2.0, 1.0, 0.3162277660168379], dtype='float64')] are in the [columns]\""
     ]
    }
   ],
   "source": [
    "from devcode.analysis.eigenvalues import eigenvalues_analysis_regional\n",
    "\n",
    "df_results = pd.read_csv(\"results/regional-results/ROLS - all - n_res=100 - 2019-07-10.csv\")\n",
    "eigenvalues_analysis_regional(datasets, df[\"regional\"])"
   ]
  },
  {
   "cell_type": "code",
   "execution_count": null,
   "metadata": {},
   "outputs": [],
   "source": []
  }
 ],
 "metadata": {
  "kernelspec": {
   "display_name": "Python 3 (ipykernel)",
   "language": "python",
   "name": "python3"
  },
  "language_info": {
   "codemirror_mode": {
    "name": "ipython",
    "version": 3
   },
   "file_extension": ".py",
   "mimetype": "text/x-python",
   "name": "python",
   "nbconvert_exporter": "python",
   "pygments_lexer": "ipython3",
   "version": "3.9.12"
  }
 },
 "nbformat": 4,
 "nbformat_minor": 4
}
