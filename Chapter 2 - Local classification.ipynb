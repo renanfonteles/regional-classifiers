{
 "cells": [
  {
   "cell_type": "markdown",
   "metadata": {},
   "source": [
    "# Figure 1: $K$-means data partitions"
   ]
  },
  {
   "cell_type": "code",
   "execution_count": null,
   "metadata": {
    "pycharm": {
     "is_executing": true
    }
   },
   "outputs": [],
   "source": [
    "import plotly.graph_objects as go\n",
    "import numpy as np\n",
    "from sklearn.datasets import load_digits\n",
    "\n",
    "from code.blocks import data_preprocessing\n",
    "from code.utils.visualization import plot_data\n",
    "\n",
    "data = load_digits()   # Loading MNIST data"
   ]
  },
  {
   "cell_type": "code",
   "execution_count": null,
   "outputs": [],
   "source": [
    "X = data_preprocessing(data)\n",
    "plot_data(X)"
   ],
   "metadata": {
    "collapsed": false,
    "pycharm": {
     "name": "#%%\n",
     "is_executing": true
    }
   }
  },
  {
   "cell_type": "code",
   "execution_count": 12,
   "metadata": {},
   "outputs": [
    {
     "data": {
      "image/png": "[encoded data removed]",
      "text/plain": [
       "<Figure size 432x288 with 1 Axes>"
      ]
     },
     "metadata": {
      "needs_background": "light"
     },
     "output_type": "display_data"
    }
   ],
   "source": [
    "from code.utils.visualization import plot_voronoi_cells\n",
    "from sklearn.cluster import KMeans\n",
    "\n",
    "kmeans = KMeans(n_clusters=6, n_init=100, random_state=2019).fit(X)\n",
    "plot_voronoi_cells(X, kmeans)"
   ]
  },
  {
   "cell_type": "markdown",
   "metadata": {},
   "source": [
    "# Figure 3: SOM training"
   ]
  },
  {
   "cell_type": "code",
   "execution_count": 15,
   "metadata": {
    "pycharm": {
     "is_executing": true
    }
   },
   "outputs": [
    {
     "name": "stdout",
     "output_type": "stream",
     "text": [
      "CPU times: total: 938 ms\n",
      "Wall time: 933 ms\n"
     ]
    }
   ],
   "source": [
    "%%time\n",
    "from som import SOM\n",
    "\n",
    "nEpochs = 10\n",
    "N = len(X)\n",
    "l = int( ( 5*(N)**(1/2) )**(1/2) ) # side of square grid\n",
    "\n",
    "som = SOM(l,l)\n",
    "som.fit(X, alpha0=0.2, sigma0=4, nEpochs=nEpochs, saveNeuronsHist=True)"
   ]
  },
  {
   "cell_type": "code",
   "execution_count": 17,
   "metadata": {
    "pycharm": {
     "is_executing": true
    }
   },
   "outputs": [
    {
     "name": "stdout",
     "output_type": "stream",
     "text": [
      "[0, 3, 6, 10]\n"
     ]
    },
    {
     "name": "stderr",
     "output_type": "stream",
     "text": [
      "C:\\Users\\Renan\\AppData\\Local\\Temp\\ipykernel_16372\\3252584293.py:1: DeprecationWarning:\n",
      "\n",
      "Importing display from IPython.core.display is deprecated since IPython 7.14, please import from IPython display\n",
      "\n"
     ]
    },
    {
     "ename": "AttributeError",
     "evalue": "'SOM' object has no attribute 'getConnections'",
     "output_type": "error",
     "traceback": [
      "\u001B[1;31m---------------------------------------------------------------------------\u001B[0m",
      "\u001B[1;31mAttributeError\u001B[0m                            Traceback (most recent call last)",
      "Input \u001B[1;32mIn [17]\u001B[0m, in \u001B[0;36m<cell line: 8>\u001B[1;34m()\u001B[0m\n\u001B[0;32m      5\u001B[0m \u001B[38;5;28mprint\u001B[39m(epochs)\n\u001B[0;32m      7\u001B[0m \u001B[38;5;66;03m# epoch = 30\u001B[39;00m\n\u001B[1;32m----> 8\u001B[0m connections \u001B[38;5;241m=\u001B[39m \u001B[43msom\u001B[49m\u001B[38;5;241;43m.\u001B[39;49m\u001B[43mgetConnections\u001B[49m()\n\u001B[0;32m     10\u001B[0m \u001B[38;5;28;01mfor\u001B[39;00m epoch \u001B[38;5;129;01min\u001B[39;00m epochs:\n\u001B[0;32m     11\u001B[0m     display(HTML(\u001B[38;5;124m'\u001B[39m\u001B[38;5;124m<center><h1>Epoch #\u001B[39m\u001B[38;5;132;01m{}\u001B[39;00m\u001B[38;5;124m</h1></center>\u001B[39m\u001B[38;5;124m'\u001B[39m\u001B[38;5;241m.\u001B[39mformat(epoch)))\n",
      "\u001B[1;31mAttributeError\u001B[0m: 'SOM' object has no attribute 'getConnections'"
     ]
    }
   ],
   "source": [
    "from IPython.core.display import display, HTML\n",
    "\n",
    "n_images = 4\n",
    "epochs = np.linspace(0, nEpochs, num=n_images, dtype='int').tolist()\n",
    "print(epochs)\n",
    "\n",
    "# epoch = 30\n",
    "connections = som.getConnections()\n",
    "\n",
    "for epoch in epochs:\n",
    "    display(HTML('<center><h1>Epoch #{}</h1></center>'.format(epoch)))\n",
    "\n",
    "    # make figure\n",
    "    fig_dict = {\"data\": [],\"layout\": {}}\n",
    "\n",
    "\n",
    "    # data points\n",
    "    datapoints = go.Scatter(\n",
    "        x = X[:,0], \n",
    "        y = X[:,1], \n",
    "        mode='markers', \n",
    "        name='data',\n",
    "        marker = dict(\n",
    "            size = 6,\n",
    "            color = '#03A9F4'\n",
    "        )\n",
    "    )\n",
    "    fig_dict[\"data\"].append(datapoints)\n",
    "\n",
    "\n",
    "    temp_x = [som.neuronsHist[epoch][idx,0].tolist() + [None] for idx in connections]\n",
    "    x = [item for sublist in temp_x for item in sublist] # list of lists to list\n",
    "    temp_y = [som.neuronsHist[epoch][idx,1].tolist() + [None] for idx in connections]\n",
    "    y = [item for sublist in temp_y for item in sublist]\n",
    "\n",
    "    data_dict = {\n",
    "        \"x\": x,\n",
    "        \"y\": y,\n",
    "        \"mode\": \"lines+markers\",\n",
    "        \"marker\": {\n",
    "            \"size\": 12,\n",
    "            \"color\": '#673AB7'\n",
    "        },\n",
    "        \"line\": {\"width\": 1.5},\n",
    "        \"name\": \"neurons\"\n",
    "    }\n",
    "    fig_dict[\"data\"].append(data_dict)\n",
    "\n",
    "\n",
    "    fig = go.Figure(fig_dict)\n",
    "\n",
    "    fig.update_layout(\n",
    "        margin=dict(l=20, r=2, t=2, b=0),\n",
    "    #         paper_bgcolor=\"LightSteelBlue\",\n",
    "    #         plot_bgcolor='rgba(0,0,0,0)',\n",
    "        font=dict(size=12),\n",
    "    #     xaxis=dict(showgrid=False),\n",
    "    #     yaxis=dict(showgrid=True),\n",
    "        autosize=False,\n",
    "        width  = 1600/2,\n",
    "        height = 900/2,\n",
    "    )\n",
    "\n",
    "    fig.update_layout(legend=dict(x=.8825, y=1))\n",
    "\n",
    "    fig.show()\n",
    "    \n",
    "    display(HTML('<hr>'))\n",
    "    \n",
    "    fig.write_image(\"/home/romulo/Dropbox/Mestrado/Dissertation/dissertacao_latex/images/\"+\n",
    "                    \"chap2_som_train_epoch{}.pdf\".format(epoch))"
   ]
  },
  {
   "cell_type": "markdown",
   "metadata": {},
   "source": [
    "# Figure 4: Different decision boundaries depending on the kernel of the LSSVM"
   ]
  },
  {
   "cell_type": "code",
   "execution_count": null,
   "metadata": {
    "pycharm": {
     "is_executing": true
    }
   },
   "outputs": [],
   "source": [
    "# making moons\n",
    "# from sklearn.datasets import make_moons\n",
    "# X, labels = make_moons(n_samples=1000, noise=.075, random_state=2019)\n",
    "\n",
    "import numpy as np\n",
    "\n",
    "n_samples = 1000\n",
    "n_p_class = int(n_samples/2)\n",
    "x1 = np.linspace(0, 3*np.pi, n_p_class)\n",
    "x2 = np.sin(x1)\n",
    "\n",
    "sigma = 0.2\n",
    "np.random.seed(2019)\n",
    "X_0 = np.column_stack((x1,x2))       + np.random.normal(0, sigma, (n_p_class,2))\n",
    "X_1 = np.column_stack((x1+.5,x2-1.75)) + np.random.normal(0, sigma, (n_p_class,2))\n",
    "\n",
    "X = np.concatenate((X_0, X_1), axis=0)\n",
    "labels = np.array([0]*int(n_samples/2) + [1]*int(n_samples/2)).reshape(-1,1)\n",
    "\n",
    "# scaling features\n",
    "from sklearn.preprocessing import MinMaxScaler\n",
    "scaler = MinMaxScaler(feature_range=(-1,1))\n",
    "X = scaler.fit_transform(X)"
   ]
  },
  {
   "cell_type": "code",
   "execution_count": null,
   "metadata": {
    "pycharm": {
     "is_executing": true
    }
   },
   "outputs": [],
   "source": [
    "from lssvm import LSSVM\n",
    "\n",
    "# maximums and minimus of plot\n",
    "x_max, y_max = np.amax(X, axis=0)*1.1\n",
    "x_min, y_min = np.amin(X, axis=0)*1.1\n",
    "\n",
    "\n",
    "# fitting set of models\n",
    "from sklearn.svm import SVC\n",
    "from copy import copy\n",
    "\n",
    "variations = [\n",
    "    {'kernel': 'linear'},\n",
    "#     {'kernel': 'poly', 'd': 2},\n",
    "    {'kernel': 'poly', 'd': 3},\n",
    "#     {'kernel': 'poly', 'd': 4},\n",
    "    {'kernel': 'poly', 'd': 5},\n",
    "#     {'kernel': 'poly', 'd': 6},\n",
    "#     {'kernel': 'poly', 'd': 7},\n",
    "#     {'kernel': 'poly', 'd': 8},\n",
    "#     {'kernel': 'poly', 'd': 9},\n",
    "#     {'kernel': 'poly', 'd': 10}\n",
    "    {'kernel': 'rbf',  'sigma': 1},\n",
    "]\n",
    "\n",
    "clfs = [LSSVM(**params) for params in variations]\n",
    "for clf in clfs: clf.fit(X, labels)\n",
    "    "
   ]
  },
  {
   "cell_type": "code",
   "execution_count": null,
   "metadata": {
    "pycharm": {
     "is_executing": true
    }
   },
   "outputs": [],
   "source": [
    "# coloring grid\n",
    "n = 300 # number of points in each dimension\n",
    "size = 2 # size of points in the coloring grid\n",
    "\n",
    "x = np.linspace(x_min, x_max, int(n*16/9))\n",
    "y = np.linspace(y_min, y_max, n)\n",
    "# creating the coloring grid data points\n",
    "xv, yv = np.meshgrid(x, y)\n",
    "x = xv.flatten()\n",
    "y = yv.flatten()\n",
    "\n",
    "X_mgrid = np.column_stack((x, y))\n",
    "\n",
    "grid_pred = [clf.predict( X_mgrid ) for clf in clfs]"
   ]
  },
  {
   "cell_type": "code",
   "execution_count": null,
   "metadata": {
    "pycharm": {
     "is_executing": true
    }
   },
   "outputs": [],
   "source": [
    "for i in range(len(variations)):\n",
    "    print(\n",
    "        str(variations[i])[1:-1].replace(\"'\", \"\").replace(\": \",\"_\").replace(\", \",\"__\")\n",
    "    )"
   ]
  },
  {
   "cell_type": "code",
   "execution_count": null,
   "metadata": {
    "pycharm": {
     "is_executing": true
    },
    "scrolled": false
   },
   "outputs": [],
   "source": [
    "# plotting\n",
    "import plotly.graph_objects as go\n",
    "from IPython.core.display import display, HTML\n",
    "\n",
    "# count=0\n",
    "# for clf in clfs:\n",
    "for i in range(len(variations)):\n",
    "    display(HTML('<center><h1>{}</h1></center>'.format(variations[i])))\n",
    "        \n",
    "    fig = go.Figure()\n",
    "    \n",
    "#     [\n",
    "#         '#1f77b4',  # muted blue\n",
    "#         '#ff7f0e',  # safety orange\n",
    "#         '#2ca02c',  # cooked asparagus green\n",
    "#         '#d62728',  # brick red\n",
    "#         '#9467bd',  # muted purple\n",
    "#         '#8c564b',  # chestnut brown\n",
    "#         '#e377c2',  # raspberry yogurt pink\n",
    "#         '#7f7f7f',  # middle gray\n",
    "#         '#bcbd22',  # curry yellow-green\n",
    "#         '#17becf'   # blue-teal\n",
    "#     ]\n",
    "   \n",
    "#     grid_pred = clf.predict( X_mgrid )\n",
    "    \n",
    "    colors = ['#d62728' if temp==0 else '#1f77b4' for temp in grid_pred[i].tolist()]\n",
    "\n",
    "    # coloring grid (coloring the regions)\n",
    "    fig.add_trace(go.Scatter(\n",
    "        x = x.tolist(),\n",
    "        y = y.tolist(),\n",
    "        mode='markers',\n",
    "        showlegend=False,\n",
    "        opacity=0.3,\n",
    "        marker = dict( \n",
    "            size=size,\n",
    "#             color = grid_pred[count]\n",
    "            color=colors\n",
    "        )\n",
    "    ))\n",
    "\n",
    "    \n",
    "    # Class A points\n",
    "    fig.add_trace(go.Scatter(\n",
    "        x=X[labels.reshape(-1) == 0, 0], \n",
    "        y=X[labels.reshape(-1) == 0, 1], \n",
    "        mode='markers',\n",
    "        name='Class A',\n",
    "        marker = dict(\n",
    "            size = 7, \n",
    "            line = dict(width=1.5,color='#000000'),\n",
    "            color = \"#d62728\"\n",
    "        )\n",
    "    ))\n",
    "    \n",
    "    # Class B points\n",
    "    fig.add_trace(go.Scatter(\n",
    "        x=X[labels.reshape(-1) == 1, 0], \n",
    "        y=X[labels.reshape(-1) == 1, 1],\n",
    "        name='Class B',\n",
    "        mode='markers',\n",
    "        marker = dict(\n",
    "            size = 7, \n",
    "            line = dict(width=1.5,color='#000000'),\n",
    "            color = '#1f77b4'\n",
    "        )\n",
    "    ))\n",
    "\n",
    "    # adjusting limits of plot\n",
    "    fig.update_xaxes(range=[x_min, x_max])\n",
    "    fig.update_yaxes(range=[y_min, y_max])\n",
    "\n",
    "    fig.update_layout(\n",
    "        margin=dict(l=25, r=2, b=5, t=20),\n",
    "        font=dict(size=12),\n",
    "        autosize=False,\n",
    "        width  = 1600/2,\n",
    "        height = 900/2\n",
    "    )\n",
    "\n",
    "    fig.update_xaxes(showgrid=False, zeroline=False)\n",
    "    fig.update_yaxes(showgrid=False, zeroline=False)\n",
    "\n",
    "    fig.update_layout(legend=dict(x=.89, y=1))\n",
    "    \n",
    "    # fig.update_layout({\n",
    "    # #     'title': 'MNIST data set after PCA (2 components)'\n",
    "    # })\n",
    "\n",
    "    fig.show(renderer=\"png\")\n",
    "    \n",
    "    name = str(variations[i])[1:-1].replace(\"'\", \"\").replace(\": \",\"_\").replace(\", \",\"__\")\n",
    "    \n",
    "    fig.write_image(\"/home/romulo/Dropbox/Mestrado/Dissertation/dissertacao_latex/images/\"+\n",
    "                    \"chap2_lssvm_{}.pdf\".format(name))\n",
    "    \n",
    "    display(HTML('<hr>'))\n",
    "#     break\n",
    "\n",
    "print('DONE!!!!!!!!!!!!!!!!!!!!!!!!!!!')"
   ]
  },
  {
   "cell_type": "code",
   "execution_count": null,
   "metadata": {},
   "outputs": [],
   "source": []
  }
 ],
 "metadata": {
  "kernelspec": {
   "display_name": "Python 3 (ipykernel)",
   "language": "python",
   "name": "python3"
  },
  "language_info": {
   "codemirror_mode": {
    "name": "ipython",
    "version": 3
   },
   "file_extension": ".py",
   "mimetype": "text/x-python",
   "name": "python",
   "nbconvert_exporter": "python",
   "pygments_lexer": "ipython3",
   "version": "3.9.12"
  }
 },
 "nbformat": 4,
 "nbformat_minor": 2
}