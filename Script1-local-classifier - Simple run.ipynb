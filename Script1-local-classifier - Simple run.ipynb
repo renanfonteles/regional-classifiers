{
 "cells": [
  {
   "cell_type": "markdown",
   "metadata": {},
   "source": [
    "<center><h1>Classification by local modeling</h1></center>"
   ]
  },
  {
   "cell_type": "markdown",
   "metadata": {},
   "source": [
    "## Summary:\n",
    "1. [Introduction](#introduction)\n",
    "\n",
    "2. [Local Ordinary Least Squares (L-OLS)](#lols)\n",
    "    \n",
    "    2.1. [Influence of the number of clusters on model accuracy](#lols-#-clusters)\n",
    "    \n",
    "3. [Local Least Squares Support Vector Machine (L-LSSVM)](#l_lssvm)"
   ]
  },
  {
   "cell_type": "markdown",
   "metadata": {},
   "source": [
    "### 1. Introduction <a class=\"anchor\" id=\"introduction\"></a>"
   ]
  },
  {
   "cell_type": "markdown",
   "metadata": {},
   "source": [
    "Classic classification by local modeling is a two-step approach for modeling:\n",
    "\n",
    "1. An unsupervised clustering algorithm is run to find regions in the dataset;\n",
    "2. For each region, a model is built with the respective data partition.\n",
    "\n",
    "For inference the procedure is similar:\n",
    "\n",
    "1. A similarity metric is used to determine the new data point region, e.g. euclidian distance from regions prototypes;\n",
    "2. The model from that specific region is used to predict the class of the new data point.\n",
    "\n",
    "There are a lot of clustering algorithms but, for the sake of simplicity, it will be used only K-means."
   ]
  },
  {
   "cell_type": "markdown",
   "metadata": {},
   "source": [
    "The class **LocalModel**, implemented below, create an easy way to implement and test local models for classification:"
   ]
  },
  {
   "cell_type": "code",
   "execution_count": 48,
   "metadata": {},
   "outputs": [],
   "source": [
    "from sklearn.cluster import KMeans\n",
    "from devcode.models.lssvm import LSSVM\n",
    "from sklearn.model_selection import train_test_split\n",
    "from sklearn.metrics import confusion_matrix\n",
    "from sklearn.metrics import accuracy_score"
   ]
  },
  {
   "cell_type": "code",
   "execution_count": 49,
   "metadata": {},
   "outputs": [],
   "source": [
    "def run_simulation(dataset_name, kmeans, clf_model, test_size=0.2):\n",
    "    X = datasets[dataset_name]['features'].values\n",
    "    Y = datasets[dataset_name]['labels'].values\n",
    "\n",
    "    # Train/Test split = 80%/20%\n",
    "    X_train, X_test, y_train, y_test = train_test_split(X, Y, test_size=test_size)\n",
    "\n",
    "    # Scaling features\n",
    "    X_tr_norm, X_ts_norm = scale_feat(X_train, X_test, scaleType='min-max')\n",
    "    \n",
    "    lm = LocalModel(ClusterAlg=kmeans, ModelAlg=clf_model)\n",
    "    lm.fit(X_tr_norm, y_train, verboses=1)\n",
    "\n",
    "    y_pred_tr = lm.predict(X_tr_norm, rounded=True)\n",
    "    y_pred_ts = lm.predict(X_ts_norm, rounded=True)\n",
    "\n",
    "    cm_tr = confusion_matrix(dummie2multilabel(y_train),\n",
    "                                     dummie2multilabel(y_pred_tr))\n",
    "    cm_ts = confusion_matrix(dummie2multilabel(y_test),\n",
    "                                     dummie2multilabel(y_pred_ts))\n",
    "\n",
    "    acc_tr = cm2acc(cm_tr)\n",
    "    acc_ts = cm2acc(cm_ts)\n",
    "\n",
    "    print(f\"Train accuracy: {acc_tr}\\nTest accuracy:  {acc_ts}\\n\")"
   ]
  },
  {
   "cell_type": "markdown",
   "metadata": {},
   "source": [
    "### 2. Local Ordinary Least Squares (L-OLS) <a class=\"anchor\" id=\"lols\"></a>\n",
    "\n",
    "#### Description\n",
    "Example of using local learning method using Ordinary Least Square (OSL) as base classifier."
   ]
  },
  {
   "cell_type": "code",
   "execution_count": 50,
   "metadata": {},
   "outputs": [
    {
     "name": "stdout",
     "output_type": "stream",
     "text": [
      "Start of clusterization: 2022-08-05 12:23:24.470290\n"
     ]
    },
    {
     "name": "stderr",
     "output_type": "stream",
     "text": [
      "C:\\Users\\Centaurinho\\anaconda3\\envs\\mlenv\\lib\\site-packages\\sklearn\\cluster\\_kmeans.py:1332: UserWarning: KMeans is known to have a memory leak on Windows with MKL, when there are less chunks than available threads. You can avoid it by setting the environment variable OMP_NUM_THREADS=1.\n",
      "  warnings.warn(\n"
     ]
    },
    {
     "name": "stdout",
     "output_type": "stream",
     "text": [
      "Start of local models training: 2022-08-05 12:23:25.023427\n",
      "Train accuracy: 0.8709677419354839\n",
      "Test accuracy:  0.8387096774193549\n",
      "\n",
      "CPU times: total: 6.77 s\n",
      "Wall time: 679 ms\n"
     ]
    }
   ],
   "source": [
    "%%time\n",
    "\n",
    "# 1. Select the number of clusters (i.e., number of local regions)\n",
    "n_clusters = 5\n",
    "\n",
    "linear_clf = LinearRegression()\n",
    "kmeans     = KMeans(n_clusters=n_clusters, n_init=10, random_state=0)\n",
    "\n",
    "run_simulation(dataset_name=\"vc2c\", kmeans=kmeans, clf_model=linear_clf)"
   ]
  },
  {
   "cell_type": "code",
   "execution_count": 62,
   "metadata": {},
   "outputs": [
    {
     "name": "stdout",
     "output_type": "stream",
     "text": [
      "Start of clusterization: 2022-08-05 12:38:48.127997\n"
     ]
    },
    {
     "name": "stderr",
     "output_type": "stream",
     "text": [
      "C:\\Users\\Centaurinho\\anaconda3\\envs\\mlenv\\lib\\site-packages\\sklearn\\cluster\\_kmeans.py:1332: UserWarning: KMeans is known to have a memory leak on Windows with MKL, when there are less chunks than available threads. You can avoid it by setting the environment variable OMP_NUM_THREADS=1.\n",
      "  warnings.warn(\n"
     ]
    },
    {
     "name": "stdout",
     "output_type": "stream",
     "text": [
      "Start of local models training: 2022-08-05 12:38:48.678009\n",
      "Train accuracy: 0.717741935483871\n",
      "Test accuracy:  0.7258064516129032\n",
      "\n",
      "CPU times: total: 6.97 s\n",
      "Wall time: 676 ms\n"
     ]
    }
   ],
   "source": [
    "%%time\n",
    "\n",
    "# 1. Select the number of clusters (i.e., number of local regions)\n",
    "n_clusters = 5\n",
    "\n",
    "linear_clf = LSSVM(gamma=1, kernel='rbf', sigma=4)\n",
    "kmeans     = KMeans(n_clusters=n_clusters, n_init=10, random_state=0)\n",
    "\n",
    "run_simulation(dataset_name=\"vc2c\", kmeans=kmeans, clf_model=linear_clf)"
   ]
  },
  {
   "cell_type": "markdown",
   "metadata": {},
   "source": [
    "### 3.  Local Least Squares Support Vector Machine (L-LSSVM)  <a class=\"anchor\" id=\"l_lssvm\"></a>\n",
    "\n",
    "#### Description\n",
    "Example of using local learning method using Least Square Support Vector Machine (LSSVM) as base classifier."
   ]
  },
  {
   "cell_type": "code",
   "execution_count": 65,
   "metadata": {},
   "outputs": [
    {
     "name": "stdout",
     "output_type": "stream",
     "text": [
      "vc2c\n",
      "Nº of clusters: 2 | Kernel: linear\n",
      "Start of clusterization: 2022-08-05 12:48:55.618971\n"
     ]
    },
    {
     "name": "stderr",
     "output_type": "stream",
     "text": [
      "C:\\Users\\Centaurinho\\anaconda3\\envs\\mlenv\\lib\\site-packages\\sklearn\\cluster\\_kmeans.py:1332: UserWarning: KMeans is known to have a memory leak on Windows with MKL, when there are less chunks than available threads. You can avoid it by setting the environment variable OMP_NUM_THREADS=1.\n",
      "  warnings.warn(\n"
     ]
    },
    {
     "name": "stdout",
     "output_type": "stream",
     "text": [
      "Start of local models training: 2022-08-05 12:48:56.159649\n",
      "Train accuracy: 0.8346774193548387\n",
      "Test accuracy:  0.7580645161290323\n",
      "\n",
      "Nº of clusters: 2 | Kernel: poly\n",
      "Start of clusterization: 2022-08-05 12:48:56.273131\n"
     ]
    },
    {
     "name": "stderr",
     "output_type": "stream",
     "text": [
      "C:\\Users\\Centaurinho\\anaconda3\\envs\\mlenv\\lib\\site-packages\\sklearn\\cluster\\_kmeans.py:1332: UserWarning: KMeans is known to have a memory leak on Windows with MKL, when there are less chunks than available threads. You can avoid it by setting the environment variable OMP_NUM_THREADS=1.\n",
      "  warnings.warn(\n"
     ]
    },
    {
     "name": "stdout",
     "output_type": "stream",
     "text": [
      "Start of local models training: 2022-08-05 12:48:56.858883\n",
      "Train accuracy: 0.8346774193548387\n",
      "Test accuracy:  0.8387096774193549\n",
      "\n",
      "Nº of clusters: 2 | Kernel: rbf\n",
      "Start of clusterization: 2022-08-05 12:48:56.975883\n"
     ]
    },
    {
     "name": "stderr",
     "output_type": "stream",
     "text": [
      "C:\\Users\\Centaurinho\\anaconda3\\envs\\mlenv\\lib\\site-packages\\sklearn\\cluster\\_kmeans.py:1332: UserWarning: KMeans is known to have a memory leak on Windows with MKL, when there are less chunks than available threads. You can avoid it by setting the environment variable OMP_NUM_THREADS=1.\n",
      "  warnings.warn(\n"
     ]
    },
    {
     "name": "stdout",
     "output_type": "stream",
     "text": [
      "Start of local models training: 2022-08-05 12:48:57.562245\n",
      "Train accuracy: 0.8306451612903226\n",
      "Test accuracy:  0.8064516129032258\n",
      "\n",
      "Nº of clusters: 5 | Kernel: linear\n",
      "Start of clusterization: 2022-08-05 12:48:57.687411\n"
     ]
    },
    {
     "name": "stderr",
     "output_type": "stream",
     "text": [
      "C:\\Users\\Centaurinho\\anaconda3\\envs\\mlenv\\lib\\site-packages\\sklearn\\cluster\\_kmeans.py:1332: UserWarning: KMeans is known to have a memory leak on Windows with MKL, when there are less chunks than available threads. You can avoid it by setting the environment variable OMP_NUM_THREADS=1.\n",
      "  warnings.warn(\n"
     ]
    },
    {
     "name": "stdout",
     "output_type": "stream",
     "text": [
      "Start of local models training: 2022-08-05 12:48:58.260738\n",
      "Train accuracy: 0.8145161290322581\n",
      "Test accuracy:  0.8064516129032258\n",
      "\n",
      "Nº of clusters: 5 | Kernel: poly\n",
      "Start of clusterization: 2022-08-05 12:48:58.377293\n"
     ]
    },
    {
     "name": "stderr",
     "output_type": "stream",
     "text": [
      "C:\\Users\\Centaurinho\\anaconda3\\envs\\mlenv\\lib\\site-packages\\sklearn\\cluster\\_kmeans.py:1332: UserWarning: KMeans is known to have a memory leak on Windows with MKL, when there are less chunks than available threads. You can avoid it by setting the environment variable OMP_NUM_THREADS=1.\n",
      "  warnings.warn(\n"
     ]
    },
    {
     "name": "stdout",
     "output_type": "stream",
     "text": [
      "Start of local models training: 2022-08-05 12:48:58.978408\n",
      "Train accuracy: 0.8145161290322581\n",
      "Test accuracy:  0.7580645161290323\n",
      "\n",
      "Nº of clusters: 5 | Kernel: rbf\n",
      "Start of clusterization: 2022-08-05 12:48:59.091407\n"
     ]
    },
    {
     "name": "stderr",
     "output_type": "stream",
     "text": [
      "C:\\Users\\Centaurinho\\anaconda3\\envs\\mlenv\\lib\\site-packages\\sklearn\\cluster\\_kmeans.py:1332: UserWarning: KMeans is known to have a memory leak on Windows with MKL, when there are less chunks than available threads. You can avoid it by setting the environment variable OMP_NUM_THREADS=1.\n",
      "  warnings.warn(\n"
     ]
    },
    {
     "name": "stdout",
     "output_type": "stream",
     "text": [
      "Start of local models training: 2022-08-05 12:48:59.683461\n",
      "Train accuracy: 0.8387096774193549\n",
      "Test accuracy:  0.7419354838709677\n",
      "\n",
      "Nº of clusters: 9 | Kernel: linear\n",
      "Start of clusterization: 2022-08-05 12:48:59.803455\n"
     ]
    },
    {
     "name": "stderr",
     "output_type": "stream",
     "text": [
      "C:\\Users\\Centaurinho\\anaconda3\\envs\\mlenv\\lib\\site-packages\\sklearn\\cluster\\_kmeans.py:1332: UserWarning: KMeans is known to have a memory leak on Windows with MKL, when there are less chunks than available threads. You can avoid it by setting the environment variable OMP_NUM_THREADS=1.\n",
      "  warnings.warn(\n"
     ]
    },
    {
     "name": "stdout",
     "output_type": "stream",
     "text": [
      "Start of local models training: 2022-08-05 12:49:00.406731\n",
      "Train accuracy: 0.7741935483870968\n",
      "Test accuracy:  0.7419354838709677\n",
      "\n",
      "Nº of clusters: 9 | Kernel: poly\n",
      "Start of clusterization: 2022-08-05 12:49:00.524731\n"
     ]
    },
    {
     "name": "stderr",
     "output_type": "stream",
     "text": [
      "C:\\Users\\Centaurinho\\anaconda3\\envs\\mlenv\\lib\\site-packages\\sklearn\\cluster\\_kmeans.py:1332: UserWarning: KMeans is known to have a memory leak on Windows with MKL, when there are less chunks than available threads. You can avoid it by setting the environment variable OMP_NUM_THREADS=1.\n",
      "  warnings.warn(\n"
     ]
    },
    {
     "name": "stdout",
     "output_type": "stream",
     "text": [
      "Start of local models training: 2022-08-05 12:49:01.132685\n",
      "Train accuracy: 0.8064516129032258\n",
      "Test accuracy:  0.7741935483870968\n",
      "\n",
      "Nº of clusters: 9 | Kernel: rbf\n",
      "Start of clusterization: 2022-08-05 12:49:01.257682\n"
     ]
    },
    {
     "name": "stderr",
     "output_type": "stream",
     "text": [
      "C:\\Users\\Centaurinho\\anaconda3\\envs\\mlenv\\lib\\site-packages\\sklearn\\cluster\\_kmeans.py:1332: UserWarning: KMeans is known to have a memory leak on Windows with MKL, when there are less chunks than available threads. You can avoid it by setting the environment variable OMP_NUM_THREADS=1.\n",
      "  warnings.warn(\n"
     ]
    },
    {
     "name": "stdout",
     "output_type": "stream",
     "text": [
      "Start of local models training: 2022-08-05 12:49:01.861394\n",
      "Train accuracy: 0.8346774193548387\n",
      "Test accuracy:  0.7258064516129032\n",
      "\n",
      "Nº of clusters: 12 | Kernel: linear\n",
      "Start of clusterization: 2022-08-05 12:49:01.983475\n"
     ]
    },
    {
     "name": "stderr",
     "output_type": "stream",
     "text": [
      "C:\\Users\\Centaurinho\\anaconda3\\envs\\mlenv\\lib\\site-packages\\sklearn\\cluster\\_kmeans.py:1332: UserWarning: KMeans is known to have a memory leak on Windows with MKL, when there are less chunks than available threads. You can avoid it by setting the environment variable OMP_NUM_THREADS=1.\n",
      "  warnings.warn(\n"
     ]
    },
    {
     "name": "stdout",
     "output_type": "stream",
     "text": [
      "Start of local models training: 2022-08-05 12:49:02.602396\n",
      "Train accuracy: 0.8306451612903226\n",
      "Test accuracy:  0.6774193548387096\n",
      "\n",
      "Nº of clusters: 12 | Kernel: poly\n",
      "Start of clusterization: 2022-08-05 12:49:02.723723\n"
     ]
    },
    {
     "name": "stderr",
     "output_type": "stream",
     "text": [
      "C:\\Users\\Centaurinho\\anaconda3\\envs\\mlenv\\lib\\site-packages\\sklearn\\cluster\\_kmeans.py:1332: UserWarning: KMeans is known to have a memory leak on Windows with MKL, when there are less chunks than available threads. You can avoid it by setting the environment variable OMP_NUM_THREADS=1.\n",
      "  warnings.warn(\n"
     ]
    },
    {
     "name": "stdout",
     "output_type": "stream",
     "text": [
      "Start of local models training: 2022-08-05 12:49:03.327291\n",
      "Train accuracy: 0.8225806451612904\n",
      "Test accuracy:  0.8225806451612904\n",
      "\n",
      "Nº of clusters: 12 | Kernel: rbf\n",
      "Start of clusterization: 2022-08-05 12:49:03.436666\n"
     ]
    },
    {
     "name": "stderr",
     "output_type": "stream",
     "text": [
      "C:\\Users\\Centaurinho\\anaconda3\\envs\\mlenv\\lib\\site-packages\\sklearn\\cluster\\_kmeans.py:1332: UserWarning: KMeans is known to have a memory leak on Windows with MKL, when there are less chunks than available threads. You can avoid it by setting the environment variable OMP_NUM_THREADS=1.\n",
      "  warnings.warn(\n"
     ]
    },
    {
     "name": "stdout",
     "output_type": "stream",
     "text": [
      "Start of local models training: 2022-08-05 12:49:04.045010\n",
      "Train accuracy: 0.7943548387096774\n",
      "Test accuracy:  0.8225806451612904\n",
      "\n",
      "Nº of clusters: 16 | Kernel: linear\n",
      "Start of clusterization: 2022-08-05 12:49:04.186819\n"
     ]
    },
    {
     "name": "stderr",
     "output_type": "stream",
     "text": [
      "C:\\Users\\Centaurinho\\anaconda3\\envs\\mlenv\\lib\\site-packages\\sklearn\\cluster\\_kmeans.py:1332: UserWarning: KMeans is known to have a memory leak on Windows with MKL, when there are less chunks than available threads. You can avoid it by setting the environment variable OMP_NUM_THREADS=1.\n",
      "  warnings.warn(\n"
     ]
    },
    {
     "name": "stdout",
     "output_type": "stream",
     "text": [
      "Start of local models training: 2022-08-05 12:49:04.793954\n",
      "Train accuracy: 0.8104838709677419\n",
      "Test accuracy:  0.7419354838709677\n",
      "\n",
      "Nº of clusters: 16 | Kernel: poly\n",
      "Start of clusterization: 2022-08-05 12:49:04.918954\n"
     ]
    },
    {
     "name": "stderr",
     "output_type": "stream",
     "text": [
      "C:\\Users\\Centaurinho\\anaconda3\\envs\\mlenv\\lib\\site-packages\\sklearn\\cluster\\_kmeans.py:1332: UserWarning: KMeans is known to have a memory leak on Windows with MKL, when there are less chunks than available threads. You can avoid it by setting the environment variable OMP_NUM_THREADS=1.\n",
      "  warnings.warn(\n"
     ]
    },
    {
     "name": "stdout",
     "output_type": "stream",
     "text": [
      "Start of local models training: 2022-08-05 12:49:05.525229\n",
      "Train accuracy: 0.8467741935483871\n",
      "Test accuracy:  0.8064516129032258\n",
      "\n",
      "Nº of clusters: 16 | Kernel: rbf\n",
      "Start of clusterization: 2022-08-05 12:49:05.651495\n"
     ]
    },
    {
     "name": "stderr",
     "output_type": "stream",
     "text": [
      "C:\\Users\\Centaurinho\\anaconda3\\envs\\mlenv\\lib\\site-packages\\sklearn\\cluster\\_kmeans.py:1332: UserWarning: KMeans is known to have a memory leak on Windows with MKL, when there are less chunks than available threads. You can avoid it by setting the environment variable OMP_NUM_THREADS=1.\n",
      "  warnings.warn(\n"
     ]
    },
    {
     "name": "stdout",
     "output_type": "stream",
     "text": [
      "Start of local models training: 2022-08-05 12:49:06.266793\n",
      "Train accuracy: 0.8266129032258065\n",
      "Test accuracy:  0.8225806451612904\n",
      "\n",
      "CPU times: total: 2min\n",
      "Wall time: 10.8 s\n"
     ]
    }
   ],
   "source": [
    "%%time\n",
    "# %autoreload\n",
    "\n",
    "from sklearn.cluster import KMeans\n",
    "from devcode.models.lssvm import LSSVM\n",
    "from sklearn.model_selection import train_test_split\n",
    "from sklearn.metrics import confusion_matrix\n",
    "from sklearn.metrics import accuracy_score\n",
    "\n",
    "dataset_name = \"vc2c\"\n",
    "\n",
    "clf_dict = {\n",
    "    'linear': LSSVM(gamma=1, kernel='linear'),\n",
    "    'poly'  : LSSVM(gamma=1, kernel='poly', d=2),\n",
    "    'rbf'   : LSSVM(gamma=1, kernel='rbf', sigma=1)\n",
    "}\n",
    "\n",
    "print(dataset_name)\n",
    "n_train = datasets[dataset_name]['features'].values.shape[0]\n",
    "\n",
    "k_values = np.linspace(2, np.ceil(np.sqrt(len(X_train))), num=5, dtype='int').tolist() # 2 to sqrt(N)\n",
    "    \n",
    "for n_clusters in k_values:\n",
    "    kmeans = KMeans(n_clusters=n_clusters, n_init=10, random_state=0)\n",
    "\n",
    "    for kernel_type, clf in clf_dict.items():\n",
    "        print(f'Nº of clusters: {n_clusters} | Kernel: {kernel_type}')\n",
    "        run_simulation(dataset_name=dataset_name, kmeans=kmeans, clf_model=clf)"
   ]
  }
 ],
 "metadata": {
  "kernelspec": {
   "display_name": "Python 3 (ipykernel)",
   "language": "python",
   "name": "python3"
  },
  "language_info": {
   "codemirror_mode": {
    "name": "ipython",
    "version": 3
   },
   "file_extension": ".py",
   "mimetype": "text/x-python",
   "name": "python",
   "nbconvert_exporter": "python",
   "pygments_lexer": "ipython3",
   "version": "3.9.12"
  }
 },
 "nbformat": 4,
 "nbformat_minor": 4
}
