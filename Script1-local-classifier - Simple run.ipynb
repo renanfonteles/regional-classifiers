{
 "cells": [
  {
   "cell_type": "markdown",
   "metadata": {},
   "source": [
    "<center><h1>Classification by local modeling</h1></center>"
   ]
  },
  {
   "cell_type": "markdown",
   "metadata": {},
   "source": [
    "## Summary:\n",
    "1. [Introduction](#introduction)\n",
    "\n",
    "2. [Local Ordinary Least Squares (L-OLS)](#lols)\n",
    "    \n",
    "    2.1. [Influence of the number of clusters on model accuracy](#lols-#-clusters)\n",
    "    \n",
    "3. [Local Least Squares Support Vector Machine (L-LSSVM)](#l_lssvm)"
   ]
  },
  {
   "cell_type": "markdown",
   "metadata": {},
   "source": [
    "# 1. Introduction <a class=\"anchor\" id=\"introduction\"></a>"
   ]
  },
  {
   "cell_type": "markdown",
   "metadata": {},
   "source": [
    "Classic classification by local modeling is a two-step approach for modeling:\n",
    "\n",
    "1. An unsupervised clustering algorithm is run to find regions in the dataset;\n",
    "2. For each region, a model is built with the respective data partition.\n",
    "\n",
    "For inference the procedure is similar:\n",
    "\n",
    "1. A similarity metric is used to determine the new data point region, e.g. euclidian distance from regions prototypes;\n",
    "2. The model from that specific region is used to predict the class of the new data point.\n",
    "\n",
    "There are a lot of clustering algorithms but, for the sake of simplicity, it will be used only K-means."
   ]
  },
  {
   "cell_type": "markdown",
   "metadata": {},
   "source": [
    "The class **LocalModel**, implemented below, create an easy way to implement and test local models for classification:"
   ]
  },
  {
   "cell_type": "markdown",
   "metadata": {},
   "source": [
    "# 2. Local Ordinary Least Squares (L-OLS) <a class=\"anchor\" id=\"lols\"></a>"
   ]
  },
  {
   "cell_type": "markdown",
   "metadata": {},
   "source": [
    "Example of `LocalModel` class running with OLS:"
   ]
  },
  {
   "cell_type": "code",
   "execution_count": 3,
   "metadata": {},
   "outputs": [
    {
     "name": "stdout",
     "output_type": "stream",
     "text": [
      "Number of clusters: 5\n",
      "Start of clusterization: 2022-08-02 16:49:02.236676\n",
      "Start of local models training: 2022-08-02 16:49:02.270674\n",
      "Train accuracy: 0.8629032258064516\n",
      "Test accuracy:  0.8225806451612904\n"
     ]
    }
   ],
   "source": [
    "from sklearn.cluster import KMeans\n",
    "from sklearn.linear_model import LinearRegression\n",
    "from sklearn.model_selection import train_test_split\n",
    "from sklearn.metrics import confusion_matrix\n",
    "\n",
    "from sklearn import linear_model\n",
    "import numpy as np\n",
    "import pandas as pd\n",
    "\n",
    "from utils import scale_feat, dummie2multilabel, cm2acc\n",
    "from local_learning import LocalModel\n",
    "from load_dataset import datasets\n",
    "\n",
    "\n",
    "\n",
    "dataset_name = \"vc2c\"\n",
    "X = datasets[dataset_name]['features'].values\n",
    "Y = datasets[dataset_name]['labels'].values\n",
    "\n",
    "# Train/Test split = 80%/20%\n",
    "X_train, X_test, y_train, y_test = train_test_split(X,Y,test_size=0.2)\n",
    "# scaling features\n",
    "X_tr_norm, X_ts_norm = scale_feat(X_train, X_test, scaleType='min-max')\n",
    "\n",
    "n_clusters=5\n",
    "print(\"Number of clusters: {}\".format(n_clusters))\n",
    "kmeans = KMeans(n_clusters=n_clusters, n_init=10, random_state=0)\n",
    "linReg = LinearRegression()\n",
    "\n",
    "lm = LocalModel(ClusterAlg=kmeans, ModelAlg=linReg)\n",
    "lm.fit(X_tr_norm, y_train, verboses=1)\n",
    "\n",
    "y_pred_tr = lm.predict(X_tr_norm, rounded=True)\n",
    "y_pred_ts = lm.predict(X_ts_norm, rounded=True)\n",
    "\n",
    "\n",
    "cm_tr = confusion_matrix(dummie2multilabel(y_train),\n",
    "                         dummie2multilabel(y_pred_tr))\n",
    "cm_ts = confusion_matrix(dummie2multilabel(y_test),\n",
    "                         dummie2multilabel(y_pred_ts))\n",
    "   \n",
    "acc_tr = cm2acc(cm_tr)\n",
    "acc_ts = cm2acc(cm_ts)\n",
    "\n",
    "print(\"Train accuracy: {}\\nTest accuracy:  {}\".format(acc_tr, acc_ts))"
   ]
  },
  {
   "cell_type": "markdown",
   "metadata": {},
   "source": [
    "## 2. Local Least Squares Support Vector Machine (L-LSSVM) <a class=\"anchor\" id=\"l_lssvm\"></a>"
   ]
  },
  {
   "cell_type": "markdown",
   "metadata": {},
   "source": [
    "Example of `LocalModel` class running with LSSVM:"
   ]
  },
  {
   "cell_type": "code",
   "execution_count": null,
   "metadata": {
    "pycharm": {
     "is_executing": true
    }
   },
   "outputs": [],
   "source": [
    "%%time\n",
    "# %autoreload\n",
    "\n",
    "from sklearn.cluster import KMeans\n",
    "from lssvm import LSSVM\n",
    "from sklearn.model_selection import train_test_split\n",
    "from sklearn.metrics import confusion_matrix\n",
    "from sklearn.metrics import accuracy_score\n",
    "\n",
    "# small_datasets =['vc2c', 'vc3c', 'pk']\n",
    "\n",
    "for dataset_name in datasets:\n",
    "    print(dataset_name)\n",
    "\n",
    "    X = datasets[dataset_name]['features'].values\n",
    "    Y = datasets[dataset_name]['labels'].values\n",
    "\n",
    "    X_train, X_test, y_train, y_test = train_test_split(X,Y,test_size=0.2)  # Train/Test split = 80%/20%\n",
    "    X_tr_norm, X_ts_norm = scale_feat(X_train, X_test, scaleType='min-max') # scaling features\n",
    "    \n",
    "    k_values = np.linspace(2, np.ceil(np.sqrt(len(X_train))), num=5, dtype='int').tolist() # 2 to sqrt(N)\n",
    "    \n",
    "    for n_clusters in k_values:\n",
    "        print(\"# of clusters: {}\".format(n_clusters))\n",
    "        kmeans = KMeans(n_clusters=n_clusters, n_init=10, random_state=0)\n",
    "\n",
    "        clf_dict = {\n",
    "            'linear': LSSVM(gamma=1, kernel='linear'),\n",
    "            'poly'  : LSSVM(gamma=1, kernel='poly', d=2),\n",
    "            'rbf'   : LSSVM(gamma=1, kernel='rbf', sigma=1)\n",
    "        }\n",
    "\n",
    "        for kernel_type, clf in clf_dict.items():\n",
    "            print('kernel: {}'.format(kernel_type))\n",
    "            lm = LocalModel(ClusterAlg=kmeans, ModelAlg=clf)\n",
    "            lm.fit(X_tr_norm, y_train, verboses=0)\n",
    "\n",
    "            y_pred_tr = lm.predict(X_tr_norm)\n",
    "            y_pred_ts = lm.predict(X_ts_norm)\n",
    "\n",
    "            cm_tr = confusion_matrix(dummie2multilabel(y_train),\n",
    "                                     dummie2multilabel(y_pred_tr))\n",
    "            cm_ts = confusion_matrix(dummie2multilabel(y_test),\n",
    "                                     dummie2multilabel(y_pred_ts))\n",
    "\n",
    "            acc_tr = cm2acc(cm_tr)\n",
    "            acc_ts = cm2acc(cm_ts)\n",
    "\n",
    "            print(\"Train accuracy: {}\\nTest accuracy:  {}\\n\".format(acc_tr, acc_ts))\n",
    "\n",
    "    print('\\n')\n",
    "    print('#'*60)\n",
    "    print('\\n'*2)"
   ]
  }
 ],
 "metadata": {
  "kernelspec": {
   "display_name": "Python 3 (ipykernel)",
   "language": "python",
   "name": "python3"
  },
  "language_info": {
   "codemirror_mode": {
    "name": "ipython",
    "version": 3
   },
   "file_extension": ".py",
   "mimetype": "text/x-python",
   "name": "python",
   "nbconvert_exporter": "python",
   "pygments_lexer": "ipython3",
   "version": "3.9.12"
  }
 },
 "nbformat": 4,
 "nbformat_minor": 4
}
