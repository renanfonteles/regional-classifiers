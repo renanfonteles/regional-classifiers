{
 "cells": [
  {
   "cell_type": "code",
   "execution_count": 1,
   "id": "3fe4e814",
   "metadata": {},
   "outputs": [],
   "source": [
    "import numpy as np\n",
    "import pandas as pd\n",
    "\n",
    "from devcode.utils import load_csv_as_pandas\n",
    "from devcode.analysis.results import results_per_dataset\n",
    "from devcode.settings import get_som_params\n",
    "from load_dataset import datasets\n",
    "\n",
    "import warnings\n",
    "warnings.filterwarnings('ignore')"
   ]
  },
  {
   "cell_type": "markdown",
   "id": "40727e17",
   "metadata": {},
   "source": [
    "#### 1. Global LSC results"
   ]
  },
  {
   "cell_type": "code",
   "execution_count": 2,
   "id": "06c9ee1a",
   "metadata": {},
   "outputs": [
    {
     "ename": "TypeError",
     "evalue": "object of type 'NoneType' has no len()",
     "output_type": "error",
     "traceback": [
      "\u001b[1;31m---------------------------------------------------------------------------\u001b[0m",
      "\u001b[1;31mTypeError\u001b[0m                                 Traceback (most recent call last)",
      "Input \u001b[1;32mIn [2]\u001b[0m, in \u001b[0;36m<cell line: 6>\u001b[1;34m()\u001b[0m\n\u001b[0;32m      2\u001b[0m df_results \u001b[38;5;241m=\u001b[39m load_csv_as_pandas(global_ols_results_file)\n\u001b[0;32m      4\u001b[0m header \u001b[38;5;241m=\u001b[39m [\u001b[38;5;124m'\u001b[39m\u001b[38;5;124mMean\u001b[39m\u001b[38;5;124m'\u001b[39m, \u001b[38;5;124m'\u001b[39m\u001b[38;5;124mStd. Deviation\u001b[39m\u001b[38;5;124m'\u001b[39m]    \u001b[38;5;66;03m# 'Minimum', 'Maximum', 'Median',\u001b[39;00m\n\u001b[1;32m----> 6\u001b[0m \u001b[43mresults_per_dataset\u001b[49m\u001b[43m(\u001b[49m\u001b[43mdatasets\u001b[49m\u001b[43m,\u001b[49m\u001b[43m \u001b[49m\u001b[43mdf_results\u001b[49m\u001b[43m,\u001b[49m\u001b[43m \u001b[49m\u001b[43mheader\u001b[49m\u001b[43m)\u001b[49m\n",
      "File \u001b[1;32mD:\\Portfolio\\Research\\regional-classifiers\\devcode\\analysis\\results.py:75\u001b[0m, in \u001b[0;36mresults_per_dataset\u001b[1;34m(datasets, df_results, header, exp_params, params_keys)\u001b[0m\n\u001b[0;32m     72\u001b[0m df_ds \u001b[38;5;241m=\u001b[39m {}\n\u001b[0;32m     74\u001b[0m exp_params \u001b[38;5;241m=\u001b[39m exp_params \u001b[38;5;28;01mif\u001b[39;00m \u001b[38;5;129;01mnot\u001b[39;00m \u001b[38;5;28;01mNone\u001b[39;00m \u001b[38;5;28;01melse\u001b[39;00m [\u001b[38;5;28;01mNone\u001b[39;00m]\n\u001b[1;32m---> 75\u001b[0m n_params   \u001b[38;5;241m=\u001b[39m \u001b[38;5;28;43mlen\u001b[39;49m\u001b[43m(\u001b[49m\u001b[43mexp_params\u001b[49m\u001b[43m)\u001b[49m\n\u001b[0;32m     77\u001b[0m \u001b[38;5;28;01mfor\u001b[39;00m dataset_name \u001b[38;5;129;01min\u001b[39;00m datasets:  \u001b[38;5;66;03m# For this specific dataset\u001b[39;00m\n\u001b[0;32m     78\u001b[0m     \u001b[38;5;28mprint\u001b[39m(dataset_name)\n",
      "\u001b[1;31mTypeError\u001b[0m: object of type 'NoneType' has no len()"
     ]
    }
   ],
   "source": [
    "global_ols_results_file = \"results/global-results/ols\"\n",
    "df_results = load_csv_as_pandas(global_ols_results_file)\n",
    "\n",
    "header = ['Mean', 'Std. Deviation']    # 'Minimum', 'Maximum', 'Median',\n",
    "\n",
    "results_per_dataset(datasets, df_results, header)"
   ]
  },
  {
   "cell_type": "markdown",
   "id": "4383cacb",
   "metadata": {},
   "source": [
    "#### 2. Regional LSC results"
   ]
  },
  {
   "cell_type": "code",
   "execution_count": null,
   "id": "715105ac",
   "metadata": {},
   "outputs": [],
   "source": [
    "# Hyperparameters grid search:\n",
    "alphas = [0.1, 0.3, 0.5]\n",
    "sigmas = [3.0, 6.5, 10.0]\n",
    "epochs = [100]\n",
    "\n",
    "som_params = get_som_params(alphas, sigmas, epochs)"
   ]
  },
  {
   "cell_type": "code",
   "execution_count": null,
   "id": "1b1f9c75",
   "metadata": {},
   "outputs": [],
   "source": [
    "df_results = pd.read_csv('results/regional-results/ROLS - all - n_res=100 - 2019-07-10.csv')\n",
    "\n",
    "header = list(som_params[0].keys()) + ['Mean', 'Std. Deviation']    # 'Minimum', 'Maximum', 'Median',\n",
    "\n",
    "results_per_dataset(datasets, df_results, header, exp_params=som_params, params_keys=['alpha0', 'sigma0', 'nEpochs'])"
   ]
  },
  {
   "cell_type": "code",
   "execution_count": null,
   "id": "714bd114",
   "metadata": {},
   "outputs": [],
   "source": [
    "global_results_file = f\"results/local-results/cbic/temp_glssvm_cbic\"\n",
    "df_results = load_csv_as_pandas(global_results_file)\n",
    "    \n",
    "process_results(df_results)"
   ]
  },
  {
   "cell_type": "markdown",
   "id": "8561832e",
   "metadata": {},
   "source": [
    "#### 2. Local LSSVM results"
   ]
  },
  {
   "cell_type": "code",
   "execution_count": null,
   "id": "ef252fb1",
   "metadata": {},
   "outputs": [],
   "source": [
    "local_results_file = f\"results/local-results/cbic/temp_llssvm_cbic/results\"\n",
    "df_results = load_csv_as_pandas(local_results_file)\n",
    "\n",
    "process_results(df_results)"
   ]
  },
  {
   "cell_type": "markdown",
   "id": "d24f6737",
   "metadata": {},
   "source": [
    "#### 3. Regional LSSVM results"
   ]
  },
  {
   "cell_type": "code",
   "execution_count": null,
   "id": "8cd3aadc",
   "metadata": {},
   "outputs": [],
   "source": [
    "regional_results_file = f\"results/regional-results/temp_rlssvm/results\"\n",
    "df_results = load_csv_as_pandas(global_results_file)\n",
    "process_results(df_results)"
   ]
  },
  {
   "cell_type": "code",
   "execution_count": null,
   "id": "7320ebf6",
   "metadata": {},
   "outputs": [],
   "source": []
  }
 ],
 "metadata": {
  "kernelspec": {
   "display_name": "Python 3 (ipykernel)",
   "language": "python",
   "name": "python3"
  },
  "language_info": {
   "codemirror_mode": {
    "name": "ipython",
    "version": 3
   },
   "file_extension": ".py",
   "mimetype": "text/x-python",
   "name": "python",
   "nbconvert_exporter": "python",
   "pygments_lexer": "ipython3",
   "version": "3.9.12"
  }
 },
 "nbformat": 4,
 "nbformat_minor": 5
}
